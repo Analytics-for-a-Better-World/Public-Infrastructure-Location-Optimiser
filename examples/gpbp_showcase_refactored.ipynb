{
 "cells": [
  {
   "cell_type": "markdown",
   "metadata": {},
   "source": [
    "The idea is that you should get the same results as when running gpbp_showcase"
   ]
  },
  {
   "cell_type": "code",
   "execution_count": 1,
   "metadata": {},
   "outputs": [],
   "source": [
    "%load_ext autoreload\n",
    "%autoreload 2"
   ]
  },
  {
   "cell_type": "code",
   "execution_count": 1,
   "metadata": {},
   "outputs": [],
   "source": [
    "from pisa.administrative_area import AdministrativeArea\n",
    "from pisa.facilities import Facilities \n",
    "from pisa.population import Population\n",
    "from pisa.isopolygons import OsmIsopolygonCalculator\n",
    "\n",
    "from pisa.rename_this_module import population_served\n",
    "\n",
    "from optimization import jg_opt\n",
    "from functools import partial\n",
    "\n",
    "import osmnx as ox"
   ]
  },
  {
   "cell_type": "markdown",
   "metadata": {},
   "source": [
    "## Defining the Administrative Area"
   ]
  },
  {
   "cell_type": "code",
   "execution_count": null,
   "metadata": {},
   "outputs": [],
   "source": [
    "admin_area = AdministrativeArea(\n",
    "    country_name=\"Timor-Leste\", admin_level=1, admin_area_name=\"Baucau\")\n"
   ]
  },
  {
   "cell_type": "code",
   "execution_count": null,
   "metadata": {},
   "outputs": [],
   "source": [
    "# retrieve the bounday (Polygon or Multipolygon) of the administrative area. \n",
    "# This is needed to build Facilties and Population\n",
    "\n",
    "admin_area_boundaries = admin_area.get_boundaries()"
   ]
  },
  {
   "cell_type": "code",
   "execution_count": null,
   "metadata": {},
   "outputs": [],
   "source": [
    "iso3_country_code = admin_area.get_iso3_country_code()"
   ]
  },
  {
   "cell_type": "markdown",
   "metadata": {},
   "source": [
    "## Retrieve Facility data"
   ]
  },
  {
   "cell_type": "code",
   "execution_count": null,
   "metadata": {},
   "outputs": [],
   "source": [
    "# create instance of facilities class with same tags as the gpbp_showcase notebook, not default {building: hospital}\n",
    "\n",
    "facilities = Facilities(admin_area_boundaries, tags={\"amenity\":\"hospital\"})\n",
    "\n",
    "existing_facilities_gdf = facilities.get_existing_facilities()\n",
    "\n",
    "potential_facilities_gdf = facilities.estimate_potential_facilities()"
   ]
  },
  {
   "cell_type": "code",
   "execution_count": 2,
   "metadata": {},
   "outputs": [],
   "source": [
    "# TODO: add plot"
   ]
  },
  {
   "cell_type": "code",
   "execution_count": 5,
   "metadata": {},
   "outputs": [],
   "source": [
    "# TODO: check equality with gpbp_showcase (except maybe for indices)"
   ]
  },
  {
   "cell_type": "markdown",
   "metadata": {},
   "source": [
    "## Retrieve Population Data\n",
    "\n",
    "Using world_pop as in gpbp_showcase notebook"
   ]
  },
  {
   "cell_type": "code",
   "execution_count": null,
   "metadata": {},
   "outputs": [],
   "source": [
    "\n",
    "population_gdf = Population(\n",
    "    data_source=\"world_pop\",\n",
    "    iso3_country_code=iso3_country_code,\n",
    "    admin_area_boundaries=admin_area_boundaries,\n",
    ").get_population_gdf()"
   ]
  },
  {
   "cell_type": "code",
   "execution_count": null,
   "metadata": {},
   "outputs": [],
   "source": [
    "# TODO: add plot"
   ]
  },
  {
   "cell_type": "code",
   "execution_count": null,
   "metadata": {},
   "outputs": [],
   "source": [
    "# TODO: check equality with gpbp_showcase (except maybe for indices)"
   ]
  },
  {
   "cell_type": "markdown",
   "metadata": {},
   "source": [
    "## Compute isopolygons using OSM\n",
    "because that is what's used in the notebook.\n",
    "\n",
    "TODO: \n",
    "\n",
    "- check Mapbox also works\n",
    "- check other distance_types works\n",
    "- check other mode_of_transport works"
   ]
  },
  {
   "cell_type": "code",
   "execution_count": 18,
   "metadata": {},
   "outputs": [],
   "source": [
    "# some constants \n",
    "\n",
    "DISTANCE_TYPE = \"length\" # using this notation as it's used in gpbp_showcase\n",
    "distance_values = [2000, 5000, 10000]\n",
    "\n",
    "mode_of_transport = \"driving\" \n",
    "\n"
   ]
  },
  {
   "cell_type": "markdown",
   "metadata": {},
   "source": [
    "Since strategy is OSM, you need a road_network.\n",
    "\n",
    "Since mode_of_transport isn't time, you don't need to add_time_to_edges."
   ]
  },
  {
   "cell_type": "code",
   "execution_count": null,
   "metadata": {},
   "outputs": [],
   "source": [
    "# I logically don't know where this belongs ATM\n",
    "\n",
    "road_network = ox.graph_from_polygon(polygon=admin_area_boundaries, network_type=mode_of_transport)\n",
    "\n",
    "# I also don't know where to place add_time_to_edges"
   ]
  },
  {
   "cell_type": "code",
   "execution_count": null,
   "metadata": {},
   "outputs": [],
   "source": [
    "isopolygons_existing_facilities = OsmIsopolygonCalculator(\n",
    "    facilities_lon_lat = existing_facilities_gdf[[\"longitude\", \"latitude\"]], # double check\n",
    "    distance_type=DISTANCE_TYPE, \n",
    "    distance_values=distance_values,\n",
    "    road_network=road_network\n",
    ").calculate_isopolygons()\n",
    "\n"
   ]
  },
  {
   "cell_type": "code",
   "execution_count": null,
   "metadata": {},
   "outputs": [],
   "source": [
    "isopolygons_potential_facilities = OsmIsopolygonCalculator(\n",
    "    facilities_lon_lat = potential_facilities_gdf[[\"longitude\", \"latitude\"]], \n",
    "    distance_type=DISTANCE_TYPE, \n",
    "    distance_values=distance_values,\n",
    "    road_network=road_network\n",
    ").calculate_isopolygons()\n"
   ]
  },
  {
   "cell_type": "code",
   "execution_count": null,
   "metadata": {},
   "outputs": [],
   "source": [
    "# TODO: check equality with gpbp_showcase"
   ]
  },
  {
   "cell_type": "markdown",
   "metadata": {},
   "source": [
    "## Prepare optimization data\n",
    "\n",
    "Preparing the variables that go into the cell below"
   ]
  },
  {
   "cell_type": "code",
   "execution_count": null,
   "metadata": {},
   "outputs": [],
   "source": [
    "# I think you just need to convert the population column of population_gdf into an np.array. \n",
    "# *TODO*: DOUBLE CHECK\n",
    "\n",
    "\n",
    "population_count = population_gdf.population.values"
   ]
  },
  {
   "cell_type": "code",
   "execution_count": null,
   "metadata": {},
   "outputs": [],
   "source": [
    "current = population_served(\n",
    "    population_gdf=population_gdf,\n",
    "    facilites_gdf=existing_facilities_gdf, # do you need this param?\n",
    "    isopolygons=isopolygons_existing_facilities,\n",
    ")"
   ]
  },
  {
   "cell_type": "code",
   "execution_count": null,
   "metadata": {},
   "outputs": [],
   "source": [
    "potential = population_served(\n",
    "    population_gdf=population_gdf,\n",
    "    facilites_gdf=potential_facilities_gdf, # do you need this param?\n",
    "    isopolygons=isopolygons_potential_facilities\n",
    ")"
   ]
  },
  {
   "cell_type": "code",
   "execution_count": null,
   "metadata": {},
   "outputs": [
    {
     "data": {
      "text/plain": [
       "(       10000      5000      2000\n",
       " 5   0.387986  0.256426  0.126729\n",
       " 20  0.392613  0.266551  0.134299\n",
       " 50  0.392613  0.268571  0.135708,\n",
       "                                                 10000  \\\n",
       " 5                                [45, 47, 63, 30, 37]   \n",
       " 20  [45, 47, 63, 30, 37, 38, 42, 55, 56, 34, 58, 2...   \n",
       " 50  [45, 47, 63, 30, 37, 38, 42, 55, 56, 34, 58, 2...   \n",
       " \n",
       "                                                  5000  \\\n",
       " 5                                [47, 42, 45, 29, 63]   \n",
       " 20  [47, 42, 45, 29, 63, 36, 38, 62, 70, 58, 59, 4...   \n",
       " 50  [47, 42, 45, 29, 63, 36, 38, 62, 70, 58, 59, 4...   \n",
       " \n",
       "                                                  2000  \n",
       " 5                                [59, 63, 45, 27, 42]  \n",
       " 20  [59, 63, 45, 27, 42, 47, 44, 54, 46, 33, 52, 3...  \n",
       " 50  [59, 63, 45, 27, 42, 47, 44, 54, 46, 33, 52, 3...  )"
      ]
     },
     "metadata": {},
     "output_type": "display_data"
    }
   ],
   "source": [
    "CBC_SOLVER_PATH = None # fill out the solver path where the cbc executable \n",
    "BUDGET = [5, 20, 50] # budget for the optimization in terms of how many locations can be built\n",
    "# DISTANCE_TYPE = \"length\" # defined in a cell above\n",
    "\n",
    "cbc_optimize = partial(\n",
    "                    jg_opt.OpenOptimize, solver_path=CBC_SOLVER_PATH\n",
    "                )\n",
    "jg_opt.Solve(household=population_count, \n",
    "             current=current, \n",
    "             potential=potential, \n",
    "             accessibility=DISTANCE_TYPE, \n",
    "             budgets=BUDGET, \n",
    "             optimize=cbc_optimize, \n",
    "             type='ID')"
   ]
  }
 ],
 "metadata": {
  "kernelspec": {
   "display_name": "gpbp-ys_3FNdB-py3.10",
   "language": "python",
   "name": "python3"
  },
  "language_info": {
   "codemirror_mode": {
    "name": "ipython",
    "version": 3
   },
   "file_extension": ".py",
   "mimetype": "text/x-python",
   "name": "python",
   "nbconvert_exporter": "python",
   "pygments_lexer": "ipython3",
   "version": "3.10.15"
  }
 },
 "nbformat": 4,
 "nbformat_minor": 2
}
