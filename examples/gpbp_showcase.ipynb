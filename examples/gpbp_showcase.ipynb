{
 "cells": [
  {
   "cell_type": "code",
   "execution_count": null,
   "metadata": {},
   "outputs": [],
   "source": [
    "import sys\n",
    "sys.path.insert(0, \"..\")\n",
    "import pickle\n",
    "from gpbp_osm.layers import AdmArea\n",
    "from gpbp_osm import visualisation\n",
    "from gpbp_osm.distance import calculate_isopolygons_graph, calculate_isopolygons_Mapbox, population_served\n",
    "\n",
    "import osmnx as ox\n",
    "import warnings\n",
    "warnings.filterwarnings(action='ignore')"
   ]
  },
  {
   "cell_type": "code",
   "execution_count": 2,
   "metadata": {},
   "outputs": [
    {
     "name": "stdout",
     "output_type": "stream",
     "text": [
      "Retrieving data for Timor-Leste of granularity level 0\n",
      "Extracting geometry for Timor-Leste\n"
     ]
    }
   ],
   "source": [
    "adm_area = AdmArea(country=\"Timor-Leste\", level=0)"
   ]
  },
  {
   "cell_type": "code",
   "execution_count": null,
   "metadata": {},
   "outputs": [],
   "source": [
    "adm_area.get_facilities(method=\"osm\", tags={\"building\":\"hospital\"})\n",
    "visualisation.plot_facilities(adm_area.fac_gdf)"
   ]
  },
  {
   "cell_type": "code",
   "execution_count": 4,
   "metadata": {},
   "outputs": [
    {
     "name": "stdout",
     "output_type": "stream",
     "text": [
      "Data downloaded\n",
      "Converting raster file to dataframe\n"
     ]
    }
   ],
   "source": [
    "adm_area.get_population(method=\"world_pop\")\n",
    "#visualisation.plot_population_heatmap(adm_area.pop_df)"
   ]
  },
  {
   "cell_type": "code",
   "execution_count": null,
   "metadata": {},
   "outputs": [],
   "source": [
    "adm_area.compute_potential_fac(spacing=0.4)\n",
    "visualisation.plot_facilities(adm_area.grid_gdf)"
   ]
  },
  {
   "cell_type": "code",
   "execution_count": null,
   "metadata": {},
   "outputs": [],
   "source": [
    "pop_count, current, potential = adm_area.prepare_optimization_data(\"length\", [2000, 5000, 10000], \"driving\", \"mapbox\", population_resolution=2)"
   ]
  },
  {
   "cell_type": "code",
   "execution_count": null,
   "metadata": {},
   "outputs": [],
   "source": [
    "from gpbp_osm.utils import group_population\n",
    "from gpbp_osm.visualisation import plot_population\n",
    "pop_grouped = group_population(adm_area.pop_df, nof_digits=2)\n",
    "plot_population(pop_grouped)"
   ]
  },
  {
   "cell_type": "code",
   "execution_count": 20,
   "metadata": {},
   "outputs": [
    {
     "data": {
      "text/plain": [
       "(       10000      5000      2000\n",
       " 5   0.024952  0.009178  0.001889\n",
       " 10  0.025205  0.009254  0.001917\n",
       " 20  0.025205  0.009254  0.001917,\n",
       "                            10000                      5000  \\\n",
       " 5           [10, 13, 16, 14, 11]      [10, 13, 16, 12, 11]   \n",
       " 10  [10, 13, 16, 14, 11, 12, 15]  [10, 13, 16, 12, 11, 14]   \n",
       " 20  [10, 13, 16, 14, 11, 12, 15]  [10, 13, 16, 12, 11, 14]   \n",
       " \n",
       "                         2000  \n",
       " 5       [10, 16, 13, 14, 11]  \n",
       " 10  [10, 16, 13, 14, 11, 12]  \n",
       " 20  [10, 16, 13, 14, 11, 12]  )"
      ]
     },
     "execution_count": 20,
     "metadata": {},
     "output_type": "execute_result"
    }
   ],
   "source": [
    "from optimization import jg_opt\n",
    "from functools import partial\n",
    "# Complains that current is dict -> convert to DataFrame\n",
    "cplex_optimize = partial(jg_opt.OpenOptimize, solver=\"cplex\")\n",
    "jg_opt.Solve(pop_count, current, potential, \"length\", [5, 10, 20], optimize=jg_opt.Optimize, type='ID')"
   ]
  }
 ],
 "metadata": {
  "kernelspec": {
   "display_name": "Python 3.10.7 ('.venv': poetry)",
   "language": "python",
   "name": "python3"
  },
  "language_info": {
   "codemirror_mode": {
    "name": "ipython",
    "version": 3
   },
   "file_extension": ".py",
   "mimetype": "text/x-python",
   "name": "python",
   "nbconvert_exporter": "python",
   "pygments_lexer": "ipython3",
   "version": "3.10.7"
  },
  "orig_nbformat": 4,
  "vscode": {
   "interpreter": {
    "hash": "9a47215aacfdeffc806e78faf21f250c6a1fee2a0e1dcb3a86321846ae7d77f7"
   }
  }
 },
 "nbformat": 4,
 "nbformat_minor": 2
}
