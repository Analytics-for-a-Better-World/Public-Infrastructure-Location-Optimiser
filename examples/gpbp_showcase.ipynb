{
 "cells": [
  {
   "cell_type": "code",
   "execution_count": 1,
   "metadata": {},
   "outputs": [],
   "source": [
    "import sys\n",
    "sys.path.insert(0, \"..\")\n",
    "from gpbp.layers import AdmArea\n",
    "from gpbp import visualisation\n",
    "\n",
    "from optimization import jg_opt\n",
    "from functools import partial"
   ]
  },
  {
   "cell_type": "markdown",
   "metadata": {},
   "source": [
    "## Defining the Administrative Area"
   ]
  },
  {
   "cell_type": "code",
   "execution_count": null,
   "metadata": {},
   "outputs": [],
   "source": [
    "adm_area = AdmArea(country=\"Timor-Leste\", level=1)"
   ]
  },
  {
   "cell_type": "code",
   "execution_count": null,
   "metadata": {},
   "outputs": [],
   "source": [
    "adm_area.get_adm_area(\"Baucau\")"
   ]
  },
  {
   "cell_type": "markdown",
   "metadata": {},
   "source": [
    "## Retrieving Facility and Population data"
   ]
  },
  {
   "cell_type": "code",
   "execution_count": null,
   "metadata": {},
   "outputs": [],
   "source": [
    "adm_area.get_facilities(method=\"osm\", tags={\"amenity\":\"hospital\"})\n",
    "visualisation.plot_facilities(adm_area.fac_gdf)"
   ]
  },
  {
   "cell_type": "code",
   "execution_count": null,
   "metadata": {},
   "outputs": [],
   "source": [
    "adm_area.fac_gdf"
   ]
  },
  {
   "cell_type": "code",
   "execution_count": null,
   "metadata": {},
   "outputs": [],
   "source": [
    "adm_area.get_population(method=\"world_pop\")\n",
    "visualisation.plot_population_heatmap(adm_area.pop_df)"
   ]
  },
  {
   "cell_type": "markdown",
   "metadata": {},
   "source": [
    "## Computing potential locations for facilities"
   ]
  },
  {
   "cell_type": "code",
   "execution_count": null,
   "metadata": {},
   "outputs": [],
   "source": [
    "adm_area.compute_potential_fac(spacing=0.05)\n",
    "visualisation.plot_facilities(adm_area.pot_fac_gdf)"
   ]
  },
  {
   "cell_type": "markdown",
   "metadata": {},
   "source": [
    "## Retrieving the road network"
   ]
  },
  {
   "cell_type": "code",
   "execution_count": 8,
   "metadata": {},
   "outputs": [],
   "source": [
    "adm_area.get_road_network(\"driving\")"
   ]
  },
  {
   "cell_type": "markdown",
   "metadata": {},
   "source": [
    "## Prepare optimization data"
   ]
  },
  {
   "cell_type": "code",
   "execution_count": 9,
   "metadata": {},
   "outputs": [],
   "source": [
    "MAPBOX_API_TOKEN = None # fill out with your own access token for mapbox strategy\n",
    "DISTANCE_TYPE = \"length\"\n",
    "pop_count, current, potential = adm_area.prepare_optimization_data(\n",
    "    DISTANCE_TYPE, [2000, 5000, 10000], \"driving\", \"osm\", population_resolution=5, mapbox_access_token=MAPBOX_API_TOKEN)"
   ]
  },
  {
   "cell_type": "markdown",
   "metadata": {},
   "source": [
    "## Optimize\n",
    "\n",
    "PISA can perform optimizations using a variety of solvers. You can use a solver of your choice. For example, you can install the [COIN-OR Branch-and-Cut solver](https://github.com/coin-or/Cbc#download) and specify the path of the solver's binary below (on Linux/macOS you can find the path to the solver using `which cbc`)."
   ]
  },
  {
   "cell_type": "code",
   "execution_count": null,
   "metadata": {},
   "outputs": [],
   "source": [
    "CBC_SOLVER_PATH = None # fill out the solver path where the cbc executable \n",
    "BUDGET = [5, 20, 50] # budget for the optimization in terms of how many locations can be built\n",
    "cbc_optimize = partial(\n",
    "                    jg_opt.OpenOptimize, solver_path=CBC_SOLVER_PATH\n",
    "                )\n",
    "jg_opt.Solve(pop_count, current, potential, DISTANCE_TYPE, BUDGET, optimize=cbc_optimize, type='ID')"
   ]
  },
  {
   "cell_type": "code",
   "execution_count": null,
   "metadata": {},
   "outputs": [],
   "source": []
  }
 ],
 "metadata": {
  "kernelspec": {
   "display_name": "gpbp-JKqdJyij-py3.10",
   "language": "python",
   "name": "python3"
  },
  "language_info": {
   "codemirror_mode": {
    "name": "ipython",
    "version": 3
   },
   "file_extension": ".py",
   "mimetype": "text/x-python",
   "name": "python",
   "nbconvert_exporter": "python",
   "pygments_lexer": "ipython3",
   "version": "3.10.15"
  }
 },
 "nbformat": 4,
 "nbformat_minor": 2
}
