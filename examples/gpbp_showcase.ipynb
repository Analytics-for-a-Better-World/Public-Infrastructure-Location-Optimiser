{
 "cells": [
  {
   "cell_type": "code",
   "execution_count": 1,
   "metadata": {},
   "outputs": [
    {
     "name": "stderr",
     "output_type": "stream",
     "text": [
      "c:\\Users\\EiriniK\\Documents\\repos\\Public-Infrastructure-Location-Optimiser\\.venv\\lib\\site-packages\\geopandas\\_compat.py:123: UserWarning: The Shapely GEOS version (3.10.3-CAPI-1.16.1) is incompatible with the GEOS version PyGEOS was compiled with (3.10.1-CAPI-1.16.0). Conversions between both will be slow.\n",
      "  warnings.warn(\n"
     ]
    }
   ],
   "source": [
    "import sys\n",
    "sys.path.insert(0, \"..\")\n",
    "import pickle\n",
    "from gpbp_osm.layers import AdmArea\n",
    "from gpbp_osm import visualisation\n",
    "from gpbp_osm.distance import calculate_isopolygons_graph, calculate_isopolygons_Mapbox, population_served\n",
    "from gpbp_osm.road_network import get_road_network_overpass\n",
    "\n",
    "import osmnx as ox\n",
    "import warnings\n",
    "warnings.filterwarnings(action='ignore')"
   ]
  },
  {
   "cell_type": "code",
   "execution_count": 2,
   "metadata": {},
   "outputs": [
    {
     "name": "stdout",
     "output_type": "stream",
     "text": [
      "Retrieving data for Timor-Leste of granularity level 0\n",
      "Extracting geometry for Timor-Leste\n"
     ]
    }
   ],
   "source": [
    "adm_area = AdmArea(country=\"Timor-Leste\", level=0)"
   ]
  },
  {
   "cell_type": "code",
   "execution_count": null,
   "metadata": {},
   "outputs": [],
   "source": [
    "adm_area.get_facilities(method=\"osm\", tags={\"building\":\"hospital\"})\n",
    "visualisation.plot_facilities(adm_area.fac_gdf)"
   ]
  },
  {
   "cell_type": "code",
   "execution_count": null,
   "metadata": {},
   "outputs": [],
   "source": [
    "adm_area.get_population(method=\"world_pop\")\n",
    "visualisation.plot_population_heatmap(adm_area.pop_df)"
   ]
  },
  {
   "cell_type": "code",
   "execution_count": null,
   "metadata": {},
   "outputs": [],
   "source": [
    "adm_area.compute_potential_fac(spacing=0.05)\n",
    "visualisation.plot_facilities(adm_area.grid_gdf)"
   ]
  },
  {
   "cell_type": "code",
   "execution_count": 6,
   "metadata": {},
   "outputs": [
    {
     "name": "stdout",
     "output_type": "stream",
     "text": [
      "Building network\n"
     ]
    }
   ],
   "source": [
    "road_network = get_road_network_overpass(adm_area.geometry, network_type=\"driving\", graph_type=\"networkx\")"
   ]
  },
  {
   "cell_type": "code",
   "execution_count": 7,
   "metadata": {},
   "outputs": [],
   "source": [
    "serve_dict_mapbox = population_served(\n",
    "    adm_area.pop_df,\n",
    "    adm_area.fac_gdf,\n",
    "    \"facilities\",\n",
    "    \"length\",\n",
    "    2000,\n",
    "    \"driving\",\n",
    "    strategy = \"mapbox\",\n",
    "    pop_resolution=4)"
   ]
  },
  {
   "cell_type": "code",
   "execution_count": null,
   "metadata": {},
   "outputs": [],
   "source": []
  }
 ],
 "metadata": {
  "kernelspec": {
   "display_name": "Python 3.10.7 ('.venv': poetry)",
   "language": "python",
   "name": "python3"
  },
  "language_info": {
   "codemirror_mode": {
    "name": "ipython",
    "version": 3
   },
   "file_extension": ".py",
   "mimetype": "text/x-python",
   "name": "python",
   "nbconvert_exporter": "python",
   "pygments_lexer": "ipython3",
   "version": "3.10.7"
  },
  "orig_nbformat": 4,
  "vscode": {
   "interpreter": {
    "hash": "9a47215aacfdeffc806e78faf21f250c6a1fee2a0e1dcb3a86321846ae7d77f7"
   }
  }
 },
 "nbformat": 4,
 "nbformat_minor": 2
}
