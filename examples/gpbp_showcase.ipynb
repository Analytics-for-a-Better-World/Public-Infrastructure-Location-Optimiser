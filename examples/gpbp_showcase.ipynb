{
 "cells": [
  {
   "cell_type": "code",
   "execution_count": null,
   "metadata": {},
   "outputs": [],
   "source": [
    "import sys\n",
    "sys.path.insert(0, \"..\")\n",
    "from gpbp_osm.layers import AdmArea\n",
    "from gpbp_osm import visualisation\n",
    "import ipywidgets as widgets\n",
    "import warnings\n",
    "warnings.filterwarnings(action='ignore')"
   ]
  },
  {
   "cell_type": "code",
   "execution_count": null,
   "metadata": {},
   "outputs": [],
   "source": [
    "adm_area = AdmArea(country=\"Timor-Leste\", level=0)"
   ]
  },
  {
   "cell_type": "code",
   "execution_count": null,
   "metadata": {},
   "outputs": [],
   "source": [
    "adm_area.get_facilities(method=\"osm\", tags={\"building\":\"hospital\"})\n",
    "visualisation.plot_facilities(adm_area.fac_gdf)"
   ]
  },
  {
   "cell_type": "code",
   "execution_count": null,
   "metadata": {},
   "outputs": [],
   "source": [
    "adm_area.get_population(method=\"world_pop\")\n",
    "#visualisation.plot_population_heatmap(adm_area.pop_df)"
   ]
  },
  {
   "cell_type": "code",
   "execution_count": null,
   "metadata": {},
   "outputs": [],
   "source": [
    "adm_area.compute_potential_fac(spacing=0.2)\n",
    "visualisation.plot_facilities(adm_area.pot_fac_gdf)"
   ]
  },
  {
   "cell_type": "code",
   "execution_count": null,
   "metadata": {},
   "outputs": [],
   "source": [
    "adm_area.get_road_network(\"driving\")"
   ]
  },
  {
   "cell_type": "code",
   "execution_count": null,
   "metadata": {},
   "outputs": [],
   "source": [
    "pop_count, current, potential = adm_area.prepare_optimization_data(\"travel_time\", [10, 20], \"driving\", \"osm\", population_resolution=3, access_token=\"pk.eyJ1Ijoia291c2FlIiwiYSI6ImNsYWk1cXRjazA2dGIzbnBiMjZyODk4ZWYifQ.4nvPS7fL7YtN4jcex9B5vg\")"
   ]
  },
  {
   "cell_type": "code",
   "execution_count": null,
   "metadata": {},
   "outputs": [],
   "source": [
    "from optimization import jg_opt\n",
    "from functools import partial\n",
    "# Complains that current is dict -> convert to DataFrame\n",
    "cbc_optimize = partial(jg_opt.OpenOptimize, solver=\"cbc\")\n",
    "jg_opt.Solve(pop_count, current, potential, \"travel_time\", [5, 50], optimize=cbc_optimize, type='ID')"
   ]
  }
 ],
 "metadata": {
  "kernelspec": {
   "display_name": "Python 3.10.7 ('.venv': poetry)",
   "language": "python",
   "name": "python3"
  },
  "language_info": {
   "codemirror_mode": {
    "name": "ipython",
    "version": 3
   },
   "file_extension": ".py",
   "mimetype": "text/x-python",
   "name": "python",
   "nbconvert_exporter": "python",
   "pygments_lexer": "ipython3",
   "version": "3.10.7"
  },
  "orig_nbformat": 4,
  "vscode": {
   "interpreter": {
    "hash": "9a47215aacfdeffc806e78faf21f250c6a1fee2a0e1dcb3a86321846ae7d77f7"
   }
  }
 },
 "nbformat": 4,
 "nbformat_minor": 2
}
