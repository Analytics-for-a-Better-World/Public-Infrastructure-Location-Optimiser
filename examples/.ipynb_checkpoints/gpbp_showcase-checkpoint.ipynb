{
 "cells": [
  {
   "cell_type": "code",
   "execution_count": 4,
   "metadata": {},
   "outputs": [],
   "source": [
    "import sys\n",
    "sys.path.insert(0, \"..\")\n",
    "from gpbp.layers import AdmArea\n",
    "from gpbp import visualisation\n",
    "\n",
    "from optimization import jg_opt\n",
    "from functools import partial\n",
    "\n",
    "import warnings\n",
    "warnings.filterwarnings(action='ignore')"
   ]
  },
  {
   "cell_type": "markdown",
   "metadata": {},
   "source": [
    "## Defining the Administrative Area"
   ]
  },
  {
   "cell_type": "code",
   "execution_count": 5,
   "metadata": {},
   "outputs": [
    {
     "name": "stdout",
     "output_type": "stream",
     "text": [
      "Retrieving data for Timor-Leste of granularity level 0\n",
      "Extracting geometry for Timor-Leste\n"
     ]
    }
   ],
   "source": [
    "adm_area = AdmArea(country=\"Timor-Leste\", level=0)"
   ]
  },
  {
   "cell_type": "code",
   "execution_count": 6,
   "metadata": {},
   "outputs": [],
   "source": [
    "adm_area.get_adm_area(\"Timor-Leste\")"
   ]
  },
  {
   "cell_type": "markdown",
   "metadata": {},
   "source": [
    "## Retrieving Facility and Population data"
   ]
  },
  {
   "cell_type": "code",
   "execution_count": null,
   "metadata": {},
   "outputs": [],
   "source": [
    "adm_area.get_facilities(method=\"osm\", tags={\"building\":\"hospital\"})\n",
    "visualisation.plot_facilities(adm_area.fac_gdf)"
   ]
  },
  {
   "cell_type": "code",
   "execution_count": null,
   "metadata": {},
   "outputs": [],
   "source": [
    "adm_area.get_population(method=\"world_pop\")\n",
    "visualisation.plot_population_heatmap(adm_area.pop_df)"
   ]
  },
  {
   "cell_type": "markdown",
   "metadata": {},
   "source": [
    "## Computing potential locations for facilities"
   ]
  },
  {
   "cell_type": "code",
   "execution_count": null,
   "metadata": {},
   "outputs": [],
   "source": [
    "adm_area.compute_potential_fac(spacing=0.05)\n",
    "visualisation.plot_facilities(adm_area.pot_fac_gdf)"
   ]
  },
  {
   "cell_type": "markdown",
   "metadata": {},
   "source": [
    "## Retrieving the road network"
   ]
  },
  {
   "cell_type": "code",
   "execution_count": 10,
   "metadata": {},
   "outputs": [],
   "source": [
    "adm_area.get_road_network(\"driving\")"
   ]
  },
  {
   "cell_type": "markdown",
   "metadata": {},
   "source": [
    "## Prepare optimization data"
   ]
  },
  {
   "cell_type": "code",
   "execution_count": 11,
   "metadata": {},
   "outputs": [],
   "source": [
    "MAPBOX_API_TOKEN = None # fill out with your own access token for mapbox strategy\n",
    "DISTANCE_TYPE = \"length\"\n",
    "pop_count, current, potential = adm_area.prepare_optimization_data(\n",
    "    DISTANCE_TYPE, [2000, 5000, 10000], \"driving\", \"osm\", population_resolution=5, mapbox_access_token=MAPBOX_API_TOKEN)"
   ]
  },
  {
   "cell_type": "markdown",
   "metadata": {},
   "source": [
    "## Optimize"
   ]
  },
  {
   "cell_type": "code",
   "execution_count": 13,
   "metadata": {},
   "outputs": [
    {
     "name": "stdout",
     "output_type": "stream",
     "text": [
      "<pyomo.solvers.plugins.solvers.CBCplugin.CBCSHELL object at 0x0000016DF8C92E90>\n",
      "WARNING: Loading a SolverResults object with an 'aborted' status, but\n",
      "    containing a solution\n",
      "<pyomo.solvers.plugins.solvers.CBCplugin.CBCSHELL object at 0x0000016DF9D7BAF0>\n",
      "WARNING: Loading a SolverResults object with an 'aborted' status, but\n",
      "    containing a solution\n",
      "<pyomo.solvers.plugins.solvers.CBCplugin.CBCSHELL object at 0x0000016E00DBD000>\n"
     ]
    },
    {
     "data": {
      "text/plain": [
       "(       10000      5000      2000\n",
       " 5   0.281553  0.220164  0.061726\n",
       " 20  0.337429  0.253523  0.071299\n",
       " 50  0.374805  0.273309  0.076281,\n",
       "                                                 10000  \\\n",
       " 5                             [401, 470, 34, 351, 80]   \n",
       " 20  [401, 470, 34, 351, 80, 361, 142, 486, 344, 26...   \n",
       " 50  [401, 470, 34, 351, 80, 361, 142, 486, 344, 26...   \n",
       " \n",
       "                                                  5000  \\\n",
       " 5                             [401, 362, 279, 56, 80]   \n",
       " 20  [401, 362, 279, 56, 80, 400, 449, 344, 142, 20...   \n",
       " 50  [401, 362, 279, 56, 80, 400, 449, 344, 142, 20...   \n",
       " \n",
       "                                                  2000  \n",
       " 5                           [401, 362, 279, 142, 150]  \n",
       " 20  [401, 362, 279, 142, 150, 400, 80, 449, 447, 2...  \n",
       " 50  [401, 362, 279, 142, 150, 400, 80, 449, 447, 2...  )"
      ]
     },
     "execution_count": 13,
     "metadata": {},
     "output_type": "execute_result"
    }
   ],
   "source": [
    "CBC_SOLVER_PATH = None # fill out the solver path where the cbc executable \n",
    "BUDGET = [5, 20, 50] # budget for the optimization in terms of how many locations can be built\n",
    "cbc_optimize = partial(\n",
    "                    jg_opt.OpenOptimize, solver_path=CBC_SOLVER_PATH\n",
    "                )\n",
    "jg_opt.Solve(pop_count, current, potential, DISTANCE_TYPE, BUDGET, optimize=cbc_optimize, type='ID')"
   ]
  }
 ],
 "metadata": {
  "kernelspec": {
   "display_name": "Python 3",
   "language": "python",
   "name": "python3"
  },
  "language_info": {
   "codemirror_mode": {
    "name": "ipython",
    "version": 3
   },
   "file_extension": ".py",
   "mimetype": "text/x-python",
   "name": "python",
   "nbconvert_exporter": "python",
   "pygments_lexer": "ipython3",
   "version": "3.8.3"
  },
  "vscode": {
   "interpreter": {
    "hash": "9a47215aacfdeffc806e78faf21f250c6a1fee2a0e1dcb3a86321846ae7d77f7"
   }
  }
 },
 "nbformat": 4,
 "nbformat_minor": 2
}
