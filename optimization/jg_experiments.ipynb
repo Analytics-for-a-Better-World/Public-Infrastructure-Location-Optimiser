{
 "cells": [
  {
   "cell_type": "code",
   "execution_count": null,
   "metadata": {},
   "outputs": [],
   "source": [
    "result = dict()\n",
    "for accessibility in accessibilities:\n",
    "    result[accessibility] = opt.solve( household, current, potential, accessibility, budgets )"
   ]
  },
  {
   "cell_type": "code",
   "execution_count": 11,
   "outputs": [],
   "source": [
    "import numpy as np\n",
    "import pandas as pd\n",
    "import matplotlib.pyplot as plt\n",
    "import pop as pop\n",
    "from tqdm.notebook import tqdm\n",
    "from pathlib import Path\n",
    "import pyperclip\n",
    "\n",
    "%matplotlib inline\n",
    "\n",
    "# https://stackoverflow.com/questions/17687213/how-to-obtain-the-same-font-style-size-etc-in-matplotlib-output-as-in-latex\n",
    "params = {'text.usetex' : True,\n",
    "          'font.size'   : 11, # the article seems to be in 11pt, change accordingly\n",
    "          'font.family' : 'lmodern',\n",
    "          }\n",
    "\n",
    "plt.rcParams.update(params)\n",
    "default_size_inches = (3.54,3.54)\n",
    "plt.rcParams['figure.figsize'] = default_size_inches"
   ],
   "metadata": {
    "collapsed": false
   }
  },
  {
   "cell_type": "code",
   "execution_count": 12,
   "outputs": [
    {
     "name": "stdout",
     "output_type": "stream",
     "text": [
      "The autoreload extension is already loaded. To reload it, use:\n",
      "  %reload_ext autoreload\n"
     ]
    }
   ],
   "source": [
    "%load_ext autoreload\n",
    "%autoreload 2"
   ],
   "metadata": {
    "collapsed": false
   }
  },
  {
   "cell_type": "code",
   "execution_count": 13,
   "outputs": [],
   "source": [
    "import jg_util as jg"
   ],
   "metadata": {
    "collapsed": false
   }
  },
  {
   "cell_type": "code",
   "execution_count": 21,
   "outputs": [],
   "source": [
    "results_path = '../../../Results/Nepal/'\n",
    "data_path = '../Results/' #results_path + 'Data/'\n",
    "Path(results_path).mkdir(parents=True, exist_ok=True)"
   ],
   "metadata": {
    "collapsed": false
   }
  },
  {
   "cell_type": "markdown",
   "source": [
    "# Administrative Nepal"
   ],
   "metadata": {
    "collapsed": false
   }
  },
  {
   "cell_type": "code",
   "execution_count": 15,
   "outputs": [],
   "source": [
    "shapefile, data1, data2 = jg.GetAdministrativeNepal()"
   ],
   "metadata": {
    "collapsed": false
   }
  },
  {
   "cell_type": "code",
   "execution_count": 16,
   "outputs": [
    {
     "name": "stdout",
     "output_type": "stream",
     "text": [
      "Error in callback <function _draw_all_if_interactive at 0x0000022035A5BA30> (for post_execute):\n"
     ]
    },
    {
     "ename": "RuntimeError",
     "evalue": "Failed to process string with tex because latex could not be found",
     "output_type": "error",
     "traceback": [
      "\u001B[1;31m---------------------------------------------------------------------------\u001B[0m",
      "\u001B[1;31mFileNotFoundError\u001B[0m                         Traceback (most recent call last)",
      "File \u001B[1;32mD:\\Python310\\lib\\site-packages\\matplotlib\\texmanager.py:253\u001B[0m, in \u001B[0;36mTexManager._run_checked_subprocess\u001B[1;34m(cls, command, tex, cwd)\u001B[0m\n\u001B[0;32m    252\u001B[0m \u001B[38;5;28;01mtry\u001B[39;00m:\n\u001B[1;32m--> 253\u001B[0m     report \u001B[38;5;241m=\u001B[39m \u001B[43msubprocess\u001B[49m\u001B[38;5;241;43m.\u001B[39;49m\u001B[43mcheck_output\u001B[49m\u001B[43m(\u001B[49m\n\u001B[0;32m    254\u001B[0m \u001B[43m        \u001B[49m\u001B[43mcommand\u001B[49m\u001B[43m,\u001B[49m\u001B[43m \u001B[49m\u001B[43mcwd\u001B[49m\u001B[38;5;241;43m=\u001B[39;49m\u001B[43mcwd\u001B[49m\u001B[43m \u001B[49m\u001B[38;5;28;43;01mif\u001B[39;49;00m\u001B[43m \u001B[49m\u001B[43mcwd\u001B[49m\u001B[43m \u001B[49m\u001B[38;5;129;43;01mis\u001B[39;49;00m\u001B[43m \u001B[49m\u001B[38;5;129;43;01mnot\u001B[39;49;00m\u001B[43m \u001B[49m\u001B[38;5;28;43;01mNone\u001B[39;49;00m\u001B[43m \u001B[49m\u001B[38;5;28;43;01melse\u001B[39;49;00m\u001B[43m \u001B[49m\u001B[38;5;28;43mcls\u001B[39;49m\u001B[38;5;241;43m.\u001B[39;49m\u001B[43mtexcache\u001B[49m\u001B[43m,\u001B[49m\n\u001B[0;32m    255\u001B[0m \u001B[43m        \u001B[49m\u001B[43mstderr\u001B[49m\u001B[38;5;241;43m=\u001B[39;49m\u001B[43msubprocess\u001B[49m\u001B[38;5;241;43m.\u001B[39;49m\u001B[43mSTDOUT\u001B[49m\u001B[43m)\u001B[49m\n\u001B[0;32m    256\u001B[0m \u001B[38;5;28;01mexcept\u001B[39;00m \u001B[38;5;167;01mFileNotFoundError\u001B[39;00m \u001B[38;5;28;01mas\u001B[39;00m exc:\n",
      "File \u001B[1;32mD:\\Python310\\lib\\subprocess.py:421\u001B[0m, in \u001B[0;36mcheck_output\u001B[1;34m(timeout, *popenargs, **kwargs)\u001B[0m\n\u001B[0;32m    419\u001B[0m     kwargs[\u001B[38;5;124m'\u001B[39m\u001B[38;5;124minput\u001B[39m\u001B[38;5;124m'\u001B[39m] \u001B[38;5;241m=\u001B[39m empty\n\u001B[1;32m--> 421\u001B[0m \u001B[38;5;28;01mreturn\u001B[39;00m run(\u001B[38;5;241m*\u001B[39mpopenargs, stdout\u001B[38;5;241m=\u001B[39mPIPE, timeout\u001B[38;5;241m=\u001B[39mtimeout, check\u001B[38;5;241m=\u001B[39m\u001B[38;5;28;01mTrue\u001B[39;00m,\n\u001B[0;32m    422\u001B[0m            \u001B[38;5;241m*\u001B[39m\u001B[38;5;241m*\u001B[39mkwargs)\u001B[38;5;241m.\u001B[39mstdout\n",
      "File \u001B[1;32mD:\\Python310\\lib\\subprocess.py:503\u001B[0m, in \u001B[0;36mrun\u001B[1;34m(input, capture_output, timeout, check, *popenargs, **kwargs)\u001B[0m\n\u001B[0;32m    501\u001B[0m     kwargs[\u001B[38;5;124m'\u001B[39m\u001B[38;5;124mstderr\u001B[39m\u001B[38;5;124m'\u001B[39m] \u001B[38;5;241m=\u001B[39m PIPE\n\u001B[1;32m--> 503\u001B[0m \u001B[38;5;28;01mwith\u001B[39;00m Popen(\u001B[38;5;241m*\u001B[39mpopenargs, \u001B[38;5;241m*\u001B[39m\u001B[38;5;241m*\u001B[39mkwargs) \u001B[38;5;28;01mas\u001B[39;00m process:\n\u001B[0;32m    504\u001B[0m     \u001B[38;5;28;01mtry\u001B[39;00m:\n",
      "File \u001B[1;32mD:\\Python310\\lib\\subprocess.py:971\u001B[0m, in \u001B[0;36mPopen.__init__\u001B[1;34m(self, args, bufsize, executable, stdin, stdout, stderr, preexec_fn, close_fds, shell, cwd, env, universal_newlines, startupinfo, creationflags, restore_signals, start_new_session, pass_fds, user, group, extra_groups, encoding, errors, text, umask, pipesize)\u001B[0m\n\u001B[0;32m    968\u001B[0m             \u001B[38;5;28mself\u001B[39m\u001B[38;5;241m.\u001B[39mstderr \u001B[38;5;241m=\u001B[39m io\u001B[38;5;241m.\u001B[39mTextIOWrapper(\u001B[38;5;28mself\u001B[39m\u001B[38;5;241m.\u001B[39mstderr,\n\u001B[0;32m    969\u001B[0m                     encoding\u001B[38;5;241m=\u001B[39mencoding, errors\u001B[38;5;241m=\u001B[39merrors)\n\u001B[1;32m--> 971\u001B[0m     \u001B[38;5;28;43mself\u001B[39;49m\u001B[38;5;241;43m.\u001B[39;49m\u001B[43m_execute_child\u001B[49m\u001B[43m(\u001B[49m\u001B[43margs\u001B[49m\u001B[43m,\u001B[49m\u001B[43m \u001B[49m\u001B[43mexecutable\u001B[49m\u001B[43m,\u001B[49m\u001B[43m \u001B[49m\u001B[43mpreexec_fn\u001B[49m\u001B[43m,\u001B[49m\u001B[43m \u001B[49m\u001B[43mclose_fds\u001B[49m\u001B[43m,\u001B[49m\n\u001B[0;32m    972\u001B[0m \u001B[43m                        \u001B[49m\u001B[43mpass_fds\u001B[49m\u001B[43m,\u001B[49m\u001B[43m \u001B[49m\u001B[43mcwd\u001B[49m\u001B[43m,\u001B[49m\u001B[43m \u001B[49m\u001B[43menv\u001B[49m\u001B[43m,\u001B[49m\n\u001B[0;32m    973\u001B[0m \u001B[43m                        \u001B[49m\u001B[43mstartupinfo\u001B[49m\u001B[43m,\u001B[49m\u001B[43m \u001B[49m\u001B[43mcreationflags\u001B[49m\u001B[43m,\u001B[49m\u001B[43m \u001B[49m\u001B[43mshell\u001B[49m\u001B[43m,\u001B[49m\n\u001B[0;32m    974\u001B[0m \u001B[43m                        \u001B[49m\u001B[43mp2cread\u001B[49m\u001B[43m,\u001B[49m\u001B[43m \u001B[49m\u001B[43mp2cwrite\u001B[49m\u001B[43m,\u001B[49m\n\u001B[0;32m    975\u001B[0m \u001B[43m                        \u001B[49m\u001B[43mc2pread\u001B[49m\u001B[43m,\u001B[49m\u001B[43m \u001B[49m\u001B[43mc2pwrite\u001B[49m\u001B[43m,\u001B[49m\n\u001B[0;32m    976\u001B[0m \u001B[43m                        \u001B[49m\u001B[43merrread\u001B[49m\u001B[43m,\u001B[49m\u001B[43m \u001B[49m\u001B[43merrwrite\u001B[49m\u001B[43m,\u001B[49m\n\u001B[0;32m    977\u001B[0m \u001B[43m                        \u001B[49m\u001B[43mrestore_signals\u001B[49m\u001B[43m,\u001B[49m\n\u001B[0;32m    978\u001B[0m \u001B[43m                        \u001B[49m\u001B[43mgid\u001B[49m\u001B[43m,\u001B[49m\u001B[43m \u001B[49m\u001B[43mgids\u001B[49m\u001B[43m,\u001B[49m\u001B[43m \u001B[49m\u001B[43muid\u001B[49m\u001B[43m,\u001B[49m\u001B[43m \u001B[49m\u001B[43mumask\u001B[49m\u001B[43m,\u001B[49m\n\u001B[0;32m    979\u001B[0m \u001B[43m                        \u001B[49m\u001B[43mstart_new_session\u001B[49m\u001B[43m)\u001B[49m\n\u001B[0;32m    980\u001B[0m \u001B[38;5;28;01mexcept\u001B[39;00m:\n\u001B[0;32m    981\u001B[0m     \u001B[38;5;66;03m# Cleanup if the child failed starting.\u001B[39;00m\n",
      "File \u001B[1;32mD:\\Python310\\lib\\subprocess.py:1440\u001B[0m, in \u001B[0;36mPopen._execute_child\u001B[1;34m(self, args, executable, preexec_fn, close_fds, pass_fds, cwd, env, startupinfo, creationflags, shell, p2cread, p2cwrite, c2pread, c2pwrite, errread, errwrite, unused_restore_signals, unused_gid, unused_gids, unused_uid, unused_umask, unused_start_new_session)\u001B[0m\n\u001B[0;32m   1439\u001B[0m \u001B[38;5;28;01mtry\u001B[39;00m:\n\u001B[1;32m-> 1440\u001B[0m     hp, ht, pid, tid \u001B[38;5;241m=\u001B[39m \u001B[43m_winapi\u001B[49m\u001B[38;5;241;43m.\u001B[39;49m\u001B[43mCreateProcess\u001B[49m\u001B[43m(\u001B[49m\u001B[43mexecutable\u001B[49m\u001B[43m,\u001B[49m\u001B[43m \u001B[49m\u001B[43margs\u001B[49m\u001B[43m,\u001B[49m\n\u001B[0;32m   1441\u001B[0m \u001B[43m                             \u001B[49m\u001B[38;5;66;43;03m# no special security\u001B[39;49;00m\n\u001B[0;32m   1442\u001B[0m \u001B[43m                             \u001B[49m\u001B[38;5;28;43;01mNone\u001B[39;49;00m\u001B[43m,\u001B[49m\u001B[43m \u001B[49m\u001B[38;5;28;43;01mNone\u001B[39;49;00m\u001B[43m,\u001B[49m\n\u001B[0;32m   1443\u001B[0m \u001B[43m                             \u001B[49m\u001B[38;5;28;43mint\u001B[39;49m\u001B[43m(\u001B[49m\u001B[38;5;129;43;01mnot\u001B[39;49;00m\u001B[43m \u001B[49m\u001B[43mclose_fds\u001B[49m\u001B[43m)\u001B[49m\u001B[43m,\u001B[49m\n\u001B[0;32m   1444\u001B[0m \u001B[43m                             \u001B[49m\u001B[43mcreationflags\u001B[49m\u001B[43m,\u001B[49m\n\u001B[0;32m   1445\u001B[0m \u001B[43m                             \u001B[49m\u001B[43menv\u001B[49m\u001B[43m,\u001B[49m\n\u001B[0;32m   1446\u001B[0m \u001B[43m                             \u001B[49m\u001B[43mcwd\u001B[49m\u001B[43m,\u001B[49m\n\u001B[0;32m   1447\u001B[0m \u001B[43m                             \u001B[49m\u001B[43mstartupinfo\u001B[49m\u001B[43m)\u001B[49m\n\u001B[0;32m   1448\u001B[0m \u001B[38;5;28;01mfinally\u001B[39;00m:\n\u001B[0;32m   1449\u001B[0m     \u001B[38;5;66;03m# Child is launched. Close the parent's copy of those pipe\u001B[39;00m\n\u001B[0;32m   1450\u001B[0m     \u001B[38;5;66;03m# handles that only the child should have open.  You need\u001B[39;00m\n\u001B[1;32m   (...)\u001B[0m\n\u001B[0;32m   1453\u001B[0m     \u001B[38;5;66;03m# pipe will not close when the child process exits and the\u001B[39;00m\n\u001B[0;32m   1454\u001B[0m     \u001B[38;5;66;03m# ReadFile will hang.\u001B[39;00m\n",
      "\u001B[1;31mFileNotFoundError\u001B[0m: [WinError 2] The system cannot find the file specified",
      "\nThe above exception was the direct cause of the following exception:\n",
      "\u001B[1;31mRuntimeError\u001B[0m                              Traceback (most recent call last)",
      "File \u001B[1;32mD:\\Python310\\lib\\site-packages\\matplotlib\\pyplot.py:119\u001B[0m, in \u001B[0;36m_draw_all_if_interactive\u001B[1;34m()\u001B[0m\n\u001B[0;32m    117\u001B[0m \u001B[38;5;28;01mdef\u001B[39;00m \u001B[38;5;21m_draw_all_if_interactive\u001B[39m():\n\u001B[0;32m    118\u001B[0m     \u001B[38;5;28;01mif\u001B[39;00m matplotlib\u001B[38;5;241m.\u001B[39mis_interactive():\n\u001B[1;32m--> 119\u001B[0m         \u001B[43mdraw_all\u001B[49m\u001B[43m(\u001B[49m\u001B[43m)\u001B[49m\n",
      "File \u001B[1;32mD:\\Python310\\lib\\site-packages\\matplotlib\\_pylab_helpers.py:132\u001B[0m, in \u001B[0;36mGcf.draw_all\u001B[1;34m(cls, force)\u001B[0m\n\u001B[0;32m    130\u001B[0m \u001B[38;5;28;01mfor\u001B[39;00m manager \u001B[38;5;129;01min\u001B[39;00m \u001B[38;5;28mcls\u001B[39m\u001B[38;5;241m.\u001B[39mget_all_fig_managers():\n\u001B[0;32m    131\u001B[0m     \u001B[38;5;28;01mif\u001B[39;00m force \u001B[38;5;129;01mor\u001B[39;00m manager\u001B[38;5;241m.\u001B[39mcanvas\u001B[38;5;241m.\u001B[39mfigure\u001B[38;5;241m.\u001B[39mstale:\n\u001B[1;32m--> 132\u001B[0m         \u001B[43mmanager\u001B[49m\u001B[38;5;241;43m.\u001B[39;49m\u001B[43mcanvas\u001B[49m\u001B[38;5;241;43m.\u001B[39;49m\u001B[43mdraw_idle\u001B[49m\u001B[43m(\u001B[49m\u001B[43m)\u001B[49m\n",
      "File \u001B[1;32mD:\\Python310\\lib\\site-packages\\matplotlib\\backend_bases.py:2054\u001B[0m, in \u001B[0;36mFigureCanvasBase.draw_idle\u001B[1;34m(self, *args, **kwargs)\u001B[0m\n\u001B[0;32m   2052\u001B[0m \u001B[38;5;28;01mif\u001B[39;00m \u001B[38;5;129;01mnot\u001B[39;00m \u001B[38;5;28mself\u001B[39m\u001B[38;5;241m.\u001B[39m_is_idle_drawing:\n\u001B[0;32m   2053\u001B[0m     \u001B[38;5;28;01mwith\u001B[39;00m \u001B[38;5;28mself\u001B[39m\u001B[38;5;241m.\u001B[39m_idle_draw_cntx():\n\u001B[1;32m-> 2054\u001B[0m         \u001B[38;5;28mself\u001B[39m\u001B[38;5;241m.\u001B[39mdraw(\u001B[38;5;241m*\u001B[39margs, \u001B[38;5;241m*\u001B[39m\u001B[38;5;241m*\u001B[39mkwargs)\n",
      "File \u001B[1;32mD:\\Python310\\lib\\site-packages\\matplotlib\\backends\\backend_agg.py:405\u001B[0m, in \u001B[0;36mFigureCanvasAgg.draw\u001B[1;34m(self)\u001B[0m\n\u001B[0;32m    401\u001B[0m \u001B[38;5;66;03m# Acquire a lock on the shared font cache.\u001B[39;00m\n\u001B[0;32m    402\u001B[0m \u001B[38;5;28;01mwith\u001B[39;00m RendererAgg\u001B[38;5;241m.\u001B[39mlock, \\\n\u001B[0;32m    403\u001B[0m      (\u001B[38;5;28mself\u001B[39m\u001B[38;5;241m.\u001B[39mtoolbar\u001B[38;5;241m.\u001B[39m_wait_cursor_for_draw_cm() \u001B[38;5;28;01mif\u001B[39;00m \u001B[38;5;28mself\u001B[39m\u001B[38;5;241m.\u001B[39mtoolbar\n\u001B[0;32m    404\u001B[0m       \u001B[38;5;28;01melse\u001B[39;00m nullcontext()):\n\u001B[1;32m--> 405\u001B[0m     \u001B[38;5;28;43mself\u001B[39;49m\u001B[38;5;241;43m.\u001B[39;49m\u001B[43mfigure\u001B[49m\u001B[38;5;241;43m.\u001B[39;49m\u001B[43mdraw\u001B[49m\u001B[43m(\u001B[49m\u001B[38;5;28;43mself\u001B[39;49m\u001B[38;5;241;43m.\u001B[39;49m\u001B[43mrenderer\u001B[49m\u001B[43m)\u001B[49m\n\u001B[0;32m    406\u001B[0m     \u001B[38;5;66;03m# A GUI class may be need to update a window using this draw, so\u001B[39;00m\n\u001B[0;32m    407\u001B[0m     \u001B[38;5;66;03m# don't forget to call the superclass.\u001B[39;00m\n\u001B[0;32m    408\u001B[0m     \u001B[38;5;28msuper\u001B[39m()\u001B[38;5;241m.\u001B[39mdraw()\n",
      "File \u001B[1;32mD:\\Python310\\lib\\site-packages\\matplotlib\\artist.py:74\u001B[0m, in \u001B[0;36m_finalize_rasterization.<locals>.draw_wrapper\u001B[1;34m(artist, renderer, *args, **kwargs)\u001B[0m\n\u001B[0;32m     72\u001B[0m \u001B[38;5;129m@wraps\u001B[39m(draw)\n\u001B[0;32m     73\u001B[0m \u001B[38;5;28;01mdef\u001B[39;00m \u001B[38;5;21mdraw_wrapper\u001B[39m(artist, renderer, \u001B[38;5;241m*\u001B[39margs, \u001B[38;5;241m*\u001B[39m\u001B[38;5;241m*\u001B[39mkwargs):\n\u001B[1;32m---> 74\u001B[0m     result \u001B[38;5;241m=\u001B[39m draw(artist, renderer, \u001B[38;5;241m*\u001B[39margs, \u001B[38;5;241m*\u001B[39m\u001B[38;5;241m*\u001B[39mkwargs)\n\u001B[0;32m     75\u001B[0m     \u001B[38;5;28;01mif\u001B[39;00m renderer\u001B[38;5;241m.\u001B[39m_rasterizing:\n\u001B[0;32m     76\u001B[0m         renderer\u001B[38;5;241m.\u001B[39mstop_rasterizing()\n",
      "File \u001B[1;32mD:\\Python310\\lib\\site-packages\\matplotlib\\artist.py:51\u001B[0m, in \u001B[0;36mallow_rasterization.<locals>.draw_wrapper\u001B[1;34m(artist, renderer)\u001B[0m\n\u001B[0;32m     48\u001B[0m     \u001B[38;5;28;01mif\u001B[39;00m artist\u001B[38;5;241m.\u001B[39mget_agg_filter() \u001B[38;5;129;01mis\u001B[39;00m \u001B[38;5;129;01mnot\u001B[39;00m \u001B[38;5;28;01mNone\u001B[39;00m:\n\u001B[0;32m     49\u001B[0m         renderer\u001B[38;5;241m.\u001B[39mstart_filter()\n\u001B[1;32m---> 51\u001B[0m     \u001B[38;5;28;01mreturn\u001B[39;00m \u001B[43mdraw\u001B[49m\u001B[43m(\u001B[49m\u001B[43martist\u001B[49m\u001B[43m,\u001B[49m\u001B[43m \u001B[49m\u001B[43mrenderer\u001B[49m\u001B[43m)\u001B[49m\n\u001B[0;32m     52\u001B[0m \u001B[38;5;28;01mfinally\u001B[39;00m:\n\u001B[0;32m     53\u001B[0m     \u001B[38;5;28;01mif\u001B[39;00m artist\u001B[38;5;241m.\u001B[39mget_agg_filter() \u001B[38;5;129;01mis\u001B[39;00m \u001B[38;5;129;01mnot\u001B[39;00m \u001B[38;5;28;01mNone\u001B[39;00m:\n",
      "File \u001B[1;32mD:\\Python310\\lib\\site-packages\\matplotlib\\figure.py:3071\u001B[0m, in \u001B[0;36mFigure.draw\u001B[1;34m(self, renderer)\u001B[0m\n\u001B[0;32m   3068\u001B[0m         \u001B[38;5;66;03m# ValueError can occur when resizing a window.\u001B[39;00m\n\u001B[0;32m   3070\u001B[0m \u001B[38;5;28mself\u001B[39m\u001B[38;5;241m.\u001B[39mpatch\u001B[38;5;241m.\u001B[39mdraw(renderer)\n\u001B[1;32m-> 3071\u001B[0m \u001B[43mmimage\u001B[49m\u001B[38;5;241;43m.\u001B[39;49m\u001B[43m_draw_list_compositing_images\u001B[49m\u001B[43m(\u001B[49m\n\u001B[0;32m   3072\u001B[0m \u001B[43m    \u001B[49m\u001B[43mrenderer\u001B[49m\u001B[43m,\u001B[49m\u001B[43m \u001B[49m\u001B[38;5;28;43mself\u001B[39;49m\u001B[43m,\u001B[49m\u001B[43m \u001B[49m\u001B[43martists\u001B[49m\u001B[43m,\u001B[49m\u001B[43m \u001B[49m\u001B[38;5;28;43mself\u001B[39;49m\u001B[38;5;241;43m.\u001B[39;49m\u001B[43msuppressComposite\u001B[49m\u001B[43m)\u001B[49m\n\u001B[0;32m   3074\u001B[0m \u001B[38;5;28;01mfor\u001B[39;00m sfig \u001B[38;5;129;01min\u001B[39;00m \u001B[38;5;28mself\u001B[39m\u001B[38;5;241m.\u001B[39msubfigs:\n\u001B[0;32m   3075\u001B[0m     sfig\u001B[38;5;241m.\u001B[39mdraw(renderer)\n",
      "File \u001B[1;32mD:\\Python310\\lib\\site-packages\\matplotlib\\image.py:131\u001B[0m, in \u001B[0;36m_draw_list_compositing_images\u001B[1;34m(renderer, parent, artists, suppress_composite)\u001B[0m\n\u001B[0;32m    129\u001B[0m \u001B[38;5;28;01mif\u001B[39;00m not_composite \u001B[38;5;129;01mor\u001B[39;00m \u001B[38;5;129;01mnot\u001B[39;00m has_images:\n\u001B[0;32m    130\u001B[0m     \u001B[38;5;28;01mfor\u001B[39;00m a \u001B[38;5;129;01min\u001B[39;00m artists:\n\u001B[1;32m--> 131\u001B[0m         \u001B[43ma\u001B[49m\u001B[38;5;241;43m.\u001B[39;49m\u001B[43mdraw\u001B[49m\u001B[43m(\u001B[49m\u001B[43mrenderer\u001B[49m\u001B[43m)\u001B[49m\n\u001B[0;32m    132\u001B[0m \u001B[38;5;28;01melse\u001B[39;00m:\n\u001B[0;32m    133\u001B[0m     \u001B[38;5;66;03m# Composite any adjacent images together\u001B[39;00m\n\u001B[0;32m    134\u001B[0m     image_group \u001B[38;5;241m=\u001B[39m []\n",
      "File \u001B[1;32mD:\\Python310\\lib\\site-packages\\matplotlib\\artist.py:51\u001B[0m, in \u001B[0;36mallow_rasterization.<locals>.draw_wrapper\u001B[1;34m(artist, renderer)\u001B[0m\n\u001B[0;32m     48\u001B[0m     \u001B[38;5;28;01mif\u001B[39;00m artist\u001B[38;5;241m.\u001B[39mget_agg_filter() \u001B[38;5;129;01mis\u001B[39;00m \u001B[38;5;129;01mnot\u001B[39;00m \u001B[38;5;28;01mNone\u001B[39;00m:\n\u001B[0;32m     49\u001B[0m         renderer\u001B[38;5;241m.\u001B[39mstart_filter()\n\u001B[1;32m---> 51\u001B[0m     \u001B[38;5;28;01mreturn\u001B[39;00m \u001B[43mdraw\u001B[49m\u001B[43m(\u001B[49m\u001B[43martist\u001B[49m\u001B[43m,\u001B[49m\u001B[43m \u001B[49m\u001B[43mrenderer\u001B[49m\u001B[43m)\u001B[49m\n\u001B[0;32m     52\u001B[0m \u001B[38;5;28;01mfinally\u001B[39;00m:\n\u001B[0;32m     53\u001B[0m     \u001B[38;5;28;01mif\u001B[39;00m artist\u001B[38;5;241m.\u001B[39mget_agg_filter() \u001B[38;5;129;01mis\u001B[39;00m \u001B[38;5;129;01mnot\u001B[39;00m \u001B[38;5;28;01mNone\u001B[39;00m:\n",
      "File \u001B[1;32mD:\\Python310\\lib\\site-packages\\matplotlib\\axes\\_base.py:3107\u001B[0m, in \u001B[0;36m_AxesBase.draw\u001B[1;34m(self, renderer)\u001B[0m\n\u001B[0;32m   3104\u001B[0m         a\u001B[38;5;241m.\u001B[39mdraw(renderer)\n\u001B[0;32m   3105\u001B[0m     renderer\u001B[38;5;241m.\u001B[39mstop_rasterizing()\n\u001B[1;32m-> 3107\u001B[0m \u001B[43mmimage\u001B[49m\u001B[38;5;241;43m.\u001B[39;49m\u001B[43m_draw_list_compositing_images\u001B[49m\u001B[43m(\u001B[49m\n\u001B[0;32m   3108\u001B[0m \u001B[43m    \u001B[49m\u001B[43mrenderer\u001B[49m\u001B[43m,\u001B[49m\u001B[43m \u001B[49m\u001B[38;5;28;43mself\u001B[39;49m\u001B[43m,\u001B[49m\u001B[43m \u001B[49m\u001B[43martists\u001B[49m\u001B[43m,\u001B[49m\u001B[43m \u001B[49m\u001B[38;5;28;43mself\u001B[39;49m\u001B[38;5;241;43m.\u001B[39;49m\u001B[43mfigure\u001B[49m\u001B[38;5;241;43m.\u001B[39;49m\u001B[43msuppressComposite\u001B[49m\u001B[43m)\u001B[49m\n\u001B[0;32m   3110\u001B[0m renderer\u001B[38;5;241m.\u001B[39mclose_group(\u001B[38;5;124m'\u001B[39m\u001B[38;5;124maxes\u001B[39m\u001B[38;5;124m'\u001B[39m)\n\u001B[0;32m   3111\u001B[0m \u001B[38;5;28mself\u001B[39m\u001B[38;5;241m.\u001B[39mstale \u001B[38;5;241m=\u001B[39m \u001B[38;5;28;01mFalse\u001B[39;00m\n",
      "File \u001B[1;32mD:\\Python310\\lib\\site-packages\\matplotlib\\image.py:131\u001B[0m, in \u001B[0;36m_draw_list_compositing_images\u001B[1;34m(renderer, parent, artists, suppress_composite)\u001B[0m\n\u001B[0;32m    129\u001B[0m \u001B[38;5;28;01mif\u001B[39;00m not_composite \u001B[38;5;129;01mor\u001B[39;00m \u001B[38;5;129;01mnot\u001B[39;00m has_images:\n\u001B[0;32m    130\u001B[0m     \u001B[38;5;28;01mfor\u001B[39;00m a \u001B[38;5;129;01min\u001B[39;00m artists:\n\u001B[1;32m--> 131\u001B[0m         \u001B[43ma\u001B[49m\u001B[38;5;241;43m.\u001B[39;49m\u001B[43mdraw\u001B[49m\u001B[43m(\u001B[49m\u001B[43mrenderer\u001B[49m\u001B[43m)\u001B[49m\n\u001B[0;32m    132\u001B[0m \u001B[38;5;28;01melse\u001B[39;00m:\n\u001B[0;32m    133\u001B[0m     \u001B[38;5;66;03m# Composite any adjacent images together\u001B[39;00m\n\u001B[0;32m    134\u001B[0m     image_group \u001B[38;5;241m=\u001B[39m []\n",
      "File \u001B[1;32mD:\\Python310\\lib\\site-packages\\matplotlib\\artist.py:51\u001B[0m, in \u001B[0;36mallow_rasterization.<locals>.draw_wrapper\u001B[1;34m(artist, renderer)\u001B[0m\n\u001B[0;32m     48\u001B[0m     \u001B[38;5;28;01mif\u001B[39;00m artist\u001B[38;5;241m.\u001B[39mget_agg_filter() \u001B[38;5;129;01mis\u001B[39;00m \u001B[38;5;129;01mnot\u001B[39;00m \u001B[38;5;28;01mNone\u001B[39;00m:\n\u001B[0;32m     49\u001B[0m         renderer\u001B[38;5;241m.\u001B[39mstart_filter()\n\u001B[1;32m---> 51\u001B[0m     \u001B[38;5;28;01mreturn\u001B[39;00m \u001B[43mdraw\u001B[49m\u001B[43m(\u001B[49m\u001B[43martist\u001B[49m\u001B[43m,\u001B[49m\u001B[43m \u001B[49m\u001B[43mrenderer\u001B[49m\u001B[43m)\u001B[49m\n\u001B[0;32m     52\u001B[0m \u001B[38;5;28;01mfinally\u001B[39;00m:\n\u001B[0;32m     53\u001B[0m     \u001B[38;5;28;01mif\u001B[39;00m artist\u001B[38;5;241m.\u001B[39mget_agg_filter() \u001B[38;5;129;01mis\u001B[39;00m \u001B[38;5;129;01mnot\u001B[39;00m \u001B[38;5;28;01mNone\u001B[39;00m:\n",
      "File \u001B[1;32mD:\\Python310\\lib\\site-packages\\matplotlib\\text.py:1994\u001B[0m, in \u001B[0;36mAnnotation.draw\u001B[1;34m(self, renderer)\u001B[0m\n\u001B[0;32m   1991\u001B[0m     \u001B[38;5;28mself\u001B[39m\u001B[38;5;241m.\u001B[39marrow_patch\u001B[38;5;241m.\u001B[39mdraw(renderer)\n\u001B[0;32m   1992\u001B[0m \u001B[38;5;66;03m# Draw text, including FancyBboxPatch, after FancyArrowPatch.\u001B[39;00m\n\u001B[0;32m   1993\u001B[0m \u001B[38;5;66;03m# Otherwise, a wedge arrowstyle can land partly on top of the Bbox.\u001B[39;00m\n\u001B[1;32m-> 1994\u001B[0m \u001B[43mText\u001B[49m\u001B[38;5;241;43m.\u001B[39;49m\u001B[43mdraw\u001B[49m\u001B[43m(\u001B[49m\u001B[38;5;28;43mself\u001B[39;49m\u001B[43m,\u001B[49m\u001B[43m \u001B[49m\u001B[43mrenderer\u001B[49m\u001B[43m)\u001B[49m\n",
      "File \u001B[1;32mD:\\Python310\\lib\\site-packages\\matplotlib\\artist.py:51\u001B[0m, in \u001B[0;36mallow_rasterization.<locals>.draw_wrapper\u001B[1;34m(artist, renderer)\u001B[0m\n\u001B[0;32m     48\u001B[0m     \u001B[38;5;28;01mif\u001B[39;00m artist\u001B[38;5;241m.\u001B[39mget_agg_filter() \u001B[38;5;129;01mis\u001B[39;00m \u001B[38;5;129;01mnot\u001B[39;00m \u001B[38;5;28;01mNone\u001B[39;00m:\n\u001B[0;32m     49\u001B[0m         renderer\u001B[38;5;241m.\u001B[39mstart_filter()\n\u001B[1;32m---> 51\u001B[0m     \u001B[38;5;28;01mreturn\u001B[39;00m \u001B[43mdraw\u001B[49m\u001B[43m(\u001B[49m\u001B[43martist\u001B[49m\u001B[43m,\u001B[49m\u001B[43m \u001B[49m\u001B[43mrenderer\u001B[49m\u001B[43m)\u001B[49m\n\u001B[0;32m     52\u001B[0m \u001B[38;5;28;01mfinally\u001B[39;00m:\n\u001B[0;32m     53\u001B[0m     \u001B[38;5;28;01mif\u001B[39;00m artist\u001B[38;5;241m.\u001B[39mget_agg_filter() \u001B[38;5;129;01mis\u001B[39;00m \u001B[38;5;129;01mnot\u001B[39;00m \u001B[38;5;28;01mNone\u001B[39;00m:\n",
      "File \u001B[1;32mD:\\Python310\\lib\\site-packages\\matplotlib\\text.py:687\u001B[0m, in \u001B[0;36mText.draw\u001B[1;34m(self, renderer)\u001B[0m\n\u001B[0;32m    684\u001B[0m renderer\u001B[38;5;241m.\u001B[39mopen_group(\u001B[38;5;124m'\u001B[39m\u001B[38;5;124mtext\u001B[39m\u001B[38;5;124m'\u001B[39m, \u001B[38;5;28mself\u001B[39m\u001B[38;5;241m.\u001B[39mget_gid())\n\u001B[0;32m    686\u001B[0m \u001B[38;5;28;01mwith\u001B[39;00m \u001B[38;5;28mself\u001B[39m\u001B[38;5;241m.\u001B[39m_cm_set(text\u001B[38;5;241m=\u001B[39m\u001B[38;5;28mself\u001B[39m\u001B[38;5;241m.\u001B[39m_get_wrapped_text()):\n\u001B[1;32m--> 687\u001B[0m     bbox, info, descent \u001B[38;5;241m=\u001B[39m \u001B[38;5;28;43mself\u001B[39;49m\u001B[38;5;241;43m.\u001B[39;49m\u001B[43m_get_layout\u001B[49m\u001B[43m(\u001B[49m\u001B[43mrenderer\u001B[49m\u001B[43m)\u001B[49m\n\u001B[0;32m    688\u001B[0m     trans \u001B[38;5;241m=\u001B[39m \u001B[38;5;28mself\u001B[39m\u001B[38;5;241m.\u001B[39mget_transform()\n\u001B[0;32m    690\u001B[0m     \u001B[38;5;66;03m# don't use self.get_position here, which refers to text\u001B[39;00m\n\u001B[0;32m    691\u001B[0m     \u001B[38;5;66;03m# position in Text:\u001B[39;00m\n",
      "File \u001B[1;32mD:\\Python310\\lib\\site-packages\\matplotlib\\text.py:313\u001B[0m, in \u001B[0;36mText._get_layout\u001B[1;34m(self, renderer)\u001B[0m\n\u001B[0;32m    310\u001B[0m ys \u001B[38;5;241m=\u001B[39m []\n\u001B[0;32m    312\u001B[0m \u001B[38;5;66;03m# Full vertical extent of font, including ascenders and descenders:\u001B[39;00m\n\u001B[1;32m--> 313\u001B[0m _, lp_h, lp_d \u001B[38;5;241m=\u001B[39m \u001B[43m_get_text_metrics_with_cache\u001B[49m\u001B[43m(\u001B[49m\n\u001B[0;32m    314\u001B[0m \u001B[43m    \u001B[49m\u001B[43mrenderer\u001B[49m\u001B[43m,\u001B[49m\u001B[43m \u001B[49m\u001B[38;5;124;43m\"\u001B[39;49m\u001B[38;5;124;43mlp\u001B[39;49m\u001B[38;5;124;43m\"\u001B[39;49m\u001B[43m,\u001B[49m\u001B[43m \u001B[49m\u001B[38;5;28;43mself\u001B[39;49m\u001B[38;5;241;43m.\u001B[39;49m\u001B[43m_fontproperties\u001B[49m\u001B[43m,\u001B[49m\n\u001B[0;32m    315\u001B[0m \u001B[43m    \u001B[49m\u001B[43mismath\u001B[49m\u001B[38;5;241;43m=\u001B[39;49m\u001B[38;5;124;43m\"\u001B[39;49m\u001B[38;5;124;43mTeX\u001B[39;49m\u001B[38;5;124;43m\"\u001B[39;49m\u001B[43m \u001B[49m\u001B[38;5;28;43;01mif\u001B[39;49;00m\u001B[43m \u001B[49m\u001B[38;5;28;43mself\u001B[39;49m\u001B[38;5;241;43m.\u001B[39;49m\u001B[43mget_usetex\u001B[49m\u001B[43m(\u001B[49m\u001B[43m)\u001B[49m\u001B[43m \u001B[49m\u001B[38;5;28;43;01melse\u001B[39;49;00m\u001B[43m \u001B[49m\u001B[38;5;28;43;01mFalse\u001B[39;49;00m\u001B[43m,\u001B[49m\u001B[43m \u001B[49m\u001B[43mdpi\u001B[49m\u001B[38;5;241;43m=\u001B[39;49m\u001B[38;5;28;43mself\u001B[39;49m\u001B[38;5;241;43m.\u001B[39;49m\u001B[43mfigure\u001B[49m\u001B[38;5;241;43m.\u001B[39;49m\u001B[43mdpi\u001B[49m\u001B[43m)\u001B[49m\n\u001B[0;32m    316\u001B[0m min_dy \u001B[38;5;241m=\u001B[39m (lp_h \u001B[38;5;241m-\u001B[39m lp_d) \u001B[38;5;241m*\u001B[39m \u001B[38;5;28mself\u001B[39m\u001B[38;5;241m.\u001B[39m_linespacing\n\u001B[0;32m    318\u001B[0m \u001B[38;5;28;01mfor\u001B[39;00m i, line \u001B[38;5;129;01min\u001B[39;00m \u001B[38;5;28menumerate\u001B[39m(lines):\n",
      "File \u001B[1;32mD:\\Python310\\lib\\site-packages\\matplotlib\\text.py:97\u001B[0m, in \u001B[0;36m_get_text_metrics_with_cache\u001B[1;34m(renderer, text, fontprop, ismath, dpi)\u001B[0m\n\u001B[0;32m     94\u001B[0m \u001B[38;5;124;03m\"\"\"Call ``renderer.get_text_width_height_descent``, caching the results.\"\"\"\u001B[39;00m\n\u001B[0;32m     95\u001B[0m \u001B[38;5;66;03m# Cached based on a copy of fontprop so that later in-place mutations of\u001B[39;00m\n\u001B[0;32m     96\u001B[0m \u001B[38;5;66;03m# the passed-in argument do not mess up the cache.\u001B[39;00m\n\u001B[1;32m---> 97\u001B[0m \u001B[38;5;28;01mreturn\u001B[39;00m \u001B[43m_get_text_metrics_with_cache_impl\u001B[49m\u001B[43m(\u001B[49m\n\u001B[0;32m     98\u001B[0m \u001B[43m    \u001B[49m\u001B[43mweakref\u001B[49m\u001B[38;5;241;43m.\u001B[39;49m\u001B[43mref\u001B[49m\u001B[43m(\u001B[49m\u001B[43mrenderer\u001B[49m\u001B[43m)\u001B[49m\u001B[43m,\u001B[49m\u001B[43m \u001B[49m\u001B[43mtext\u001B[49m\u001B[43m,\u001B[49m\u001B[43m \u001B[49m\u001B[43mfontprop\u001B[49m\u001B[38;5;241;43m.\u001B[39;49m\u001B[43mcopy\u001B[49m\u001B[43m(\u001B[49m\u001B[43m)\u001B[49m\u001B[43m,\u001B[49m\u001B[43m \u001B[49m\u001B[43mismath\u001B[49m\u001B[43m,\u001B[49m\u001B[43m \u001B[49m\u001B[43mdpi\u001B[49m\u001B[43m)\u001B[49m\n",
      "File \u001B[1;32mD:\\Python310\\lib\\site-packages\\matplotlib\\text.py:105\u001B[0m, in \u001B[0;36m_get_text_metrics_with_cache_impl\u001B[1;34m(renderer_ref, text, fontprop, ismath, dpi)\u001B[0m\n\u001B[0;32m    101\u001B[0m \u001B[38;5;129m@functools\u001B[39m\u001B[38;5;241m.\u001B[39mlru_cache(\u001B[38;5;241m4096\u001B[39m)\n\u001B[0;32m    102\u001B[0m \u001B[38;5;28;01mdef\u001B[39;00m \u001B[38;5;21m_get_text_metrics_with_cache_impl\u001B[39m(\n\u001B[0;32m    103\u001B[0m         renderer_ref, text, fontprop, ismath, dpi):\n\u001B[0;32m    104\u001B[0m     \u001B[38;5;66;03m# dpi is unused, but participates in cache invalidation (via the renderer).\u001B[39;00m\n\u001B[1;32m--> 105\u001B[0m     \u001B[38;5;28;01mreturn\u001B[39;00m \u001B[43mrenderer_ref\u001B[49m\u001B[43m(\u001B[49m\u001B[43m)\u001B[49m\u001B[38;5;241;43m.\u001B[39;49m\u001B[43mget_text_width_height_descent\u001B[49m\u001B[43m(\u001B[49m\u001B[43mtext\u001B[49m\u001B[43m,\u001B[49m\u001B[43m \u001B[49m\u001B[43mfontprop\u001B[49m\u001B[43m,\u001B[49m\u001B[43m \u001B[49m\u001B[43mismath\u001B[49m\u001B[43m)\u001B[49m\n",
      "File \u001B[1;32mD:\\Python310\\lib\\site-packages\\matplotlib\\backends\\backend_agg.py:229\u001B[0m, in \u001B[0;36mRendererAgg.get_text_width_height_descent\u001B[1;34m(self, s, prop, ismath)\u001B[0m\n\u001B[0;32m    227\u001B[0m     texmanager \u001B[38;5;241m=\u001B[39m \u001B[38;5;28mself\u001B[39m\u001B[38;5;241m.\u001B[39mget_texmanager()\n\u001B[0;32m    228\u001B[0m     fontsize \u001B[38;5;241m=\u001B[39m prop\u001B[38;5;241m.\u001B[39mget_size_in_points()\n\u001B[1;32m--> 229\u001B[0m     w, h, d \u001B[38;5;241m=\u001B[39m \u001B[43mtexmanager\u001B[49m\u001B[38;5;241;43m.\u001B[39;49m\u001B[43mget_text_width_height_descent\u001B[49m\u001B[43m(\u001B[49m\n\u001B[0;32m    230\u001B[0m \u001B[43m        \u001B[49m\u001B[43ms\u001B[49m\u001B[43m,\u001B[49m\u001B[43m \u001B[49m\u001B[43mfontsize\u001B[49m\u001B[43m,\u001B[49m\u001B[43m \u001B[49m\u001B[43mrenderer\u001B[49m\u001B[38;5;241;43m=\u001B[39;49m\u001B[38;5;28;43mself\u001B[39;49m\u001B[43m)\u001B[49m\n\u001B[0;32m    231\u001B[0m     \u001B[38;5;28;01mreturn\u001B[39;00m w, h, d\n\u001B[0;32m    233\u001B[0m \u001B[38;5;28;01mif\u001B[39;00m ismath:\n",
      "File \u001B[1;32mD:\\Python310\\lib\\site-packages\\matplotlib\\texmanager.py:362\u001B[0m, in \u001B[0;36mTexManager.get_text_width_height_descent\u001B[1;34m(cls, tex, fontsize, renderer)\u001B[0m\n\u001B[0;32m    360\u001B[0m \u001B[38;5;28;01mif\u001B[39;00m tex\u001B[38;5;241m.\u001B[39mstrip() \u001B[38;5;241m==\u001B[39m \u001B[38;5;124m'\u001B[39m\u001B[38;5;124m'\u001B[39m:\n\u001B[0;32m    361\u001B[0m     \u001B[38;5;28;01mreturn\u001B[39;00m \u001B[38;5;241m0\u001B[39m, \u001B[38;5;241m0\u001B[39m, \u001B[38;5;241m0\u001B[39m\n\u001B[1;32m--> 362\u001B[0m dvifile \u001B[38;5;241m=\u001B[39m \u001B[38;5;28;43mcls\u001B[39;49m\u001B[38;5;241;43m.\u001B[39;49m\u001B[43mmake_dvi\u001B[49m\u001B[43m(\u001B[49m\u001B[43mtex\u001B[49m\u001B[43m,\u001B[49m\u001B[43m \u001B[49m\u001B[43mfontsize\u001B[49m\u001B[43m)\u001B[49m\n\u001B[0;32m    363\u001B[0m dpi_fraction \u001B[38;5;241m=\u001B[39m renderer\u001B[38;5;241m.\u001B[39mpoints_to_pixels(\u001B[38;5;241m1.\u001B[39m) \u001B[38;5;28;01mif\u001B[39;00m renderer \u001B[38;5;28;01melse\u001B[39;00m \u001B[38;5;241m1\u001B[39m\n\u001B[0;32m    364\u001B[0m \u001B[38;5;28;01mwith\u001B[39;00m dviread\u001B[38;5;241m.\u001B[39mDvi(dvifile, \u001B[38;5;241m72\u001B[39m \u001B[38;5;241m*\u001B[39m dpi_fraction) \u001B[38;5;28;01mas\u001B[39;00m dvi:\n",
      "File \u001B[1;32mD:\\Python310\\lib\\site-packages\\matplotlib\\texmanager.py:295\u001B[0m, in \u001B[0;36mTexManager.make_dvi\u001B[1;34m(cls, tex, fontsize)\u001B[0m\n\u001B[0;32m    286\u001B[0m     \u001B[38;5;66;03m# Generate the dvi in a temporary directory to avoid race\u001B[39;00m\n\u001B[0;32m    287\u001B[0m     \u001B[38;5;66;03m# conditions e.g. if multiple processes try to process the same tex\u001B[39;00m\n\u001B[0;32m    288\u001B[0m     \u001B[38;5;66;03m# string at the same time.  Having tmpdir be a subdirectory of the\u001B[39;00m\n\u001B[1;32m   (...)\u001B[0m\n\u001B[0;32m    292\u001B[0m     \u001B[38;5;66;03m# the absolute path may contain characters (e.g. ~) that TeX does\u001B[39;00m\n\u001B[0;32m    293\u001B[0m     \u001B[38;5;66;03m# not support.)\u001B[39;00m\n\u001B[0;32m    294\u001B[0m     \u001B[38;5;28;01mwith\u001B[39;00m TemporaryDirectory(\u001B[38;5;28mdir\u001B[39m\u001B[38;5;241m=\u001B[39mPath(dvifile)\u001B[38;5;241m.\u001B[39mparent) \u001B[38;5;28;01mas\u001B[39;00m tmpdir:\n\u001B[1;32m--> 295\u001B[0m         \u001B[38;5;28;43mcls\u001B[39;49m\u001B[38;5;241;43m.\u001B[39;49m\u001B[43m_run_checked_subprocess\u001B[49m\u001B[43m(\u001B[49m\n\u001B[0;32m    296\u001B[0m \u001B[43m            \u001B[49m\u001B[43m[\u001B[49m\u001B[38;5;124;43m\"\u001B[39;49m\u001B[38;5;124;43mlatex\u001B[39;49m\u001B[38;5;124;43m\"\u001B[39;49m\u001B[43m,\u001B[49m\u001B[43m \u001B[49m\u001B[38;5;124;43m\"\u001B[39;49m\u001B[38;5;124;43m-interaction=nonstopmode\u001B[39;49m\u001B[38;5;124;43m\"\u001B[39;49m\u001B[43m,\u001B[49m\u001B[43m \u001B[49m\u001B[38;5;124;43m\"\u001B[39;49m\u001B[38;5;124;43m--halt-on-error\u001B[39;49m\u001B[38;5;124;43m\"\u001B[39;49m\u001B[43m,\u001B[49m\n\u001B[0;32m    297\u001B[0m \u001B[43m             \u001B[49m\u001B[38;5;124;43mf\u001B[39;49m\u001B[38;5;124;43m\"\u001B[39;49m\u001B[38;5;124;43m../\u001B[39;49m\u001B[38;5;132;43;01m{\u001B[39;49;00m\u001B[43mtexfile\u001B[49m\u001B[38;5;241;43m.\u001B[39;49m\u001B[43mname\u001B[49m\u001B[38;5;132;43;01m}\u001B[39;49;00m\u001B[38;5;124;43m\"\u001B[39;49m\u001B[43m]\u001B[49m\u001B[43m,\u001B[49m\u001B[43m \u001B[49m\u001B[43mtex\u001B[49m\u001B[43m,\u001B[49m\u001B[43m \u001B[49m\u001B[43mcwd\u001B[49m\u001B[38;5;241;43m=\u001B[39;49m\u001B[43mtmpdir\u001B[49m\u001B[43m)\u001B[49m\n\u001B[0;32m    298\u001B[0m         (Path(tmpdir) \u001B[38;5;241m/\u001B[39m Path(dvifile)\u001B[38;5;241m.\u001B[39mname)\u001B[38;5;241m.\u001B[39mreplace(dvifile)\n\u001B[0;32m    299\u001B[0m \u001B[38;5;28;01mreturn\u001B[39;00m dvifile\n",
      "File \u001B[1;32mD:\\Python310\\lib\\site-packages\\matplotlib\\texmanager.py:257\u001B[0m, in \u001B[0;36mTexManager._run_checked_subprocess\u001B[1;34m(cls, command, tex, cwd)\u001B[0m\n\u001B[0;32m    253\u001B[0m     report \u001B[38;5;241m=\u001B[39m subprocess\u001B[38;5;241m.\u001B[39mcheck_output(\n\u001B[0;32m    254\u001B[0m         command, cwd\u001B[38;5;241m=\u001B[39mcwd \u001B[38;5;28;01mif\u001B[39;00m cwd \u001B[38;5;129;01mis\u001B[39;00m \u001B[38;5;129;01mnot\u001B[39;00m \u001B[38;5;28;01mNone\u001B[39;00m \u001B[38;5;28;01melse\u001B[39;00m \u001B[38;5;28mcls\u001B[39m\u001B[38;5;241m.\u001B[39mtexcache,\n\u001B[0;32m    255\u001B[0m         stderr\u001B[38;5;241m=\u001B[39msubprocess\u001B[38;5;241m.\u001B[39mSTDOUT)\n\u001B[0;32m    256\u001B[0m \u001B[38;5;28;01mexcept\u001B[39;00m \u001B[38;5;167;01mFileNotFoundError\u001B[39;00m \u001B[38;5;28;01mas\u001B[39;00m exc:\n\u001B[1;32m--> 257\u001B[0m     \u001B[38;5;28;01mraise\u001B[39;00m \u001B[38;5;167;01mRuntimeError\u001B[39;00m(\n\u001B[0;32m    258\u001B[0m         \u001B[38;5;124m'\u001B[39m\u001B[38;5;124mFailed to process string with tex because \u001B[39m\u001B[38;5;132;01m{}\u001B[39;00m\u001B[38;5;124m could not be \u001B[39m\u001B[38;5;124m'\u001B[39m\n\u001B[0;32m    259\u001B[0m         \u001B[38;5;124m'\u001B[39m\u001B[38;5;124mfound\u001B[39m\u001B[38;5;124m'\u001B[39m\u001B[38;5;241m.\u001B[39mformat(command[\u001B[38;5;241m0\u001B[39m])) \u001B[38;5;28;01mfrom\u001B[39;00m \u001B[38;5;21;01mexc\u001B[39;00m\n\u001B[0;32m    260\u001B[0m \u001B[38;5;28;01mexcept\u001B[39;00m subprocess\u001B[38;5;241m.\u001B[39mCalledProcessError \u001B[38;5;28;01mas\u001B[39;00m exc:\n\u001B[0;32m    261\u001B[0m     \u001B[38;5;28;01mraise\u001B[39;00m \u001B[38;5;167;01mRuntimeError\u001B[39;00m(\n\u001B[0;32m    262\u001B[0m         \u001B[38;5;124m'\u001B[39m\u001B[38;5;132;01m{prog}\u001B[39;00m\u001B[38;5;124m was not able to process the following string:\u001B[39m\u001B[38;5;130;01m\\n\u001B[39;00m\u001B[38;5;124m'\u001B[39m\n\u001B[0;32m    263\u001B[0m         \u001B[38;5;124m'\u001B[39m\u001B[38;5;132;01m{tex!r}\u001B[39;00m\u001B[38;5;130;01m\\n\u001B[39;00m\u001B[38;5;130;01m\\n\u001B[39;00m\u001B[38;5;124m'\u001B[39m\n\u001B[1;32m   (...)\u001B[0m\n\u001B[0;32m    270\u001B[0m             exc\u001B[38;5;241m=\u001B[39mexc\u001B[38;5;241m.\u001B[39moutput\u001B[38;5;241m.\u001B[39mdecode(\u001B[38;5;124m'\u001B[39m\u001B[38;5;124mutf-8\u001B[39m\u001B[38;5;124m'\u001B[39m, \u001B[38;5;124m'\u001B[39m\u001B[38;5;124mbackslashreplace\u001B[39m\u001B[38;5;124m'\u001B[39m))\n\u001B[0;32m    271\u001B[0m         ) \u001B[38;5;28;01mfrom\u001B[39;00m \u001B[38;5;28mNone\u001B[39m\n",
      "\u001B[1;31mRuntimeError\u001B[0m: Failed to process string with tex because latex could not be found"
     ]
    },
    {
     "ename": "RuntimeError",
     "evalue": "Failed to process string with tex because latex could not be found",
     "output_type": "error",
     "traceback": [
      "\u001B[1;31m---------------------------------------------------------------------------\u001B[0m",
      "\u001B[1;31mFileNotFoundError\u001B[0m                         Traceback (most recent call last)",
      "File \u001B[1;32mD:\\Python310\\lib\\site-packages\\matplotlib\\texmanager.py:253\u001B[0m, in \u001B[0;36mTexManager._run_checked_subprocess\u001B[1;34m(cls, command, tex, cwd)\u001B[0m\n\u001B[0;32m    252\u001B[0m \u001B[38;5;28;01mtry\u001B[39;00m:\n\u001B[1;32m--> 253\u001B[0m     report \u001B[38;5;241m=\u001B[39m \u001B[43msubprocess\u001B[49m\u001B[38;5;241;43m.\u001B[39;49m\u001B[43mcheck_output\u001B[49m\u001B[43m(\u001B[49m\n\u001B[0;32m    254\u001B[0m \u001B[43m        \u001B[49m\u001B[43mcommand\u001B[49m\u001B[43m,\u001B[49m\u001B[43m \u001B[49m\u001B[43mcwd\u001B[49m\u001B[38;5;241;43m=\u001B[39;49m\u001B[43mcwd\u001B[49m\u001B[43m \u001B[49m\u001B[38;5;28;43;01mif\u001B[39;49;00m\u001B[43m \u001B[49m\u001B[43mcwd\u001B[49m\u001B[43m \u001B[49m\u001B[38;5;129;43;01mis\u001B[39;49;00m\u001B[43m \u001B[49m\u001B[38;5;129;43;01mnot\u001B[39;49;00m\u001B[43m \u001B[49m\u001B[38;5;28;43;01mNone\u001B[39;49;00m\u001B[43m \u001B[49m\u001B[38;5;28;43;01melse\u001B[39;49;00m\u001B[43m \u001B[49m\u001B[38;5;28;43mcls\u001B[39;49m\u001B[38;5;241;43m.\u001B[39;49m\u001B[43mtexcache\u001B[49m\u001B[43m,\u001B[49m\n\u001B[0;32m    255\u001B[0m \u001B[43m        \u001B[49m\u001B[43mstderr\u001B[49m\u001B[38;5;241;43m=\u001B[39;49m\u001B[43msubprocess\u001B[49m\u001B[38;5;241;43m.\u001B[39;49m\u001B[43mSTDOUT\u001B[49m\u001B[43m)\u001B[49m\n\u001B[0;32m    256\u001B[0m \u001B[38;5;28;01mexcept\u001B[39;00m \u001B[38;5;167;01mFileNotFoundError\u001B[39;00m \u001B[38;5;28;01mas\u001B[39;00m exc:\n",
      "File \u001B[1;32mD:\\Python310\\lib\\subprocess.py:421\u001B[0m, in \u001B[0;36mcheck_output\u001B[1;34m(timeout, *popenargs, **kwargs)\u001B[0m\n\u001B[0;32m    419\u001B[0m     kwargs[\u001B[38;5;124m'\u001B[39m\u001B[38;5;124minput\u001B[39m\u001B[38;5;124m'\u001B[39m] \u001B[38;5;241m=\u001B[39m empty\n\u001B[1;32m--> 421\u001B[0m \u001B[38;5;28;01mreturn\u001B[39;00m run(\u001B[38;5;241m*\u001B[39mpopenargs, stdout\u001B[38;5;241m=\u001B[39mPIPE, timeout\u001B[38;5;241m=\u001B[39mtimeout, check\u001B[38;5;241m=\u001B[39m\u001B[38;5;28;01mTrue\u001B[39;00m,\n\u001B[0;32m    422\u001B[0m            \u001B[38;5;241m*\u001B[39m\u001B[38;5;241m*\u001B[39mkwargs)\u001B[38;5;241m.\u001B[39mstdout\n",
      "File \u001B[1;32mD:\\Python310\\lib\\subprocess.py:503\u001B[0m, in \u001B[0;36mrun\u001B[1;34m(input, capture_output, timeout, check, *popenargs, **kwargs)\u001B[0m\n\u001B[0;32m    501\u001B[0m     kwargs[\u001B[38;5;124m'\u001B[39m\u001B[38;5;124mstderr\u001B[39m\u001B[38;5;124m'\u001B[39m] \u001B[38;5;241m=\u001B[39m PIPE\n\u001B[1;32m--> 503\u001B[0m \u001B[38;5;28;01mwith\u001B[39;00m Popen(\u001B[38;5;241m*\u001B[39mpopenargs, \u001B[38;5;241m*\u001B[39m\u001B[38;5;241m*\u001B[39mkwargs) \u001B[38;5;28;01mas\u001B[39;00m process:\n\u001B[0;32m    504\u001B[0m     \u001B[38;5;28;01mtry\u001B[39;00m:\n",
      "File \u001B[1;32mD:\\Python310\\lib\\subprocess.py:971\u001B[0m, in \u001B[0;36mPopen.__init__\u001B[1;34m(self, args, bufsize, executable, stdin, stdout, stderr, preexec_fn, close_fds, shell, cwd, env, universal_newlines, startupinfo, creationflags, restore_signals, start_new_session, pass_fds, user, group, extra_groups, encoding, errors, text, umask, pipesize)\u001B[0m\n\u001B[0;32m    968\u001B[0m             \u001B[38;5;28mself\u001B[39m\u001B[38;5;241m.\u001B[39mstderr \u001B[38;5;241m=\u001B[39m io\u001B[38;5;241m.\u001B[39mTextIOWrapper(\u001B[38;5;28mself\u001B[39m\u001B[38;5;241m.\u001B[39mstderr,\n\u001B[0;32m    969\u001B[0m                     encoding\u001B[38;5;241m=\u001B[39mencoding, errors\u001B[38;5;241m=\u001B[39merrors)\n\u001B[1;32m--> 971\u001B[0m     \u001B[38;5;28;43mself\u001B[39;49m\u001B[38;5;241;43m.\u001B[39;49m\u001B[43m_execute_child\u001B[49m\u001B[43m(\u001B[49m\u001B[43margs\u001B[49m\u001B[43m,\u001B[49m\u001B[43m \u001B[49m\u001B[43mexecutable\u001B[49m\u001B[43m,\u001B[49m\u001B[43m \u001B[49m\u001B[43mpreexec_fn\u001B[49m\u001B[43m,\u001B[49m\u001B[43m \u001B[49m\u001B[43mclose_fds\u001B[49m\u001B[43m,\u001B[49m\n\u001B[0;32m    972\u001B[0m \u001B[43m                        \u001B[49m\u001B[43mpass_fds\u001B[49m\u001B[43m,\u001B[49m\u001B[43m \u001B[49m\u001B[43mcwd\u001B[49m\u001B[43m,\u001B[49m\u001B[43m \u001B[49m\u001B[43menv\u001B[49m\u001B[43m,\u001B[49m\n\u001B[0;32m    973\u001B[0m \u001B[43m                        \u001B[49m\u001B[43mstartupinfo\u001B[49m\u001B[43m,\u001B[49m\u001B[43m \u001B[49m\u001B[43mcreationflags\u001B[49m\u001B[43m,\u001B[49m\u001B[43m \u001B[49m\u001B[43mshell\u001B[49m\u001B[43m,\u001B[49m\n\u001B[0;32m    974\u001B[0m \u001B[43m                        \u001B[49m\u001B[43mp2cread\u001B[49m\u001B[43m,\u001B[49m\u001B[43m \u001B[49m\u001B[43mp2cwrite\u001B[49m\u001B[43m,\u001B[49m\n\u001B[0;32m    975\u001B[0m \u001B[43m                        \u001B[49m\u001B[43mc2pread\u001B[49m\u001B[43m,\u001B[49m\u001B[43m \u001B[49m\u001B[43mc2pwrite\u001B[49m\u001B[43m,\u001B[49m\n\u001B[0;32m    976\u001B[0m \u001B[43m                        \u001B[49m\u001B[43merrread\u001B[49m\u001B[43m,\u001B[49m\u001B[43m \u001B[49m\u001B[43merrwrite\u001B[49m\u001B[43m,\u001B[49m\n\u001B[0;32m    977\u001B[0m \u001B[43m                        \u001B[49m\u001B[43mrestore_signals\u001B[49m\u001B[43m,\u001B[49m\n\u001B[0;32m    978\u001B[0m \u001B[43m                        \u001B[49m\u001B[43mgid\u001B[49m\u001B[43m,\u001B[49m\u001B[43m \u001B[49m\u001B[43mgids\u001B[49m\u001B[43m,\u001B[49m\u001B[43m \u001B[49m\u001B[43muid\u001B[49m\u001B[43m,\u001B[49m\u001B[43m \u001B[49m\u001B[43mumask\u001B[49m\u001B[43m,\u001B[49m\n\u001B[0;32m    979\u001B[0m \u001B[43m                        \u001B[49m\u001B[43mstart_new_session\u001B[49m\u001B[43m)\u001B[49m\n\u001B[0;32m    980\u001B[0m \u001B[38;5;28;01mexcept\u001B[39;00m:\n\u001B[0;32m    981\u001B[0m     \u001B[38;5;66;03m# Cleanup if the child failed starting.\u001B[39;00m\n",
      "File \u001B[1;32mD:\\Python310\\lib\\subprocess.py:1440\u001B[0m, in \u001B[0;36mPopen._execute_child\u001B[1;34m(self, args, executable, preexec_fn, close_fds, pass_fds, cwd, env, startupinfo, creationflags, shell, p2cread, p2cwrite, c2pread, c2pwrite, errread, errwrite, unused_restore_signals, unused_gid, unused_gids, unused_uid, unused_umask, unused_start_new_session)\u001B[0m\n\u001B[0;32m   1439\u001B[0m \u001B[38;5;28;01mtry\u001B[39;00m:\n\u001B[1;32m-> 1440\u001B[0m     hp, ht, pid, tid \u001B[38;5;241m=\u001B[39m \u001B[43m_winapi\u001B[49m\u001B[38;5;241;43m.\u001B[39;49m\u001B[43mCreateProcess\u001B[49m\u001B[43m(\u001B[49m\u001B[43mexecutable\u001B[49m\u001B[43m,\u001B[49m\u001B[43m \u001B[49m\u001B[43margs\u001B[49m\u001B[43m,\u001B[49m\n\u001B[0;32m   1441\u001B[0m \u001B[43m                             \u001B[49m\u001B[38;5;66;43;03m# no special security\u001B[39;49;00m\n\u001B[0;32m   1442\u001B[0m \u001B[43m                             \u001B[49m\u001B[38;5;28;43;01mNone\u001B[39;49;00m\u001B[43m,\u001B[49m\u001B[43m \u001B[49m\u001B[38;5;28;43;01mNone\u001B[39;49;00m\u001B[43m,\u001B[49m\n\u001B[0;32m   1443\u001B[0m \u001B[43m                             \u001B[49m\u001B[38;5;28;43mint\u001B[39;49m\u001B[43m(\u001B[49m\u001B[38;5;129;43;01mnot\u001B[39;49;00m\u001B[43m \u001B[49m\u001B[43mclose_fds\u001B[49m\u001B[43m)\u001B[49m\u001B[43m,\u001B[49m\n\u001B[0;32m   1444\u001B[0m \u001B[43m                             \u001B[49m\u001B[43mcreationflags\u001B[49m\u001B[43m,\u001B[49m\n\u001B[0;32m   1445\u001B[0m \u001B[43m                             \u001B[49m\u001B[43menv\u001B[49m\u001B[43m,\u001B[49m\n\u001B[0;32m   1446\u001B[0m \u001B[43m                             \u001B[49m\u001B[43mcwd\u001B[49m\u001B[43m,\u001B[49m\n\u001B[0;32m   1447\u001B[0m \u001B[43m                             \u001B[49m\u001B[43mstartupinfo\u001B[49m\u001B[43m)\u001B[49m\n\u001B[0;32m   1448\u001B[0m \u001B[38;5;28;01mfinally\u001B[39;00m:\n\u001B[0;32m   1449\u001B[0m     \u001B[38;5;66;03m# Child is launched. Close the parent's copy of those pipe\u001B[39;00m\n\u001B[0;32m   1450\u001B[0m     \u001B[38;5;66;03m# handles that only the child should have open.  You need\u001B[39;00m\n\u001B[1;32m   (...)\u001B[0m\n\u001B[0;32m   1453\u001B[0m     \u001B[38;5;66;03m# pipe will not close when the child process exits and the\u001B[39;00m\n\u001B[0;32m   1454\u001B[0m     \u001B[38;5;66;03m# ReadFile will hang.\u001B[39;00m\n",
      "\u001B[1;31mFileNotFoundError\u001B[0m: [WinError 2] The system cannot find the file specified",
      "\nThe above exception was the direct cause of the following exception:\n",
      "\u001B[1;31mRuntimeError\u001B[0m                              Traceback (most recent call last)",
      "File \u001B[1;32mD:\\Python310\\lib\\site-packages\\IPython\\core\\formatters.py:338\u001B[0m, in \u001B[0;36mBaseFormatter.__call__\u001B[1;34m(self, obj)\u001B[0m\n\u001B[0;32m    336\u001B[0m     \u001B[38;5;28;01mpass\u001B[39;00m\n\u001B[0;32m    337\u001B[0m \u001B[38;5;28;01melse\u001B[39;00m:\n\u001B[1;32m--> 338\u001B[0m     \u001B[38;5;28;01mreturn\u001B[39;00m \u001B[43mprinter\u001B[49m\u001B[43m(\u001B[49m\u001B[43mobj\u001B[49m\u001B[43m)\u001B[49m\n\u001B[0;32m    339\u001B[0m \u001B[38;5;66;03m# Finally look for special method names\u001B[39;00m\n\u001B[0;32m    340\u001B[0m method \u001B[38;5;241m=\u001B[39m get_real_method(obj, \u001B[38;5;28mself\u001B[39m\u001B[38;5;241m.\u001B[39mprint_method)\n",
      "File \u001B[1;32mD:\\Python310\\lib\\site-packages\\IPython\\core\\pylabtools.py:152\u001B[0m, in \u001B[0;36mprint_figure\u001B[1;34m(fig, fmt, bbox_inches, base64, **kwargs)\u001B[0m\n\u001B[0;32m    149\u001B[0m     \u001B[38;5;28;01mfrom\u001B[39;00m \u001B[38;5;21;01mmatplotlib\u001B[39;00m\u001B[38;5;21;01m.\u001B[39;00m\u001B[38;5;21;01mbackend_bases\u001B[39;00m \u001B[38;5;28;01mimport\u001B[39;00m FigureCanvasBase\n\u001B[0;32m    150\u001B[0m     FigureCanvasBase(fig)\n\u001B[1;32m--> 152\u001B[0m fig\u001B[38;5;241m.\u001B[39mcanvas\u001B[38;5;241m.\u001B[39mprint_figure(bytes_io, \u001B[38;5;241m*\u001B[39m\u001B[38;5;241m*\u001B[39mkw)\n\u001B[0;32m    153\u001B[0m data \u001B[38;5;241m=\u001B[39m bytes_io\u001B[38;5;241m.\u001B[39mgetvalue()\n\u001B[0;32m    154\u001B[0m \u001B[38;5;28;01mif\u001B[39;00m fmt \u001B[38;5;241m==\u001B[39m \u001B[38;5;124m'\u001B[39m\u001B[38;5;124msvg\u001B[39m\u001B[38;5;124m'\u001B[39m:\n",
      "File \u001B[1;32mD:\\Python310\\lib\\site-packages\\matplotlib\\backend_bases.py:2314\u001B[0m, in \u001B[0;36mFigureCanvasBase.print_figure\u001B[1;34m(self, filename, dpi, facecolor, edgecolor, orientation, format, bbox_inches, pad_inches, bbox_extra_artists, backend, **kwargs)\u001B[0m\n\u001B[0;32m   2308\u001B[0m     renderer \u001B[38;5;241m=\u001B[39m _get_renderer(\n\u001B[0;32m   2309\u001B[0m         \u001B[38;5;28mself\u001B[39m\u001B[38;5;241m.\u001B[39mfigure,\n\u001B[0;32m   2310\u001B[0m         functools\u001B[38;5;241m.\u001B[39mpartial(\n\u001B[0;32m   2311\u001B[0m             print_method, orientation\u001B[38;5;241m=\u001B[39morientation)\n\u001B[0;32m   2312\u001B[0m     )\n\u001B[0;32m   2313\u001B[0m     \u001B[38;5;28;01mwith\u001B[39;00m \u001B[38;5;28mgetattr\u001B[39m(renderer, \u001B[38;5;124m\"\u001B[39m\u001B[38;5;124m_draw_disabled\u001B[39m\u001B[38;5;124m\"\u001B[39m, nullcontext)():\n\u001B[1;32m-> 2314\u001B[0m         \u001B[38;5;28;43mself\u001B[39;49m\u001B[38;5;241;43m.\u001B[39;49m\u001B[43mfigure\u001B[49m\u001B[38;5;241;43m.\u001B[39;49m\u001B[43mdraw\u001B[49m\u001B[43m(\u001B[49m\u001B[43mrenderer\u001B[49m\u001B[43m)\u001B[49m\n\u001B[0;32m   2316\u001B[0m \u001B[38;5;28;01mif\u001B[39;00m bbox_inches:\n\u001B[0;32m   2317\u001B[0m     \u001B[38;5;28;01mif\u001B[39;00m bbox_inches \u001B[38;5;241m==\u001B[39m \u001B[38;5;124m\"\u001B[39m\u001B[38;5;124mtight\u001B[39m\u001B[38;5;124m\"\u001B[39m:\n",
      "File \u001B[1;32mD:\\Python310\\lib\\site-packages\\matplotlib\\artist.py:74\u001B[0m, in \u001B[0;36m_finalize_rasterization.<locals>.draw_wrapper\u001B[1;34m(artist, renderer, *args, **kwargs)\u001B[0m\n\u001B[0;32m     72\u001B[0m \u001B[38;5;129m@wraps\u001B[39m(draw)\n\u001B[0;32m     73\u001B[0m \u001B[38;5;28;01mdef\u001B[39;00m \u001B[38;5;21mdraw_wrapper\u001B[39m(artist, renderer, \u001B[38;5;241m*\u001B[39margs, \u001B[38;5;241m*\u001B[39m\u001B[38;5;241m*\u001B[39mkwargs):\n\u001B[1;32m---> 74\u001B[0m     result \u001B[38;5;241m=\u001B[39m draw(artist, renderer, \u001B[38;5;241m*\u001B[39margs, \u001B[38;5;241m*\u001B[39m\u001B[38;5;241m*\u001B[39mkwargs)\n\u001B[0;32m     75\u001B[0m     \u001B[38;5;28;01mif\u001B[39;00m renderer\u001B[38;5;241m.\u001B[39m_rasterizing:\n\u001B[0;32m     76\u001B[0m         renderer\u001B[38;5;241m.\u001B[39mstop_rasterizing()\n",
      "File \u001B[1;32mD:\\Python310\\lib\\site-packages\\matplotlib\\artist.py:51\u001B[0m, in \u001B[0;36mallow_rasterization.<locals>.draw_wrapper\u001B[1;34m(artist, renderer)\u001B[0m\n\u001B[0;32m     48\u001B[0m     \u001B[38;5;28;01mif\u001B[39;00m artist\u001B[38;5;241m.\u001B[39mget_agg_filter() \u001B[38;5;129;01mis\u001B[39;00m \u001B[38;5;129;01mnot\u001B[39;00m \u001B[38;5;28;01mNone\u001B[39;00m:\n\u001B[0;32m     49\u001B[0m         renderer\u001B[38;5;241m.\u001B[39mstart_filter()\n\u001B[1;32m---> 51\u001B[0m     \u001B[38;5;28;01mreturn\u001B[39;00m \u001B[43mdraw\u001B[49m\u001B[43m(\u001B[49m\u001B[43martist\u001B[49m\u001B[43m,\u001B[49m\u001B[43m \u001B[49m\u001B[43mrenderer\u001B[49m\u001B[43m)\u001B[49m\n\u001B[0;32m     52\u001B[0m \u001B[38;5;28;01mfinally\u001B[39;00m:\n\u001B[0;32m     53\u001B[0m     \u001B[38;5;28;01mif\u001B[39;00m artist\u001B[38;5;241m.\u001B[39mget_agg_filter() \u001B[38;5;129;01mis\u001B[39;00m \u001B[38;5;129;01mnot\u001B[39;00m \u001B[38;5;28;01mNone\u001B[39;00m:\n",
      "File \u001B[1;32mD:\\Python310\\lib\\site-packages\\matplotlib\\figure.py:3071\u001B[0m, in \u001B[0;36mFigure.draw\u001B[1;34m(self, renderer)\u001B[0m\n\u001B[0;32m   3068\u001B[0m         \u001B[38;5;66;03m# ValueError can occur when resizing a window.\u001B[39;00m\n\u001B[0;32m   3070\u001B[0m \u001B[38;5;28mself\u001B[39m\u001B[38;5;241m.\u001B[39mpatch\u001B[38;5;241m.\u001B[39mdraw(renderer)\n\u001B[1;32m-> 3071\u001B[0m \u001B[43mmimage\u001B[49m\u001B[38;5;241;43m.\u001B[39;49m\u001B[43m_draw_list_compositing_images\u001B[49m\u001B[43m(\u001B[49m\n\u001B[0;32m   3072\u001B[0m \u001B[43m    \u001B[49m\u001B[43mrenderer\u001B[49m\u001B[43m,\u001B[49m\u001B[43m \u001B[49m\u001B[38;5;28;43mself\u001B[39;49m\u001B[43m,\u001B[49m\u001B[43m \u001B[49m\u001B[43martists\u001B[49m\u001B[43m,\u001B[49m\u001B[43m \u001B[49m\u001B[38;5;28;43mself\u001B[39;49m\u001B[38;5;241;43m.\u001B[39;49m\u001B[43msuppressComposite\u001B[49m\u001B[43m)\u001B[49m\n\u001B[0;32m   3074\u001B[0m \u001B[38;5;28;01mfor\u001B[39;00m sfig \u001B[38;5;129;01min\u001B[39;00m \u001B[38;5;28mself\u001B[39m\u001B[38;5;241m.\u001B[39msubfigs:\n\u001B[0;32m   3075\u001B[0m     sfig\u001B[38;5;241m.\u001B[39mdraw(renderer)\n",
      "File \u001B[1;32mD:\\Python310\\lib\\site-packages\\matplotlib\\image.py:131\u001B[0m, in \u001B[0;36m_draw_list_compositing_images\u001B[1;34m(renderer, parent, artists, suppress_composite)\u001B[0m\n\u001B[0;32m    129\u001B[0m \u001B[38;5;28;01mif\u001B[39;00m not_composite \u001B[38;5;129;01mor\u001B[39;00m \u001B[38;5;129;01mnot\u001B[39;00m has_images:\n\u001B[0;32m    130\u001B[0m     \u001B[38;5;28;01mfor\u001B[39;00m a \u001B[38;5;129;01min\u001B[39;00m artists:\n\u001B[1;32m--> 131\u001B[0m         \u001B[43ma\u001B[49m\u001B[38;5;241;43m.\u001B[39;49m\u001B[43mdraw\u001B[49m\u001B[43m(\u001B[49m\u001B[43mrenderer\u001B[49m\u001B[43m)\u001B[49m\n\u001B[0;32m    132\u001B[0m \u001B[38;5;28;01melse\u001B[39;00m:\n\u001B[0;32m    133\u001B[0m     \u001B[38;5;66;03m# Composite any adjacent images together\u001B[39;00m\n\u001B[0;32m    134\u001B[0m     image_group \u001B[38;5;241m=\u001B[39m []\n",
      "File \u001B[1;32mD:\\Python310\\lib\\site-packages\\matplotlib\\artist.py:51\u001B[0m, in \u001B[0;36mallow_rasterization.<locals>.draw_wrapper\u001B[1;34m(artist, renderer)\u001B[0m\n\u001B[0;32m     48\u001B[0m     \u001B[38;5;28;01mif\u001B[39;00m artist\u001B[38;5;241m.\u001B[39mget_agg_filter() \u001B[38;5;129;01mis\u001B[39;00m \u001B[38;5;129;01mnot\u001B[39;00m \u001B[38;5;28;01mNone\u001B[39;00m:\n\u001B[0;32m     49\u001B[0m         renderer\u001B[38;5;241m.\u001B[39mstart_filter()\n\u001B[1;32m---> 51\u001B[0m     \u001B[38;5;28;01mreturn\u001B[39;00m \u001B[43mdraw\u001B[49m\u001B[43m(\u001B[49m\u001B[43martist\u001B[49m\u001B[43m,\u001B[49m\u001B[43m \u001B[49m\u001B[43mrenderer\u001B[49m\u001B[43m)\u001B[49m\n\u001B[0;32m     52\u001B[0m \u001B[38;5;28;01mfinally\u001B[39;00m:\n\u001B[0;32m     53\u001B[0m     \u001B[38;5;28;01mif\u001B[39;00m artist\u001B[38;5;241m.\u001B[39mget_agg_filter() \u001B[38;5;129;01mis\u001B[39;00m \u001B[38;5;129;01mnot\u001B[39;00m \u001B[38;5;28;01mNone\u001B[39;00m:\n",
      "File \u001B[1;32mD:\\Python310\\lib\\site-packages\\matplotlib\\axes\\_base.py:3107\u001B[0m, in \u001B[0;36m_AxesBase.draw\u001B[1;34m(self, renderer)\u001B[0m\n\u001B[0;32m   3104\u001B[0m         a\u001B[38;5;241m.\u001B[39mdraw(renderer)\n\u001B[0;32m   3105\u001B[0m     renderer\u001B[38;5;241m.\u001B[39mstop_rasterizing()\n\u001B[1;32m-> 3107\u001B[0m \u001B[43mmimage\u001B[49m\u001B[38;5;241;43m.\u001B[39;49m\u001B[43m_draw_list_compositing_images\u001B[49m\u001B[43m(\u001B[49m\n\u001B[0;32m   3108\u001B[0m \u001B[43m    \u001B[49m\u001B[43mrenderer\u001B[49m\u001B[43m,\u001B[49m\u001B[43m \u001B[49m\u001B[38;5;28;43mself\u001B[39;49m\u001B[43m,\u001B[49m\u001B[43m \u001B[49m\u001B[43martists\u001B[49m\u001B[43m,\u001B[49m\u001B[43m \u001B[49m\u001B[38;5;28;43mself\u001B[39;49m\u001B[38;5;241;43m.\u001B[39;49m\u001B[43mfigure\u001B[49m\u001B[38;5;241;43m.\u001B[39;49m\u001B[43msuppressComposite\u001B[49m\u001B[43m)\u001B[49m\n\u001B[0;32m   3110\u001B[0m renderer\u001B[38;5;241m.\u001B[39mclose_group(\u001B[38;5;124m'\u001B[39m\u001B[38;5;124maxes\u001B[39m\u001B[38;5;124m'\u001B[39m)\n\u001B[0;32m   3111\u001B[0m \u001B[38;5;28mself\u001B[39m\u001B[38;5;241m.\u001B[39mstale \u001B[38;5;241m=\u001B[39m \u001B[38;5;28;01mFalse\u001B[39;00m\n",
      "File \u001B[1;32mD:\\Python310\\lib\\site-packages\\matplotlib\\image.py:131\u001B[0m, in \u001B[0;36m_draw_list_compositing_images\u001B[1;34m(renderer, parent, artists, suppress_composite)\u001B[0m\n\u001B[0;32m    129\u001B[0m \u001B[38;5;28;01mif\u001B[39;00m not_composite \u001B[38;5;129;01mor\u001B[39;00m \u001B[38;5;129;01mnot\u001B[39;00m has_images:\n\u001B[0;32m    130\u001B[0m     \u001B[38;5;28;01mfor\u001B[39;00m a \u001B[38;5;129;01min\u001B[39;00m artists:\n\u001B[1;32m--> 131\u001B[0m         \u001B[43ma\u001B[49m\u001B[38;5;241;43m.\u001B[39;49m\u001B[43mdraw\u001B[49m\u001B[43m(\u001B[49m\u001B[43mrenderer\u001B[49m\u001B[43m)\u001B[49m\n\u001B[0;32m    132\u001B[0m \u001B[38;5;28;01melse\u001B[39;00m:\n\u001B[0;32m    133\u001B[0m     \u001B[38;5;66;03m# Composite any adjacent images together\u001B[39;00m\n\u001B[0;32m    134\u001B[0m     image_group \u001B[38;5;241m=\u001B[39m []\n",
      "File \u001B[1;32mD:\\Python310\\lib\\site-packages\\matplotlib\\artist.py:51\u001B[0m, in \u001B[0;36mallow_rasterization.<locals>.draw_wrapper\u001B[1;34m(artist, renderer)\u001B[0m\n\u001B[0;32m     48\u001B[0m     \u001B[38;5;28;01mif\u001B[39;00m artist\u001B[38;5;241m.\u001B[39mget_agg_filter() \u001B[38;5;129;01mis\u001B[39;00m \u001B[38;5;129;01mnot\u001B[39;00m \u001B[38;5;28;01mNone\u001B[39;00m:\n\u001B[0;32m     49\u001B[0m         renderer\u001B[38;5;241m.\u001B[39mstart_filter()\n\u001B[1;32m---> 51\u001B[0m     \u001B[38;5;28;01mreturn\u001B[39;00m \u001B[43mdraw\u001B[49m\u001B[43m(\u001B[49m\u001B[43martist\u001B[49m\u001B[43m,\u001B[49m\u001B[43m \u001B[49m\u001B[43mrenderer\u001B[49m\u001B[43m)\u001B[49m\n\u001B[0;32m     52\u001B[0m \u001B[38;5;28;01mfinally\u001B[39;00m:\n\u001B[0;32m     53\u001B[0m     \u001B[38;5;28;01mif\u001B[39;00m artist\u001B[38;5;241m.\u001B[39mget_agg_filter() \u001B[38;5;129;01mis\u001B[39;00m \u001B[38;5;129;01mnot\u001B[39;00m \u001B[38;5;28;01mNone\u001B[39;00m:\n",
      "File \u001B[1;32mD:\\Python310\\lib\\site-packages\\matplotlib\\text.py:1994\u001B[0m, in \u001B[0;36mAnnotation.draw\u001B[1;34m(self, renderer)\u001B[0m\n\u001B[0;32m   1991\u001B[0m     \u001B[38;5;28mself\u001B[39m\u001B[38;5;241m.\u001B[39marrow_patch\u001B[38;5;241m.\u001B[39mdraw(renderer)\n\u001B[0;32m   1992\u001B[0m \u001B[38;5;66;03m# Draw text, including FancyBboxPatch, after FancyArrowPatch.\u001B[39;00m\n\u001B[0;32m   1993\u001B[0m \u001B[38;5;66;03m# Otherwise, a wedge arrowstyle can land partly on top of the Bbox.\u001B[39;00m\n\u001B[1;32m-> 1994\u001B[0m \u001B[43mText\u001B[49m\u001B[38;5;241;43m.\u001B[39;49m\u001B[43mdraw\u001B[49m\u001B[43m(\u001B[49m\u001B[38;5;28;43mself\u001B[39;49m\u001B[43m,\u001B[49m\u001B[43m \u001B[49m\u001B[43mrenderer\u001B[49m\u001B[43m)\u001B[49m\n",
      "File \u001B[1;32mD:\\Python310\\lib\\site-packages\\matplotlib\\artist.py:51\u001B[0m, in \u001B[0;36mallow_rasterization.<locals>.draw_wrapper\u001B[1;34m(artist, renderer)\u001B[0m\n\u001B[0;32m     48\u001B[0m     \u001B[38;5;28;01mif\u001B[39;00m artist\u001B[38;5;241m.\u001B[39mget_agg_filter() \u001B[38;5;129;01mis\u001B[39;00m \u001B[38;5;129;01mnot\u001B[39;00m \u001B[38;5;28;01mNone\u001B[39;00m:\n\u001B[0;32m     49\u001B[0m         renderer\u001B[38;5;241m.\u001B[39mstart_filter()\n\u001B[1;32m---> 51\u001B[0m     \u001B[38;5;28;01mreturn\u001B[39;00m \u001B[43mdraw\u001B[49m\u001B[43m(\u001B[49m\u001B[43martist\u001B[49m\u001B[43m,\u001B[49m\u001B[43m \u001B[49m\u001B[43mrenderer\u001B[49m\u001B[43m)\u001B[49m\n\u001B[0;32m     52\u001B[0m \u001B[38;5;28;01mfinally\u001B[39;00m:\n\u001B[0;32m     53\u001B[0m     \u001B[38;5;28;01mif\u001B[39;00m artist\u001B[38;5;241m.\u001B[39mget_agg_filter() \u001B[38;5;129;01mis\u001B[39;00m \u001B[38;5;129;01mnot\u001B[39;00m \u001B[38;5;28;01mNone\u001B[39;00m:\n",
      "File \u001B[1;32mD:\\Python310\\lib\\site-packages\\matplotlib\\text.py:687\u001B[0m, in \u001B[0;36mText.draw\u001B[1;34m(self, renderer)\u001B[0m\n\u001B[0;32m    684\u001B[0m renderer\u001B[38;5;241m.\u001B[39mopen_group(\u001B[38;5;124m'\u001B[39m\u001B[38;5;124mtext\u001B[39m\u001B[38;5;124m'\u001B[39m, \u001B[38;5;28mself\u001B[39m\u001B[38;5;241m.\u001B[39mget_gid())\n\u001B[0;32m    686\u001B[0m \u001B[38;5;28;01mwith\u001B[39;00m \u001B[38;5;28mself\u001B[39m\u001B[38;5;241m.\u001B[39m_cm_set(text\u001B[38;5;241m=\u001B[39m\u001B[38;5;28mself\u001B[39m\u001B[38;5;241m.\u001B[39m_get_wrapped_text()):\n\u001B[1;32m--> 687\u001B[0m     bbox, info, descent \u001B[38;5;241m=\u001B[39m \u001B[38;5;28;43mself\u001B[39;49m\u001B[38;5;241;43m.\u001B[39;49m\u001B[43m_get_layout\u001B[49m\u001B[43m(\u001B[49m\u001B[43mrenderer\u001B[49m\u001B[43m)\u001B[49m\n\u001B[0;32m    688\u001B[0m     trans \u001B[38;5;241m=\u001B[39m \u001B[38;5;28mself\u001B[39m\u001B[38;5;241m.\u001B[39mget_transform()\n\u001B[0;32m    690\u001B[0m     \u001B[38;5;66;03m# don't use self.get_position here, which refers to text\u001B[39;00m\n\u001B[0;32m    691\u001B[0m     \u001B[38;5;66;03m# position in Text:\u001B[39;00m\n",
      "File \u001B[1;32mD:\\Python310\\lib\\site-packages\\matplotlib\\text.py:313\u001B[0m, in \u001B[0;36mText._get_layout\u001B[1;34m(self, renderer)\u001B[0m\n\u001B[0;32m    310\u001B[0m ys \u001B[38;5;241m=\u001B[39m []\n\u001B[0;32m    312\u001B[0m \u001B[38;5;66;03m# Full vertical extent of font, including ascenders and descenders:\u001B[39;00m\n\u001B[1;32m--> 313\u001B[0m _, lp_h, lp_d \u001B[38;5;241m=\u001B[39m \u001B[43m_get_text_metrics_with_cache\u001B[49m\u001B[43m(\u001B[49m\n\u001B[0;32m    314\u001B[0m \u001B[43m    \u001B[49m\u001B[43mrenderer\u001B[49m\u001B[43m,\u001B[49m\u001B[43m \u001B[49m\u001B[38;5;124;43m\"\u001B[39;49m\u001B[38;5;124;43mlp\u001B[39;49m\u001B[38;5;124;43m\"\u001B[39;49m\u001B[43m,\u001B[49m\u001B[43m \u001B[49m\u001B[38;5;28;43mself\u001B[39;49m\u001B[38;5;241;43m.\u001B[39;49m\u001B[43m_fontproperties\u001B[49m\u001B[43m,\u001B[49m\n\u001B[0;32m    315\u001B[0m \u001B[43m    \u001B[49m\u001B[43mismath\u001B[49m\u001B[38;5;241;43m=\u001B[39;49m\u001B[38;5;124;43m\"\u001B[39;49m\u001B[38;5;124;43mTeX\u001B[39;49m\u001B[38;5;124;43m\"\u001B[39;49m\u001B[43m \u001B[49m\u001B[38;5;28;43;01mif\u001B[39;49;00m\u001B[43m \u001B[49m\u001B[38;5;28;43mself\u001B[39;49m\u001B[38;5;241;43m.\u001B[39;49m\u001B[43mget_usetex\u001B[49m\u001B[43m(\u001B[49m\u001B[43m)\u001B[49m\u001B[43m \u001B[49m\u001B[38;5;28;43;01melse\u001B[39;49;00m\u001B[43m \u001B[49m\u001B[38;5;28;43;01mFalse\u001B[39;49;00m\u001B[43m,\u001B[49m\u001B[43m \u001B[49m\u001B[43mdpi\u001B[49m\u001B[38;5;241;43m=\u001B[39;49m\u001B[38;5;28;43mself\u001B[39;49m\u001B[38;5;241;43m.\u001B[39;49m\u001B[43mfigure\u001B[49m\u001B[38;5;241;43m.\u001B[39;49m\u001B[43mdpi\u001B[49m\u001B[43m)\u001B[49m\n\u001B[0;32m    316\u001B[0m min_dy \u001B[38;5;241m=\u001B[39m (lp_h \u001B[38;5;241m-\u001B[39m lp_d) \u001B[38;5;241m*\u001B[39m \u001B[38;5;28mself\u001B[39m\u001B[38;5;241m.\u001B[39m_linespacing\n\u001B[0;32m    318\u001B[0m \u001B[38;5;28;01mfor\u001B[39;00m i, line \u001B[38;5;129;01min\u001B[39;00m \u001B[38;5;28menumerate\u001B[39m(lines):\n",
      "File \u001B[1;32mD:\\Python310\\lib\\site-packages\\matplotlib\\text.py:97\u001B[0m, in \u001B[0;36m_get_text_metrics_with_cache\u001B[1;34m(renderer, text, fontprop, ismath, dpi)\u001B[0m\n\u001B[0;32m     94\u001B[0m \u001B[38;5;124;03m\"\"\"Call ``renderer.get_text_width_height_descent``, caching the results.\"\"\"\u001B[39;00m\n\u001B[0;32m     95\u001B[0m \u001B[38;5;66;03m# Cached based on a copy of fontprop so that later in-place mutations of\u001B[39;00m\n\u001B[0;32m     96\u001B[0m \u001B[38;5;66;03m# the passed-in argument do not mess up the cache.\u001B[39;00m\n\u001B[1;32m---> 97\u001B[0m \u001B[38;5;28;01mreturn\u001B[39;00m \u001B[43m_get_text_metrics_with_cache_impl\u001B[49m\u001B[43m(\u001B[49m\n\u001B[0;32m     98\u001B[0m \u001B[43m    \u001B[49m\u001B[43mweakref\u001B[49m\u001B[38;5;241;43m.\u001B[39;49m\u001B[43mref\u001B[49m\u001B[43m(\u001B[49m\u001B[43mrenderer\u001B[49m\u001B[43m)\u001B[49m\u001B[43m,\u001B[49m\u001B[43m \u001B[49m\u001B[43mtext\u001B[49m\u001B[43m,\u001B[49m\u001B[43m \u001B[49m\u001B[43mfontprop\u001B[49m\u001B[38;5;241;43m.\u001B[39;49m\u001B[43mcopy\u001B[49m\u001B[43m(\u001B[49m\u001B[43m)\u001B[49m\u001B[43m,\u001B[49m\u001B[43m \u001B[49m\u001B[43mismath\u001B[49m\u001B[43m,\u001B[49m\u001B[43m \u001B[49m\u001B[43mdpi\u001B[49m\u001B[43m)\u001B[49m\n",
      "File \u001B[1;32mD:\\Python310\\lib\\site-packages\\matplotlib\\text.py:105\u001B[0m, in \u001B[0;36m_get_text_metrics_with_cache_impl\u001B[1;34m(renderer_ref, text, fontprop, ismath, dpi)\u001B[0m\n\u001B[0;32m    101\u001B[0m \u001B[38;5;129m@functools\u001B[39m\u001B[38;5;241m.\u001B[39mlru_cache(\u001B[38;5;241m4096\u001B[39m)\n\u001B[0;32m    102\u001B[0m \u001B[38;5;28;01mdef\u001B[39;00m \u001B[38;5;21m_get_text_metrics_with_cache_impl\u001B[39m(\n\u001B[0;32m    103\u001B[0m         renderer_ref, text, fontprop, ismath, dpi):\n\u001B[0;32m    104\u001B[0m     \u001B[38;5;66;03m# dpi is unused, but participates in cache invalidation (via the renderer).\u001B[39;00m\n\u001B[1;32m--> 105\u001B[0m     \u001B[38;5;28;01mreturn\u001B[39;00m \u001B[43mrenderer_ref\u001B[49m\u001B[43m(\u001B[49m\u001B[43m)\u001B[49m\u001B[38;5;241;43m.\u001B[39;49m\u001B[43mget_text_width_height_descent\u001B[49m\u001B[43m(\u001B[49m\u001B[43mtext\u001B[49m\u001B[43m,\u001B[49m\u001B[43m \u001B[49m\u001B[43mfontprop\u001B[49m\u001B[43m,\u001B[49m\u001B[43m \u001B[49m\u001B[43mismath\u001B[49m\u001B[43m)\u001B[49m\n",
      "File \u001B[1;32mD:\\Python310\\lib\\site-packages\\matplotlib\\backends\\backend_agg.py:229\u001B[0m, in \u001B[0;36mRendererAgg.get_text_width_height_descent\u001B[1;34m(self, s, prop, ismath)\u001B[0m\n\u001B[0;32m    227\u001B[0m     texmanager \u001B[38;5;241m=\u001B[39m \u001B[38;5;28mself\u001B[39m\u001B[38;5;241m.\u001B[39mget_texmanager()\n\u001B[0;32m    228\u001B[0m     fontsize \u001B[38;5;241m=\u001B[39m prop\u001B[38;5;241m.\u001B[39mget_size_in_points()\n\u001B[1;32m--> 229\u001B[0m     w, h, d \u001B[38;5;241m=\u001B[39m \u001B[43mtexmanager\u001B[49m\u001B[38;5;241;43m.\u001B[39;49m\u001B[43mget_text_width_height_descent\u001B[49m\u001B[43m(\u001B[49m\n\u001B[0;32m    230\u001B[0m \u001B[43m        \u001B[49m\u001B[43ms\u001B[49m\u001B[43m,\u001B[49m\u001B[43m \u001B[49m\u001B[43mfontsize\u001B[49m\u001B[43m,\u001B[49m\u001B[43m \u001B[49m\u001B[43mrenderer\u001B[49m\u001B[38;5;241;43m=\u001B[39;49m\u001B[38;5;28;43mself\u001B[39;49m\u001B[43m)\u001B[49m\n\u001B[0;32m    231\u001B[0m     \u001B[38;5;28;01mreturn\u001B[39;00m w, h, d\n\u001B[0;32m    233\u001B[0m \u001B[38;5;28;01mif\u001B[39;00m ismath:\n",
      "File \u001B[1;32mD:\\Python310\\lib\\site-packages\\matplotlib\\texmanager.py:362\u001B[0m, in \u001B[0;36mTexManager.get_text_width_height_descent\u001B[1;34m(cls, tex, fontsize, renderer)\u001B[0m\n\u001B[0;32m    360\u001B[0m \u001B[38;5;28;01mif\u001B[39;00m tex\u001B[38;5;241m.\u001B[39mstrip() \u001B[38;5;241m==\u001B[39m \u001B[38;5;124m'\u001B[39m\u001B[38;5;124m'\u001B[39m:\n\u001B[0;32m    361\u001B[0m     \u001B[38;5;28;01mreturn\u001B[39;00m \u001B[38;5;241m0\u001B[39m, \u001B[38;5;241m0\u001B[39m, \u001B[38;5;241m0\u001B[39m\n\u001B[1;32m--> 362\u001B[0m dvifile \u001B[38;5;241m=\u001B[39m \u001B[38;5;28;43mcls\u001B[39;49m\u001B[38;5;241;43m.\u001B[39;49m\u001B[43mmake_dvi\u001B[49m\u001B[43m(\u001B[49m\u001B[43mtex\u001B[49m\u001B[43m,\u001B[49m\u001B[43m \u001B[49m\u001B[43mfontsize\u001B[49m\u001B[43m)\u001B[49m\n\u001B[0;32m    363\u001B[0m dpi_fraction \u001B[38;5;241m=\u001B[39m renderer\u001B[38;5;241m.\u001B[39mpoints_to_pixels(\u001B[38;5;241m1.\u001B[39m) \u001B[38;5;28;01mif\u001B[39;00m renderer \u001B[38;5;28;01melse\u001B[39;00m \u001B[38;5;241m1\u001B[39m\n\u001B[0;32m    364\u001B[0m \u001B[38;5;28;01mwith\u001B[39;00m dviread\u001B[38;5;241m.\u001B[39mDvi(dvifile, \u001B[38;5;241m72\u001B[39m \u001B[38;5;241m*\u001B[39m dpi_fraction) \u001B[38;5;28;01mas\u001B[39;00m dvi:\n",
      "File \u001B[1;32mD:\\Python310\\lib\\site-packages\\matplotlib\\texmanager.py:295\u001B[0m, in \u001B[0;36mTexManager.make_dvi\u001B[1;34m(cls, tex, fontsize)\u001B[0m\n\u001B[0;32m    286\u001B[0m     \u001B[38;5;66;03m# Generate the dvi in a temporary directory to avoid race\u001B[39;00m\n\u001B[0;32m    287\u001B[0m     \u001B[38;5;66;03m# conditions e.g. if multiple processes try to process the same tex\u001B[39;00m\n\u001B[0;32m    288\u001B[0m     \u001B[38;5;66;03m# string at the same time.  Having tmpdir be a subdirectory of the\u001B[39;00m\n\u001B[1;32m   (...)\u001B[0m\n\u001B[0;32m    292\u001B[0m     \u001B[38;5;66;03m# the absolute path may contain characters (e.g. ~) that TeX does\u001B[39;00m\n\u001B[0;32m    293\u001B[0m     \u001B[38;5;66;03m# not support.)\u001B[39;00m\n\u001B[0;32m    294\u001B[0m     \u001B[38;5;28;01mwith\u001B[39;00m TemporaryDirectory(\u001B[38;5;28mdir\u001B[39m\u001B[38;5;241m=\u001B[39mPath(dvifile)\u001B[38;5;241m.\u001B[39mparent) \u001B[38;5;28;01mas\u001B[39;00m tmpdir:\n\u001B[1;32m--> 295\u001B[0m         \u001B[38;5;28;43mcls\u001B[39;49m\u001B[38;5;241;43m.\u001B[39;49m\u001B[43m_run_checked_subprocess\u001B[49m\u001B[43m(\u001B[49m\n\u001B[0;32m    296\u001B[0m \u001B[43m            \u001B[49m\u001B[43m[\u001B[49m\u001B[38;5;124;43m\"\u001B[39;49m\u001B[38;5;124;43mlatex\u001B[39;49m\u001B[38;5;124;43m\"\u001B[39;49m\u001B[43m,\u001B[49m\u001B[43m \u001B[49m\u001B[38;5;124;43m\"\u001B[39;49m\u001B[38;5;124;43m-interaction=nonstopmode\u001B[39;49m\u001B[38;5;124;43m\"\u001B[39;49m\u001B[43m,\u001B[49m\u001B[43m \u001B[49m\u001B[38;5;124;43m\"\u001B[39;49m\u001B[38;5;124;43m--halt-on-error\u001B[39;49m\u001B[38;5;124;43m\"\u001B[39;49m\u001B[43m,\u001B[49m\n\u001B[0;32m    297\u001B[0m \u001B[43m             \u001B[49m\u001B[38;5;124;43mf\u001B[39;49m\u001B[38;5;124;43m\"\u001B[39;49m\u001B[38;5;124;43m../\u001B[39;49m\u001B[38;5;132;43;01m{\u001B[39;49;00m\u001B[43mtexfile\u001B[49m\u001B[38;5;241;43m.\u001B[39;49m\u001B[43mname\u001B[49m\u001B[38;5;132;43;01m}\u001B[39;49;00m\u001B[38;5;124;43m\"\u001B[39;49m\u001B[43m]\u001B[49m\u001B[43m,\u001B[49m\u001B[43m \u001B[49m\u001B[43mtex\u001B[49m\u001B[43m,\u001B[49m\u001B[43m \u001B[49m\u001B[43mcwd\u001B[49m\u001B[38;5;241;43m=\u001B[39;49m\u001B[43mtmpdir\u001B[49m\u001B[43m)\u001B[49m\n\u001B[0;32m    298\u001B[0m         (Path(tmpdir) \u001B[38;5;241m/\u001B[39m Path(dvifile)\u001B[38;5;241m.\u001B[39mname)\u001B[38;5;241m.\u001B[39mreplace(dvifile)\n\u001B[0;32m    299\u001B[0m \u001B[38;5;28;01mreturn\u001B[39;00m dvifile\n",
      "File \u001B[1;32mD:\\Python310\\lib\\site-packages\\matplotlib\\texmanager.py:257\u001B[0m, in \u001B[0;36mTexManager._run_checked_subprocess\u001B[1;34m(cls, command, tex, cwd)\u001B[0m\n\u001B[0;32m    253\u001B[0m     report \u001B[38;5;241m=\u001B[39m subprocess\u001B[38;5;241m.\u001B[39mcheck_output(\n\u001B[0;32m    254\u001B[0m         command, cwd\u001B[38;5;241m=\u001B[39mcwd \u001B[38;5;28;01mif\u001B[39;00m cwd \u001B[38;5;129;01mis\u001B[39;00m \u001B[38;5;129;01mnot\u001B[39;00m \u001B[38;5;28;01mNone\u001B[39;00m \u001B[38;5;28;01melse\u001B[39;00m \u001B[38;5;28mcls\u001B[39m\u001B[38;5;241m.\u001B[39mtexcache,\n\u001B[0;32m    255\u001B[0m         stderr\u001B[38;5;241m=\u001B[39msubprocess\u001B[38;5;241m.\u001B[39mSTDOUT)\n\u001B[0;32m    256\u001B[0m \u001B[38;5;28;01mexcept\u001B[39;00m \u001B[38;5;167;01mFileNotFoundError\u001B[39;00m \u001B[38;5;28;01mas\u001B[39;00m exc:\n\u001B[1;32m--> 257\u001B[0m     \u001B[38;5;28;01mraise\u001B[39;00m \u001B[38;5;167;01mRuntimeError\u001B[39;00m(\n\u001B[0;32m    258\u001B[0m         \u001B[38;5;124m'\u001B[39m\u001B[38;5;124mFailed to process string with tex because \u001B[39m\u001B[38;5;132;01m{}\u001B[39;00m\u001B[38;5;124m could not be \u001B[39m\u001B[38;5;124m'\u001B[39m\n\u001B[0;32m    259\u001B[0m         \u001B[38;5;124m'\u001B[39m\u001B[38;5;124mfound\u001B[39m\u001B[38;5;124m'\u001B[39m\u001B[38;5;241m.\u001B[39mformat(command[\u001B[38;5;241m0\u001B[39m])) \u001B[38;5;28;01mfrom\u001B[39;00m \u001B[38;5;21;01mexc\u001B[39;00m\n\u001B[0;32m    260\u001B[0m \u001B[38;5;28;01mexcept\u001B[39;00m subprocess\u001B[38;5;241m.\u001B[39mCalledProcessError \u001B[38;5;28;01mas\u001B[39;00m exc:\n\u001B[0;32m    261\u001B[0m     \u001B[38;5;28;01mraise\u001B[39;00m \u001B[38;5;167;01mRuntimeError\u001B[39;00m(\n\u001B[0;32m    262\u001B[0m         \u001B[38;5;124m'\u001B[39m\u001B[38;5;132;01m{prog}\u001B[39;00m\u001B[38;5;124m was not able to process the following string:\u001B[39m\u001B[38;5;130;01m\\n\u001B[39;00m\u001B[38;5;124m'\u001B[39m\n\u001B[0;32m    263\u001B[0m         \u001B[38;5;124m'\u001B[39m\u001B[38;5;132;01m{tex!r}\u001B[39;00m\u001B[38;5;130;01m\\n\u001B[39;00m\u001B[38;5;130;01m\\n\u001B[39;00m\u001B[38;5;124m'\u001B[39m\n\u001B[1;32m   (...)\u001B[0m\n\u001B[0;32m    270\u001B[0m             exc\u001B[38;5;241m=\u001B[39mexc\u001B[38;5;241m.\u001B[39moutput\u001B[38;5;241m.\u001B[39mdecode(\u001B[38;5;124m'\u001B[39m\u001B[38;5;124mutf-8\u001B[39m\u001B[38;5;124m'\u001B[39m, \u001B[38;5;124m'\u001B[39m\u001B[38;5;124mbackslashreplace\u001B[39m\u001B[38;5;124m'\u001B[39m))\n\u001B[0;32m    271\u001B[0m         ) \u001B[38;5;28;01mfrom\u001B[39;00m \u001B[38;5;28mNone\u001B[39m\n",
      "\u001B[1;31mRuntimeError\u001B[0m: Failed to process string with tex because latex could not be found"
     ]
    },
    {
     "data": {
      "text/plain": "<Figure size 354x354 with 1 Axes>"
     },
     "metadata": {},
     "output_type": "display_data"
    }
   ],
   "source": [
    "jg.DrawAdministrative(shapefile)"
   ],
   "metadata": {
    "collapsed": false
   }
  },
  {
   "cell_type": "code",
   "execution_count": 17,
   "outputs": [],
   "source": [
    "pyperclip.copy( '\\n'.join( pd.concat( (data1, data2), axis=1 ).style.hide(axis='index'). \\\n",
    "    to_latex().replace('.000000','').replace(' nan ',' ').split('\\n')[2:-2] ) )"
   ],
   "metadata": {
    "collapsed": false
   }
  },
  {
   "cell_type": "markdown",
   "source": [
    "# Main data"
   ],
   "metadata": {
    "collapsed": false
   }
  },
  {
   "cell_type": "code",
   "execution_count": 20,
   "outputs": [
    {
     "ename": "FileNotFoundError",
     "evalue": "[Errno 2] No such file or directory: '../Results/Travel Time/current_hospitals.pkl'",
     "output_type": "error",
     "traceback": [
      "\u001B[1;31m---------------------------------------------------------------------------\u001B[0m",
      "\u001B[1;31mFileNotFoundError\u001B[0m                         Traceback (most recent call last)",
      "Cell \u001B[1;32mIn [20], line 1\u001B[0m\n\u001B[1;32m----> 1\u001B[0m accessibilities, current, potential \u001B[38;5;241m=\u001B[39m \u001B[43mjg\u001B[49m\u001B[38;5;241;43m.\u001B[39;49m\u001B[43mGetAccessibilityData\u001B[49m\u001B[43m(\u001B[49m\u001B[43mdata_path\u001B[49m\u001B[43m)\u001B[49m\n",
      "File \u001B[1;32mD:\\src\\Git\\WHO_Nepal_Laboratory_Analytics\\JG\\jg_util.py:566\u001B[0m, in \u001B[0;36mGetAccessibilityData\u001B[1;34m(data_path)\u001B[0m\n\u001B[0;32m    564\u001B[0m potential       \u001B[38;5;241m=\u001B[39m \u001B[38;5;28mdict\u001B[39m()\n\u001B[0;32m    565\u001B[0m \u001B[38;5;28;01mfor\u001B[39;00m a \u001B[38;5;129;01min\u001B[39;00m accessibilities:\n\u001B[1;32m--> 566\u001B[0m     current[a]   \u001B[38;5;241m=\u001B[39m pickle\u001B[38;5;241m.\u001B[39mload(\u001B[38;5;28;43mopen\u001B[39;49m\u001B[43m(\u001B[49m\u001B[43mdata_path\u001B[49m\u001B[38;5;241;43m+\u001B[39;49m\u001B[38;5;124;43m'\u001B[39;49m\u001B[38;5;124;43mTravel \u001B[39;49m\u001B[38;5;132;43;01m{}\u001B[39;49;00m\u001B[38;5;124;43m/current_hospitals.pkl\u001B[39;49m\u001B[38;5;124;43m'\u001B[39;49m\u001B[38;5;241;43m.\u001B[39;49m\u001B[43mformat\u001B[49m\u001B[43m(\u001B[49m\u001B[43ma\u001B[49m\u001B[43m)\u001B[49m\u001B[43m,\u001B[49m\u001B[43m \u001B[49m\u001B[38;5;124;43m'\u001B[39;49m\u001B[38;5;124;43mrb\u001B[39;49m\u001B[38;5;124;43m'\u001B[39;49m\u001B[43m)\u001B[49m)\n\u001B[0;32m    567\u001B[0m     potential[a] \u001B[38;5;241m=\u001B[39m pickle\u001B[38;5;241m.\u001B[39mload(\u001B[38;5;28mopen\u001B[39m(data_path\u001B[38;5;241m+\u001B[39m\u001B[38;5;124m'\u001B[39m\u001B[38;5;124mTravel \u001B[39m\u001B[38;5;132;01m{}\u001B[39;00m\u001B[38;5;124m/new_hospitals.pkl\u001B[39m\u001B[38;5;124m'\u001B[39m\u001B[38;5;241m.\u001B[39mformat(a), \u001B[38;5;124m'\u001B[39m\u001B[38;5;124mrb\u001B[39m\u001B[38;5;124m'\u001B[39m))\n\u001B[0;32m    568\u001B[0m \u001B[38;5;28;01mreturn\u001B[39;00m accessibilities, current, potential\n",
      "\u001B[1;31mFileNotFoundError\u001B[0m: [Errno 2] No such file or directory: '../Results/Travel Time/current_hospitals.pkl'"
     ]
    }
   ],
   "source": [
    "accessibilities, current, potential = jg.GetAccessibilityData(data_path)\n"
   ],
   "metadata": {
    "collapsed": false
   }
  },
  {
   "cell_type": "code",
   "execution_count": null,
   "outputs": [],
   "source": [
    "household = jg.get_headcount(data_path)"
   ],
   "metadata": {
    "collapsed": false
   }
  },
  {
   "cell_type": "code",
   "execution_count": null,
   "outputs": [],
   "source": [
    "data1, data2 = jg.SplitPotentialSites(potential)"
   ],
   "metadata": {
    "collapsed": false
   }
  },
  {
   "cell_type": "code",
   "execution_count": null,
   "outputs": [],
   "source": [
    "with pd.option_context(\"max_colwidth\", 1000):\n",
    "    table_potential = pd.concat( (data1, data2), axis=1, ignore_index=True ).set_index(0,drop=True).style.to_latex()\n",
    "table_potential = table_potential.replace('.000000','').replace(' nan ',' ')\n",
    "pyperclip.copy('\\n'.join(table_potential.split('\\n')[3:-2]))"
   ],
   "metadata": {
    "collapsed": false
   }
  },
  {
   "cell_type": "code",
   "execution_count": null,
   "outputs": [],
   "source": [
    "adm_boundary = pd.read_excel('../Data/admboundary.xlsx',header=[0,1],index_col=0)\n",
    "pyperclip.copy(adm_boundary.style.to_latex())"
   ],
   "metadata": {
    "collapsed": false
   }
  },
  {
   "cell_type": "markdown",
   "source": [
    "# Data in operation"
   ],
   "metadata": {
    "collapsed": false
   }
  },
  {
   "cell_type": "code",
   "execution_count": null,
   "outputs": [],
   "source": [
    "df_tests_lab = pd.read_excel('../Data/tests_per_lab.xlsx')\n",
    "df_tests_lab['Date'] = pd.to_datetime(df_tests_lab['Date'])\n",
    "df_tests_lab['ShortDate'] = df_tests_lab['Date'].dt.strftime('%m/%d')"
   ],
   "metadata": {
    "collapsed": false
   }
  },
  {
   "cell_type": "code",
   "execution_count": null,
   "outputs": [],
   "source": [
    "for_table = df_tests_lab[['ShortDate','Laboratory','Province Name']].sort_values(['ShortDate','Province Name','Laboratory']).drop_duplicates(subset='Laboratory',keep='first').reset_index(drop=True)\n",
    "for_table"
   ],
   "metadata": {
    "collapsed": false
   }
  },
  {
   "cell_type": "code",
   "execution_count": null,
   "outputs": [],
   "source": [
    "for_table['Laboratory'] = [lab.replace('&','\\&') for lab in for_table.Laboratory.values]\n",
    "for_table[for_table.ShortDate=='05/01']"
   ],
   "metadata": {
    "collapsed": false
   }
  },
  {
   "cell_type": "code",
   "execution_count": null,
   "outputs": [],
   "source": [
    "# https://pandas.pydata.org/docs/reference/api/pandas.io.formats.style.Styler.to_latex.html\n",
    "with pd.option_context(\"max_colwidth\", 1000):\n",
    "    table = for_table.style.to_latex()\n",
    "pyperclip.copy('\\n'.join(table.split('\\n')[2:-2]))"
   ],
   "metadata": {
    "collapsed": false
   }
  },
  {
   "cell_type": "code",
   "execution_count": null,
   "outputs": [],
   "source": [
    "past = df_tests_lab[['Date','Laboratory']]\n",
    "past.columns = ['Date','L_NAME']"
   ],
   "metadata": {
    "collapsed": false
   }
  },
  {
   "cell_type": "code",
   "execution_count": null,
   "outputs": [],
   "source": [
    "past"
   ],
   "metadata": {
    "collapsed": false
   }
  },
  {
   "cell_type": "code",
   "execution_count": null,
   "outputs": [],
   "source": [
    "merged = dict()\n",
    "for a in current.keys():\n",
    "    merged[a] = pd.merge(past, current[a], on = 'L_NAME').sort_values('Date')"
   ],
   "metadata": {
    "collapsed": false
   }
  },
  {
   "cell_type": "code",
   "execution_count": null,
   "outputs": [],
   "source": [
    "cov_past = pd.DataFrame( index=sorted(list(set(past.Date))) )"
   ],
   "metadata": {
    "collapsed": false
   }
  },
  {
   "cell_type": "code",
   "execution_count": null,
   "outputs": [],
   "source": [
    "for a in merged.keys():\n",
    "    cov_cols = [c for c in merged[a].columns if c.startswith('ID')]\n",
    "    cov_cols.sort(key=jg.natural_keys,reverse=True)\n",
    "\n",
    "    for c in cov_cols:\n",
    "        cov_past[' '.join(c.split('_')[1:])] = [ jg.CoveragePerDay( merged[a], c, household, day ) for day in cov_past.index ]"
   ],
   "metadata": {
    "collapsed": false
   }
  },
  {
   "cell_type": "code",
   "execution_count": null,
   "outputs": [],
   "source": [
    "cov_past *= 100"
   ],
   "metadata": {
    "collapsed": false
   }
  },
  {
   "cell_type": "code",
   "execution_count": null,
   "outputs": [],
   "source": [
    "def format_name( name ):\n",
    "    d,_,what = name.replace('km', ' km').replace( 'min', ' min' ).partition(' ')\n",
    "    return '{:4d} {}'.format(int(d),what)\n",
    "\n",
    "def range( df, column ):\n",
    "    return( '{:2.0f} to {:2.0f}'.format( df[column].min(), df[column].max() ) )\n",
    "\n",
    "cov_past.rename(columns = { c : range( cov_past, c ) + format_name(c) for c in cov_past.columns }, inplace = True)\n",
    "cov_past\n"
   ],
   "metadata": {
    "collapsed": false
   }
  },
  {
   "cell_type": "code",
   "execution_count": null,
   "outputs": [],
   "source": [
    "jg.draw_lines( cov_past,\n",
    "              y=cov_past.columns,\n",
    "              x_title='Date',\n",
    "              y_title='% population with access',\n",
    "              file_name=results_path+'coverage_2021.pdf')"
   ],
   "metadata": {
    "collapsed": false
   }
  },
  {
   "cell_type": "code",
   "execution_count": null,
   "outputs": [],
   "source": [
    "jg.draw_lines( cov_past,\n",
    "              y=[c for c in cov_past.columns if 'km' in c],\n",
    "              x_title='Date',\n",
    "              y_title='% population with access',\n",
    "              file_name=results_path+'coverage_distance_2021.pdf')"
   ],
   "metadata": {
    "collapsed": false
   }
  },
  {
   "cell_type": "code",
   "execution_count": null,
   "outputs": [],
   "source": [
    "jg.draw_lines( cov_past,\n",
    "              y=[c for c in cov_past.columns if 'driving' in c],\n",
    "              x_title='Date',\n",
    "              y_title='% population with access',\n",
    "              file_name=results_path+'coverage_driving_2021.pdf')"
   ],
   "metadata": {
    "collapsed": false
   }
  },
  {
   "cell_type": "code",
   "execution_count": null,
   "outputs": [],
   "source": [
    "jg.draw_lines( cov_past,\n",
    "              y=[c for c in cov_past.columns if 'walking' in c],\n",
    "              x_title='Date',\n",
    "              y_title='% population with access',\n",
    "              file_name=results_path+'coverage_walking_2021.pdf')"
   ],
   "metadata": {
    "collapsed": false
   }
  },
  {
   "cell_type": "code",
   "execution_count": null,
   "outputs": [],
   "source": [
    "import glob\n",
    "\n",
    "countPics = [ len( glob.glob( results_path+'Pics/{}/*.png'.format(a) ) ) for a in accessibilities ]\n",
    "\n",
    "should_draw = min( countPics ) < 2*min( [ len(current[a]) for a in accessibilities ] )"
   ],
   "metadata": {
    "collapsed": false
   }
  },
  {
   "cell_type": "code",
   "execution_count": null,
   "outputs": [],
   "source": [
    "should_draw"
   ],
   "metadata": {
    "collapsed": false
   }
  },
  {
   "cell_type": "code",
   "execution_count": null,
   "outputs": [],
   "source": [
    "if should_draw:\n",
    "    isogone = { 'Time' : jg.ShowIsoChrones, 'Distance' : jg.ShowIsoDistance }\n",
    "    isopoints = { 'Time' : jg.ShowIsoChronesPoints, 'Distance' : jg.ShowIsoDistancePoints }\n",
    "    for a in tqdm(accessibilities):\n",
    "        Path(results_path+'Pics/'+a).mkdir(parents=True, exist_ok=True)\n",
    "        for hospital,lat,lon in tqdm(current[a][['L_NAME','Latitude','Longitude']].values):\n",
    "            jg.FoliumToPng( jg.FitAround( isogone[a](current[a],hospital), lat, lon, .25, .25 ), results_path+'Pics/'+a+'/'+hospital+'_gone', crop=None )\n",
    "            jg.FoliumToPng( jg.FitAround( isopoints[a](current[a],pop,hospital), lat, lon, .35, .35 ), results_path+'Pics/'+a+'/'+hospital+'_points', crop=None )"
   ],
   "metadata": {
    "collapsed": false
   }
  },
  {
   "cell_type": "code",
   "execution_count": null,
   "outputs": [],
   "source": [
    "jg.draw_lines( df_tests_lab.groupby('Date')['Laboratory'].nunique().reset_index(),\n",
    "              x='Date',y='Laboratory',\n",
    "              x_title='Date',\n",
    "              y_title='Number of Laboratories',\n",
    "              file_name=results_path+'nof_labs_2021.pdf')"
   ],
   "metadata": {
    "collapsed": false
   }
  },
  {
   "cell_type": "code",
   "execution_count": null,
   "outputs": [],
   "source": [
    "sequence = merged['Time'][['Date','Hosp_ID']].set_index('Date',drop=True).drop_duplicates()"
   ],
   "metadata": {
    "collapsed": false
   }
  },
  {
   "cell_type": "code",
   "execution_count": null,
   "outputs": [],
   "source": [
    "story = {'cyan' : ('2021-01-01','2021-05-01'), 'lime' : ('2021-06-01','2021-09-01'), 'red' : ('2021-09-01','2021-12-01') }"
   ],
   "metadata": {
    "collapsed": false
   }
  },
  {
   "cell_type": "code",
   "execution_count": null,
   "outputs": [],
   "source": [
    "story = { c : sequence[ (pd.Timestamp(f) < sequence.index) & (sequence.index <= pd.Timestamp(t)) ].Hosp_ID.values for c,(f,t) in story.items() }"
   ],
   "metadata": {
    "collapsed": false
   }
  },
  {
   "cell_type": "code",
   "execution_count": null,
   "outputs": [],
   "source": [
    "top = current['Time'][['Hosp_ID','Latitude','Longitude','L_NAME']]\n",
    "bottom = potential['Time'][['Cluster_ID','Latitude','Longitude','Name']]\n",
    "bottom.columns = top.columns\n",
    "locations = pd.concat([top,bottom],ignore_index=True).set_index('Hosp_ID',drop=False)"
   ],
   "metadata": {
    "collapsed": false
   }
  },
  {
   "cell_type": "code",
   "execution_count": null,
   "outputs": [],
   "source": [
    "jg.FoliumToPng( jg.ShowPoints( locations, story ), results_path+'labs', 5 )"
   ],
   "metadata": {
    "collapsed": false
   }
  },
  {
   "cell_type": "code",
   "execution_count": null,
   "outputs": [],
   "source": [
    "lat,lon = jg.Locate('Kathmandu')\n",
    "jg.FoliumToPng( jg.FitAround(jg.ShowPoints( locations, story ), lat, lon, .1, .1 ), results_path+'labs_Kathmandu', 5 )"
   ],
   "metadata": {
    "collapsed": false
   }
  },
  {
   "cell_type": "code",
   "execution_count": null,
   "outputs": [],
   "source": [
    "import sys\n",
    "sys.path.append('../optimization/')\n",
    "import coverage as opt"
   ],
   "metadata": {
    "collapsed": false
   }
  },
  {
   "cell_type": "code",
   "execution_count": null,
   "outputs": [],
   "source": [
    "budgets = [5,10,25,50,100,250,500]"
   ],
   "metadata": {
    "collapsed": false
   }
  },
  {
   "cell_type": "code",
   "execution_count": null,
   "metadata": {},
   "outputs": [],
   "source": [
    "jg.show_pareto(result, current, household, 'Time', width=800,height=350, file_name=results_path+'Pareto_pure_time.pdf' )"
   ]
  },
  {
   "cell_type": "code",
   "execution_count": null,
   "metadata": {},
   "outputs": [],
   "source": [
    "jg.show_pareto(result, current, household, 'Distance', width=800,height=350, file_name=results_path+'Pareto_pure_distance.pdf' )"
   ]
  },
  {
   "cell_type": "code",
   "execution_count": null,
   "metadata": {},
   "outputs": [],
   "source": [
    "(result['Time'][0].max()-result['Time'][0].min())*100"
   ]
  },
  {
   "cell_type": "code",
   "execution_count": null,
   "metadata": {},
   "outputs": [],
   "source": [
    "enable_if_you_want_to_wait = False"
   ]
  },
  {
   "cell_type": "code",
   "execution_count": null,
   "metadata": {},
   "outputs": [],
   "source": [
    "if enable_if_you_want_to_wait:\n",
    "    for a in tqdm(accessibilities):\n",
    "        for c in tqdm(result[a][0].columns):\n",
    "            folder_with = results_path+'Pics/Coverage/'+a+'/'+c+'/with/'\n",
    "            folder_without = results_path+'Pics/Coverage/'+a+'/'+c+'/without/'\n",
    "            Path(folder_with).mkdir(parents=True, exist_ok=True)\n",
    "            Path(folder_without).mkdir(parents=True, exist_ok=True)\n",
    "            for b in tqdm(result[a][0].index):\n",
    "                sol       = result[a][1].loc[b,c]\n",
    "                nof       = len(sol)\n",
    "                coverage  = result[a][0].loc[b,c]*100\n",
    "                file_name = 'budget={:03d} nof={:03d} coverage={:4.1f}'.format(b,nof,coverage)\n",
    "                map = jg.ShowAccessibility( current, potential, sol, pop, a, c, \n",
    "                                color_new='green', color_current='cyan', \n",
    "                                min_opacity_no_access = .005, min_opacity_access=.02 )\n",
    "                jg.FoliumToPng(map,folder_with+file_name)\n",
    "                map = jg.ShowAccessibility( current, potential, sol, pop, a, c, \n",
    "                                color_new=None, color_current=None, \n",
    "                                min_opacity_no_access = .005, min_opacity_access=.02 )\n",
    "                jg.FoliumToPng(map,folder_without+file_name)"
   ]
  },
  {
   "cell_type": "code",
   "execution_count": null,
   "metadata": {},
   "outputs": [],
   "source": [
    "if enable_if_you_want_to_wait:\n",
    "    for a in tqdm(accessibilities):\n",
    "        for c in tqdm(result[a][0].columns):\n",
    "            folder_with = results_path+'Pics/Coverage/'+a+'/'+c+'/with/'\n",
    "            folder_without = results_path+'Pics/Coverage/'+a+'/'+c+'/without/'\n",
    "            Path(folder_with).mkdir(parents=True, exist_ok=True)\n",
    "            Path(folder_without).mkdir(parents=True, exist_ok=True)\n",
    "            \n",
    "            covered = np.unique( np.concatenate( current[a]['ID_'+c] ) ).astype(np.uint) \n",
    "            percent_covered = household[covered].sum()/household.sum()    \n",
    "\n",
    "            sol       = []\n",
    "            b = nof   = len(sol)\n",
    "            coverage  = percent_covered*100\n",
    "            file_name = 'budget={:03d} nof={:03d} coverage={:4.1f}'.format(b,nof,coverage)\n",
    "            map = jg.ShowAccessibility( current, potential, sol, pop, a, c, \n",
    "                            color_new='green', color_current='cyan', \n",
    "                            min_opacity_no_access = .005, min_opacity_access=.02 )\n",
    "            jg.FoliumToPng(map,folder_with+file_name)\n",
    "            map = jg.ShowAccessibility( current, potential, sol, pop, a, c, \n",
    "                            color_new=None, color_current=None, \n",
    "                            min_opacity_no_access = .005, min_opacity_access=.02 )\n",
    "            jg.FoliumToPng(map,folder_without+file_name)"
   ]
  },
  {
   "cell_type": "code",
   "execution_count": null,
   "metadata": {},
   "outputs": [],
   "source": [
    "def TeX_figure(accessibility,column,budgets,result,which):\n",
    "  \n",
    "  def format_name( name ):\n",
    "    d,_,what = name.replace('km', ' km').replace( 'min', ' min' ).partition(' ')\n",
    "    return '{:d} {}'.format(int(d),what.replace('_',' '))\n",
    "  \n",
    "  file_names = []\n",
    "  captions   = []\n",
    "  for budget in budgets:\n",
    "    sol       = result[accessibility][1].loc[budget,column]\n",
    "    nof       = len(sol)\n",
    "    coverage  = result[accessibility][0].loc[budget,column]*100\n",
    "    file_names.append( 'budget={:03d} nof={:03d} coverage={:4.1f}.png'.format(budget,nof,coverage) )\n",
    "    captions.append( '{} out of {} opened covering {:.2f}\\%'.format(nof,budget,coverage) )\n",
    "\n",
    "  \n",
    "  \n",
    "  \n",
    "  a, b, c, d, e, f = file_names\n",
    "  A, B, C, D, E, F = captions\n",
    "  G = f'{accessibility} accessibility within {format_name(column)} {which} pins'\n",
    "  H = f'{accessibility}:{column}-{which}'\n",
    "\n",
    "  s = \\\n",
    "fr'''\\begin{{figure}}[H]\n",
    "  \\centering\n",
    "  \\begin{{tabular}}{{ccc}}\n",
    "    \\includegraphics[scale=.18]{{Figures/Coverage/{accessibility}/{column}/{which}/{a}}} & \n",
    "    \\includegraphics[scale=.18]{{Figures/Coverage/{accessibility}/{column}/{which}/{b}}} & \n",
    "    \\includegraphics[scale=.18]{{Figures/Coverage/{accessibility}/{column}/{which}/{c}}} \\\\ [.2\\abovecaptionskip]\n",
    "    {{\\tiny {A}}} & \n",
    "    {{\\tiny {B}}} &\n",
    "    {{\\tiny {C}}} \\\\\n",
    "    [\\abovecaptionskip]\n",
    "    \\includegraphics[scale=.18]{{Figures/Coverage/{accessibility}/{column}/{which}/{d}}} & \n",
    "    \\includegraphics[scale=.18]{{Figures/Coverage/{accessibility}/{column}/{which}/{e}}} & \n",
    "    \\includegraphics[scale=.18]{{Figures/Coverage/{accessibility}/{column}/{which}/{f}}} \\\\\n",
    "    [.2\\abovecaptionskip]\n",
    "    {{\\tiny {D}}} &\n",
    "    {{\\tiny {E}}} &\n",
    "    {{\\tiny {F}}} \\\\\n",
    "  \\end{{tabular}}\n",
    "  \\caption{{{G}}}\\label{{fig:{H}}}\n",
    "\\end{{figure}}'''\n",
    "  return s\n"
   ]
  },
  {
   "cell_type": "code",
   "execution_count": null,
   "metadata": {},
   "outputs": [],
   "source": [
    "these_budgets = [10,25,50,100,250,500]\n",
    "\n",
    "for a in tqdm(accessibilities):\n",
    "    for c in tqdm(result[a][0].columns):\n",
    "        for w in ['with','without']:\n",
    "            with open(results_path+f'{a}-{c}-{w}.tex','w') as f:\n",
    "                f.write(TeX_figure(a,c,these_budgets,result,w))"
   ]
  },
  {
   "cell_type": "code",
   "execution_count": null,
   "metadata": {},
   "outputs": [],
   "source": [
    "result = dict()\n",
    "for accessibility in accessibilities:\n",
    "    result[accessibility] = opt.solve( household, current, potential, accessibility, budgets )"
   ]
  },
  {
   "cell_type": "code",
   "execution_count": null,
   "metadata": {},
   "outputs": [],
   "source": [
    "open_result = dict()\n",
    "for accessibility in accessibilities:\n",
    "    open_result[accessibility] = opt.solve( household, current, potential, accessibility, budgets, opt.make_optimizer_using('cbc') )"
   ]
  },
  {
   "cell_type": "code",
   "execution_count": null,
   "metadata": {},
   "outputs": [],
   "source": [
    "open_result"
   ]
  },
  {
   "cell_type": "code",
   "execution_count": null,
   "metadata": {},
   "outputs": [],
   "source": [
    "new_current, new_potential = opt.GoBackInTime( df_tests_lab, current, potential, accessibilities, to_date = '05/01' )"
   ]
  },
  {
   "cell_type": "code",
   "execution_count": null,
   "metadata": {},
   "outputs": [],
   "source": [
    "potential['Time'].shape, new_potential['Time'].shape, current['Time'].shape, new_current['Time'].shape"
   ]
  },
  {
   "cell_type": "code",
   "execution_count": null,
   "metadata": {},
   "outputs": [],
   "source": [
    "new_result = dict()\n",
    "for accessibility in accessibilities:\n",
    "    new_result[accessibility] = opt.solve( household, new_current, new_potential, accessibility, [20] )"
   ]
  },
  {
   "cell_type": "code",
   "execution_count": null,
   "metadata": {},
   "outputs": [],
   "source": [
    "current_coverage = opt.CurrentValues( current, household, accessibilities )"
   ]
  },
  {
   "cell_type": "code",
   "execution_count": null,
   "metadata": {},
   "outputs": [],
   "source": [
    "increase = opt.Tree()\n",
    "for a in accessibilities:\n",
    "    for c in new_result[a][0].columns:\n",
    "        increase[a][c] = (new_result[a][0].loc[20,c] - current_coverage[a][c])/current_coverage[a][c]"
   ]
  },
  {
   "cell_type": "code",
   "execution_count": null,
   "metadata": {},
   "outputs": [],
   "source": [
    "increase"
   ]
  },
  {
   "cell_type": "code",
   "execution_count": null,
   "metadata": {},
   "outputs": [],
   "source": [
    "'{:,}'.format(household.sum())"
   ]
  },
  {
   "cell_type": "code",
   "execution_count": null,
   "metadata": {},
   "outputs": [],
   "source": [
    "what_if = pd.DataFrame.from_dict( { a : { c : '{:,.0f}'.format( household.sum()*v ) for c,v in values.items() } for a,values in increase.items() }, orient='index' )"
   ]
  },
  {
   "cell_type": "code",
   "execution_count": null,
   "metadata": {},
   "outputs": [],
   "source": [
    "what_if"
   ]
  },
  {
   "cell_type": "code",
   "execution_count": null,
   "metadata": {},
   "outputs": [],
   "source": [
    "import pyperclip\n",
    "\n",
    "pyperclip.copy( what_if.style.to_latex().replace('nan','').replace('_',' ') )"
   ]
  },
  {
   "cell_type": "code",
   "execution_count": null,
   "metadata": {},
   "outputs": [],
   "source": [
    "common = opt.Tree()\n",
    "for a in accessibilities:\n",
    "    current_labs = set(current[a].Hosp_ID.values)\n",
    "    for c in new_result[a][1].columns:\n",
    "        new_labs = set(new_result[a][1].loc[20,c])\n",
    "        common[a][c] = current_labs.intersection(new_labs)"
   ]
  },
  {
   "cell_type": "code",
   "execution_count": null,
   "metadata": {},
   "outputs": [],
   "source": [
    "common"
   ]
  },
  {
   "cell_type": "code",
   "execution_count": null,
   "metadata": {},
   "outputs": [],
   "source": [
    "def format_name( name ):\n",
    "        d,_,what = name.replace('km', ' km').replace( 'min', ' min' ).partition(' ')\n",
    "        return '{:4d} {}'.format(int(d),what.replace('_',' '))"
   ]
  },
  {
   "cell_type": "code",
   "execution_count": null,
   "metadata": {},
   "outputs": [],
   "source": [
    "collect = []\n",
    "for a in common.keys():\n",
    "    for c in common[a].keys():\n",
    "        aux = for_table.loc[sorted(list(common[a][c]))][['Laboratory','Province Name']]\n",
    "        with pd.option_context(\"max_colwidth\", 1000):\n",
    "            collect.append( aux.style.to_latex(column_format='|r|ll|',\n",
    "                            position_float='centering',\n",
    "                            position='H',\n",
    "                            caption=f'Labs selected in common for {a.lower()} accessibility {format_name(c)}'\n",
    "                            ) )"
   ]
  },
  {
   "cell_type": "code",
   "execution_count": null,
   "metadata": {},
   "outputs": [],
   "source": [
    "pyperclip.copy( '\\n\\n'.join( collect ) )"
   ]
  },
  {
   "cell_type": "code",
   "execution_count": null,
   "metadata": {},
   "outputs": [],
   "source": [
    "opt.ComputeCoverageFromSolutions( result, current, potential, household, accessibilities )"
   ]
  },
  {
   "cell_type": "code",
   "execution_count": null,
   "metadata": {},
   "outputs": [],
   "source": [
    "pop_with_district = jg.get_pop_with_district()\n",
    "rwi_district = jg.get_rwi_district()"
   ]
  },
  {
   "cell_type": "code",
   "execution_count": null,
   "metadata": {},
   "outputs": [],
   "source": [
    "keys = []\n",
    "for a in accessibilities:\n",
    "    keys = keys + [ c for c in result[a][1].columns ]\n",
    "keys"
   ]
  },
  {
   "cell_type": "code",
   "execution_count": null,
   "metadata": {},
   "outputs": [],
   "source": [
    "def TeX_figure_RWI(scenario,budget,keys,caption,scale=.13,file_type='pdf'):\n",
    "  \n",
    "  file_names = []\n",
    "  for key in keys:\n",
    "    file_names.append( f'{key}_{budget}.{file_type}' )\n",
    "    \n",
    "  G = caption\n",
    "  H = '-'.join(caption.split(' '))\n",
    "  \n",
    "  return \\\n",
    "fr'''\\begin{{figure}}[H]\n",
    "  \\centering\n",
    "  \\begin{{tabular}}{{cc}}\n",
    "    \\includegraphics[scale={scale}]{{Figures/RWI/{scenario}/{file_names[0]}}} & \n",
    "    \\includegraphics[scale={scale}]{{Figures/RWI/{scenario}/{file_names[1]}}} \\\\ [.2\\abovecaptionskip]\n",
    "    \\includegraphics[scale={scale}]{{Figures/RWI/{scenario}/{file_names[2]}}} & \n",
    "    \\includegraphics[scale={scale}]{{Figures/RWI/{scenario}/{file_names[3]}}} \\\\ [.2\\abovecaptionskip]\n",
    "    \\includegraphics[scale={scale}]{{Figures/RWI/{scenario}/{file_names[4]}}} & \n",
    "    \\includegraphics[scale={scale}]{{Figures/RWI/{scenario}/{file_names[5]}}} \\\\ [.2\\abovecaptionskip]\n",
    "    \\includegraphics[scale={scale}]{{Figures/RWI/{scenario}/{file_names[6]}}} & \n",
    "    \\includegraphics[scale={scale}]{{Figures/RWI/{scenario}/{file_names[7]}}} \\\\\n",
    "  \\end{{tabular}}\n",
    "  \\caption{{{G}}}\\label{{fig:{H}}}\n",
    "\\end{{figure}}'''"
   ]
  },
  {
   "cell_type": "code",
   "execution_count": null,
   "metadata": {},
   "outputs": [],
   "source": [
    "jg.GenerateRWIPlots( results_path, '2021', new_result, new_current, new_potential, pop_with_district, rwi_district, file_type='pdf' )"
   ]
  },
  {
   "cell_type": "code",
   "execution_count": null,
   "metadata": {},
   "outputs": [],
   "source": [
    "jg.GenerateRWIPlots( results_path, 'UnbiasedFuture', result, current, potential, pop_with_district, rwi_district, file_type='pdf' )"
   ]
  },
  {
   "cell_type": "code",
   "execution_count": null,
   "metadata": {},
   "outputs": [],
   "source": [
    "pyperclip.copy(TeX_figure_RWI('2021',0,keys,caption='May 2021',scale=.5))"
   ]
  },
  {
   "cell_type": "code",
   "execution_count": null,
   "metadata": {},
   "outputs": [],
   "source": [
    "pyperclip.copy(TeX_figure_RWI('2021',20,keys,caption='November 2021',scale=.5))"
   ]
  },
  {
   "cell_type": "code",
   "execution_count": null,
   "metadata": {},
   "outputs": [],
   "source": [
    "pyperclip.copy(TeX_figure_RWI('UnbiasedFuture',500,keys,caption='Full budget',scale=.5))"
   ]
  },
  {
   "cell_type": "code",
   "execution_count": null,
   "metadata": {},
   "outputs": [],
   "source": [
    "household_rwi = jg.get_pop_rwi()\n",
    "household = jg.get_headcount(data_path)"
   ]
  },
  {
   "cell_type": "code",
   "execution_count": null,
   "metadata": {},
   "outputs": [],
   "source": [
    "result_rwi = dict()\n",
    "for accessibility in accessibilities:\n",
    "    result_rwi[accessibility] = opt.solve( household_rwi, current, potential, accessibility, budgets )"
   ]
  },
  {
   "cell_type": "code",
   "execution_count": null,
   "metadata": {},
   "outputs": [],
   "source": [
    "coverage_rwi = opt.ComputeCoverageFromSolutions( result_rwi, current, potential, household, accessibilities )"
   ]
  },
  {
   "cell_type": "code",
   "execution_count": null,
   "metadata": {},
   "outputs": [],
   "source": [
    "result_rwi"
   ]
  },
  {
   "cell_type": "code",
   "execution_count": null,
   "metadata": {},
   "outputs": [],
   "source": [
    "aux_result = dict()\n",
    "for a in accessibilities:\n",
    "    aux_result[a] = (coverage_rwi[a],result_rwi[a][1])"
   ]
  },
  {
   "cell_type": "code",
   "execution_count": null,
   "metadata": {},
   "outputs": [],
   "source": [
    "jg.show_pareto(aux_result, current, household, 'Distance', width=800,height=350, file_name=results_path+'Pareto_RWI_distance.pdf' )"
   ]
  },
  {
   "cell_type": "code",
   "execution_count": null,
   "metadata": {},
   "outputs": [],
   "source": [
    "jg.show_pareto(aux_result, current, household, 'Time', width=800,height=350, file_name=results_path+'Pareto_RWI_time.pdf' )"
   ]
  },
  {
   "cell_type": "code",
   "execution_count": null,
   "metadata": {},
   "outputs": [],
   "source": [
    "jg.GenerateRWIPlots( results_path, 'BiasedFuture', aux_result, current, potential, pop_with_district, rwi_district, file_type='pdf' )"
   ]
  },
  {
   "cell_type": "code",
   "execution_count": null,
   "metadata": {},
   "outputs": [],
   "source": [
    "pyperclip.copy(TeX_figure_RWI('BiasedFuture',500,keys,caption='Full budget taking relative wealth index into account',scale=.5))"
   ]
  },
  {
   "cell_type": "code",
   "execution_count": null,
   "metadata": {},
   "outputs": [],
   "source": []
  }
 ],
 "metadata": {
  "interpreter": {
   "hash": "c7db69fd140d04dfcb7132309a7fb27a8a83ffa32a944f3bd6a9927c5531c6d6"
  },
  "kernelspec": {
   "display_name": "Python 3.9.9 ('base')",
   "language": "python",
   "name": "python3"
  },
  "language_info": {
   "codemirror_mode": {
    "name": "ipython",
    "version": 3
   },
   "file_extension": ".py",
   "mimetype": "text/x-python",
   "name": "python",
   "nbconvert_exporter": "python",
   "pygments_lexer": "ipython3",
   "version": "3.9.12"
  },
  "orig_nbformat": 4
 },
 "nbformat": 4,
 "nbformat_minor": 2
}
