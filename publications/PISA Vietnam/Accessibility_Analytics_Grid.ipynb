{
 "cells": [
  {
   "cell_type": "code",
   "execution_count": 1,
   "metadata": {
    "id": "b3M470K2AqYM"
   },
   "outputs": [],
   "source": [
    "import warnings\n",
    "warnings.filterwarnings('ignore')\n",
    "\n",
    "import geopandas as gpd\n",
    "import pandas as pd\n",
    "import shapely\n",
    "from shapely.geometry import Polygon, Point\n",
    "import geopy.distance\n",
    "import pandana\n",
    "import numpy as np\n",
    "import requests\n",
    "import folium"
   ]
  },
  {
   "cell_type": "code",
   "execution_count": 2,
   "metadata": {},
   "outputs": [],
   "source": [
    "stroke_facs = pd.read_csv('stroke_facs_latest.csv')"
   ]
  },
  {
   "cell_type": "code",
   "execution_count": 3,
   "metadata": {},
   "outputs": [],
   "source": [
    "stroke_facs = stroke_facs[['Name_English','Facility name-VN','Type_name','address','longitude','latitude',\n",
    "                           'pro_name_e','dist_name_e']].reset_index()\n",
    "\n",
    "\n",
    "stroke_facs.rename(columns={'index':'fac_id'},inplace=True)"
   ]
  },
  {
   "cell_type": "code",
   "execution_count": 4,
   "metadata": {},
   "outputs": [],
   "source": [
    "stroke_facs['longitude'] = stroke_facs['longitude'].astype(float)\n",
    "stroke_facs['latitude'] = stroke_facs['latitude'].astype(float)\n"
   ]
  },
  {
   "cell_type": "code",
   "execution_count": 5,
   "metadata": {},
   "outputs": [
    {
     "data": {
      "text/html": [
       "<div>\n",
       "<style scoped>\n",
       "    .dataframe tbody tr th:only-of-type {\n",
       "        vertical-align: middle;\n",
       "    }\n",
       "\n",
       "    .dataframe tbody tr th {\n",
       "        vertical-align: top;\n",
       "    }\n",
       "\n",
       "    .dataframe thead th {\n",
       "        text-align: right;\n",
       "    }\n",
       "</style>\n",
       "<table border=\"1\" class=\"dataframe\">\n",
       "  <thead>\n",
       "    <tr style=\"text-align: right;\">\n",
       "      <th></th>\n",
       "      <th>fac_id</th>\n",
       "      <th>Name_English</th>\n",
       "      <th>Facility name-VN</th>\n",
       "      <th>Type_name</th>\n",
       "      <th>address</th>\n",
       "      <th>longitude</th>\n",
       "      <th>latitude</th>\n",
       "      <th>pro_name_e</th>\n",
       "      <th>dist_name_e</th>\n",
       "    </tr>\n",
       "  </thead>\n",
       "  <tbody>\n",
       "    <tr>\n",
       "      <th>0</th>\n",
       "      <td>0</td>\n",
       "      <td>Saint Paul Municipal General Hospital</td>\n",
       "      <td>Bệnh viện đa khoa Xanh Pôn</td>\n",
       "      <td>provincial general hospital</td>\n",
       "      <td>12 Chu Văn An, Phường Điện Biên, Quận Ba Đình,...</td>\n",
       "      <td>105.835586</td>\n",
       "      <td>21.031610</td>\n",
       "      <td>Ha Noi</td>\n",
       "      <td>Ba Dinh District</td>\n",
       "    </tr>\n",
       "    <tr>\n",
       "      <th>1</th>\n",
       "      <td>1</td>\n",
       "      <td>Viet Duc (University) Hospital (CS1</td>\n",
       "      <td>Bệnh viện Hữu nghị Việt Đức (CS1 Hà Nội)</td>\n",
       "      <td>Central specialized hospital</td>\n",
       "      <td>40 Tràng Thi, P. Hàng Bông, Q. Hoàn Kiếm, Hà Nội</td>\n",
       "      <td>105.845353</td>\n",
       "      <td>21.029563</td>\n",
       "      <td>Ha Noi</td>\n",
       "      <td>Hoan Kiem District</td>\n",
       "    </tr>\n",
       "  </tbody>\n",
       "</table>\n",
       "</div>"
      ],
      "text/plain": [
       "   fac_id                           Name_English  \\\n",
       "0       0  Saint Paul Municipal General Hospital   \n",
       "1       1    Viet Duc (University) Hospital (CS1   \n",
       "\n",
       "                           Facility name-VN                     Type_name  \\\n",
       "0                Bệnh viện đa khoa Xanh Pôn   provincial general hospital   \n",
       "1  Bệnh viện Hữu nghị Việt Đức (CS1 Hà Nội)  Central specialized hospital   \n",
       "\n",
       "                                             address   longitude   latitude  \\\n",
       "0  12 Chu Văn An, Phường Điện Biên, Quận Ba Đình,...  105.835586  21.031610   \n",
       "1   40 Tràng Thi, P. Hàng Bông, Q. Hoàn Kiếm, Hà Nội  105.845353  21.029563   \n",
       "\n",
       "  pro_name_e         dist_name_e  \n",
       "0     Ha Noi    Ba Dinh District  \n",
       "1     Ha Noi  Hoan Kiem District  "
      ]
     },
     "execution_count": 5,
     "metadata": {},
     "output_type": "execute_result"
    }
   ],
   "source": [
    "stroke_facs.head(2)"
   ]
  },
  {
   "cell_type": "code",
   "execution_count": 6,
   "metadata": {},
   "outputs": [
    {
     "data": {
      "text/plain": [
       "106"
      ]
     },
     "execution_count": 6,
     "metadata": {},
     "output_type": "execute_result"
    }
   ],
   "source": [
    "len(stroke_facs)"
   ]
  },
  {
   "cell_type": "code",
   "execution_count": 7,
   "metadata": {},
   "outputs": [
    {
     "name": "stdout",
     "output_type": "stream",
     "text": [
      "Total Population: 97.34 million\n"
     ]
    }
   ],
   "source": [
    "population = pd.read_csv(r'ppp_VNM_2020_1km_Aggregated_UNadj.csv').reset_index()\n",
    "population.columns = ['ID','xcoord','ycoord','household_count']\n",
    "population['xcoord'] = population['xcoord'].round(2)\n",
    "population['ycoord'] = population['ycoord'].round(2)\n",
    "\n",
    "population = population.groupby(['xcoord','ycoord'])['household_count'].sum().reset_index().reset_index()\n",
    "population['household_count'] = population['household_count'].round()\n",
    "population.columns = ['ID','xcoord','ycoord','population']\n",
    "\n",
    "population_worldpop = gpd.GeoDataFrame(population, \n",
    "                                       geometry=gpd.points_from_xy(x=population.xcoord, \n",
    "                                                                   y=population.ycoord))\n",
    "\n",
    "print('Total Population:',round(population_worldpop['population'].sum()/1000000,2),'million')"
   ]
  },
  {
   "cell_type": "code",
   "execution_count": 8,
   "metadata": {},
   "outputs": [
    {
     "data": {
      "text/plain": [
       "283557"
      ]
     },
     "execution_count": 8,
     "metadata": {},
     "output_type": "execute_result"
    }
   ],
   "source": [
    "len(population_worldpop)"
   ]
  },
  {
   "cell_type": "code",
   "execution_count": null,
   "metadata": {},
   "outputs": [],
   "source": [
    "%%time\n",
    "\n",
    "facebook_pop_csv = pd.read_csv('vnm_general_2020.csv')\n",
    "population = facebook_pop_csv[['latitude','longitude','vnm_general_2020']].reset_index()\n",
    "population.columns = ['ID','ycoord','xcoord','population']\n",
    "\n",
    "population_meta = gpd.GeoDataFrame(population, \n",
    "                                       geometry=gpd.points_from_xy(x=population.xcoord, \n",
    "                                                                   y=population.ycoord))\n",
    "gadm_vnm = gpd.read_file('gadm41_VNM_shp/gadm41_VNM_0.shp')\n",
    "population_meta = gpd.sjoin(population_meta, gadm_vnm, op='within')\n",
    "print('Total Population:',round(population_meta['population'].sum()/1000000,2),'million')\n"
   ]
  },
  {
   "cell_type": "code",
   "execution_count": null,
   "metadata": {},
   "outputs": [],
   "source": [
    "len(population_meta)"
   ]
  },
  {
   "cell_type": "code",
   "execution_count": 9,
   "metadata": {},
   "outputs": [],
   "source": [
    "access_token = \"Enter MapBox API Key Here\""
   ]
  },
  {
   "cell_type": "code",
   "execution_count": 10,
   "metadata": {},
   "outputs": [],
   "source": [
    "def get_isochrone(df,minutes_list,access_token,mode):\n",
    "    longitude = df['longitude']\n",
    "    latitude = df['latitude']\n",
    "    query = \"\"\"https://api.mapbox.com/isochrone/v1/mapbox/\"\"\"\n",
    "    query = query+mode+'/'\n",
    "    query = query+str(longitude)+','+str(latitude)+'?'\n",
    "    query = query+'contours_minutes='+minutes_list\n",
    "    query = query+'&polygons=true&access_token='\n",
    "    query = query+access_token\n",
    "    req_return = (requests.get(query).json())\n",
    "    \n",
    "    if('code' in req_return):\n",
    "        if (req_return['code']=='NoSegment'):\n",
    "            print('No Segment')\n",
    "        else:\n",
    "            print(req_return)     \n",
    "    else:\n",
    "        #print(req_return)     \n",
    "        return(req_return['features'])"
   ]
  },
  {
   "cell_type": "code",
   "execution_count": 11,
   "metadata": {},
   "outputs": [],
   "source": [
    "def get_pop_count(population_df,x):\n",
    "    pop_count = population_df[population_df['ID'].isin(x)]['population'].sum()\n",
    "    return pop_count"
   ]
  },
  {
   "cell_type": "code",
   "execution_count": null,
   "metadata": {},
   "outputs": [],
   "source": [
    "%%time\n",
    "\n",
    "stroke_facs['isochrone_30mins'] = stroke_facs[['longitude','latitude']].apply(get_isochrone,\n",
    "                                                                                   minutes_list=\"30\",\n",
    "                                                                                   access_token=access_token,\n",
    "                                                                                   mode='driving',\n",
    "                                                                                   axis=1)\n",
    "\n",
    "stroke_facs['isochrone_60mins'] = stroke_facs[['longitude','latitude']].apply(get_isochrone,\n",
    "                                                                                   minutes_list=\"60\",\n",
    "                                                                                   access_token=access_token,\n",
    "                                                                                   mode='driving',\n",
    "                                                                                   axis=1)\n",
    "\n",
    "stroke_facs['30mins'] = stroke_facs['isochrone_30mins'].apply(lambda x: x[0]['geometry'])\n",
    "stroke_facs['30mins'] = stroke_facs['30mins'].apply(lambda x:Polygon(x['coordinates'][0]))\n",
    "\n",
    "stroke_facs['60mins'] = stroke_facs['isochrone_60mins'].apply(lambda x: x[0]['geometry'])\n",
    "stroke_facs['60mins'] = stroke_facs['60mins'].apply(lambda x:Polygon(x['coordinates'][0]))\n"
   ]
  },
  {
   "cell_type": "code",
   "execution_count": 13,
   "metadata": {},
   "outputs": [],
   "source": [
    "def get_population_within_vector(vector_polygon,vector_layer):\n",
    "    pip_mask = vector_layer.within(vector_polygon)\n",
    "    pip_data = vector_layer.loc[pip_mask]\n",
    "    return(list(pip_data['ID'].unique()))\n"
   ]
  },
  {
   "cell_type": "code",
   "execution_count": 12,
   "metadata": {},
   "outputs": [],
   "source": [
    "## Change Population Here\n",
    "\n",
    "population_selected = population_worldpop"
   ]
  },
  {
   "cell_type": "code",
   "execution_count": null,
   "metadata": {},
   "outputs": [],
   "source": [
    "%%time\n",
    "\n",
    "df_30mins = stroke_facs[['30mins','fac_id']]\n",
    "df_30mins.columns = ['geometry','fac_id']\n",
    "df_30mins = gpd.GeoDataFrame(df_30mins)\n",
    "join30mins = gpd.sjoin(population_selected[['ID','geometry']],df_30mins,predicate='within')[['ID','fac_id']]\n",
    "join30mins = join30mins.groupby('fac_id')['ID'].agg(list).reset_index()\n",
    "join30mins['ID'] = join30mins['ID'].apply(lambda x:list(set(x)))\n",
    "join30mins.columns = ['fac_id','ID_30mins']\n"
   ]
  },
  {
   "cell_type": "code",
   "execution_count": null,
   "metadata": {},
   "outputs": [],
   "source": [
    "%%time\n",
    "\n",
    "df_60mins = stroke_facs[['60mins','fac_id']]\n",
    "df_60mins.columns = ['geometry','fac_id']\n",
    "df_60mins = gpd.GeoDataFrame(df_60mins)\n",
    "join60mins = gpd.sjoin(population_selected[['ID','geometry']],df_60mins,predicate='within')[['ID','fac_id']]\n",
    "join60mins = join60mins.groupby('fac_id')['ID'].agg(list).reset_index()\n",
    "join60mins['ID'] = join60mins['ID'].apply(lambda x:list(set(x)))\n",
    "join60mins.columns = ['fac_id','ID_60mins']"
   ]
  },
  {
   "cell_type": "code",
   "execution_count": null,
   "metadata": {},
   "outputs": [],
   "source": [
    "stroke_facs = pd.merge(stroke_facs,join30mins, on='fac_id')\n",
    "stroke_facs = pd.merge(stroke_facs,join60mins, on='fac_id')"
   ]
  },
  {
   "cell_type": "code",
   "execution_count": null,
   "metadata": {},
   "outputs": [],
   "source": [
    "stroke_facs.head(2)"
   ]
  },
  {
   "cell_type": "code",
   "execution_count": null,
   "metadata": {},
   "outputs": [],
   "source": [
    "start_coords = (14.0583, 108.2772)\n",
    "folium_map = folium.Map(location=start_coords, zoom_start=5)\n",
    "\n",
    "test_ids = stroke_facs\n",
    "\n",
    "for i in range(0,len(test_ids)):\n",
    "    folium.Marker([test_ids.iloc[i]['latitude'], test_ids.iloc[i]['longitude']],\n",
    "                        color='blue',popup=test_ids.iloc[i]['Name_English']).add_to(folium_map)\n",
    "    \n",
    "    geo_j = folium.GeoJson(data=test_ids.iloc[i]['60mins'],style_function=lambda x:{'color': 'blue'})\n",
    "    folium.Popup(test_ids.iloc[i]['Name_English']).add_to(geo_j)\n",
    "    geo_j.add_to(folium_map)\n",
    "    \n",
    "    geo_j = folium.GeoJson(data=test_ids.iloc[i]['30mins'],style_function=lambda x:{'color': 'purple'})\n",
    "    folium.Popup(test_ids.iloc[i]['Name_English']).add_to(geo_j)\n",
    "    geo_j.add_to(folium_map)\n",
    "    \n",
    "\n",
    "# Define the URL template for the Mapbox basemap\n",
    "mapbox_url = f'https://api.mapbox.com/styles/v1/mapbox/{{id}}/tiles/{{z}}/{{x}}/{{y}}?access_token={access_token}'\n",
    "mapbox_basemap = folium.TileLayer(tiles=mapbox_url, attr='Mapbox', name='Mapbox Bright', max_zoom=20, id='mapbox/light-v10')\n",
    "\n",
    "# Add the Mapbox basemap as a baselayer to the map\n",
    "mapbox_basemap.add_to(folium_map)\n",
    "\n",
    "# Create a custom HTML legend\n",
    "legend_html = '''\n",
    "     <div style=\"position: fixed; \n",
    "                 bottom: 50px; left: 50px; width: 180px; height: 90px; \n",
    "                 border:2px solid grey; z-index:9999; font-size:14px;\n",
    "                 background-color: white;\n",
    "                 \">&nbsp;<b>Legend (Isodistances)</b><br>\n",
    "         &nbsp;<i class=\"fa fa-square\" style=\"color:blue\"></i>&nbsp; 60 mins driving<br>\n",
    "         &nbsp;<i class=\"fa fa-square\" style=\"color:purple\"></i>&nbsp; 30 mins driving<br>\n",
    "      </div>\n",
    "     '''\n",
    "\n",
    "# Add the custom legend as a separate layer to the map\n",
    "folium_map.get_root().html.add_child(folium.Element(legend_html))\n",
    "\n",
    "heading_html = '''\n",
    "     <div style=\"position: absolute; \n",
    "                 top: 50px; left: 50px; width: 220px; height: 50px; \n",
    "                 border: none; z-index:9999; font-size: 15px;\n",
    "                 background-color: rgba(255, 255, 255, 0.6);\n",
    "                 \">&nbsp;<b>Stroke Facility Catchment Area </b><br>\n",
    "      </div>\n",
    "     '''\n",
    "\n",
    "# Add the custom heading as a separate layer to the map\n",
    "folium_map.get_root().html.add_child(folium.Element(heading_html))\n",
    "\n",
    "folium_map\n"
   ]
  },
  {
   "cell_type": "code",
   "execution_count": null,
   "metadata": {},
   "outputs": [],
   "source": [
    "%%time\n",
    "\n",
    "list_pop_ids = list(stroke_facs['ID_60mins'].values)\n",
    "list_pop_ids = [item for sublist in list_pop_ids for item in sublist]\n",
    "pop_with_access = list(set(list_pop_ids))\n",
    "\n",
    "(population_selected[population_selected['ID'].isin(pop_with_access)]['population'].sum()*100/population_selected['population'].sum()).round()\n"
   ]
  },
  {
   "cell_type": "code",
   "execution_count": null,
   "metadata": {},
   "outputs": [],
   "source": [
    "%%time\n",
    "\n",
    "list_pop_ids = list(stroke_facs['ID_30mins'].values)\n",
    "list_pop_ids = [item for sublist in list_pop_ids for item in sublist]\n",
    "pop_with_access = list(set(list_pop_ids))\n",
    "\n",
    "(population_selected[population_selected['ID'].isin(pop_with_access)]['population'].sum()*100/population_selected['population'].sum()).round()\n"
   ]
  },
  {
   "cell_type": "code",
   "execution_count": 14,
   "metadata": {},
   "outputs": [],
   "source": [
    "potential_locations = gpd.read_file('10kmgrid.geojson')\n",
    "potential_locations = potential_locations.reset_index()[['index','geometry']]\n",
    "potential_locations['latitude'] = potential_locations['geometry'].y\n",
    "potential_locations['longitude'] = potential_locations['geometry'].x\n",
    "potential_locations.columns = ['Hosp_ID','geometry','latitude','longitude']"
   ]
  },
  {
   "cell_type": "code",
   "execution_count": 15,
   "metadata": {},
   "outputs": [
    {
     "data": {
      "text/html": [
       "<div>\n",
       "<style scoped>\n",
       "    .dataframe tbody tr th:only-of-type {\n",
       "        vertical-align: middle;\n",
       "    }\n",
       "\n",
       "    .dataframe tbody tr th {\n",
       "        vertical-align: top;\n",
       "    }\n",
       "\n",
       "    .dataframe thead th {\n",
       "        text-align: right;\n",
       "    }\n",
       "</style>\n",
       "<table border=\"1\" class=\"dataframe\">\n",
       "  <thead>\n",
       "    <tr style=\"text-align: right;\">\n",
       "      <th></th>\n",
       "      <th>Hosp_ID</th>\n",
       "      <th>geometry</th>\n",
       "      <th>latitude</th>\n",
       "      <th>longitude</th>\n",
       "    </tr>\n",
       "  </thead>\n",
       "  <tbody>\n",
       "    <tr>\n",
       "      <th>0</th>\n",
       "      <td>0</td>\n",
       "      <td>POINT (102.19129 22.36409)</td>\n",
       "      <td>22.364086</td>\n",
       "      <td>102.191293</td>\n",
       "    </tr>\n",
       "    <tr>\n",
       "      <th>1</th>\n",
       "      <td>1</td>\n",
       "      <td>POINT (102.26897 22.46075)</td>\n",
       "      <td>22.460746</td>\n",
       "      <td>102.268968</td>\n",
       "    </tr>\n",
       "  </tbody>\n",
       "</table>\n",
       "</div>"
      ],
      "text/plain": [
       "   Hosp_ID                    geometry   latitude   longitude\n",
       "0        0  POINT (102.19129 22.36409)  22.364086  102.191293\n",
       "1        1  POINT (102.26897 22.46075)  22.460746  102.268968"
      ]
     },
     "execution_count": 15,
     "metadata": {},
     "output_type": "execute_result"
    }
   ],
   "source": [
    "potential_locations.head(2)"
   ]
  },
  {
   "cell_type": "code",
   "execution_count": 16,
   "metadata": {},
   "outputs": [
    {
     "name": "stdout",
     "output_type": "stream",
     "text": [
      "CPU times: user 1min 56s, sys: 11.9 s, total: 2min 8s\n",
      "Wall time: 32min 35s\n"
     ]
    }
   ],
   "source": [
    "%%time\n",
    "\n",
    "potential_locations['isochrone_30mins'] = potential_locations[['longitude','latitude']].apply(get_isochrone,\n",
    "                                                                                   minutes_list=\"30\",\n",
    "                                                                                   access_token=access_token,\n",
    "                                                                                   mode='driving',\n",
    "                                                                                   axis=1)\n",
    "\n",
    "potential_locations['isochrone_60mins'] = potential_locations[['longitude','latitude']].apply(get_isochrone,\n",
    "                                                                                   minutes_list=\"60\",\n",
    "                                                                                   access_token=access_token,\n",
    "                                                                                   mode='driving',\n",
    "                                                                                   axis=1)\n",
    "\n",
    "potential_locations['30mins'] = potential_locations['isochrone_30mins'].apply(lambda x: x[0]['geometry'])\n",
    "potential_locations['30mins'] = potential_locations['30mins'].apply(lambda x:Polygon(x['coordinates'][0]))\n",
    "\n",
    "potential_locations['60mins'] = potential_locations['isochrone_60mins'].apply(lambda x: x[0]['geometry'])\n",
    "potential_locations['60mins'] = potential_locations['60mins'].apply(lambda x:Polygon(x['coordinates'][0]))\n"
   ]
  },
  {
   "cell_type": "code",
   "execution_count": 17,
   "metadata": {},
   "outputs": [
    {
     "name": "stdout",
     "output_type": "stream",
     "text": [
      "CPU times: user 1.02 s, sys: 114 ms, total: 1.13 s\n",
      "Wall time: 1.17 s\n"
     ]
    }
   ],
   "source": [
    "%%time\n",
    "\n",
    "df_30mins = potential_locations[['30mins','Hosp_ID']]\n",
    "df_30mins.columns = ['geometry','Hosp_ID']\n",
    "df_30mins = gpd.GeoDataFrame(df_30mins)\n",
    "join30mins = gpd.sjoin(population_selected[['ID','geometry']],df_30mins,predicate='within')[['ID','Hosp_ID']]\n",
    "join30mins = join30mins.groupby('Hosp_ID')['ID'].agg(list).reset_index()\n",
    "join30mins['ID'] = join30mins['ID'].apply(lambda x:list(set(x)))\n",
    "join30mins.columns = ['Hosp_ID','ID_30mins']\n"
   ]
  },
  {
   "cell_type": "code",
   "execution_count": 18,
   "metadata": {},
   "outputs": [
    {
     "name": "stdout",
     "output_type": "stream",
     "text": [
      "CPU times: user 3.05 s, sys: 462 ms, total: 3.51 s\n",
      "Wall time: 3.55 s\n"
     ]
    }
   ],
   "source": [
    "%%time\n",
    "\n",
    "df_60mins = potential_locations[['60mins','Hosp_ID']]\n",
    "df_60mins.columns = ['geometry','Hosp_ID']\n",
    "df_60mins = gpd.GeoDataFrame(df_60mins)\n",
    "join60mins = gpd.sjoin(population_selected[['ID','geometry']],df_60mins,predicate='within')[['ID','Hosp_ID']]\n",
    "join60mins = join60mins.groupby('Hosp_ID')['ID'].agg(list).reset_index()\n",
    "join60mins['ID'] = join60mins['ID'].apply(lambda x:list(set(x)))\n",
    "join60mins.columns = ['Hosp_ID','ID_60mins']"
   ]
  },
  {
   "cell_type": "code",
   "execution_count": 19,
   "metadata": {},
   "outputs": [],
   "source": [
    "potential_locations = pd.merge(potential_locations,join30mins, on='Hosp_ID')\n",
    "potential_locations = pd.merge(potential_locations,join60mins, on='Hosp_ID')"
   ]
  },
  {
   "cell_type": "code",
   "execution_count": 20,
   "metadata": {},
   "outputs": [
    {
     "name": "stdout",
     "output_type": "stream",
     "text": [
      "CPU times: user 187 ms, sys: 38.8 ms, total: 226 ms\n",
      "Wall time: 225 ms\n"
     ]
    },
    {
     "data": {
      "text/plain": [
       "95.0"
      ]
     },
     "execution_count": 20,
     "metadata": {},
     "output_type": "execute_result"
    }
   ],
   "source": [
    "%%time\n",
    "\n",
    "list_pop_ids = list(potential_locations['ID_60mins'].values)\n",
    "list_pop_ids = [item for sublist in list_pop_ids for item in sublist]\n",
    "pop_with_access = list(set(list_pop_ids))\n",
    "\n",
    "(population_selected[population_selected['ID'].isin(pop_with_access)]['population'].sum()*100/population_selected['population'].sum()).round()\n"
   ]
  },
  {
   "cell_type": "code",
   "execution_count": 21,
   "metadata": {},
   "outputs": [
    {
     "name": "stdout",
     "output_type": "stream",
     "text": [
      "CPU times: user 78.7 ms, sys: 6.64 ms, total: 85.4 ms\n",
      "Wall time: 84 ms\n"
     ]
    },
    {
     "data": {
      "text/plain": [
       "86.0"
      ]
     },
     "execution_count": 21,
     "metadata": {},
     "output_type": "execute_result"
    }
   ],
   "source": [
    "%%time\n",
    "\n",
    "list_pop_ids = list(potential_locations['ID_30mins'].values)\n",
    "list_pop_ids = [item for sublist in list_pop_ids for item in sublist]\n",
    "pop_with_access = list(set(list_pop_ids))\n",
    "\n",
    "(population_selected[population_selected['ID'].isin(pop_with_access)]['population'].sum()*100/population_selected['population'].sum()).round()\n"
   ]
  },
  {
   "cell_type": "code",
   "execution_count": 22,
   "metadata": {},
   "outputs": [
    {
     "data": {
      "text/html": [
       "<div>\n",
       "<style scoped>\n",
       "    .dataframe tbody tr th:only-of-type {\n",
       "        vertical-align: middle;\n",
       "    }\n",
       "\n",
       "    .dataframe tbody tr th {\n",
       "        vertical-align: top;\n",
       "    }\n",
       "\n",
       "    .dataframe thead th {\n",
       "        text-align: right;\n",
       "    }\n",
       "</style>\n",
       "<table border=\"1\" class=\"dataframe\">\n",
       "  <thead>\n",
       "    <tr style=\"text-align: right;\">\n",
       "      <th></th>\n",
       "      <th>Hosp_ID</th>\n",
       "      <th>geometry</th>\n",
       "      <th>latitude</th>\n",
       "      <th>longitude</th>\n",
       "      <th>isochrone_30mins</th>\n",
       "      <th>isochrone_60mins</th>\n",
       "      <th>30mins</th>\n",
       "      <th>60mins</th>\n",
       "      <th>ID_30mins</th>\n",
       "      <th>ID_60mins</th>\n",
       "    </tr>\n",
       "  </thead>\n",
       "  <tbody>\n",
       "    <tr>\n",
       "      <th>0</th>\n",
       "      <td>0</td>\n",
       "      <td>POINT (102.19129 22.36409)</td>\n",
       "      <td>22.364086</td>\n",
       "      <td>102.191293</td>\n",
       "      <td>[{'properties': {'fill-opacity': 0.33, 'fillCo...</td>\n",
       "      <td>[{'properties': {'fill-opacity': 0.33, 'fillCo...</td>\n",
       "      <td>POLYGON ((102.173293 22.512189, 102.171293 22....</td>\n",
       "      <td>POLYGON ((102.275293 22.613618, 102.269829 22....</td>\n",
       "      <td>[5, 6, 9, 10, 11, 12, 20, 33, 163, 47, 48, 60,...</td>\n",
       "      <td>[2, 4, 5, 6, 517, 8, 9, 10, 11, 12, 518, 20, 2...</td>\n",
       "    </tr>\n",
       "    <tr>\n",
       "      <th>1</th>\n",
       "      <td>1</td>\n",
       "      <td>POINT (102.26897 22.46075)</td>\n",
       "      <td>22.460746</td>\n",
       "      <td>102.268968</td>\n",
       "      <td>[{'properties': {'fill-opacity': 0.33, 'fillCo...</td>\n",
       "      <td>[{'properties': {'fill-opacity': 0.33, 'fillCo...</td>\n",
       "      <td>POLYGON ((102.280969 22.504611, 102.279238 22....</td>\n",
       "      <td>POLYGON ((102.292969 22.504662, 102.277145 22....</td>\n",
       "      <td>[320, 129, 258, 291, 196, 356, 199, 200, 201, ...</td>\n",
       "      <td>[517, 518, 11, 19, 20, 21, 32, 46, 47, 562, 56...</td>\n",
       "    </tr>\n",
       "  </tbody>\n",
       "</table>\n",
       "</div>"
      ],
      "text/plain": [
       "   Hosp_ID                    geometry   latitude   longitude  \\\n",
       "0        0  POINT (102.19129 22.36409)  22.364086  102.191293   \n",
       "1        1  POINT (102.26897 22.46075)  22.460746  102.268968   \n",
       "\n",
       "                                    isochrone_30mins  \\\n",
       "0  [{'properties': {'fill-opacity': 0.33, 'fillCo...   \n",
       "1  [{'properties': {'fill-opacity': 0.33, 'fillCo...   \n",
       "\n",
       "                                    isochrone_60mins  \\\n",
       "0  [{'properties': {'fill-opacity': 0.33, 'fillCo...   \n",
       "1  [{'properties': {'fill-opacity': 0.33, 'fillCo...   \n",
       "\n",
       "                                              30mins  \\\n",
       "0  POLYGON ((102.173293 22.512189, 102.171293 22....   \n",
       "1  POLYGON ((102.280969 22.504611, 102.279238 22....   \n",
       "\n",
       "                                              60mins  \\\n",
       "0  POLYGON ((102.275293 22.613618, 102.269829 22....   \n",
       "1  POLYGON ((102.292969 22.504662, 102.277145 22....   \n",
       "\n",
       "                                           ID_30mins  \\\n",
       "0  [5, 6, 9, 10, 11, 12, 20, 33, 163, 47, 48, 60,...   \n",
       "1  [320, 129, 258, 291, 196, 356, 199, 200, 201, ...   \n",
       "\n",
       "                                           ID_60mins  \n",
       "0  [2, 4, 5, 6, 517, 8, 9, 10, 11, 12, 518, 20, 2...  \n",
       "1  [517, 518, 11, 19, 20, 21, 32, 46, 47, 562, 56...  "
      ]
     },
     "execution_count": 22,
     "metadata": {},
     "output_type": "execute_result"
    }
   ],
   "source": [
    "potential_locations.head(2)"
   ]
  },
  {
   "cell_type": "code",
   "execution_count": null,
   "metadata": {},
   "outputs": [],
   "source": []
  }
 ],
 "metadata": {
  "colab": {
   "collapsed_sections": [],
   "name": "Accessibility Analytics - Travel Distance.ipynb",
   "provenance": []
  },
  "kernelspec": {
   "display_name": "Python 3",
   "language": "python",
   "name": "python3"
  },
  "language_info": {
   "codemirror_mode": {
    "name": "ipython",
    "version": 3
   },
   "file_extension": ".py",
   "mimetype": "text/x-python",
   "name": "python",
   "nbconvert_exporter": "python",
   "pygments_lexer": "ipython3",
   "version": "3.8.3"
  }
 },
 "nbformat": 4,
 "nbformat_minor": 1
}
