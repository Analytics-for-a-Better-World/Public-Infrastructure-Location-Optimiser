{
 "cells": [
  {
   "cell_type": "code",
   "execution_count": 1,
   "metadata": {},
   "outputs": [],
   "source": [
    "import warnings\n",
    "warnings.filterwarnings(action='ignore')"
   ]
  },
  {
   "cell_type": "code",
   "execution_count": 7,
   "metadata": {},
   "outputs": [],
   "source": [
    "import pandas as pd\n",
    "import geopandas as gpd\n",
    "import requests\n",
    "\n",
    "import shapely\n",
    "from shapely.geometry import Polygon, Point\n",
    "from shapely.ops import cascaded_union\n",
    "import shapely.speedups\n",
    "\n",
    "shapely.speedups.enable()\n",
    "\n",
    "import folium\n",
    "from folium.plugins import MeasureControl\n",
    "\n",
    "import plotly.express as px\n",
    "import time\n",
    "\n",
    "pd.set_option('display.max_rows', 500)\n",
    "\n",
    "import numpy as np\n",
    "import rasterio"
   ]
  },
  {
   "cell_type": "code",
   "execution_count": 9,
   "metadata": {},
   "outputs": [],
   "source": [
    "raster_path = 'Data/npl_ppp_2020_UNadj_constrained.tif'\n",
    "raster = rasterio.open(raster_path)\n",
    "\n",
    "# Read the raster data\n",
    "data = raster.read(1)  # Assuming the raster has a single band\n",
    "\n",
    "\n",
    "# Retrieve the spatial reference system (CRS) from the raster\n",
    "crs = raster.crs.to_string()\n",
    "\n",
    "# Retrieve the transform (georeferencing information) from the raster\n",
    "transform = raster.transform\n",
    "\n",
    "# Generate the grid of coordinates\n",
    "height, width = data.shape\n",
    "rows, cols = np.indices((height, width))\n",
    "x_coords, y_coords = rasterio.transform.xy(transform, rows.flatten(), cols.flatten())\n",
    "\n",
    "# Create a GeoDataFrame\n",
    "geometry = gpd.points_from_xy(x_coords, y_coords)\n",
    "df = gpd.GeoDataFrame({'value': data.flatten()}, geometry=geometry, crs=crs)\n"
   ]
  },
  {
   "cell_type": "code",
   "execution_count": 18,
   "metadata": {},
   "outputs": [
    {
     "data": {
      "text/plain": [
       "25281032.0"
      ]
     },
     "execution_count": 18,
     "metadata": {},
     "output_type": "execute_result"
    }
   ],
   "source": [
    "df[df['value']!=-99999]['value'].sum()"
   ]
  },
  {
   "cell_type": "code",
   "execution_count": null,
   "metadata": {},
   "outputs": [],
   "source": []
  }
 ],
 "metadata": {
  "kernelspec": {
   "display_name": "Python 3",
   "language": "python",
   "name": "python3"
  },
  "language_info": {
   "codemirror_mode": {
    "name": "ipython",
    "version": 3
   },
   "file_extension": ".py",
   "mimetype": "text/x-python",
   "name": "python",
   "nbconvert_exporter": "python",
   "pygments_lexer": "ipython3",
   "version": "3.8.3"
  }
 },
 "nbformat": 4,
 "nbformat_minor": 4
}
