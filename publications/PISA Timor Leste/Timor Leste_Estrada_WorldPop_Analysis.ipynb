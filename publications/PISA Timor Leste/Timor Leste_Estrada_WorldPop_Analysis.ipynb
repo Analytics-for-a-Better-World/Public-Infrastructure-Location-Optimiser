{
 "cells": [
  {
   "cell_type": "code",
   "execution_count": 1,
   "metadata": {},
   "outputs": [],
   "source": [
    "# Bank of Functions\n",
    "\n",
    "def haversine_vectorize(lon1, lat1, lon2, lat2):\n",
    "    lon1, lat1, lon2, lat2 = map(np.radians, [lon1, lat1, lon2, lat2])\n",
    "    newlon = lon2 - lon1\n",
    "    newlat = lat2 - lat1\n",
    "    haver_formula = np.sin(newlat/2.0)**2 + np.cos(lat1) * np.cos(lat2) * np.sin(newlon/2.0)**2\n",
    "    dist = 2 * np.arcsin(np.sqrt(haver_formula ))\n",
    "    km = 6367 * dist #6367 for distance in KM for miles use 3958\n",
    "    return round(km,2)\n",
    "\n",
    "def get_haversine(df):\n",
    "    n1 = (df['start_node'].y, df['start_node'].x) # (lat, lon)\n",
    "    n2 = (df['end_node'].y, df['end_node'].x)\n",
    "    dist = haversine(n1, n2)\n",
    "    return dist\n",
    "                 \n",
    "def get_corrected_distance(x):\n",
    "    if(x['euclidean_distance'])<=1:\n",
    "        return x['euclidean_distance']\n",
    "    else:\n",
    "        if (x['road_dist_pop']>=x['euclidean_distance']):\n",
    "            return x['euclidean_distance']\n",
    "        else:\n",
    "            return x['travel_distance']\n",
    "        \n",
    "def getvariables(n, m, X, Y):\n",
    "    \n",
    "    import numpy as np\n",
    "    \n",
    "    Xvalues = np.zeros(m)\n",
    "    Yvalues = np.zeros(n+m)\n",
    "    for i in range(m):\n",
    "        Xvalues[i]=X[i].x\n",
    "    for i in range(n):\n",
    "        Yvalues[i]=Y[i].x\n",
    "    \n",
    "    return(Xvalues, Yvalues)\n",
    "\n",
    "def OptimizationModel(array_household, current_hospitals_ID, new_hospitals_ID, \n",
    "                      distance_matrix, S, hosp_count, mipGap=.001, trace=False):\n",
    "    \n",
    "    import time\n",
    "    import gurobipy as gb\n",
    "    from gurobipy import GRB\n",
    "    import numpy as np\n",
    "    import pandas as pd\n",
    "    \n",
    "    #Data preprocessing\n",
    "    tstart = time.time()\n",
    "    obj_val_array = []\n",
    "    existinghosp = len(current_hospitals_ID)\n",
    "    m = len(current_hospitals_ID) + len(new_hospitals_ID)\n",
    "    n = len(array_household)\n",
    "    p = existinghosp + 0       #total number of hospitals to be optimized\n",
    "    \n",
    "    # Only keep the combinations of houses/hospitals which are less or equal to the maximum distance\n",
    "    dist = distance_matrix[distance_matrix.distance<=S]\n",
    "    \n",
    "    # collect the indices of the distances below the threshold \n",
    "    II = dist['pop_id']\n",
    "    JJ = dist['fac_id']\n",
    "    \n",
    "    IJ = { i : set() for i in range(n) }\n",
    "    for i,j in zip(II,JJ):\n",
    "        IJ[i].add(j) \n",
    "    \n",
    "    # Create the model\n",
    "    M = gb.Model(\"Facility location problem\")\n",
    "    \n",
    "    M.Params.OutputFlag = trace \n",
    "    M.Params.mipgap     = mipGap\n",
    "    \n",
    "    # Decision variables\n",
    "    X = M.addVars(m, vtype=GRB.BINARY)\n",
    "    Y = M.addVars(n, vtype=GRB.BINARY)\n",
    "    \n",
    "    # Objective\n",
    "    obj = gb.LinExpr( array_household, Y.select('*') )\n",
    "    M.setObjective(obj, gb.GRB.MAXIMIZE)\n",
    "    \n",
    "    # Constraints\n",
    "    # Set existing hospitals to one\n",
    "    M.addConstrs(X[j] == 1 for j in current_hospitals_ID)\n",
    "\n",
    "    # Limit number of hospitals a household is connected to, let a household only connect to an opened facility\n",
    "    M.addConstrs((Y[i] <= (gb.quicksum(X[j] for j in IJ[i]))) for i in range(n))\n",
    "#     M.addConstrs(Y[i] <= (gb.quicksum(X[j] for j in dist['HospCluster'].loc[dist['Pop_ID']==i])) for i in range(n))\n",
    "\n",
    "    \n",
    "    # Limit number of facilities located \n",
    "    s = M.addLConstr(gb.quicksum(X[j] for j in range(m))<= p)\n",
    "    \n",
    "    modelling_time = time.time()-tstart\n",
    "    tstart = time.time()\n",
    "    \n",
    "    # Optimize the model and extract solution\n",
    "    M.optimize() \n",
    "    obj_val = M.objVal\n",
    "    Xvalues, Yvalues = getvariables(n, m, X, Y)\n",
    "\n",
    "    obj_val_array.append([S,0,obj_val,list(Xvalues),list(Yvalues)])\n",
    "    \n",
    "    \n",
    "    \n",
    "    # Iterate for multiple additional hospital facilities\n",
    "    for each_hosp_count in hosp_count:\n",
    "        M.remove(s)\n",
    "        p = existinghosp + each_hosp_count\n",
    "        s = M.addConstr(gb.quicksum(X[j] for j in range(m))<= p, name = \"Budget\")\n",
    "        \n",
    "        M.optimize()\n",
    "        obj_val = M.objVal\n",
    "        Xvalues, Yvalues = getvariables(n, m, X, Y)\n",
    "\n",
    "        obj_val_array.append([S,each_hosp_count,obj_val,list(Xvalues),list(Yvalues)])\n",
    "    \n",
    "    solving_time = time.time() - tstart \n",
    "    \n",
    "    df_opt_array = pd.DataFrame(obj_val_array)\n",
    "    df_opt_array.columns = ['km','number_of_new_hospitals','count','array_hosp','array_hh']\n",
    "    df_opt_array['number_of_hospitals'] = df_opt_array['number_of_new_hospitals']+existinghosp\n",
    "    df_opt_array['%'] = df_opt_array['count']*100/sum(array_household)\n",
    "    df_opt_array['%'] = df_opt_array['%'].round(1)\n",
    "    \n",
    "    return df_opt_array, modelling_time, solving_time"
   ]
  },
  {
   "cell_type": "code",
   "execution_count": 2,
   "metadata": {},
   "outputs": [],
   "source": [
    "import warnings\n",
    "warnings.filterwarnings('ignore')\n",
    "\n",
    "import pandas as pd\n",
    "import sqlite3\n",
    "import re\n",
    "import folium \n",
    "from folium import features\n",
    "\n",
    "from shapely.geometry import Point, LineString, shape\n",
    "import shapely\n",
    "import geopandas as gpd\n",
    "\n",
    "from pyproj import Transformer\n",
    "from shapely.ops import transform\n",
    "\n",
    "import xarray as xr\n",
    "\n",
    "import plotly.express as px\n",
    "\n",
    "import bisect\n",
    "\n",
    "import plotly.figure_factory as ff\n",
    "import plotly.graph_objects as go\n",
    "\n",
    "\n",
    "import json\n",
    "\n",
    "\n",
    "import rasterio\n",
    "from rasterio.plot import show    \n",
    "import rioxarray as rxr\n",
    "\n",
    "from rasterstats import zonal_stats\n",
    "    \n",
    "import numpy as np\n",
    "\n",
    "from IPython.display import HTML\n",
    "from IPython.display import HTML as html_print\n",
    "\n",
    "from haversine import haversine_vector, haversine\n",
    "\n",
    "import pandana\n",
    "\n",
    "import pyproj\n",
    "\n",
    "from gurobipy import Model, GRB\n",
    "import plotly.graph_objects as go"
   ]
  },
  {
   "cell_type": "markdown",
   "metadata": {},
   "source": [
    "# Added by Joaquim"
   ]
  },
  {
   "cell_type": "code",
   "execution_count": 6,
   "metadata": {},
   "outputs": [
    {
     "name": "stdout",
     "output_type": "stream",
     "text": [
      "The autoreload extension is already loaded. To reload it, use:\n",
      "  %reload_ext autoreload\n"
     ]
    }
   ],
   "source": [
    "from tqdm.notebook import tqdm\n",
    "\n",
    "import sys\n",
    "sys.path.append('../../optimization')\n",
    "\n",
    "%load_ext autoreload\n",
    "%autoreload 2\n",
    "\n",
    "import maxcovering as mc\n",
    "import optdata as od"
   ]
  },
  {
   "cell_type": "code",
   "execution_count": 7,
   "metadata": {},
   "outputs": [
    {
     "name": "stdout",
     "output_type": "stream",
     "text": [
      "Estrada Road Network Data :  17390 km\n",
      "CPU times: total: 54.5 s\n",
      "Wall time: 55.9 s\n"
     ]
    }
   ],
   "source": [
    "%%time\n",
    "\n",
    "road_asset_gdf = gpd.read_file('data/road_estrada_new.geojson')\n",
    "road_asset_gdf.crs = \"EPSG:4326\"\n",
    "\n",
    "gdf = road_asset_gdf.to_crs(epsg=3844)\n",
    "gdf['length_code'] = gdf['geometry'].length\n",
    "gdf['length_code'] = gdf['length_code'].round()\n",
    "gdf['length_code'] = gdf['length_code']/1000\n",
    "\n",
    "road_asset_gdf['length_km'] = gdf['length_code']\n",
    "\n",
    "print('Estrada Road Network Data : ', round(road_asset_gdf['length_km'].sum()), 'km')"
   ]
  },
  {
   "cell_type": "code",
   "execution_count": 8,
   "metadata": {},
   "outputs": [],
   "source": [
    "distance_km = 10"
   ]
  },
  {
   "cell_type": "code",
   "execution_count": 9,
   "metadata": {},
   "outputs": [],
   "source": [
    "road_network = road_asset_gdf"
   ]
  },
  {
   "cell_type": "code",
   "execution_count": 10,
   "metadata": {},
   "outputs": [
    {
     "name": "stdout",
     "output_type": "stream",
     "text": [
      "CPU times: total: 28.3 s\n",
      "Wall time: 29.5 s\n"
     ]
    }
   ],
   "source": [
    "%%time \n",
    "\n",
    "road_network['start_node'] = road_network['geometry'].apply(lambda x: Point(x.xy[0][0], x.xy[1][0]) if isinstance(x, LineString) else None)\n",
    "road_network['end_node'] = road_network['geometry'].apply(lambda x: Point(x.xy[0][-1], x.xy[1][-1]) if isinstance(x, LineString) else None)\n"
   ]
  },
  {
   "cell_type": "code",
   "execution_count": 11,
   "metadata": {},
   "outputs": [
    {
     "name": "stdout",
     "output_type": "stream",
     "text": [
      "CPU times: total: 1min 20s\n",
      "Wall time: 1min 17s\n"
     ]
    }
   ],
   "source": [
    "%%time\n",
    "\n",
    "node_list = []\n",
    "for each_val in road_network['start_node'].unique():\n",
    "    node_list.append(each_val)\n",
    "for each_val in road_network['end_node'].unique():\n",
    "    node_list.append(each_val)\n",
    "\n",
    "df_nodes = gpd.GeoDataFrame(node_list,columns=['geometry'])\n",
    "df_nodes = gpd.GeoDataFrame(list(df_nodes['geometry'].unique()),columns=['geometry'])\n",
    "df_nodes['x'] = df_nodes['geometry'].x\n",
    "df_nodes['y'] = df_nodes['geometry'].y\n",
    "\n",
    "df_edge_subset = df_nodes.reset_index()[['index','geometry']]\n",
    "df_edge_subset.columns = ['nodeID','node_geometry']\n",
    "\n",
    "df_edges = pd.merge(road_network,df_edge_subset,left_on='start_node',right_on='node_geometry')\n",
    "df_edges = pd.merge(df_edges,df_edge_subset,left_on='end_node',right_on='node_geometry')\n",
    "\n",
    "df_dist = df_edges[['start_node','end_node']].drop_duplicates()\n",
    "df_dist['len_km'] = df_dist.apply(get_haversine,axis=1)\n",
    "\n",
    "df_edges = pd.merge(df_edges,df_dist,on=['start_node','end_node'])\n",
    "\n",
    "network = pandana.Network(df_nodes['x'], df_nodes['y'], \n",
    "                          df_edges['nodeID_x'], df_edges['nodeID_y'], df_edges[['len_km']],twoway=True)\n"
   ]
  },
  {
   "cell_type": "code",
   "execution_count": 12,
   "metadata": {},
   "outputs": [
    {
     "name": "stdout",
     "output_type": "stream",
     "text": [
      "Population: 1.32 million\n"
     ]
    }
   ],
   "source": [
    "population = pd.read_csv('data/ppp_TLS_2020_1km_Aggregated_UNadj.csv')\n",
    "population.columns = ['lon','lat','population']\n",
    "pop_gdf = gpd.GeoDataFrame(population, geometry=gpd.points_from_xy(population.lon, population.lat))\n",
    "pop_gdf = pop_gdf[pop_gdf['population']>0]\n",
    "pop_gdf.crs = \"EPSG:4326\"\n",
    "\n",
    "print('Population:', round(pop_gdf['population'].sum()/1000000,2), 'million')\n",
    "\n",
    "pop_gdf['pop_color'] = pd.qcut(pop_gdf['population'],4, labels=['#ffffcc', '#a1dab4', '#41b6c4', '#225ea8'])\n",
    "\n",
    "pop_gdf = pop_gdf.reset_index()\n",
    "pop_gdf.rename(columns={'index':'pop_id'},inplace=True)\n",
    "\n",
    "pop_gdf = pop_gdf[['pop_id','lat','lon','population','geometry','pop_color']].reset_index()\n",
    "pop_gdf = pop_gdf.reset_index()\n",
    "del pop_gdf['index']\n",
    "del pop_gdf['pop_id']\n",
    "pop_gdf.rename(columns={'level_0':'pop_id'},inplace=True) \n",
    "\n",
    "pop_gdf['nearest_node_pop'] = network.get_node_ids(pop_gdf['lon'], \n",
    "                                                    pop_gdf['lat'], mapping_distance=1000)\n",
    "\n",
    "pop_gdf = pd.merge(pop_gdf,df_nodes.reset_index()[['index','x','y']],left_on='nearest_node_pop',\n",
    "                        right_on='index')\n",
    "pop_gdf['road_dist_pop'] = haversine_vectorize(pop_gdf['lon'],pop_gdf['lat'],\n",
    "                                                        pop_gdf['x'],pop_gdf['y'])\n",
    "pop_gdf = pop_gdf[['pop_id','geometry','lat','lon','population','pop_color',\n",
    "                   'nearest_node_pop','road_dist_pop']]\n",
    "\n",
    "pop_gdf = pop_gdf.sort_values('pop_id')"
   ]
  },
  {
   "cell_type": "code",
   "execution_count": 13,
   "metadata": {},
   "outputs": [],
   "source": [
    "health_sites = gpd.read_file('data/health_sites_who.geojson')\n",
    "health_sites = health_sites[['LAT','LONG','L_NAME','geometry','CLASS']].reset_index()\n",
    "health_sites['lat'] = health_sites['geometry'].apply(lambda x:x.y) \n",
    "health_sites['lon'] = health_sites['geometry'].apply(lambda x:x.x) \n",
    "health_sites.rename(columns={'index':'fac_id','L_NAME':'name'},inplace=True) \n",
    "del health_sites['LAT'] \n",
    "del health_sites['LONG']\n",
    "del health_sites['CLASS']\n",
    "\n",
    "health_sites['nearest_node_fac'] = network.get_node_ids(health_sites['lon'], \n",
    "                                                    health_sites['lat'], mapping_distance=1000)\n",
    "\n",
    "health_sites = pd.merge(health_sites,df_nodes.reset_index()[['index','x','y']],left_on='nearest_node_fac',\n",
    "                        right_on='index')\n",
    "\n",
    "health_sites['road_dist_fac'] = haversine_vectorize(health_sites['lon'],health_sites['lat'],\n",
    "                                                        health_sites['x'],health_sites['y'])\n",
    "health_sites = health_sites[['fac_id','name','geometry','lat','lon','nearest_node_fac','road_dist_fac']]\n"
   ]
  },
  {
   "cell_type": "code",
   "execution_count": 14,
   "metadata": {},
   "outputs": [
    {
     "name": "stdout",
     "output_type": "stream",
     "text": [
      "CPU times: total: 78.1 ms\n",
      "Wall time: 78 ms\n"
     ]
    }
   ],
   "source": [
    "%%time \n",
    "\n",
    "buffer_hospitals = health_sites[['fac_id','geometry']]\n",
    "buffer_hospitals['geometry'] = health_sites[['fac_id',\n",
    "                                             'geometry']].to_crs('EPSG:32610').buffer(distance_km*1000).to_crs('EPSG:4326').reset_index()[0]\n",
    "\n",
    "points_within_polygon = gpd.sjoin(pop_gdf, buffer_hospitals, op='within')\n",
    "points_within_polygon = points_within_polygon[['fac_id','pop_id']]\n",
    "\n",
    "buffered_pop = points_within_polygon.groupby('fac_id')['pop_id'].apply(list).reset_index()\n",
    "buffered_pop.columns = ['fac_id','pop_with_euclidean_buffer']\n",
    "\n",
    "df_access_fac = pd.merge(health_sites,buffered_pop,on='fac_id')\n"
   ]
  },
  {
   "cell_type": "code",
   "execution_count": 15,
   "metadata": {},
   "outputs": [],
   "source": [
    "travel_dist = df_access_fac[['fac_id','lat','lon',\n",
    "                             'pop_with_euclidean_buffer',\n",
    "                             'nearest_node_fac','road_dist_fac']].explode('pop_with_euclidean_buffer')\n",
    "\n",
    "travel_dist.rename(columns={'lat':'lat_fac'},inplace=True)\n",
    "travel_dist.rename(columns={'lon':'lon_fac'},inplace=True)\n",
    "\n",
    "travel_dist = pd.merge(travel_dist,pop_gdf[['pop_id','lon','lat','population','nearest_node_pop','road_dist_pop']],\n",
    "         left_on='pop_with_euclidean_buffer',right_on='pop_id')\n",
    "travel_dist.rename(columns={'lat':'lat_pop'},inplace=True)\n",
    "travel_dist.rename(columns={'lon':'lon_pop'},inplace=True)\n",
    "\n",
    "travel_dist['travel_path_km'] = network.shortest_path_lengths(travel_dist['nearest_node_fac'],\n",
    "                                                              travel_dist['nearest_node_pop'])\n",
    "\n",
    "travel_dist['travel_distance'] = travel_dist['road_dist_fac']+travel_dist['road_dist_pop']+travel_dist['travel_path_km']\n",
    "\n",
    "travel_dist['euclidean_distance'] = haversine_vectorize(travel_dist['lon_pop'],travel_dist['lat_pop'],\n",
    "                                                        travel_dist['lon_fac'],travel_dist['lat_fac'])"
   ]
  },
  {
   "cell_type": "code",
   "execution_count": 16,
   "metadata": {},
   "outputs": [],
   "source": [
    "travel_dist['travel_distance_corrected'] = travel_dist[['road_dist_pop','euclidean_distance',\n",
    "                                                           'travel_distance']].apply(get_corrected_distance,\n",
    "                                                                                            axis=1)\n"
   ]
  },
  {
   "cell_type": "markdown",
   "metadata": {},
   "source": [
    "# Added by Joaquim\n",
    "\n",
    "I noticed that line geometries from the road network have been replaced by straight lines. \n",
    "I got curious about the effect.\n",
    "\n",
    "## I learnt this from ChatGPT\n",
    "\n",
    "EPSG:4326, also known as WGS 84 (World Geodetic System 1984), is a geographic coordinate system based on latitude and longitude. It's often used to represent locations on the Earth's surface as spherical coordinates.\n",
    "\n",
    "While EPSG:4326 can be used for mapping and analysis in Timor-Leste, it's not the most suitable coordinate system if you need to perform accurate distance measurements or area calculations, especially over larger distances. Geographic coordinate systems like EPSG:4326 introduce distortion when measuring distances due to the spherical shape of the Earth, which can lead to inaccuracies.\n",
    "\n",
    "Using a projected coordinate system like UTM (EPSG:32752 or EPSG:32753) would provide more accurate measurements for distances and areas, as it minimizes distortion within a specific zone. UTM zones are designed for accurate measurement within their respective zones, making them more appropriate for tasks that involve quantitative analysis or precise measurements.\n",
    "\n",
    "However, if your work primarily involves visual representation, and you're not concerned with high-precision measurements, EPSG:4326 could still be used for mapping purposes in Timor-Leste. It's essential to consider the nature of your project and the level of accuracy required for your analysis when selecting a coordinate system."
   ]
  },
  {
   "cell_type": "code",
   "execution_count": 17,
   "metadata": {},
   "outputs": [],
   "source": [
    "def sorting_key(row):\n",
    "    return (row['start_node'].x, row['start_node'].y, row['end_node'].x, row['end_node'].y)\n",
    "\n",
    "idx_road_network = sorted(range(len(road_network)), key=lambda i: sorting_key(road_network.iloc[i]))\n",
    "idx_edges = sorted(range(len(df_edges)), key=lambda i: sorting_key(df_edges.iloc[i]))\n"
   ]
  },
  {
   "cell_type": "code",
   "execution_count": 18,
   "metadata": {},
   "outputs": [
    {
     "data": {
      "text/html": [
       "<div>\n",
       "<style scoped>\n",
       "    .dataframe tbody tr th:only-of-type {\n",
       "        vertical-align: middle;\n",
       "    }\n",
       "\n",
       "    .dataframe tbody tr th {\n",
       "        vertical-align: top;\n",
       "    }\n",
       "\n",
       "    .dataframe thead th {\n",
       "        text-align: right;\n",
       "    }\n",
       "</style>\n",
       "<table border=\"1\" class=\"dataframe\">\n",
       "  <thead>\n",
       "    <tr style=\"text-align: right;\">\n",
       "      <th></th>\n",
       "      <th>0</th>\n",
       "      <th>1</th>\n",
       "    </tr>\n",
       "  </thead>\n",
       "  <tbody>\n",
       "    <tr>\n",
       "      <th>0</th>\n",
       "      <td>22.494316</td>\n",
       "      <td>22.420943</td>\n",
       "    </tr>\n",
       "    <tr>\n",
       "      <th>1</th>\n",
       "      <td>31.352072</td>\n",
       "      <td>31.275937</td>\n",
       "    </tr>\n",
       "    <tr>\n",
       "      <th>2</th>\n",
       "      <td>57.523718</td>\n",
       "      <td>57.418381</td>\n",
       "    </tr>\n",
       "    <tr>\n",
       "      <th>3</th>\n",
       "      <td>61.078341</td>\n",
       "      <td>60.949410</td>\n",
       "    </tr>\n",
       "    <tr>\n",
       "      <th>4</th>\n",
       "      <td>75.728029</td>\n",
       "      <td>75.566194</td>\n",
       "    </tr>\n",
       "    <tr>\n",
       "      <th>...</th>\n",
       "      <td>...</td>\n",
       "      <td>...</td>\n",
       "    </tr>\n",
       "    <tr>\n",
       "      <th>405519</th>\n",
       "      <td>58.399550</td>\n",
       "      <td>58.696424</td>\n",
       "    </tr>\n",
       "    <tr>\n",
       "      <th>405520</th>\n",
       "      <td>9.791653</td>\n",
       "      <td>9.839349</td>\n",
       "    </tr>\n",
       "    <tr>\n",
       "      <th>405521</th>\n",
       "      <td>29.509185</td>\n",
       "      <td>29.648196</td>\n",
       "    </tr>\n",
       "    <tr>\n",
       "      <th>405522</th>\n",
       "      <td>58.907360</td>\n",
       "      <td>59.205182</td>\n",
       "    </tr>\n",
       "    <tr>\n",
       "      <th>405523</th>\n",
       "      <td>23.612753</td>\n",
       "      <td>23.735642</td>\n",
       "    </tr>\n",
       "  </tbody>\n",
       "</table>\n",
       "<p>405524 rows × 2 columns</p>\n",
       "</div>"
      ],
      "text/plain": [
       "                0          1\n",
       "0       22.494316  22.420943\n",
       "1       31.352072  31.275937\n",
       "2       57.523718  57.418381\n",
       "3       61.078341  60.949410\n",
       "4       75.728029  75.566194\n",
       "...           ...        ...\n",
       "405519  58.399550  58.696424\n",
       "405520   9.791653   9.839349\n",
       "405521  29.509185  29.648196\n",
       "405522  58.907360  59.205182\n",
       "405523  23.612753  23.735642\n",
       "\n",
       "[405524 rows x 2 columns]"
      ]
     },
     "execution_count": 18,
     "metadata": {},
     "output_type": "execute_result"
    }
   ],
   "source": [
    "pd.DataFrame( [road_network.iloc[idx_road_network].geometry.to_crs('EPSG:32752').length.values, ( df_edges.iloc[idx_edges].len_km * 1000 ).values] ).T"
   ]
  },
  {
   "cell_type": "code",
   "execution_count": 19,
   "metadata": {},
   "outputs": [
    {
     "data": {
      "text/html": [
       "<div>\n",
       "<style scoped>\n",
       "    .dataframe tbody tr th:only-of-type {\n",
       "        vertical-align: middle;\n",
       "    }\n",
       "\n",
       "    .dataframe tbody tr th {\n",
       "        vertical-align: top;\n",
       "    }\n",
       "\n",
       "    .dataframe thead th {\n",
       "        text-align: right;\n",
       "    }\n",
       "</style>\n",
       "<table border=\"1\" class=\"dataframe\">\n",
       "  <thead>\n",
       "    <tr style=\"text-align: right;\">\n",
       "      <th></th>\n",
       "      <th>Distance(km)</th>\n",
       "      <th>% of population with access</th>\n",
       "    </tr>\n",
       "  </thead>\n",
       "  <tbody>\n",
       "    <tr>\n",
       "      <th>0</th>\n",
       "      <td>2</td>\n",
       "      <td>37.54</td>\n",
       "    </tr>\n",
       "    <tr>\n",
       "      <th>1</th>\n",
       "      <td>5</td>\n",
       "      <td>66.40</td>\n",
       "    </tr>\n",
       "    <tr>\n",
       "      <th>2</th>\n",
       "      <td>10</td>\n",
       "      <td>76.22</td>\n",
       "    </tr>\n",
       "  </tbody>\n",
       "</table>\n",
       "</div>"
      ],
      "text/plain": [
       "   Distance(km)  % of population with access\n",
       "0             2                        37.54\n",
       "1             5                        66.40\n",
       "2            10                        76.22"
      ]
     },
     "execution_count": 19,
     "metadata": {},
     "output_type": "execute_result"
    }
   ],
   "source": [
    "perc_result = []\n",
    "\n",
    "for each_val in [2,5,10]:\n",
    "    pop_with_access = travel_dist[travel_dist['travel_distance_corrected']<=each_val]\n",
    "    pop_test = list(pop_with_access['pop_id'].unique())\n",
    "    sel_pop = pop_gdf[pop_gdf['pop_id'].isin(pop_test)]\n",
    "    not_sel_pop = pop_gdf[~pop_gdf['pop_id'].isin(pop_test)]\n",
    "    pop_access_perc = ((sel_pop['population'].sum().round()/pop_gdf['population'].sum().round())*100).round(2)\n",
    "    perc_result.append([each_val,pop_access_perc])\n",
    "\n",
    "df_perc_result = pd.DataFrame(perc_result)\n",
    "df_perc_result.columns = ['Distance(km)','% of population with access']\n",
    "df_perc_result"
   ]
  },
  {
   "cell_type": "code",
   "execution_count": 20,
   "metadata": {},
   "outputs": [],
   "source": [
    "current_facs = travel_dist[['fac_id','pop_id','travel_distance_corrected']]"
   ]
  },
  {
   "cell_type": "code",
   "execution_count": 21,
   "metadata": {},
   "outputs": [],
   "source": [
    "#current_facs.to_pickle('ForOptimization/WP_currentfacs.pkl')"
   ]
  },
  {
   "cell_type": "code",
   "execution_count": 22,
   "metadata": {},
   "outputs": [
    {
     "name": "stdout",
     "output_type": "stream",
     "text": [
      "CPU times: total: 1.8 s\n",
      "Wall time: 1.81 s\n"
     ]
    }
   ],
   "source": [
    "%%time \n",
    "\n",
    "potential_locs = gpd.read_file('data/potential_loc_grid1km.geojson')\n",
    "potential_locs = potential_locs.to_crs(\"EPSG:4326\")[['id','geometry']].reset_index()\n",
    "potential_locs = potential_locs[['index','geometry']]\n",
    "potential_locs['Latitude'] = potential_locs['geometry'].apply(lambda x:x.y)\n",
    "potential_locs['Longitude'] = potential_locs['geometry'].apply(lambda x:x.x)\n",
    "potential_locs.rename(columns={'index':'fac_id'},inplace=True)\n",
    "\n",
    "potential_locs['nearest_node_fac'] = network.get_node_ids(potential_locs['Longitude'], \n",
    "                                                    potential_locs['Latitude'], mapping_distance=1000)\n",
    "\n",
    "potential_locs = pd.merge(potential_locs,df_nodes.reset_index()[['index','x','y']],left_on='nearest_node_fac',\n",
    "                        right_on='index')\n",
    "\n",
    "potential_locs['road_dist_fac'] = haversine_vectorize(potential_locs['Longitude'],potential_locs['Latitude'],\n",
    "                                                        potential_locs['x'],potential_locs['y'])\n",
    "\n",
    "potential_locs = potential_locs[['fac_id','geometry','Latitude','Longitude','nearest_node_fac','road_dist_fac']]\n"
   ]
  },
  {
   "cell_type": "code",
   "execution_count": 23,
   "metadata": {},
   "outputs": [
    {
     "name": "stdout",
     "output_type": "stream",
     "text": [
      "CPU times: total: 1.94 s\n",
      "Wall time: 1.94 s\n"
     ]
    }
   ],
   "source": [
    "%%time \n",
    "\n",
    "buffer_hospitals = potential_locs[['fac_id','geometry']]\n",
    "buffer_hospitals['geometry'] = potential_locs[['fac_id',\n",
    "                                             'geometry']].to_crs('EPSG:32610').buffer(distance_km*1000).to_crs('EPSG:4326').reset_index()[0]\n",
    "\n",
    "points_within_polygon = gpd.sjoin(pop_gdf, buffer_hospitals, op='within')\n",
    "points_within_polygon = points_within_polygon[['fac_id','pop_id']]\n",
    "\n",
    "buffered_pop = points_within_polygon.groupby('fac_id')['pop_id'].apply(list).reset_index()\n",
    "buffered_pop.columns = ['fac_id','pop_with_euclidean_buffer']\n",
    "\n",
    "df_access_fac = pd.merge(potential_locs,buffered_pop,on='fac_id')\n",
    "\n",
    "\n"
   ]
  },
  {
   "cell_type": "code",
   "execution_count": 24,
   "metadata": {},
   "outputs": [],
   "source": [
    "travel_dist = df_access_fac[['fac_id','Latitude','Longitude',\n",
    "                             'pop_with_euclidean_buffer',\n",
    "                             'nearest_node_fac','road_dist_fac']].explode('pop_with_euclidean_buffer')\n",
    "\n",
    "travel_dist.rename(columns={'Latitude':'lat_fac'},inplace=True)\n",
    "travel_dist.rename(columns={'Longitude':'lon_fac'},inplace=True)\n",
    "\n",
    "travel_dist = pd.merge(travel_dist,pop_gdf[['pop_id','lon','lat',\n",
    "                                            'population','nearest_node_pop','road_dist_pop']],\n",
    "                       \n",
    "         left_on='pop_with_euclidean_buffer',right_on='pop_id')\n",
    "travel_dist.rename(columns={'lat':'lat_pop'},inplace=True)\n",
    "travel_dist.rename(columns={'lon':'lon_pop'},inplace=True)\n",
    "\n",
    "travel_dist['travel_path_km'] = network.shortest_path_lengths(travel_dist['nearest_node_fac'],\n",
    "                                                              travel_dist['nearest_node_pop'])\n",
    "\n",
    "travel_dist['travel_distance'] = travel_dist['road_dist_fac']+travel_dist['road_dist_pop']+travel_dist['travel_path_km']\n",
    "\n",
    "travel_dist['euclidean_distance'] = haversine_vectorize(travel_dist['lon_pop'],travel_dist['lat_pop'],\n",
    "                                                        travel_dist['lon_fac'],travel_dist['lat_fac'])"
   ]
  },
  {
   "cell_type": "code",
   "execution_count": 25,
   "metadata": {},
   "outputs": [],
   "source": [
    "travel_dist['travel_distance_corrected'] = travel_dist[['road_dist_pop','euclidean_distance',\n",
    "                                                           'travel_distance']].apply(get_corrected_distance,\n",
    "                                                                                            axis=1)\n"
   ]
  },
  {
   "cell_type": "code",
   "execution_count": 26,
   "metadata": {},
   "outputs": [
    {
     "data": {
      "text/html": [
       "<div>\n",
       "<style scoped>\n",
       "    .dataframe tbody tr th:only-of-type {\n",
       "        vertical-align: middle;\n",
       "    }\n",
       "\n",
       "    .dataframe tbody tr th {\n",
       "        vertical-align: top;\n",
       "    }\n",
       "\n",
       "    .dataframe thead th {\n",
       "        text-align: right;\n",
       "    }\n",
       "</style>\n",
       "<table border=\"1\" class=\"dataframe\">\n",
       "  <thead>\n",
       "    <tr style=\"text-align: right;\">\n",
       "      <th></th>\n",
       "      <th>Distance(km)</th>\n",
       "      <th>% of population with access</th>\n",
       "    </tr>\n",
       "  </thead>\n",
       "  <tbody>\n",
       "    <tr>\n",
       "      <th>0</th>\n",
       "      <td>2</td>\n",
       "      <td>100.0</td>\n",
       "    </tr>\n",
       "    <tr>\n",
       "      <th>1</th>\n",
       "      <td>5</td>\n",
       "      <td>100.0</td>\n",
       "    </tr>\n",
       "    <tr>\n",
       "      <th>2</th>\n",
       "      <td>10</td>\n",
       "      <td>100.0</td>\n",
       "    </tr>\n",
       "  </tbody>\n",
       "</table>\n",
       "</div>"
      ],
      "text/plain": [
       "   Distance(km)  % of population with access\n",
       "0             2                        100.0\n",
       "1             5                        100.0\n",
       "2            10                        100.0"
      ]
     },
     "execution_count": 26,
     "metadata": {},
     "output_type": "execute_result"
    }
   ],
   "source": [
    "perc_result = []\n",
    "\n",
    "for each_val in [2,5,10]:\n",
    "    pop_with_access = travel_dist[travel_dist['travel_distance_corrected']<=each_val]\n",
    "    pop_test = list(pop_with_access['pop_id'].unique())\n",
    "    sel_pop = pop_gdf[pop_gdf['pop_id'].isin(pop_test)]\n",
    "    not_sel_pop = pop_gdf[~pop_gdf['pop_id'].isin(pop_test)]\n",
    "    pop_access_perc = ((sel_pop['population'].sum().round()/pop_gdf['population'].sum().round())*100).round(2)\n",
    "    perc_result.append([each_val,pop_access_perc])\n",
    "\n",
    "df_perc_result = pd.DataFrame(perc_result)\n",
    "df_perc_result.columns = ['Distance(km)','% of population with access']\n",
    "df_perc_result"
   ]
  },
  {
   "cell_type": "code",
   "execution_count": 27,
   "metadata": {},
   "outputs": [],
   "source": [
    "potential_facs = travel_dist[['fac_id','pop_id','travel_distance_corrected']]"
   ]
  },
  {
   "cell_type": "code",
   "execution_count": 28,
   "metadata": {},
   "outputs": [],
   "source": [
    "potential_facs.to_pickle('ForOptimization/WP_potentialfacs.pkl')"
   ]
  },
  {
   "cell_type": "code",
   "execution_count": 29,
   "metadata": {},
   "outputs": [],
   "source": [
    "pop_gdf.to_pickle('ForOptimization/WP_population.pkl')"
   ]
  },
  {
   "cell_type": "code",
   "execution_count": 30,
   "metadata": {},
   "outputs": [],
   "source": [
    "current_facs = current_facs.round()\n",
    "potential_facs = potential_facs.round()"
   ]
  },
  {
   "cell_type": "code",
   "execution_count": 31,
   "metadata": {},
   "outputs": [],
   "source": [
    "potential_facs['fac_id'] = potential_facs['fac_id']+current_facs['fac_id'].max()+1\n"
   ]
  },
  {
   "cell_type": "code",
   "execution_count": 32,
   "metadata": {},
   "outputs": [],
   "source": [
    "df_combined = pd.concat([current_facs, potential_facs],axis=0)\n",
    "df_combined.columns = ['fac_id','pop_id','distance']"
   ]
  },
  {
   "cell_type": "code",
   "execution_count": 33,
   "metadata": {},
   "outputs": [
    {
     "data": {
      "text/plain": [
       "array([ 9, 39, 27, ..., 34, 41, 37])"
      ]
     },
     "execution_count": 33,
     "metadata": {},
     "output_type": "execute_result"
    }
   ],
   "source": [
    "pop_gdf.sort_values(by='pop_id')['population'].values.round().astype(int)"
   ]
  },
  {
   "cell_type": "code",
   "execution_count": 34,
   "metadata": {},
   "outputs": [
    {
     "name": "stdout",
     "output_type": "stream",
     "text": [
      "Set parameter Username\n",
      "Academic license - for non-commercial use only - expires 2023-11-02\n",
      "Threshold distance: 2\n",
      "Solving time: 0.47304365237553914, modelling time: 0.009496704737345377\n",
      "Threshold distance: 5\n",
      "Solving time: 0.4529760479927063, modelling time: 0.010958313941955566\n",
      "Threshold distance: 10\n",
      "Solving time: 0.49960144360860187, modelling time: 0.013271152973175049\n",
      "CPU times: total: 2min 33s\n",
      "Wall time: 1min 27s\n"
     ]
    }
   ],
   "source": [
    "%%time\n",
    "\n",
    "budget = [5,10,20,30,40,50,60,70,80,90,100,150,200,250,300,400,500,750,1000,2000]\n",
    "\n",
    "array_household = pop_gdf.sort_values(by='pop_id')['population'].values.round().astype(int)\n",
    "current_hospitals_ID = current_facs['fac_id'].unique()\n",
    "new_hospitals_ID = potential_facs['fac_id'].unique()\n",
    "    \n",
    "df_combined_output = pd.DataFrame()\n",
    "for each_threshold in [2,5,10]:\n",
    "    opt_array, tModelling, tSolving = OptimizationModel(array_household, current_hospitals_ID, \n",
    "                                                        new_hospitals_ID, df_combined, each_threshold, \n",
    "                                                        budget)\n",
    "    \n",
    "    df_opt_outputs = pd.DataFrame(opt_array)\n",
    "    \n",
    "    df_combined_output = pd.concat([df_combined_output,df_opt_outputs])\n",
    "    print(\"Threshold distance: \" + str(each_threshold))\n",
    "    print(\"Solving time: \" + str(tSolving/60) + \", modelling time: \" + str(tModelling/60))\n",
    "    "
   ]
  },
  {
   "cell_type": "code",
   "execution_count": 35,
   "metadata": {},
   "outputs": [],
   "source": [
    "df_combined_output['%'] = df_combined_output['%'].round()"
   ]
  },
  {
   "cell_type": "code",
   "execution_count": 36,
   "metadata": {},
   "outputs": [
    {
     "data": {
      "text/html": [
       "<div>\n",
       "<style scoped>\n",
       "    .dataframe tbody tr th:only-of-type {\n",
       "        vertical-align: middle;\n",
       "    }\n",
       "\n",
       "    .dataframe tbody tr th {\n",
       "        vertical-align: top;\n",
       "    }\n",
       "\n",
       "    .dataframe thead th {\n",
       "        text-align: right;\n",
       "    }\n",
       "</style>\n",
       "<table border=\"1\" class=\"dataframe\">\n",
       "  <thead>\n",
       "    <tr style=\"text-align: right;\">\n",
       "      <th></th>\n",
       "      <th>km</th>\n",
       "      <th>number_of_new_hospitals</th>\n",
       "      <th>count</th>\n",
       "      <th>array_hosp</th>\n",
       "      <th>array_hh</th>\n",
       "      <th>number_of_hospitals</th>\n",
       "      <th>%</th>\n",
       "    </tr>\n",
       "  </thead>\n",
       "  <tbody>\n",
       "    <tr>\n",
       "      <th>0</th>\n",
       "      <td>2</td>\n",
       "      <td>0</td>\n",
       "      <td>574316.0</td>\n",
       "      <td>[1.0, 1.0, 1.0, 1.0, 1.0, 1.0, 1.0, 1.0, 1.0, ...</td>\n",
       "      <td>[0.0, 0.0, 0.0, 0.0, 0.0, 0.0, 0.0, 0.0, 0.0, ...</td>\n",
       "      <td>347</td>\n",
       "      <td>44.0</td>\n",
       "    </tr>\n",
       "    <tr>\n",
       "      <th>1</th>\n",
       "      <td>2</td>\n",
       "      <td>5</td>\n",
       "      <td>636869.0</td>\n",
       "      <td>[1.0, 1.0, 1.0, 1.0, 1.0, 1.0, 1.0, 1.0, 1.0, ...</td>\n",
       "      <td>[-0.0, -0.0, -0.0, -0.0, -0.0, 0.0, -0.0, -0.0...</td>\n",
       "      <td>352</td>\n",
       "      <td>48.0</td>\n",
       "    </tr>\n",
       "    <tr>\n",
       "      <th>2</th>\n",
       "      <td>2</td>\n",
       "      <td>10</td>\n",
       "      <td>656899.0</td>\n",
       "      <td>[1.0, 1.0, 1.0, 1.0, 1.0, 1.0, 1.0, 1.0, 1.0, ...</td>\n",
       "      <td>[0.0, 0.0, 0.0, 0.0, 0.0, 0.0, 0.0, 0.0, 0.0, ...</td>\n",
       "      <td>357</td>\n",
       "      <td>50.0</td>\n",
       "    </tr>\n",
       "    <tr>\n",
       "      <th>3</th>\n",
       "      <td>2</td>\n",
       "      <td>20</td>\n",
       "      <td>686983.0</td>\n",
       "      <td>[1.0, 1.0, 1.0, 1.0, 1.0, 1.0, 1.0, 1.0, 1.0, ...</td>\n",
       "      <td>[-0.0, -0.0, -0.0, -0.0, -0.0, 0.0, -0.0, -0.0...</td>\n",
       "      <td>367</td>\n",
       "      <td>52.0</td>\n",
       "    </tr>\n",
       "    <tr>\n",
       "      <th>4</th>\n",
       "      <td>2</td>\n",
       "      <td>30</td>\n",
       "      <td>710692.0</td>\n",
       "      <td>[1.0, 1.0, 1.0, 1.0, 1.0, 1.0, 1.0, 1.0, 1.0, ...</td>\n",
       "      <td>[0.0, 0.0, 0.0, 0.0, 0.0, 0.0, 0.0, 0.0, 0.0, ...</td>\n",
       "      <td>377</td>\n",
       "      <td>54.0</td>\n",
       "    </tr>\n",
       "    <tr>\n",
       "      <th>...</th>\n",
       "      <td>...</td>\n",
       "      <td>...</td>\n",
       "      <td>...</td>\n",
       "      <td>...</td>\n",
       "      <td>...</td>\n",
       "      <td>...</td>\n",
       "      <td>...</td>\n",
       "    </tr>\n",
       "    <tr>\n",
       "      <th>16</th>\n",
       "      <td>10</td>\n",
       "      <td>400</td>\n",
       "      <td>1315811.0</td>\n",
       "      <td>[1.0, 1.0, 1.0, 1.0, 1.0, 1.0, 1.0, 1.0, 1.0, ...</td>\n",
       "      <td>[1.0, 1.0, 1.0, 1.0, 1.0, 1.0, 1.0, 1.0, 1.0, ...</td>\n",
       "      <td>747</td>\n",
       "      <td>100.0</td>\n",
       "    </tr>\n",
       "    <tr>\n",
       "      <th>17</th>\n",
       "      <td>10</td>\n",
       "      <td>500</td>\n",
       "      <td>1317157.0</td>\n",
       "      <td>[1.0, 1.0, 1.0, 1.0, 1.0, 1.0, 1.0, 1.0, 1.0, ...</td>\n",
       "      <td>[1.0, 1.0, 1.0, 1.0, 1.0, 1.0, 1.0, 1.0, 1.0, ...</td>\n",
       "      <td>847</td>\n",
       "      <td>100.0</td>\n",
       "    </tr>\n",
       "    <tr>\n",
       "      <th>18</th>\n",
       "      <td>10</td>\n",
       "      <td>750</td>\n",
       "      <td>1317157.0</td>\n",
       "      <td>[1.0, 1.0, 1.0, 1.0, 1.0, 1.0, 1.0, 1.0, 1.0, ...</td>\n",
       "      <td>[1.0, 1.0, 1.0, 1.0, 1.0, 1.0, 1.0, 1.0, 1.0, ...</td>\n",
       "      <td>1097</td>\n",
       "      <td>100.0</td>\n",
       "    </tr>\n",
       "    <tr>\n",
       "      <th>19</th>\n",
       "      <td>10</td>\n",
       "      <td>1000</td>\n",
       "      <td>1317157.0</td>\n",
       "      <td>[1.0, 1.0, 1.0, 1.0, 1.0, 1.0, 1.0, 1.0, 1.0, ...</td>\n",
       "      <td>[1.0, 1.0, 1.0, 1.0, 1.0, 1.0, 1.0, 1.0, 1.0, ...</td>\n",
       "      <td>1347</td>\n",
       "      <td>100.0</td>\n",
       "    </tr>\n",
       "    <tr>\n",
       "      <th>20</th>\n",
       "      <td>10</td>\n",
       "      <td>2000</td>\n",
       "      <td>1317157.0</td>\n",
       "      <td>[1.0, 1.0, 1.0, 1.0, 1.0, 1.0, 1.0, 1.0, 1.0, ...</td>\n",
       "      <td>[1.0, 1.0, 1.0, 1.0, 1.0, 1.0, 1.0, 1.0, 1.0, ...</td>\n",
       "      <td>2347</td>\n",
       "      <td>100.0</td>\n",
       "    </tr>\n",
       "  </tbody>\n",
       "</table>\n",
       "<p>63 rows × 7 columns</p>\n",
       "</div>"
      ],
      "text/plain": [
       "    km  number_of_new_hospitals      count   \n",
       "0    2                        0   574316.0  \\\n",
       "1    2                        5   636869.0   \n",
       "2    2                       10   656899.0   \n",
       "3    2                       20   686983.0   \n",
       "4    2                       30   710692.0   \n",
       "..  ..                      ...        ...   \n",
       "16  10                      400  1315811.0   \n",
       "17  10                      500  1317157.0   \n",
       "18  10                      750  1317157.0   \n",
       "19  10                     1000  1317157.0   \n",
       "20  10                     2000  1317157.0   \n",
       "\n",
       "                                           array_hosp   \n",
       "0   [1.0, 1.0, 1.0, 1.0, 1.0, 1.0, 1.0, 1.0, 1.0, ...  \\\n",
       "1   [1.0, 1.0, 1.0, 1.0, 1.0, 1.0, 1.0, 1.0, 1.0, ...   \n",
       "2   [1.0, 1.0, 1.0, 1.0, 1.0, 1.0, 1.0, 1.0, 1.0, ...   \n",
       "3   [1.0, 1.0, 1.0, 1.0, 1.0, 1.0, 1.0, 1.0, 1.0, ...   \n",
       "4   [1.0, 1.0, 1.0, 1.0, 1.0, 1.0, 1.0, 1.0, 1.0, ...   \n",
       "..                                                ...   \n",
       "16  [1.0, 1.0, 1.0, 1.0, 1.0, 1.0, 1.0, 1.0, 1.0, ...   \n",
       "17  [1.0, 1.0, 1.0, 1.0, 1.0, 1.0, 1.0, 1.0, 1.0, ...   \n",
       "18  [1.0, 1.0, 1.0, 1.0, 1.0, 1.0, 1.0, 1.0, 1.0, ...   \n",
       "19  [1.0, 1.0, 1.0, 1.0, 1.0, 1.0, 1.0, 1.0, 1.0, ...   \n",
       "20  [1.0, 1.0, 1.0, 1.0, 1.0, 1.0, 1.0, 1.0, 1.0, ...   \n",
       "\n",
       "                                             array_hh  number_of_hospitals   \n",
       "0   [0.0, 0.0, 0.0, 0.0, 0.0, 0.0, 0.0, 0.0, 0.0, ...                  347  \\\n",
       "1   [-0.0, -0.0, -0.0, -0.0, -0.0, 0.0, -0.0, -0.0...                  352   \n",
       "2   [0.0, 0.0, 0.0, 0.0, 0.0, 0.0, 0.0, 0.0, 0.0, ...                  357   \n",
       "3   [-0.0, -0.0, -0.0, -0.0, -0.0, 0.0, -0.0, -0.0...                  367   \n",
       "4   [0.0, 0.0, 0.0, 0.0, 0.0, 0.0, 0.0, 0.0, 0.0, ...                  377   \n",
       "..                                                ...                  ...   \n",
       "16  [1.0, 1.0, 1.0, 1.0, 1.0, 1.0, 1.0, 1.0, 1.0, ...                  747   \n",
       "17  [1.0, 1.0, 1.0, 1.0, 1.0, 1.0, 1.0, 1.0, 1.0, ...                  847   \n",
       "18  [1.0, 1.0, 1.0, 1.0, 1.0, 1.0, 1.0, 1.0, 1.0, ...                 1097   \n",
       "19  [1.0, 1.0, 1.0, 1.0, 1.0, 1.0, 1.0, 1.0, 1.0, ...                 1347   \n",
       "20  [1.0, 1.0, 1.0, 1.0, 1.0, 1.0, 1.0, 1.0, 1.0, ...                 2347   \n",
       "\n",
       "        %  \n",
       "0    44.0  \n",
       "1    48.0  \n",
       "2    50.0  \n",
       "3    52.0  \n",
       "4    54.0  \n",
       "..    ...  \n",
       "16  100.0  \n",
       "17  100.0  \n",
       "18  100.0  \n",
       "19  100.0  \n",
       "20  100.0  \n",
       "\n",
       "[63 rows x 7 columns]"
      ]
     },
     "execution_count": 36,
     "metadata": {},
     "output_type": "execute_result"
    }
   ],
   "source": [
    "df_combined_output"
   ]
  },
  {
   "cell_type": "code",
   "execution_count": 37,
   "metadata": {},
   "outputs": [
    {
     "data": {
      "application/vnd.plotly.v1+json": {
       "config": {
        "plotlyServerURL": "https://plot.ly"
       },
       "data": [
        {
         "hovertemplate": "Distance (KM)=2<br>Number of Health Facilities=%{x}<br>Percentage of households with access=%{y}<extra></extra>",
         "legendgroup": "2",
         "line": {
          "color": "#636efa",
          "dash": "solid"
         },
         "marker": {
          "symbol": "circle"
         },
         "mode": "lines",
         "name": "2",
         "orientation": "v",
         "showlegend": true,
         "type": "scatter",
         "x": [
          347,
          352,
          357,
          367,
          377,
          387,
          397,
          407,
          417,
          427,
          437,
          447,
          497,
          547,
          597,
          647,
          747,
          847,
          1097,
          1347,
          2347
         ],
         "xaxis": "x",
         "y": [
          44,
          48,
          50,
          52,
          54,
          56,
          57,
          58,
          59,
          60,
          61,
          62,
          66,
          70,
          73,
          75,
          80,
          83,
          90,
          94,
          100
         ],
         "yaxis": "y"
        },
        {
         "hovertemplate": "Distance (KM)=5<br>Number of Health Facilities=%{x}<br>Percentage of households with access=%{y}<extra></extra>",
         "legendgroup": "5",
         "line": {
          "color": "#EF553B",
          "dash": "solid"
         },
         "marker": {
          "symbol": "circle"
         },
         "mode": "lines",
         "name": "5",
         "orientation": "v",
         "showlegend": true,
         "type": "scatter",
         "x": [
          347,
          352,
          357,
          367,
          377,
          387,
          397,
          407,
          417,
          427,
          437,
          447,
          497,
          547,
          597,
          647,
          747,
          847,
          1097,
          1347,
          2347
         ],
         "xaxis": "x",
         "y": [
          69,
          73,
          75,
          77,
          79,
          80,
          81,
          82,
          84,
          85,
          86,
          86,
          90,
          92,
          95,
          96,
          98,
          100,
          100,
          100,
          100
         ],
         "yaxis": "y"
        },
        {
         "hovertemplate": "Distance (KM)=10<br>Number of Health Facilities=%{x}<br>Percentage of households with access=%{y}<extra></extra>",
         "legendgroup": "10",
         "line": {
          "color": "#00cc96",
          "dash": "solid"
         },
         "marker": {
          "symbol": "circle"
         },
         "mode": "lines",
         "name": "10",
         "orientation": "v",
         "showlegend": true,
         "type": "scatter",
         "x": [
          347,
          352,
          357,
          367,
          377,
          387,
          397,
          407,
          417,
          427,
          437,
          447,
          497,
          547,
          597,
          647,
          747,
          847,
          1097,
          1347,
          2347
         ],
         "xaxis": "x",
         "y": [
          76,
          80,
          82,
          84,
          85,
          86,
          87,
          88,
          89,
          90,
          90,
          91,
          94,
          96,
          98,
          99,
          100,
          100,
          100,
          100,
          100
         ],
         "yaxis": "y"
        }
       ],
       "layout": {
        "annotations": [
         {
          "arrowhead": 1,
          "showarrow": false,
          "text": "Current health facilities:347",
          "x": 165,
          "y": 105
         }
        ],
        "legend": {
         "title": {
          "text": "Distance (KM)"
         },
         "tracegroupgap": 0
        },
        "margin": {
         "t": 60
        },
        "shapes": [
         {
          "line": {
           "color": "RoyalBlue",
           "width": 1
          },
          "type": "line",
          "x0": 347,
          "x1": 347,
          "y0": 0,
          "y1": 120
         }
        ],
        "template": {
         "data": {
          "bar": [
           {
            "error_x": {
             "color": "#2a3f5f"
            },
            "error_y": {
             "color": "#2a3f5f"
            },
            "marker": {
             "line": {
              "color": "#E5ECF6",
              "width": 0.5
             },
             "pattern": {
              "fillmode": "overlay",
              "size": 10,
              "solidity": 0.2
             }
            },
            "type": "bar"
           }
          ],
          "barpolar": [
           {
            "marker": {
             "line": {
              "color": "#E5ECF6",
              "width": 0.5
             },
             "pattern": {
              "fillmode": "overlay",
              "size": 10,
              "solidity": 0.2
             }
            },
            "type": "barpolar"
           }
          ],
          "carpet": [
           {
            "aaxis": {
             "endlinecolor": "#2a3f5f",
             "gridcolor": "white",
             "linecolor": "white",
             "minorgridcolor": "white",
             "startlinecolor": "#2a3f5f"
            },
            "baxis": {
             "endlinecolor": "#2a3f5f",
             "gridcolor": "white",
             "linecolor": "white",
             "minorgridcolor": "white",
             "startlinecolor": "#2a3f5f"
            },
            "type": "carpet"
           }
          ],
          "choropleth": [
           {
            "colorbar": {
             "outlinewidth": 0,
             "ticks": ""
            },
            "type": "choropleth"
           }
          ],
          "contour": [
           {
            "colorbar": {
             "outlinewidth": 0,
             "ticks": ""
            },
            "colorscale": [
             [
              0,
              "#0d0887"
             ],
             [
              0.1111111111111111,
              "#46039f"
             ],
             [
              0.2222222222222222,
              "#7201a8"
             ],
             [
              0.3333333333333333,
              "#9c179e"
             ],
             [
              0.4444444444444444,
              "#bd3786"
             ],
             [
              0.5555555555555556,
              "#d8576b"
             ],
             [
              0.6666666666666666,
              "#ed7953"
             ],
             [
              0.7777777777777778,
              "#fb9f3a"
             ],
             [
              0.8888888888888888,
              "#fdca26"
             ],
             [
              1,
              "#f0f921"
             ]
            ],
            "type": "contour"
           }
          ],
          "contourcarpet": [
           {
            "colorbar": {
             "outlinewidth": 0,
             "ticks": ""
            },
            "type": "contourcarpet"
           }
          ],
          "heatmap": [
           {
            "colorbar": {
             "outlinewidth": 0,
             "ticks": ""
            },
            "colorscale": [
             [
              0,
              "#0d0887"
             ],
             [
              0.1111111111111111,
              "#46039f"
             ],
             [
              0.2222222222222222,
              "#7201a8"
             ],
             [
              0.3333333333333333,
              "#9c179e"
             ],
             [
              0.4444444444444444,
              "#bd3786"
             ],
             [
              0.5555555555555556,
              "#d8576b"
             ],
             [
              0.6666666666666666,
              "#ed7953"
             ],
             [
              0.7777777777777778,
              "#fb9f3a"
             ],
             [
              0.8888888888888888,
              "#fdca26"
             ],
             [
              1,
              "#f0f921"
             ]
            ],
            "type": "heatmap"
           }
          ],
          "heatmapgl": [
           {
            "colorbar": {
             "outlinewidth": 0,
             "ticks": ""
            },
            "colorscale": [
             [
              0,
              "#0d0887"
             ],
             [
              0.1111111111111111,
              "#46039f"
             ],
             [
              0.2222222222222222,
              "#7201a8"
             ],
             [
              0.3333333333333333,
              "#9c179e"
             ],
             [
              0.4444444444444444,
              "#bd3786"
             ],
             [
              0.5555555555555556,
              "#d8576b"
             ],
             [
              0.6666666666666666,
              "#ed7953"
             ],
             [
              0.7777777777777778,
              "#fb9f3a"
             ],
             [
              0.8888888888888888,
              "#fdca26"
             ],
             [
              1,
              "#f0f921"
             ]
            ],
            "type": "heatmapgl"
           }
          ],
          "histogram": [
           {
            "marker": {
             "pattern": {
              "fillmode": "overlay",
              "size": 10,
              "solidity": 0.2
             }
            },
            "type": "histogram"
           }
          ],
          "histogram2d": [
           {
            "colorbar": {
             "outlinewidth": 0,
             "ticks": ""
            },
            "colorscale": [
             [
              0,
              "#0d0887"
             ],
             [
              0.1111111111111111,
              "#46039f"
             ],
             [
              0.2222222222222222,
              "#7201a8"
             ],
             [
              0.3333333333333333,
              "#9c179e"
             ],
             [
              0.4444444444444444,
              "#bd3786"
             ],
             [
              0.5555555555555556,
              "#d8576b"
             ],
             [
              0.6666666666666666,
              "#ed7953"
             ],
             [
              0.7777777777777778,
              "#fb9f3a"
             ],
             [
              0.8888888888888888,
              "#fdca26"
             ],
             [
              1,
              "#f0f921"
             ]
            ],
            "type": "histogram2d"
           }
          ],
          "histogram2dcontour": [
           {
            "colorbar": {
             "outlinewidth": 0,
             "ticks": ""
            },
            "colorscale": [
             [
              0,
              "#0d0887"
             ],
             [
              0.1111111111111111,
              "#46039f"
             ],
             [
              0.2222222222222222,
              "#7201a8"
             ],
             [
              0.3333333333333333,
              "#9c179e"
             ],
             [
              0.4444444444444444,
              "#bd3786"
             ],
             [
              0.5555555555555556,
              "#d8576b"
             ],
             [
              0.6666666666666666,
              "#ed7953"
             ],
             [
              0.7777777777777778,
              "#fb9f3a"
             ],
             [
              0.8888888888888888,
              "#fdca26"
             ],
             [
              1,
              "#f0f921"
             ]
            ],
            "type": "histogram2dcontour"
           }
          ],
          "mesh3d": [
           {
            "colorbar": {
             "outlinewidth": 0,
             "ticks": ""
            },
            "type": "mesh3d"
           }
          ],
          "parcoords": [
           {
            "line": {
             "colorbar": {
              "outlinewidth": 0,
              "ticks": ""
             }
            },
            "type": "parcoords"
           }
          ],
          "pie": [
           {
            "automargin": true,
            "type": "pie"
           }
          ],
          "scatter": [
           {
            "fillpattern": {
             "fillmode": "overlay",
             "size": 10,
             "solidity": 0.2
            },
            "type": "scatter"
           }
          ],
          "scatter3d": [
           {
            "line": {
             "colorbar": {
              "outlinewidth": 0,
              "ticks": ""
             }
            },
            "marker": {
             "colorbar": {
              "outlinewidth": 0,
              "ticks": ""
             }
            },
            "type": "scatter3d"
           }
          ],
          "scattercarpet": [
           {
            "marker": {
             "colorbar": {
              "outlinewidth": 0,
              "ticks": ""
             }
            },
            "type": "scattercarpet"
           }
          ],
          "scattergeo": [
           {
            "marker": {
             "colorbar": {
              "outlinewidth": 0,
              "ticks": ""
             }
            },
            "type": "scattergeo"
           }
          ],
          "scattergl": [
           {
            "marker": {
             "colorbar": {
              "outlinewidth": 0,
              "ticks": ""
             }
            },
            "type": "scattergl"
           }
          ],
          "scattermapbox": [
           {
            "marker": {
             "colorbar": {
              "outlinewidth": 0,
              "ticks": ""
             }
            },
            "type": "scattermapbox"
           }
          ],
          "scatterpolar": [
           {
            "marker": {
             "colorbar": {
              "outlinewidth": 0,
              "ticks": ""
             }
            },
            "type": "scatterpolar"
           }
          ],
          "scatterpolargl": [
           {
            "marker": {
             "colorbar": {
              "outlinewidth": 0,
              "ticks": ""
             }
            },
            "type": "scatterpolargl"
           }
          ],
          "scatterternary": [
           {
            "marker": {
             "colorbar": {
              "outlinewidth": 0,
              "ticks": ""
             }
            },
            "type": "scatterternary"
           }
          ],
          "surface": [
           {
            "colorbar": {
             "outlinewidth": 0,
             "ticks": ""
            },
            "colorscale": [
             [
              0,
              "#0d0887"
             ],
             [
              0.1111111111111111,
              "#46039f"
             ],
             [
              0.2222222222222222,
              "#7201a8"
             ],
             [
              0.3333333333333333,
              "#9c179e"
             ],
             [
              0.4444444444444444,
              "#bd3786"
             ],
             [
              0.5555555555555556,
              "#d8576b"
             ],
             [
              0.6666666666666666,
              "#ed7953"
             ],
             [
              0.7777777777777778,
              "#fb9f3a"
             ],
             [
              0.8888888888888888,
              "#fdca26"
             ],
             [
              1,
              "#f0f921"
             ]
            ],
            "type": "surface"
           }
          ],
          "table": [
           {
            "cells": {
             "fill": {
              "color": "#EBF0F8"
             },
             "line": {
              "color": "white"
             }
            },
            "header": {
             "fill": {
              "color": "#C8D4E3"
             },
             "line": {
              "color": "white"
             }
            },
            "type": "table"
           }
          ]
         },
         "layout": {
          "annotationdefaults": {
           "arrowcolor": "#2a3f5f",
           "arrowhead": 0,
           "arrowwidth": 1
          },
          "autotypenumbers": "strict",
          "coloraxis": {
           "colorbar": {
            "outlinewidth": 0,
            "ticks": ""
           }
          },
          "colorscale": {
           "diverging": [
            [
             0,
             "#8e0152"
            ],
            [
             0.1,
             "#c51b7d"
            ],
            [
             0.2,
             "#de77ae"
            ],
            [
             0.3,
             "#f1b6da"
            ],
            [
             0.4,
             "#fde0ef"
            ],
            [
             0.5,
             "#f7f7f7"
            ],
            [
             0.6,
             "#e6f5d0"
            ],
            [
             0.7,
             "#b8e186"
            ],
            [
             0.8,
             "#7fbc41"
            ],
            [
             0.9,
             "#4d9221"
            ],
            [
             1,
             "#276419"
            ]
           ],
           "sequential": [
            [
             0,
             "#0d0887"
            ],
            [
             0.1111111111111111,
             "#46039f"
            ],
            [
             0.2222222222222222,
             "#7201a8"
            ],
            [
             0.3333333333333333,
             "#9c179e"
            ],
            [
             0.4444444444444444,
             "#bd3786"
            ],
            [
             0.5555555555555556,
             "#d8576b"
            ],
            [
             0.6666666666666666,
             "#ed7953"
            ],
            [
             0.7777777777777778,
             "#fb9f3a"
            ],
            [
             0.8888888888888888,
             "#fdca26"
            ],
            [
             1,
             "#f0f921"
            ]
           ],
           "sequentialminus": [
            [
             0,
             "#0d0887"
            ],
            [
             0.1111111111111111,
             "#46039f"
            ],
            [
             0.2222222222222222,
             "#7201a8"
            ],
            [
             0.3333333333333333,
             "#9c179e"
            ],
            [
             0.4444444444444444,
             "#bd3786"
            ],
            [
             0.5555555555555556,
             "#d8576b"
            ],
            [
             0.6666666666666666,
             "#ed7953"
            ],
            [
             0.7777777777777778,
             "#fb9f3a"
            ],
            [
             0.8888888888888888,
             "#fdca26"
            ],
            [
             1,
             "#f0f921"
            ]
           ]
          },
          "colorway": [
           "#636efa",
           "#EF553B",
           "#00cc96",
           "#ab63fa",
           "#FFA15A",
           "#19d3f3",
           "#FF6692",
           "#B6E880",
           "#FF97FF",
           "#FECB52"
          ],
          "font": {
           "color": "#2a3f5f"
          },
          "geo": {
           "bgcolor": "white",
           "lakecolor": "white",
           "landcolor": "#E5ECF6",
           "showlakes": true,
           "showland": true,
           "subunitcolor": "white"
          },
          "hoverlabel": {
           "align": "left"
          },
          "hovermode": "closest",
          "mapbox": {
           "style": "light"
          },
          "paper_bgcolor": "white",
          "plot_bgcolor": "#E5ECF6",
          "polar": {
           "angularaxis": {
            "gridcolor": "white",
            "linecolor": "white",
            "ticks": ""
           },
           "bgcolor": "#E5ECF6",
           "radialaxis": {
            "gridcolor": "white",
            "linecolor": "white",
            "ticks": ""
           }
          },
          "scene": {
           "xaxis": {
            "backgroundcolor": "#E5ECF6",
            "gridcolor": "white",
            "gridwidth": 2,
            "linecolor": "white",
            "showbackground": true,
            "ticks": "",
            "zerolinecolor": "white"
           },
           "yaxis": {
            "backgroundcolor": "#E5ECF6",
            "gridcolor": "white",
            "gridwidth": 2,
            "linecolor": "white",
            "showbackground": true,
            "ticks": "",
            "zerolinecolor": "white"
           },
           "zaxis": {
            "backgroundcolor": "#E5ECF6",
            "gridcolor": "white",
            "gridwidth": 2,
            "linecolor": "white",
            "showbackground": true,
            "ticks": "",
            "zerolinecolor": "white"
           }
          },
          "shapedefaults": {
           "line": {
            "color": "#2a3f5f"
           }
          },
          "ternary": {
           "aaxis": {
            "gridcolor": "white",
            "linecolor": "white",
            "ticks": ""
           },
           "baxis": {
            "gridcolor": "white",
            "linecolor": "white",
            "ticks": ""
           },
           "bgcolor": "#E5ECF6",
           "caxis": {
            "gridcolor": "white",
            "linecolor": "white",
            "ticks": ""
           }
          },
          "title": {
           "x": 0.05
          },
          "xaxis": {
           "automargin": true,
           "gridcolor": "white",
           "linecolor": "white",
           "ticks": "",
           "title": {
            "standoff": 15
           },
           "zerolinecolor": "white",
           "zerolinewidth": 2
          },
          "yaxis": {
           "automargin": true,
           "gridcolor": "white",
           "linecolor": "white",
           "ticks": "",
           "title": {
            "standoff": 15
           },
           "zerolinecolor": "white",
           "zerolinewidth": 2
          }
         }
        },
        "xaxis": {
         "anchor": "y",
         "domain": [
          0,
          1
         ],
         "range": [
          0,
          2500
         ],
         "title": {
          "text": "Number of Health Facilities"
         }
        },
        "yaxis": {
         "anchor": "x",
         "domain": [
          0,
          1
         ],
         "range": [
          0,
          110
         ],
         "title": {
          "text": "Percentage of households with access"
         }
        }
       }
      }
     },
     "metadata": {},
     "output_type": "display_data"
    }
   ],
   "source": [
    "fig = px.line(df_combined_output.sort_values(by=['km','number_of_hospitals']),\n",
    "              x='number_of_hospitals',y='%',color='km',\n",
    "              labels={\n",
    "                     \"number_of_hospitals\": \"Number of Health Facilities\",\n",
    "                     \"%\": \"Percentage of households with access\",\n",
    "                     \"km\": \"Distance (KM)\"\n",
    "                 })\n",
    "fig.update_xaxes(range=[0, 2500])\n",
    "fig.update_yaxes(range=[0, 110])\n",
    "\n",
    "fig.add_annotation(x=165, y=105,\n",
    "                   text=\"Current health facilities:\"+str(current_facs['fac_id'].nunique()),\n",
    "                   showarrow=False,\n",
    "                   arrowhead=1)\n",
    "\n",
    "fig.add_shape(type=\"line\",\n",
    "              x0=current_facs['fac_id'].nunique(), y0=0, x1=current_facs['fac_id'].nunique(), y1=120,\n",
    "              line=dict(color=\"RoyalBlue\",width=1)\n",
    "             )\n",
    "\n",
    "fig"
   ]
  },
  {
   "cell_type": "code",
   "execution_count": 38,
   "metadata": {},
   "outputs": [],
   "source": [
    "getindices = lambda x : np.where(np.round(x))[0]\n",
    "df_combined_output['sol'] = df_combined_output.array_hosp.apply( getindices )\n",
    "df_combined_output['served'] = df_combined_output.array_hh.apply( getindices )\n",
    "df_combined_output['coverage_from_served'] = df_combined_output.served.apply( lambda x : array_household[x].sum() )"
   ]
  },
  {
   "cell_type": "code",
   "execution_count": 39,
   "metadata": {},
   "outputs": [],
   "source": [
    "aux = { km : od.ExtractOptimizationDataFromTravelDistanceMatrix( df_combined, km ) for km in set(df_combined_output.km) }\n",
    "\n",
    "find_served = lambda sol, indexed : od.all_in( [ indexed[s] for s in set(sol) & set(indexed.keys()) ] )\n",
    "\n",
    "df_combined_output['served_from_sol'] = [ find_served(sol,aux[km]) for km,sol in df_combined_output[['km','sol']].values ]"
   ]
  },
  {
   "cell_type": "code",
   "execution_count": 40,
   "metadata": {},
   "outputs": [
    {
     "data": {
      "text/plain": [
       "False"
      ]
     },
     "execution_count": 40,
     "metadata": {},
     "output_type": "execute_result"
    }
   ],
   "source": [
    "( df_combined_output.served_from_sol.apply(set) == df_combined_output.served.apply(set) ).all()"
   ]
  },
  {
   "cell_type": "code",
   "execution_count": 60,
   "metadata": {},
   "outputs": [
    {
     "data": {
      "text/plain": [
       "0                                                 {240}\n",
       "1                                                 {240}\n",
       "2                                                 {240}\n",
       "3                                                 {240}\n",
       "4                                                 {240}\n",
       "                            ...                        \n",
       "16    {6019, 15492, 17159, 1047, 15645, 1830, 13353,...\n",
       "17    {6019, 15492, 17159, 1673, 1047, 15645, 542, 1...\n",
       "18    {6019, 15492, 17159, 1673, 1047, 15645, 542, 1...\n",
       "19    {6019, 15492, 17159, 1673, 1047, 15645, 542, 1...\n",
       "20    {6019, 15492, 17159, 1673, 1047, 15645, 542, 1...\n",
       "Length: 63, dtype: object"
      ]
     },
     "execution_count": 60,
     "metadata": {},
     "output_type": "execute_result"
    }
   ],
   "source": [
    "df_combined_output.served_from_sol.apply(set) - df_combined_output.served.apply(set)"
   ]
  },
  {
   "cell_type": "code",
   "execution_count": 57,
   "metadata": {},
   "outputs": [
    {
     "data": {
      "text/html": [
       "<div>\n",
       "<style scoped>\n",
       "    .dataframe tbody tr th:only-of-type {\n",
       "        vertical-align: middle;\n",
       "    }\n",
       "\n",
       "    .dataframe tbody tr th {\n",
       "        vertical-align: top;\n",
       "    }\n",
       "\n",
       "    .dataframe thead th {\n",
       "        text-align: right;\n",
       "    }\n",
       "</style>\n",
       "<table border=\"1\" class=\"dataframe\">\n",
       "  <thead>\n",
       "    <tr style=\"text-align: right;\">\n",
       "      <th></th>\n",
       "      <th>served_from_sol</th>\n",
       "      <th>served</th>\n",
       "    </tr>\n",
       "  </thead>\n",
       "  <tbody>\n",
       "    <tr>\n",
       "      <th>0</th>\n",
       "      <td>[35, 43, 44, 52, 53, 62, 63, 122, 123, 135, 13...</td>\n",
       "      <td>[35, 43, 44, 52, 53, 62, 63, 122, 123, 135, 13...</td>\n",
       "    </tr>\n",
       "    <tr>\n",
       "      <th>1</th>\n",
       "      <td>[35, 43, 44, 52, 53, 62, 63, 122, 123, 135, 13...</td>\n",
       "      <td>[35, 43, 44, 52, 53, 62, 63, 122, 123, 135, 13...</td>\n",
       "    </tr>\n",
       "    <tr>\n",
       "      <th>2</th>\n",
       "      <td>[35, 43, 44, 52, 53, 62, 63, 122, 123, 135, 13...</td>\n",
       "      <td>[35, 43, 44, 52, 53, 62, 63, 122, 123, 135, 13...</td>\n",
       "    </tr>\n",
       "    <tr>\n",
       "      <th>3</th>\n",
       "      <td>[35, 43, 44, 52, 53, 62, 63, 122, 123, 135, 13...</td>\n",
       "      <td>[35, 43, 44, 52, 53, 62, 63, 122, 123, 135, 13...</td>\n",
       "    </tr>\n",
       "    <tr>\n",
       "      <th>4</th>\n",
       "      <td>[35, 43, 44, 52, 53, 62, 63, 122, 123, 135, 13...</td>\n",
       "      <td>[35, 43, 44, 52, 53, 62, 63, 122, 123, 135, 13...</td>\n",
       "    </tr>\n",
       "    <tr>\n",
       "      <th>...</th>\n",
       "      <td>...</td>\n",
       "      <td>...</td>\n",
       "    </tr>\n",
       "    <tr>\n",
       "      <th>16</th>\n",
       "      <td>[0, 1, 2, 3, 4, 5, 6, 7, 8, 9, 10, 11, 12, 13,...</td>\n",
       "      <td>[0, 1, 2, 3, 4, 5, 6, 7, 8, 9, 10, 11, 12, 13,...</td>\n",
       "    </tr>\n",
       "    <tr>\n",
       "      <th>17</th>\n",
       "      <td>[0, 1, 2, 3, 4, 5, 6, 7, 8, 9, 10, 11, 12, 13,...</td>\n",
       "      <td>[0, 1, 2, 3, 4, 5, 6, 7, 8, 9, 10, 11, 12, 13,...</td>\n",
       "    </tr>\n",
       "    <tr>\n",
       "      <th>18</th>\n",
       "      <td>[0, 1, 2, 3, 4, 5, 6, 7, 8, 9, 10, 11, 12, 13,...</td>\n",
       "      <td>[0, 1, 2, 3, 4, 5, 6, 7, 8, 9, 10, 11, 12, 13,...</td>\n",
       "    </tr>\n",
       "    <tr>\n",
       "      <th>19</th>\n",
       "      <td>[0, 1, 2, 3, 4, 5, 6, 7, 8, 9, 10, 11, 12, 13,...</td>\n",
       "      <td>[0, 1, 2, 3, 4, 5, 6, 7, 8, 9, 10, 11, 12, 13,...</td>\n",
       "    </tr>\n",
       "    <tr>\n",
       "      <th>20</th>\n",
       "      <td>[0, 1, 2, 3, 4, 5, 6, 7, 8, 9, 10, 11, 12, 13,...</td>\n",
       "      <td>[0, 1, 2, 3, 4, 5, 6, 7, 8, 9, 10, 11, 12, 13,...</td>\n",
       "    </tr>\n",
       "  </tbody>\n",
       "</table>\n",
       "<p>63 rows × 2 columns</p>\n",
       "</div>"
      ],
      "text/plain": [
       "                                      served_from_sol   \n",
       "0   [35, 43, 44, 52, 53, 62, 63, 122, 123, 135, 13...  \\\n",
       "1   [35, 43, 44, 52, 53, 62, 63, 122, 123, 135, 13...   \n",
       "2   [35, 43, 44, 52, 53, 62, 63, 122, 123, 135, 13...   \n",
       "3   [35, 43, 44, 52, 53, 62, 63, 122, 123, 135, 13...   \n",
       "4   [35, 43, 44, 52, 53, 62, 63, 122, 123, 135, 13...   \n",
       "..                                                ...   \n",
       "16  [0, 1, 2, 3, 4, 5, 6, 7, 8, 9, 10, 11, 12, 13,...   \n",
       "17  [0, 1, 2, 3, 4, 5, 6, 7, 8, 9, 10, 11, 12, 13,...   \n",
       "18  [0, 1, 2, 3, 4, 5, 6, 7, 8, 9, 10, 11, 12, 13,...   \n",
       "19  [0, 1, 2, 3, 4, 5, 6, 7, 8, 9, 10, 11, 12, 13,...   \n",
       "20  [0, 1, 2, 3, 4, 5, 6, 7, 8, 9, 10, 11, 12, 13,...   \n",
       "\n",
       "                                               served  \n",
       "0   [35, 43, 44, 52, 53, 62, 63, 122, 123, 135, 13...  \n",
       "1   [35, 43, 44, 52, 53, 62, 63, 122, 123, 135, 13...  \n",
       "2   [35, 43, 44, 52, 53, 62, 63, 122, 123, 135, 13...  \n",
       "3   [35, 43, 44, 52, 53, 62, 63, 122, 123, 135, 13...  \n",
       "4   [35, 43, 44, 52, 53, 62, 63, 122, 123, 135, 13...  \n",
       "..                                                ...  \n",
       "16  [0, 1, 2, 3, 4, 5, 6, 7, 8, 9, 10, 11, 12, 13,...  \n",
       "17  [0, 1, 2, 3, 4, 5, 6, 7, 8, 9, 10, 11, 12, 13,...  \n",
       "18  [0, 1, 2, 3, 4, 5, 6, 7, 8, 9, 10, 11, 12, 13,...  \n",
       "19  [0, 1, 2, 3, 4, 5, 6, 7, 8, 9, 10, 11, 12, 13,...  \n",
       "20  [0, 1, 2, 3, 4, 5, 6, 7, 8, 9, 10, 11, 12, 13,...  \n",
       "\n",
       "[63 rows x 2 columns]"
      ]
     },
     "execution_count": 57,
     "metadata": {},
     "output_type": "execute_result"
    }
   ],
   "source": [
    "df_combined_output[['served_from_sol','served']]"
   ]
  },
  {
   "cell_type": "code",
   "execution_count": 41,
   "metadata": {},
   "outputs": [
    {
     "data": {
      "text/plain": [
       "({1}, {1}, set())"
      ]
     },
     "execution_count": 41,
     "metadata": {},
     "output_type": "execute_result"
    }
   ],
   "source": [
    "distance_threshold = 2\n",
    "tot_pop = sorted(df_combined.pop_id.unique())\n",
    "tot_fac = sorted(df_combined.fac_id.unique())\n",
    "set(np.diff(tot_pop)),set(np.diff(tot_fac)),set(tot_pop) - set( df_combined[df_combined.distance <= 2].pop_id )"
   ]
  },
  {
   "cell_type": "code",
   "execution_count": 42,
   "metadata": {},
   "outputs": [],
   "source": [
    "indexed = od.ExtractOptimizationDataFromTravelDistanceMatrix( df_combined, distance_threshold )\n",
    "assert set( df_combined[df_combined.distance <= 2].pop_id ) == set( od.all_in( list(indexed.values()) ) )"
   ]
  },
  {
   "cell_type": "code",
   "execution_count": 43,
   "metadata": {},
   "outputs": [
    {
     "data": {
      "text/plain": [
       "1318414"
      ]
     },
     "execution_count": 43,
     "metadata": {},
     "output_type": "execute_result"
    }
   ],
   "source": [
    "w = array_household\n",
    "I, J, IJ, JI = od.CreateIndexMapping( indexed, w )\n",
    "sum(w)"
   ]
  },
  {
   "cell_type": "code",
   "execution_count": 44,
   "metadata": {},
   "outputs": [
    {
     "data": {
      "text/plain": [
       "(18089, 15275)"
      ]
     },
     "execution_count": 44,
     "metadata": {},
     "output_type": "execute_result"
    }
   ],
   "source": [
    "len(I),len(J)"
   ]
  },
  {
   "cell_type": "code",
   "execution_count": 45,
   "metadata": {},
   "outputs": [
    {
     "data": {
      "application/vnd.jupyter.widget-view+json": {
       "model_id": "90c5f9fdfcba4f23a3d6cbd1313ffb2f",
       "version_major": 2,
       "version_minor": 0
      },
      "text/plain": [
       "  0%|          | 0/20 [00:00<?, ?it/s]"
      ]
     },
     "metadata": {},
     "output_type": "display_data"
    }
   ],
   "source": [
    "aux_opt = mc.OptimizeWithGurobipy( w, I, J, IJ, already_open=list(current_hospitals_ID), budget_list=budget, mipGap=.001, progress=tqdm, parsimonious=False, maxTimeInSeconds=5*60 )"
   ]
  },
  {
   "cell_type": "code",
   "execution_count": 50,
   "metadata": {},
   "outputs": [],
   "source": [
    "aux_opt = pd.DataFrame( aux_opt ).T"
   ]
  },
  {
   "cell_type": "code",
   "execution_count": 51,
   "metadata": {},
   "outputs": [],
   "source": [
    "aux_opt['pc'] = aux_opt['value'] / sum(w)"
   ]
  },
  {
   "cell_type": "code",
   "execution_count": 52,
   "metadata": {},
   "outputs": [],
   "source": [
    "aux_opt['served_from_sol'] = aux_opt.solution.apply( lambda sol : find_served(sol,indexed) )\n",
    "aux_opt['coverage_from_served'] = aux_opt.served_from_sol.apply( lambda served : w[served].sum() )\n",
    "aux_opt['pc_from_coverage'] = aux_opt['coverage_from_served'] / w.sum()"
   ]
  },
  {
   "cell_type": "code",
   "execution_count": 53,
   "metadata": {},
   "outputs": [
    {
     "data": {
      "text/plain": [
       "0.0"
      ]
     },
     "execution_count": 53,
     "metadata": {},
     "output_type": "execute_result"
    }
   ],
   "source": [
    "( aux_opt.value - aux_opt.coverage_from_served ).max()"
   ]
  },
  {
   "cell_type": "code",
   "execution_count": 54,
   "metadata": {},
   "outputs": [
    {
     "data": {
      "text/plain": [
       "0.009353662810012708"
      ]
     },
     "execution_count": 54,
     "metadata": {},
     "output_type": "execute_result"
    }
   ],
   "source": [
    "np.diff( aux_opt.pc_from_coverage ).min()"
   ]
  },
  {
   "cell_type": "code",
   "execution_count": 55,
   "metadata": {},
   "outputs": [
    {
     "data": {
      "text/plain": [
       "<Axes: >"
      ]
     },
     "execution_count": 55,
     "metadata": {},
     "output_type": "execute_result"
    },
    {
     "data": {
      "image/png": "[encoded data removed]",
      "text/plain": [
       "<Figure size 640x480 with 1 Axes>"
      ]
     },
     "metadata": {},
     "output_type": "display_data"
    }
   ],
   "source": [
    "aux_opt.pc.plot()"
   ]
  }
 ],
 "metadata": {
  "kernelspec": {
   "display_name": "Python 3 (ipykernel)",
   "language": "python",
   "name": "python3"
  },
  "language_info": {
   "codemirror_mode": {
    "name": "ipython",
    "version": 3
   },
   "file_extension": ".py",
   "mimetype": "text/x-python",
   "name": "python",
   "nbconvert_exporter": "python",
   "pygments_lexer": "ipython3",
   "version": "3.10.11"
  }
 },
 "nbformat": 4,
 "nbformat_minor": 4
}
