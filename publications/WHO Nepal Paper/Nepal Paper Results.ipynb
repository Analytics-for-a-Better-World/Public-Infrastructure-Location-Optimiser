{
 "cells": [
  {
   "cell_type": "code",
   "execution_count": 1,
   "metadata": {},
   "outputs": [],
   "source": [
    "import warnings\n",
    "warnings.filterwarnings(action='ignore')\n"
   ]
  },
  {
   "cell_type": "code",
   "execution_count": 2,
   "metadata": {},
   "outputs": [],
   "source": [
    "import pandas as pd\n",
    "import geopandas as gpd\n",
    "import requests\n",
    "\n",
    "import shapely\n",
    "from shapely.geometry import Polygon, Point\n",
    "from shapely.ops import cascaded_union\n",
    "import shapely.speedups\n",
    "\n",
    "shapely.speedups.enable()\n",
    "\n",
    "import folium\n",
    "from folium.plugins import MeasureControl\n",
    "\n",
    "import plotly.express as px\n",
    "import time\n",
    "\n",
    "pd.set_option('display.max_rows', 500)"
   ]
  },
  {
   "cell_type": "markdown",
   "metadata": {},
   "source": [
    "In May 2021, Nepal had a limited number of COVID-19 test labs, with only 69 operational facilities. By November 2021, the number increased to 89. This study aimed to assess the impact of the opening of COVID-19 test labs on the physical accessibility of vulnerable populations in Nepal. By combining public data from the Ministry of Health and Population (MoHP) with global datasets on population, healthcare centers, travel time, and relative wealth index, this research aimed to provide critical insights on optimizing the location of testing facilities using open data and optimization models, with a focus on confronting unprecedented pandemics such as COVID-19."
   ]
  },
  {
   "cell_type": "code",
   "execution_count": null,
   "metadata": {},
   "outputs": [],
   "source": [
    "existing_labs = pd.read_csv('Data/laboratory_geocoded.csv')\n",
    "existing_labs = existing_labs[['Unnamed: 0','lng','lat','Laboratory']]\n",
    "existing_labs.columns = ['index','LONG','LAT','L_NAME']\n",
    "current_hospitals = existing_labs[['index','LONG','LAT','L_NAME']].drop_duplicates()\n",
    "current_hospitals.columns = ['Hosp_ID','Longitude','Latitude','L_NAME']\n",
    "\n",
    "df_lab_open_dates = pd.read_excel('Data/tests_per_lab.xlsx')[['Date','Laboratory','Province Name']]\n",
    "df_open_dates = df_lab_open_dates.groupby(['Laboratory','Province Name'])['Date'].min().reset_index()\n",
    "df_open_dates.columns = ['L_NAME','Province','Date Open']"
   ]
  },
  {
   "cell_type": "code",
   "execution_count": null,
   "metadata": {},
   "outputs": [],
   "source": [
    "existing_labs = pd.merge(current_hospitals,df_open_dates,on='L_NAME')\n",
    "\n",
    "def convert_point(df):\n",
    "    lat = df['Latitude']\n",
    "    lon = df['Longitude']\n",
    "    return(Point(lon,lat))\n",
    "\n",
    "existing_labs['geometry'] = existing_labs[['Latitude','Longitude']].apply(convert_point,axis=1)\n",
    "\n",
    "existing_labs.head(2)"
   ]
  },
  {
   "cell_type": "code",
   "execution_count": null,
   "metadata": {},
   "outputs": [],
   "source": [
    "len(existing_labs)"
   ]
  },
  {
   "cell_type": "code",
   "execution_count": 33,
   "metadata": {},
   "outputs": [
    {
     "name": "stdout",
     "output_type": "stream",
     "text": [
      "CPU times: user 8.51 s, sys: 480 ms, total: 8.99 s\n",
      "Wall time: 9.25 s\n"
     ]
    }
   ],
   "source": [
    "%%time\n",
    "population = pd.read_csv(r'Data/ppp_NPL_2020_1km_Aggregated_UNadj.csv').reset_index()\n",
    "population.columns = ['ID','xcoord','ycoord','household_count']\n",
    "population['xcoord'] = population['xcoord'].round(2)\n",
    "population['ycoord'] = population['ycoord'].round(2)\n",
    "\n",
    "population = population.groupby(['xcoord','ycoord'])['household_count'].sum().reset_index().reset_index()\n",
    "population['household_count'] = population['household_count'].round()\n",
    "population.columns = ['ID','xcoord','ycoord','population']\n",
    "\n",
    "def convert_Point(population):\n",
    "    return Point(population['xcoord'],population['ycoord'])\n",
    "population['geometry'] = population[['ycoord','xcoord']].apply(convert_Point,axis=1)\n",
    "population = gpd.GeoDataFrame(population)"
   ]
  },
  {
   "cell_type": "code",
   "execution_count": 34,
   "metadata": {},
   "outputs": [
    {
     "name": "stdout",
     "output_type": "stream",
     "text": [
      "Total Population: 29.14 million\n"
     ]
    }
   ],
   "source": [
    "print('Total Population:',round(population['population'].sum()/1000000,2),'million')"
   ]
  },
  {
   "cell_type": "code",
   "execution_count": 24,
   "metadata": {},
   "outputs": [],
   "source": [
    "districts_nepal = gpd.read_file('Data/shapefile_nepal_districts.geojson')"
   ]
  },
  {
   "cell_type": "code",
   "execution_count": 22,
   "metadata": {},
   "outputs": [],
   "source": [
    "access_token = \"pk.eyJ1IjoicGFydmF0aHlrcmlzaG5hbmthYnciLCJhIjoiY2xqZXlna2VtMDFyOTNrbThqcnE2ZWx2ZiJ9.fwUyC3lZIYnj9hoEwgywHQ\"\n"
   ]
  },
  {
   "cell_type": "code",
   "execution_count": 23,
   "metadata": {},
   "outputs": [],
   "source": [
    "def get_isochrone(df,minutes_list,access_token,mode):\n",
    "    longitude = df['Longitude']\n",
    "    latitude = df['Latitude']\n",
    "    query = \"\"\"https://api.mapbox.com/isochrone/v1/mapbox/\"\"\"\n",
    "    query = query+mode+'/'\n",
    "    query = query+str(longitude)+','+str(latitude)+'?'\n",
    "    query = query+'contours_minutes='+minutes_list\n",
    "    query = query+'&polygons=true&access_token='\n",
    "    query = query+access_token\n",
    "    req_return = (requests.get(query).json())\n",
    "    \n",
    "    if('code' in req_return):\n",
    "        if (req_return['code']=='NoSegment'):\n",
    "            print('No Segment')\n",
    "        else:\n",
    "            print(req_return)     \n",
    "    else:\n",
    "        #print(req_return)     \n",
    "        return(req_return['features'])"
   ]
  },
  {
   "cell_type": "code",
   "execution_count": 25,
   "metadata": {},
   "outputs": [],
   "source": [
    "def get_pop_count(x):\n",
    "    pop_count = population[population['ID'].isin(x)]['population'].sum()\n",
    "    return pop_count"
   ]
  },
  {
   "cell_type": "code",
   "execution_count": null,
   "metadata": {},
   "outputs": [],
   "source": [
    "%%time\n",
    "\n",
    "existing_labs['isochrone_60min_driving'] = existing_labs[['Longitude','Latitude']].apply(get_isochrone,\n",
    "                                                                                   minutes_list=\"60\",\n",
    "                                                                                   access_token=access_token,\n",
    "                                                                                   mode='driving',\n",
    "                                                                                   axis=1)\n",
    "\n",
    "existing_labs['isochrone_30min_driving'] = existing_labs[['Longitude','Latitude']].apply(get_isochrone,\n",
    "                                                                                   minutes_list=\"30\",\n",
    "                                                                                   access_token=access_token,\n",
    "                                                                                   mode='driving',\n",
    "                                                                                   axis=1)\n",
    "\n",
    "existing_labs['isochrone_60min_walking'] = existing_labs[['Longitude','Latitude']].apply(get_isochrone,\n",
    "                                                                                   minutes_list=\"60\",\n",
    "                                                                                   access_token=access_token,\n",
    "                                                                                   mode='walking',\n",
    "                                                                                   axis=1)\n",
    "\n",
    "existing_labs['isochrone_30min_walking'] = existing_labs[['Longitude','Latitude']].apply(get_isochrone,\n",
    "                                                                                   minutes_list=\"30\",\n",
    "                                                                                   access_token=access_token,\n",
    "                                                                                   mode='walking',\n",
    "                                                                                   axis=1)"
   ]
  },
  {
   "cell_type": "code",
   "execution_count": null,
   "metadata": {},
   "outputs": [],
   "source": [
    "%%time\n",
    "\n",
    "existing_labs['60min_driving'] = existing_labs['isochrone_60min_driving'].apply(lambda x: x[0]['geometry'])\n",
    "existing_labs['60min_driving'] = existing_labs['60min_driving'].apply(lambda x:Polygon(x['coordinates'][0]))\n",
    "\n",
    "existing_labs['30min_driving'] = existing_labs['isochrone_30min_driving'].apply(lambda x: x[0]['geometry'])\n",
    "existing_labs['30min_driving'] = existing_labs['30min_driving'].apply(lambda x:Polygon(x['coordinates'][0]))\n",
    "\n",
    "existing_labs['60min_walking'] = existing_labs['isochrone_60min_walking'].apply(lambda x: x[0]['geometry'])\n",
    "existing_labs['60min_walking'] = existing_labs['60min_walking'].apply(lambda x:Polygon(x['coordinates'][0]))\n",
    "\n",
    "existing_labs['30min_walking'] = existing_labs['isochrone_30min_walking'].apply(lambda x: x[0]['geometry'])\n",
    "existing_labs['30min_walking'] = existing_labs['30min_walking'].apply(lambda x:Polygon(x['coordinates'][0]))\n"
   ]
  },
  {
   "cell_type": "code",
   "execution_count": null,
   "metadata": {},
   "outputs": [],
   "source": [
    "def get_population_within_vector(vector_polygon,vector_layer):\n",
    "    pip_mask = vector_layer.within(vector_polygon)\n",
    "    pip_data = vector_layer.loc[pip_mask]\n",
    "    return(list(pip_data['ID'].unique()))"
   ]
  },
  {
   "cell_type": "code",
   "execution_count": null,
   "metadata": {},
   "outputs": [],
   "source": [
    "%%time\n",
    "\n",
    "existing_labs['ID_60min_driving'] = existing_labs['60min_driving'].apply(get_population_within_vector,vector_layer=population)\n",
    "existing_labs['ID_30min_driving'] = existing_labs['30min_driving'].apply(get_population_within_vector,vector_layer=population)\n",
    "existing_labs['ID_60min_walking'] = existing_labs['60min_walking'].apply(get_population_within_vector,vector_layer=population)\n",
    "existing_labs['ID_30min_walking'] = existing_labs['30min_walking'].apply(get_population_within_vector,vector_layer=population)\n"
   ]
  },
  {
   "cell_type": "code",
   "execution_count": null,
   "metadata": {},
   "outputs": [],
   "source": [
    "selected_hosp = existing_labs['L_NAME'].unique()[4]\n",
    "selected_hosp"
   ]
  },
  {
   "cell_type": "code",
   "execution_count": null,
   "metadata": {},
   "outputs": [],
   "source": [
    "start_coords = (28.4939,84.1240)\n",
    "folium_map = folium.Map(location=start_coords, zoom_start=5)\n",
    "\n",
    "test_ids = existing_labs[existing_labs['L_NAME']==selected_hosp]\n",
    "\n",
    "\n",
    "for i in range(0,len(test_ids)):\n",
    "    folium.Marker([test_ids.iloc[i]['Latitude'], test_ids.iloc[i]['Longitude']],\n",
    "                        color='blue',popup=test_ids.iloc[i]['L_NAME']).add_to(folium_map)\n",
    "    \n",
    "    geo_j = folium.GeoJson(data=test_ids.iloc[i]['60min_driving'],style_function=lambda x:{'color': 'red'})\n",
    "    folium.Popup(test_ids.iloc[i]['L_NAME']).add_to(geo_j)\n",
    "    geo_j.add_to(folium_map)\n",
    "    \n",
    "    geo_j = folium.GeoJson(data=test_ids.iloc[i]['30min_driving'],style_function=lambda x:{'color': 'cyan'})\n",
    "    folium.Popup(test_ids.iloc[i]['L_NAME']).add_to(geo_j)\n",
    "    geo_j.add_to(folium_map)\n",
    "    \n",
    "    geo_j = folium.GeoJson(data=test_ids.iloc[i]['60min_walking'],style_function=lambda x:{'color': 'blue'})\n",
    "    folium.Popup(test_ids.iloc[i]['L_NAME']).add_to(geo_j)\n",
    "    geo_j.add_to(folium_map)\n",
    "    \n",
    "    geo_j = folium.GeoJson(data=test_ids.iloc[i]['30min_walking'],style_function=lambda x:{'color': 'green'})\n",
    "    folium.Popup(test_ids.iloc[i]['L_NAME']).add_to(geo_j)\n",
    "    geo_j.add_to(folium_map)\n",
    "    \n",
    "folium_map"
   ]
  },
  {
   "cell_type": "markdown",
   "metadata": {},
   "source": [
    "## Calculating percentages for all open test centres."
   ]
  },
  {
   "cell_type": "code",
   "execution_count": null,
   "metadata": {},
   "outputs": [],
   "source": [
    "list_pop_ids = list(existing_labs['ID_30min_walking'].values)\n",
    "list_pop_ids = [item for sublist in list_pop_ids for item in sublist]\n",
    "pop_with_access = list(set(list_pop_ids))\n",
    "\n",
    "(population[population['ID'].isin(pop_with_access)]['population'].sum()*100/population['population'].sum()).round()"
   ]
  },
  {
   "cell_type": "code",
   "execution_count": null,
   "metadata": {},
   "outputs": [],
   "source": [
    "list_pop_ids = list(existing_labs['ID_60min_walking'].values)\n",
    "list_pop_ids = [item for sublist in list_pop_ids for item in sublist]\n",
    "pop_with_access = list(set(list_pop_ids))\n",
    "\n",
    "(population[population['ID'].isin(pop_with_access)]['population'].sum()*100/population['population'].sum()).round()"
   ]
  },
  {
   "cell_type": "code",
   "execution_count": null,
   "metadata": {},
   "outputs": [],
   "source": [
    "list_pop_ids = list(existing_labs['ID_30min_driving'].values)\n",
    "list_pop_ids = [item for sublist in list_pop_ids for item in sublist]\n",
    "pop_with_access = list(set(list_pop_ids))\n",
    "\n",
    "(population[population['ID'].isin(pop_with_access)]['population'].sum()*100/population['population'].sum()).round()"
   ]
  },
  {
   "cell_type": "code",
   "execution_count": null,
   "metadata": {},
   "outputs": [],
   "source": [
    "list_pop_ids = list(existing_labs['ID_60min_driving'].values)\n",
    "list_pop_ids = [item for sublist in list_pop_ids for item in sublist]\n",
    "pop_with_access = list(set(list_pop_ids))\n",
    "\n",
    "(population[population['ID'].isin(pop_with_access)]['population'].sum()*100/population['population'].sum()).round()"
   ]
  },
  {
   "cell_type": "markdown",
   "metadata": {},
   "source": [
    "## Calculating percentages for test centres open in May 2021"
   ]
  },
  {
   "cell_type": "code",
   "execution_count": null,
   "metadata": {},
   "outputs": [],
   "source": [
    "initial_labs = existing_labs[existing_labs['Date Open']=='2021-05-01']"
   ]
  },
  {
   "cell_type": "code",
   "execution_count": null,
   "metadata": {},
   "outputs": [],
   "source": [
    "list_pop_ids = list(initial_labs['ID_30min_walking'].values)\n",
    "list_pop_ids = [item for sublist in list_pop_ids for item in sublist]\n",
    "pop_with_access = list(set(list_pop_ids))\n",
    "\n",
    "(population[population['ID'].isin(pop_with_access)]['population'].sum()*100/population['population'].sum()).round()\n"
   ]
  },
  {
   "cell_type": "code",
   "execution_count": null,
   "metadata": {},
   "outputs": [],
   "source": [
    "list_pop_ids = list(initial_labs['ID_60min_walking'].values)\n",
    "list_pop_ids = [item for sublist in list_pop_ids for item in sublist]\n",
    "pop_with_access = list(set(list_pop_ids))\n",
    "\n",
    "(population[population['ID'].isin(pop_with_access)]['population'].sum()*100/population['population'].sum()).round()"
   ]
  },
  {
   "cell_type": "code",
   "execution_count": null,
   "metadata": {},
   "outputs": [],
   "source": [
    "list_pop_ids = list(initial_labs['ID_30min_driving'].values)\n",
    "list_pop_ids = [item for sublist in list_pop_ids for item in sublist]\n",
    "pop_with_access = list(set(list_pop_ids))\n",
    "\n",
    "(population[population['ID'].isin(pop_with_access)]['population'].sum()*100/population['population'].sum()).round()"
   ]
  },
  {
   "cell_type": "code",
   "execution_count": null,
   "metadata": {},
   "outputs": [],
   "source": [
    "list_pop_ids = list(initial_labs['ID_60min_driving'].values)\n",
    "list_pop_ids = [item for sublist in list_pop_ids for item in sublist]\n",
    "pop_with_access = list(set(list_pop_ids))\n",
    "\n",
    "(population[population['ID'].isin(pop_with_access)]['population'].sum()*100/population['population'].sum()).round()"
   ]
  },
  {
   "cell_type": "markdown",
   "metadata": {},
   "source": [
    "### 60 min driving shows the highest increase in percentage from 55 to 62% "
   ]
  },
  {
   "cell_type": "code",
   "execution_count": null,
   "metadata": {},
   "outputs": [],
   "source": [
    "df_relative_wealth_index = pd.read_csv('Data/npl_relative_wealth_index.csv')\n",
    "def convert_Point(population):\n",
    "    return Point(population['longitude'],population['latitude'])\n",
    "df_relative_wealth_index['geometry'] = df_relative_wealth_index[['latitude','longitude']].apply(convert_Point,axis=1)\n",
    "df_relative_wealth_index = gpd.GeoDataFrame(df_relative_wealth_index)\n",
    "rwi_districts = gpd.sjoin(df_relative_wealth_index, districts_nepal, how=\"left\", op=\"within\")\n",
    "rwi_districts = rwi_districts.groupby(['DISTRICT','Province'])['rwi'].mean().reset_index()\n",
    "rwi_districts['rwi'] = rwi_districts['rwi'].round(2)\n",
    "rwi_districts.columns = ['District','Province','Relative Wealth Index']"
   ]
  },
  {
   "cell_type": "code",
   "execution_count": null,
   "metadata": {},
   "outputs": [],
   "source": [
    "list_pop_ids = list(initial_labs['ID_60min_driving'].values)\n",
    "list_pop_ids = [item for sublist in list_pop_ids for item in sublist]\n",
    "\n",
    "district_analysis = population[population['ID'].isin(list_pop_ids)][['population','DISTRICT','Province']]\n",
    "district_analysis.columns = ['Pop with Access','District','Province']\n",
    "dt1 = district_analysis.groupby(['District','Province'])['Pop with Access'].sum().reset_index()\n",
    "\n",
    "dt2 = population.groupby(['DISTRICT','Province'])['population'].sum().reset_index()\n",
    "dt2.columns = ['District','Province','Total Population']\n",
    "\n",
    "df_pop_access_dist = pd.merge(dt1,dt2,on=['District','Province'])\n",
    "df_pop_access_dist['%'] = df_pop_access_dist['Pop with Access']*100/df_pop_access_dist['Total Population']\n",
    "df_pop_access_dist['%'] = df_pop_access_dist['%'].round(2)\n",
    "\n",
    "df_pop_access_dist = pd.merge(df_pop_access_dist,rwi_districts,on=['District','Province'])\n",
    "\n",
    "fig = px.scatter(df_pop_access_dist,y='%',x='Relative Wealth Index',color='Province',size='Total Population')\n",
    "fig.update_xaxes(title='Average Relative Wealth Index of District')\n",
    "fig.update_yaxes(title='% of Population with Access')\n",
    "fig.update_layout(plot_bgcolor='white',title='60 Min Driving for all 89 labs')"
   ]
  },
  {
   "cell_type": "markdown",
   "metadata": {},
   "source": [
    "### Data of potential locations as list of hospitals"
   ]
  },
  {
   "cell_type": "code",
   "execution_count": null,
   "metadata": {},
   "outputs": [],
   "source": [
    "potential_locations = gpd.read_file('Data/grid_nepal_5km.geojson').reset_index()\n",
    "potential_locations = potential_locations[['index','geometry']]\n",
    "potential_locations.columns = ['ID','geometry']\n",
    "potential_locations['Latitude'] = potential_locations['geometry'].apply(lambda x:x.y)\n",
    "potential_locations['Longitude'] = potential_locations['geometry'].apply(lambda x:x.x)"
   ]
  },
  {
   "cell_type": "code",
   "execution_count": 14,
   "metadata": {},
   "outputs": [],
   "source": [
    "potential_locations = gpd.read_file('Data/healthsites_facs.geojson')\n",
    "potential_locations = potential_locations[['amenity','name','geometry']].reset_index()\n",
    "potential_locations.columns = ['ID','Facility Type','Name','geometry']\n",
    "potential_locations = potential_locations[~potential_locations['Facility Type'].isin(['pharmacy','dentist'])]\n",
    "potential_locations['Latitude'] = potential_locations['geometry'].apply(lambda x:x.y)\n",
    "potential_locations['Longitude'] = potential_locations['geometry'].apply(lambda x:x.x)"
   ]
  },
  {
   "cell_type": "code",
   "execution_count": 20,
   "metadata": {},
   "outputs": [
    {
     "data": {
      "text/html": [
       "<div>\n",
       "<style scoped>\n",
       "    .dataframe tbody tr th:only-of-type {\n",
       "        vertical-align: middle;\n",
       "    }\n",
       "\n",
       "    .dataframe tbody tr th {\n",
       "        vertical-align: top;\n",
       "    }\n",
       "\n",
       "    .dataframe thead th {\n",
       "        text-align: right;\n",
       "    }\n",
       "</style>\n",
       "<table border=\"1\" class=\"dataframe\">\n",
       "  <thead>\n",
       "    <tr style=\"text-align: right;\">\n",
       "      <th></th>\n",
       "      <th>ID</th>\n",
       "      <th>Facility Type</th>\n",
       "      <th>Name</th>\n",
       "      <th>geometry</th>\n",
       "      <th>Latitude</th>\n",
       "      <th>Longitude</th>\n",
       "    </tr>\n",
       "  </thead>\n",
       "  <tbody>\n",
       "    <tr>\n",
       "      <th>0</th>\n",
       "      <td>0</td>\n",
       "      <td>hospital</td>\n",
       "      <td>Shrikrishnagandaki Hospital</td>\n",
       "      <td>POINT (83.58827 27.97347)</td>\n",
       "      <td>27.973468</td>\n",
       "      <td>83.588272</td>\n",
       "    </tr>\n",
       "    <tr>\n",
       "      <th>1</th>\n",
       "      <td>1</td>\n",
       "      <td>hospital</td>\n",
       "      <td>Nepal Cancer Hospital</td>\n",
       "      <td>POINT (85.33890 27.64347)</td>\n",
       "      <td>27.643465</td>\n",
       "      <td>85.338902</td>\n",
       "    </tr>\n",
       "  </tbody>\n",
       "</table>\n",
       "</div>"
      ],
      "text/plain": [
       "   ID Facility Type                         Name                   geometry   \n",
       "0   0      hospital  Shrikrishnagandaki Hospital  POINT (83.58827 27.97347)  \\\n",
       "1   1      hospital        Nepal Cancer Hospital  POINT (85.33890 27.64347)   \n",
       "\n",
       "    Latitude  Longitude  \n",
       "0  27.973468  83.588272  \n",
       "1  27.643465  85.338902  "
      ]
     },
     "execution_count": 20,
     "metadata": {},
     "output_type": "execute_result"
    }
   ],
   "source": [
    "potential_locations.head(2)"
   ]
  },
  {
   "cell_type": "code",
   "execution_count": 26,
   "metadata": {},
   "outputs": [],
   "source": [
    "# Delay function\n",
    "def delay():\n",
    "    print('Waiting')\n",
    "    time.sleep(60)"
   ]
  },
  {
   "cell_type": "code",
   "execution_count": 37,
   "metadata": {},
   "outputs": [
    {
     "name": "stdout",
     "output_type": "stream",
     "text": [
      "Waiting\n",
      "Waiting\n",
      "Waiting\n",
      "Waiting\n",
      "Waiting\n",
      "Waiting\n"
     ]
    }
   ],
   "source": [
    "%%time\n",
    "\n",
    "# Delay after 300 requests, 60 mins driving\n",
    "delay()\n",
    "counter = 0\n",
    "for index, row in potential_locations.iterrows():\n",
    "    if counter == 300:\n",
    "        delay()\n",
    "        counter = 0\n",
    "    # Make the isochrone request\n",
    "    isochrone_result = get_isochrone(row, \"60\", access_token, \"driving\")\n",
    "    potential_locations.at[index, 'isochrone_60min_driving'] = isochrone_result\n",
    "    counter += 1"
   ]
  },
  {
   "cell_type": "code",
   "execution_count": 38,
   "metadata": {},
   "outputs": [
    {
     "name": "stdout",
     "output_type": "stream",
     "text": [
      "Waiting\n",
      "Waiting\n",
      "Waiting\n",
      "Waiting\n",
      "Waiting\n",
      "Waiting\n",
      "CPU times: user 27.2 s, sys: 2.61 s, total: 29.8 s\n",
      "Wall time: 10min\n"
     ]
    }
   ],
   "source": [
    "%%time\n",
    "\n",
    "delay()\n",
    "# Delay after 300 requests, 30 mins driving\n",
    "counter = 0\n",
    "for index, row in potential_locations.iterrows():\n",
    "    if counter == 300:\n",
    "        delay()\n",
    "        counter = 0\n",
    "    # Make the isochrone request\n",
    "    isochrone_result = get_isochrone(row, \"30\", access_token, \"driving\")\n",
    "    potential_locations.at[index, 'isochrone_30min_driving'] = isochrone_result\n",
    "    counter += 1"
   ]
  },
  {
   "cell_type": "code",
   "execution_count": 50,
   "metadata": {},
   "outputs": [
    {
     "name": "stdout",
     "output_type": "stream",
     "text": [
      "Waiting\n",
      "Waiting\n",
      "Waiting\n",
      "Waiting\n",
      "Waiting\n",
      "Waiting\n",
      "CPU times: user 22.7 s, sys: 2.56 s, total: 25.3 s\n",
      "Wall time: 7min 42s\n"
     ]
    }
   ],
   "source": [
    "%%time\n",
    "\n",
    "delay()\n",
    "# Delay after 300 requests, 60 mins walking\n",
    "counter = 0\n",
    "for index, row in potential_locations.iterrows():\n",
    "    if counter == 300:\n",
    "        delay()\n",
    "        counter = 0\n",
    "    # Make the isochrone request\n",
    "    isochrone_result = get_isochrone(row, \"60\", access_token, \"walking\")\n",
    "    potential_locations.at[index, 'isochrone_60min_walking'] = isochrone_result\n",
    "    counter += 1\n"
   ]
  },
  {
   "cell_type": "code",
   "execution_count": 27,
   "metadata": {},
   "outputs": [
    {
     "name": "stdout",
     "output_type": "stream",
     "text": [
      "Waiting\n",
      "Waiting\n",
      "Waiting\n",
      "Waiting\n",
      "Waiting\n",
      "Waiting\n",
      "Waiting\n",
      "Waiting\n",
      "CPU times: user 30.4 s, sys: 3.73 s, total: 34.1 s\n",
      "Wall time: 11min 59s\n"
     ]
    }
   ],
   "source": [
    "%%time\n",
    "\n",
    "delay()\n",
    "# Delay after 300 requests, 30 mins walking\n",
    "counter = 0\n",
    "for index, row in potential_locations.iterrows():\n",
    "    if counter == 300:\n",
    "        delay()\n",
    "        counter = 0\n",
    "    # Make the isochrone request\n",
    "    isochrone_result = get_isochrone(row, \"30\", access_token, \"walking\")\n",
    "    potential_locations.at[index, 'isochrone_30min_walking'] = isochrone_result\n",
    "    counter += 1\n"
   ]
  },
  {
   "cell_type": "code",
   "execution_count": 40,
   "metadata": {},
   "outputs": [],
   "source": [
    "def get_geometry(x):\n",
    "    if(x!=None):\n",
    "        if(len(x)==1):\n",
    "            return(x[0]['geometry'])\n",
    "        else:\n",
    "            return(x['geometry'])\n",
    "    else:\n",
    "        return None\n",
    "        \n",
    "def get_cordinates(x):\n",
    "    if(x!=None):\n",
    "        if(x['coordinates']!=''):\n",
    "            return Polygon(x['coordinates'][0])\n",
    "        else:\n",
    "            return None\n",
    "    else:\n",
    "        return None\n"
   ]
  },
  {
   "cell_type": "code",
   "execution_count": 51,
   "metadata": {},
   "outputs": [
    {
     "name": "stdout",
     "output_type": "stream",
     "text": [
      "CPU times: user 304 ms, sys: 56.8 ms, total: 361 ms\n",
      "Wall time: 356 ms\n"
     ]
    }
   ],
   "source": [
    "%%time\n",
    "\n",
    "potential_locations['60min_driving'] = potential_locations['isochrone_60min_driving'].apply(get_geometry)\n",
    "potential_locations['60min_driving'] = potential_locations['60min_driving'].apply(get_cordinates)\n",
    "\n",
    "potential_locations['30min_driving'] = potential_locations['isochrone_30min_driving'].apply(get_geometry)\n",
    "potential_locations['30min_driving'] = potential_locations['30min_driving'].apply(get_cordinates)\n",
    "\n",
    "potential_locations['60min_walking'] = potential_locations['isochrone_60min_walking'].apply(get_geometry)\n",
    "potential_locations['60min_walking'] = potential_locations['60min_walking'].apply(get_cordinates)\n",
    "                                                                                  \n",
    "potential_locations['30min_walking'] = potential_locations['isochrone_30min_walking'].apply(get_geometry)\n",
    "potential_locations['30min_walking'] = potential_locations['30min_walking'].apply(get_cordinates)"
   ]
  },
  {
   "cell_type": "code",
   "execution_count": 52,
   "metadata": {},
   "outputs": [],
   "source": [
    "potential_locations = potential_locations.dropna()"
   ]
  },
  {
   "cell_type": "code",
   "execution_count": 53,
   "metadata": {},
   "outputs": [],
   "source": [
    "def get_population_within_vector(vector_polygon,vector_layer):\n",
    "    pip_mask = vector_layer.within(vector_polygon)\n",
    "    pip_data = vector_layer.loc[pip_mask]\n",
    "    return(list(pip_data['ID'].unique()))"
   ]
  },
  {
   "cell_type": "code",
   "execution_count": 55,
   "metadata": {},
   "outputs": [
    {
     "name": "stdout",
     "output_type": "stream",
     "text": [
      "CPU times: user 6min 13s, sys: 3.17 s, total: 6min 16s\n",
      "Wall time: 6min 21s\n"
     ]
    }
   ],
   "source": [
    "%%time\n",
    "\n",
    "potential_locations['ID_60min_driving'] = potential_locations['60min_driving'].apply(get_population_within_vector,vector_layer=population)\n",
    "potential_locations['ID_30min_driving'] = potential_locations['30min_driving'].apply(get_population_within_vector,vector_layer=population)\n",
    "potential_locations['ID_60min_walking'] = potential_locations['60min_walking'].apply(get_population_within_vector,vector_layer=population)\n",
    "potential_locations['ID_30min_walking'] = potential_locations['30min_walking'].apply(get_population_within_vector,vector_layer=population)\n"
   ]
  },
  {
   "cell_type": "code",
   "execution_count": 56,
   "metadata": {},
   "outputs": [
    {
     "data": {
      "text/plain": [
       "24.0"
      ]
     },
     "execution_count": 56,
     "metadata": {},
     "output_type": "execute_result"
    }
   ],
   "source": [
    "list_pop_ids = list(potential_locations['ID_30min_walking'].values)\n",
    "list_pop_ids = [item for sublist in list_pop_ids for item in sublist]\n",
    "pop_with_access = list(set(list_pop_ids))\n",
    "\n",
    "(population[population['ID'].isin(pop_with_access)]['population'].sum()*100/population['population'].sum()).round()"
   ]
  },
  {
   "cell_type": "code",
   "execution_count": 57,
   "metadata": {},
   "outputs": [
    {
     "data": {
      "text/plain": [
       "32.0"
      ]
     },
     "execution_count": 57,
     "metadata": {},
     "output_type": "execute_result"
    }
   ],
   "source": [
    "list_pop_ids = list(potential_locations['ID_60min_walking'].values)\n",
    "list_pop_ids = [item for sublist in list_pop_ids for item in sublist]\n",
    "pop_with_access = list(set(list_pop_ids))\n",
    "\n",
    "(population[population['ID'].isin(pop_with_access)]['population'].sum()*100/population['population'].sum()).round()"
   ]
  },
  {
   "cell_type": "code",
   "execution_count": 58,
   "metadata": {},
   "outputs": [
    {
     "data": {
      "text/plain": [
       "53.0"
      ]
     },
     "execution_count": 58,
     "metadata": {},
     "output_type": "execute_result"
    }
   ],
   "source": [
    "list_pop_ids = list(potential_locations['ID_30min_driving'].values)\n",
    "list_pop_ids = [item for sublist in list_pop_ids for item in sublist]\n",
    "pop_with_access = list(set(list_pop_ids))\n",
    "\n",
    "(population[population['ID'].isin(pop_with_access)]['population'].sum()*100/population['population'].sum()).round()"
   ]
  },
  {
   "cell_type": "code",
   "execution_count": 59,
   "metadata": {},
   "outputs": [
    {
     "data": {
      "text/plain": [
       "80.0"
      ]
     },
     "execution_count": 59,
     "metadata": {},
     "output_type": "execute_result"
    }
   ],
   "source": [
    "list_pop_ids = list(potential_locations['ID_60min_driving'].values)\n",
    "list_pop_ids = [item for sublist in list_pop_ids for item in sublist]\n",
    "pop_with_access = list(set(list_pop_ids))\n",
    "\n",
    "(population[population['ID'].isin(pop_with_access)]['population'].sum()*100/population['population'].sum()).round()"
   ]
  },
  {
   "cell_type": "code",
   "execution_count": null,
   "metadata": {},
   "outputs": [],
   "source": [
    "list_pop_ids = list(potential_locations['ID_30min_walking'].values)\n",
    "list_pop_ids = [item for sublist in list_pop_ids for item in sublist]\n",
    "\n",
    "district_analysis = population[population['ID'].isin(list_pop_ids)][['population','DISTRICT','Province']]\n",
    "district_analysis.columns = ['Pop with Access','District','Province']\n",
    "dt1 = district_analysis.groupby(['District','Province'])['Pop with Access'].sum().reset_index()\n",
    "\n",
    "dt2 = population.groupby(['DISTRICT','Province'])['population'].sum().reset_index()\n",
    "dt2.columns = ['District','Province','Total Population']\n",
    "\n",
    "df_pop_access_dist = pd.merge(dt1,dt2,on=['District','Province'])\n",
    "df_pop_access_dist['%'] = df_pop_access_dist['Pop with Access']*100/df_pop_access_dist['Total Population']\n",
    "df_pop_access_dist['%'] = df_pop_access_dist['%'].round(2)\n",
    "\n",
    "df_pop_access_dist = pd.merge(df_pop_access_dist,rwi_districts,on=['District','Province'])\n",
    "\n",
    "fig = px.scatter(df_pop_access_dist,y='%',x='Relative Wealth Index',color='Province',size='Total Population')\n",
    "fig.update_xaxes(title='Average Relative Wealth Index of District')\n",
    "fig.update_yaxes(title='% of Population with Access')\n",
    "fig.update_layout(plot_bgcolor='white',title='30 Min Walking - 10 km grid Access')"
   ]
  },
  {
   "cell_type": "code",
   "execution_count": null,
   "metadata": {},
   "outputs": [],
   "source": [
    "existing_labs[['Hosp_ID','L_NAME','Province',\n",
    "               'Date Open','geometry',\n",
    "               'ID_60min_driving','ID_30min_driving',\n",
    "               'ID_60min_walking','ID_30min_walking']].to_pickle('Data/Results_Analytics/existing_labs.pkl')"
   ]
  },
  {
   "cell_type": "code",
   "execution_count": 60,
   "metadata": {},
   "outputs": [],
   "source": [
    "potential_locations[['ID','geometry',\n",
    "               'ID_60min_driving','ID_30min_driving',\n",
    "               'ID_60min_walking','ID_30min_walking']].to_pickle('Data/Results_Analytics/potential_locs_healthsites.pkl')\n"
   ]
  },
  {
   "cell_type": "code",
   "execution_count": null,
   "metadata": {},
   "outputs": [],
   "source": [
    "population.to_pickle('Data/Results_Analytics/population.pkl')"
   ]
  },
  {
   "cell_type": "code",
   "execution_count": null,
   "metadata": {},
   "outputs": [],
   "source": [
    "existing_labs = pd.read_pickle('Data/Results_Analytics/existing_labs.pkl')\n",
    "population = pd.read_pickle('Data/Results_Analytics/population.pkl')\n",
    "potential_locations = pd.read_pickle('Data/Results_Analytics/potential_locs_hospitals.pkl')\n"
   ]
  },
  {
   "cell_type": "code",
   "execution_count": null,
   "metadata": {},
   "outputs": [],
   "source": [
    "population.head(2)"
   ]
  },
  {
   "cell_type": "code",
   "execution_count": null,
   "metadata": {},
   "outputs": [],
   "source": [
    "df_relative_wealth_index = pd.read_csv('Data/npl_relative_wealth_index.csv')\n",
    "def convert_Point(population):\n",
    "    return Point(population['longitude'],population['latitude'])\n",
    "df_relative_wealth_index['geometry'] = df_relative_wealth_index[['latitude','longitude']].apply(convert_Point,axis=1)\n",
    "df_relative_wealth_index = gpd.GeoDataFrame(df_relative_wealth_index)\n"
   ]
  },
  {
   "cell_type": "code",
   "execution_count": 69,
   "metadata": {},
   "outputs": [
    {
     "data": {
      "text/html": [
       "<div>\n",
       "<style scoped>\n",
       "    .dataframe tbody tr th:only-of-type {\n",
       "        vertical-align: middle;\n",
       "    }\n",
       "\n",
       "    .dataframe tbody tr th {\n",
       "        vertical-align: top;\n",
       "    }\n",
       "\n",
       "    .dataframe thead th {\n",
       "        text-align: right;\n",
       "    }\n",
       "</style>\n",
       "<table border=\"1\" class=\"dataframe\">\n",
       "  <thead>\n",
       "    <tr style=\"text-align: right;\">\n",
       "      <th></th>\n",
       "      <th>ID</th>\n",
       "      <th>Facility Type</th>\n",
       "      <th>Name</th>\n",
       "      <th>geometry</th>\n",
       "      <th>Latitude</th>\n",
       "      <th>Longitude</th>\n",
       "      <th>isochrone_30min_walking</th>\n",
       "      <th>30min_walking</th>\n",
       "      <th>ID_30min_walking</th>\n",
       "      <th>isochrone_60min_driving</th>\n",
       "      <th>isochrone_30min_driving</th>\n",
       "      <th>isochrone_60min_walking</th>\n",
       "      <th>60min_driving</th>\n",
       "      <th>30min_driving</th>\n",
       "      <th>60min_walking</th>\n",
       "      <th>ID_60min_driving</th>\n",
       "      <th>ID_30min_driving</th>\n",
       "      <th>ID_60min_walking</th>\n",
       "    </tr>\n",
       "  </thead>\n",
       "  <tbody>\n",
       "    <tr>\n",
       "      <th>0</th>\n",
       "      <td>0</td>\n",
       "      <td>hospital</td>\n",
       "      <td>Shrikrishnagandaki Hospital</td>\n",
       "      <td>POINT (83.58827 27.97347)</td>\n",
       "      <td>27.973468</td>\n",
       "      <td>83.588272</td>\n",
       "      <td>{'properties': {'fill': '#bf4040', 'fillOpacit...</td>\n",
       "      <td>POLYGON ((83.580272 27.980299, 83.579609 27.98...</td>\n",
       "      <td>[66386, 66387, 66558, 66729]</td>\n",
       "      <td>{'properties': {'fill': '#bf4040', 'fillOpacit...</td>\n",
       "      <td>{'properties': {'fill': '#bf4040', 'fillOpacit...</td>\n",
       "      <td>[{'properties': {'fill': '#bf4040', 'fillOpaci...</td>\n",
       "      <td>POLYGON ((83.588272 28.094434, 83.585589 28.09...</td>\n",
       "      <td>POLYGON ((83.578272 28.032474, 83.574587 28.03...</td>\n",
       "      <td>POLYGON ((83.580272 27.980357, 83.578372 27.98...</td>\n",
       "      <td>[62935, 62939, 63131, 63137, 63138, 63141, 633...</td>\n",
       "      <td>[64630, 64810, 65166, 65518, 65519, 65692, 656...</td>\n",
       "      <td>[66213, 66386, 66387, 66558, 66729]</td>\n",
       "    </tr>\n",
       "    <tr>\n",
       "      <th>1</th>\n",
       "      <td>1</td>\n",
       "      <td>hospital</td>\n",
       "      <td>Nepal Cancer Hospital</td>\n",
       "      <td>POINT (85.33890 27.64347)</td>\n",
       "      <td>27.643465</td>\n",
       "      <td>85.338902</td>\n",
       "      <td>[{'properties': {'fill': '#bf4040', 'fillOpaci...</td>\n",
       "      <td>POLYGON ((85.336902 27.663588, 85.335902 27.66...</td>\n",
       "      <td>[95359, 95360, 95361, 95514, 95515, 95516, 955...</td>\n",
       "      <td>[{'properties': {'fill': '#bf4040', 'fillOpaci...</td>\n",
       "      <td>[{'properties': {'fill': '#bf4040', 'fillOpaci...</td>\n",
       "      <td>[{'properties': {'fill': '#bf4040', 'fillOpaci...</td>\n",
       "      <td>POLYGON ((85.334902 27.796509, 85.330902 27.79...</td>\n",
       "      <td>POLYGON ((85.306902 27.725765, 85.304902 27.72...</td>\n",
       "      <td>POLYGON ((85.333902 27.682503, 85.333117 27.68...</td>\n",
       "      <td>[93172, 93175, 93176, 93335, 93338, 93339, 933...</td>\n",
       "      <td>[94279, 94280, 94433, 94434, 94435, 94436, 945...</td>\n",
       "      <td>[95048, 95049, 95050, 95051, 95202, 95203, 952...</td>\n",
       "    </tr>\n",
       "  </tbody>\n",
       "</table>\n",
       "</div>"
      ],
      "text/plain": [
       "   ID Facility Type                         Name                   geometry   \n",
       "0   0      hospital  Shrikrishnagandaki Hospital  POINT (83.58827 27.97347)  \\\n",
       "1   1      hospital        Nepal Cancer Hospital  POINT (85.33890 27.64347)   \n",
       "\n",
       "    Latitude  Longitude                            isochrone_30min_walking   \n",
       "0  27.973468  83.588272  {'properties': {'fill': '#bf4040', 'fillOpacit...  \\\n",
       "1  27.643465  85.338902  [{'properties': {'fill': '#bf4040', 'fillOpaci...   \n",
       "\n",
       "                                       30min_walking   \n",
       "0  POLYGON ((83.580272 27.980299, 83.579609 27.98...  \\\n",
       "1  POLYGON ((85.336902 27.663588, 85.335902 27.66...   \n",
       "\n",
       "                                    ID_30min_walking   \n",
       "0                       [66386, 66387, 66558, 66729]  \\\n",
       "1  [95359, 95360, 95361, 95514, 95515, 95516, 955...   \n",
       "\n",
       "                             isochrone_60min_driving   \n",
       "0  {'properties': {'fill': '#bf4040', 'fillOpacit...  \\\n",
       "1  [{'properties': {'fill': '#bf4040', 'fillOpaci...   \n",
       "\n",
       "                             isochrone_30min_driving   \n",
       "0  {'properties': {'fill': '#bf4040', 'fillOpacit...  \\\n",
       "1  [{'properties': {'fill': '#bf4040', 'fillOpaci...   \n",
       "\n",
       "                             isochrone_60min_walking   \n",
       "0  [{'properties': {'fill': '#bf4040', 'fillOpaci...  \\\n",
       "1  [{'properties': {'fill': '#bf4040', 'fillOpaci...   \n",
       "\n",
       "                                       60min_driving   \n",
       "0  POLYGON ((83.588272 28.094434, 83.585589 28.09...  \\\n",
       "1  POLYGON ((85.334902 27.796509, 85.330902 27.79...   \n",
       "\n",
       "                                       30min_driving   \n",
       "0  POLYGON ((83.578272 28.032474, 83.574587 28.03...  \\\n",
       "1  POLYGON ((85.306902 27.725765, 85.304902 27.72...   \n",
       "\n",
       "                                       60min_walking   \n",
       "0  POLYGON ((83.580272 27.980357, 83.578372 27.98...  \\\n",
       "1  POLYGON ((85.333902 27.682503, 85.333117 27.68...   \n",
       "\n",
       "                                    ID_60min_driving   \n",
       "0  [62935, 62939, 63131, 63137, 63138, 63141, 633...  \\\n",
       "1  [93172, 93175, 93176, 93335, 93338, 93339, 933...   \n",
       "\n",
       "                                    ID_30min_driving   \n",
       "0  [64630, 64810, 65166, 65518, 65519, 65692, 656...  \\\n",
       "1  [94279, 94280, 94433, 94434, 94435, 94436, 945...   \n",
       "\n",
       "                                    ID_60min_walking  \n",
       "0                [66213, 66386, 66387, 66558, 66729]  \n",
       "1  [95048, 95049, 95050, 95051, 95202, 95203, 952...  "
      ]
     },
     "execution_count": 69,
     "metadata": {},
     "output_type": "execute_result"
    }
   ],
   "source": [
    "potential_locations.head(2)"
   ]
  },
  {
   "cell_type": "code",
   "execution_count": 121,
   "metadata": {},
   "outputs": [],
   "source": [
    "start_coords = (28.4939,84.1240)\n",
    "folium_map = folium.Map(location=start_coords, zoom_start=5)\n",
    "\n",
    "for i in range(0,len(potential_locations)):\n",
    "    \n",
    "    folium.Marker([potential_locations.iloc[i]['Latitude'], potential_locations.iloc[i]['Longitude']],\n",
    "                        color='blue',popup=potential_locations.iloc[i]['Name']).add_to(folium_map)\n",
    "    \n",
    "    geo_j = folium.GeoJson(data=potential_locations.iloc[i]['60min_driving'],\n",
    "                           style_function=lambda x:{'color': 'violet'})\n",
    "    geo_j.add_to(folium_map)\n"
   ]
  },
  {
   "cell_type": "code",
   "execution_count": 122,
   "metadata": {},
   "outputs": [],
   "source": [
    "population_visualize = population\n",
    "\n",
    "quartiles = population_visualize['population'].quantile([0.25, 0.5, 0.75]).tolist()\n",
    "\n",
    "# Define a function to assign quartile labels\n",
    "def assign_quartile_label(population):\n",
    "    if population <= quartiles[0]:\n",
    "        return 0.25\n",
    "    elif population <= quartiles[1]:\n",
    "        return 0.5\n",
    "    elif population <= quartiles[2]:\n",
    "        return 0.75\n",
    "    else:\n",
    "        return 1\n",
    "\n",
    "population_visualize['quartile'] = population_visualize['population'].apply(assign_quartile_label)\n",
    "\n",
    "l = list(potential_locations['ID_60min_driving'].values)\n",
    "flat_list = [item for sublist in l for item in sublist]\n",
    "\n",
    "pop_with_access = population_visualize[population_visualize['ID'].isin(flat_list)]\n",
    "pop_without_access = population_visualize[~population_visualize['ID'].isin(flat_list)]\n",
    "\n",
    "for i in range(0,len(pop_with_access)):\n",
    "    folium.CircleMarker([pop_with_access.iloc[i]['ycoord'], pop_with_access.iloc[i]['xcoord']],\n",
    "                        color='green',fill=True,radius=2, \n",
    "                        opacity=pop_with_access.iloc[i]['quartile']).add_to(folium_map)\n",
    "    \n",
    "for i in range(0,len(pop_without_access)):\n",
    "    folium.CircleMarker([pop_without_access.iloc[i]['ycoord'], pop_without_access.iloc[i]['xcoord']],\n",
    "                        color='red',fill=True,radius=2, \n",
    "                        opacity=pop_without_access.iloc[i]['quartile']).add_to(folium_map)\n",
    "    "
   ]
  },
  {
   "cell_type": "code",
   "execution_count": 123,
   "metadata": {},
   "outputs": [
    {
     "data": {
      "text/plain": [
       "37785"
      ]
     },
     "execution_count": 123,
     "metadata": {},
     "output_type": "execute_result"
    }
   ],
   "source": [
    "len(pop_with_access)"
   ]
  },
  {
   "cell_type": "code",
   "execution_count": 124,
   "metadata": {},
   "outputs": [],
   "source": [
    "folium_map.save('map_60min_driving.html')"
   ]
  },
  {
   "cell_type": "code",
   "execution_count": 106,
   "metadata": {},
   "outputs": [],
   "source": [
    "population = pd.read_pickle('Data/Results_Analytics/population.pkl')\n"
   ]
  },
  {
   "cell_type": "code",
   "execution_count": 110,
   "metadata": {},
   "outputs": [],
   "source": [
    "df_relative_wealth_index = pd.read_csv('Data/npl_relative_wealth_index.csv')\n",
    "def convert_Point(population):\n",
    "    return Point(population['longitude'],population['latitude'])\n",
    "df_relative_wealth_index['geometry'] = df_relative_wealth_index[['latitude','longitude']].apply(convert_Point,axis=1)\n",
    "df_relative_wealth_index = gpd.GeoDataFrame(df_relative_wealth_index)\n"
   ]
  },
  {
   "cell_type": "code",
   "execution_count": 112,
   "metadata": {},
   "outputs": [
    {
     "data": {
      "text/html": [
       "<div>\n",
       "<style scoped>\n",
       "    .dataframe tbody tr th:only-of-type {\n",
       "        vertical-align: middle;\n",
       "    }\n",
       "\n",
       "    .dataframe tbody tr th {\n",
       "        vertical-align: top;\n",
       "    }\n",
       "\n",
       "    .dataframe thead th {\n",
       "        text-align: right;\n",
       "    }\n",
       "</style>\n",
       "<table border=\"1\" class=\"dataframe\">\n",
       "  <thead>\n",
       "    <tr style=\"text-align: right;\">\n",
       "      <th></th>\n",
       "      <th>ID</th>\n",
       "      <th>xcoord</th>\n",
       "      <th>ycoord</th>\n",
       "      <th>population</th>\n",
       "      <th>geometry</th>\n",
       "      <th>index_right</th>\n",
       "      <th>STATE_CODE</th>\n",
       "      <th>DISTRICT</th>\n",
       "      <th>GaPa_NaPa</th>\n",
       "      <th>Type_GN</th>\n",
       "      <th>Province</th>\n",
       "    </tr>\n",
       "  </thead>\n",
       "  <tbody>\n",
       "    <tr>\n",
       "      <th>0</th>\n",
       "      <td>0</td>\n",
       "      <td>80.06</td>\n",
       "      <td>28.91</td>\n",
       "      <td>719.0</td>\n",
       "      <td>POINT (80.06000 28.91000)</td>\n",
       "      <td>NaN</td>\n",
       "      <td>NaN</td>\n",
       "      <td>NaN</td>\n",
       "      <td>NaN</td>\n",
       "      <td>NaN</td>\n",
       "      <td>NaN</td>\n",
       "    </tr>\n",
       "    <tr>\n",
       "      <th>1</th>\n",
       "      <td>1</td>\n",
       "      <td>80.06</td>\n",
       "      <td>28.92</td>\n",
       "      <td>498.0</td>\n",
       "      <td>POINT (80.06000 28.92000)</td>\n",
       "      <td>NaN</td>\n",
       "      <td>NaN</td>\n",
       "      <td>NaN</td>\n",
       "      <td>NaN</td>\n",
       "      <td>NaN</td>\n",
       "      <td>NaN</td>\n",
       "    </tr>\n",
       "  </tbody>\n",
       "</table>\n",
       "</div>"
      ],
      "text/plain": [
       "   ID  xcoord  ycoord  population                   geometry  index_right   \n",
       "0   0   80.06   28.91       719.0  POINT (80.06000 28.91000)          NaN  \\\n",
       "1   1   80.06   28.92       498.0  POINT (80.06000 28.92000)          NaN   \n",
       "\n",
       "   STATE_CODE DISTRICT GaPa_NaPa Type_GN Province  \n",
       "0         NaN      NaN       NaN     NaN      NaN  \n",
       "1         NaN      NaN       NaN     NaN      NaN  "
      ]
     },
     "execution_count": 112,
     "metadata": {},
     "output_type": "execute_result"
    }
   ],
   "source": [
    "population.head(2)"
   ]
  },
  {
   "cell_type": "code",
   "execution_count": 113,
   "metadata": {},
   "outputs": [
    {
     "data": {
      "text/html": [
       "<div>\n",
       "<style scoped>\n",
       "    .dataframe tbody tr th:only-of-type {\n",
       "        vertical-align: middle;\n",
       "    }\n",
       "\n",
       "    .dataframe tbody tr th {\n",
       "        vertical-align: top;\n",
       "    }\n",
       "\n",
       "    .dataframe thead th {\n",
       "        text-align: right;\n",
       "    }\n",
       "</style>\n",
       "<table border=\"1\" class=\"dataframe\">\n",
       "  <thead>\n",
       "    <tr style=\"text-align: right;\">\n",
       "      <th></th>\n",
       "      <th>latitude</th>\n",
       "      <th>longitude</th>\n",
       "      <th>rwi</th>\n",
       "      <th>error</th>\n",
       "      <th>geometry</th>\n",
       "    </tr>\n",
       "  </thead>\n",
       "  <tbody>\n",
       "    <tr>\n",
       "      <th>0</th>\n",
       "      <td>29.602118</td>\n",
       "      <td>81.331787</td>\n",
       "      <td>-0.046</td>\n",
       "      <td>0.425</td>\n",
       "      <td>POINT (81.33179 29.60212)</td>\n",
       "    </tr>\n",
       "    <tr>\n",
       "      <th>1</th>\n",
       "      <td>27.712710</td>\n",
       "      <td>83.199463</td>\n",
       "      <td>0.061</td>\n",
       "      <td>0.465</td>\n",
       "      <td>POINT (83.19946 27.71271)</td>\n",
       "    </tr>\n",
       "  </tbody>\n",
       "</table>\n",
       "</div>"
      ],
      "text/plain": [
       "    latitude  longitude    rwi  error                   geometry\n",
       "0  29.602118  81.331787 -0.046  0.425  POINT (81.33179 29.60212)\n",
       "1  27.712710  83.199463  0.061  0.465  POINT (83.19946 27.71271)"
      ]
     },
     "execution_count": 113,
     "metadata": {},
     "output_type": "execute_result"
    }
   ],
   "source": [
    "df_relative_wealth_index.head(2)"
   ]
  },
  {
   "cell_type": "code",
   "execution_count": 114,
   "metadata": {},
   "outputs": [
    {
     "ename": "KeyboardInterrupt",
     "evalue": "",
     "output_type": "error",
     "traceback": [
      "\u001b[0;31m---------------------------------------------------------------------------\u001b[0m",
      "\u001b[0;31mKeyboardInterrupt\u001b[0m                         Traceback (most recent call last)",
      "\u001b[0;32m<ipython-input-114-aca9cbc39a5a>\u001b[0m in \u001b[0;36m<module>\u001b[0;34m\u001b[0m\n\u001b[1;32m     13\u001b[0m \u001b[0;34m\u001b[0m\u001b[0m\n\u001b[1;32m     14\u001b[0m     \u001b[0;31m# Find the corresponding 'rwi' value based on the nearest point\u001b[0m\u001b[0;34m\u001b[0m\u001b[0;34m\u001b[0m\u001b[0;34m\u001b[0m\u001b[0m\n\u001b[0;32m---> 15\u001b[0;31m     \u001b[0mrwi_value\u001b[0m \u001b[0;34m=\u001b[0m \u001b[0mdf_relative_wealth_index\u001b[0m\u001b[0;34m[\u001b[0m\u001b[0mdf_relative_wealth_index\u001b[0m\u001b[0;34m.\u001b[0m\u001b[0mgeometry\u001b[0m \u001b[0;34m==\u001b[0m \u001b[0mnearest\u001b[0m\u001b[0;34m]\u001b[0m\u001b[0;34m[\u001b[0m\u001b[0;34m'rwi'\u001b[0m\u001b[0;34m]\u001b[0m\u001b[0;34m.\u001b[0m\u001b[0mvalues\u001b[0m\u001b[0;34m[\u001b[0m\u001b[0;36m0\u001b[0m\u001b[0;34m]\u001b[0m\u001b[0;34m\u001b[0m\u001b[0;34m\u001b[0m\u001b[0m\n\u001b[0m\u001b[1;32m     16\u001b[0m \u001b[0;34m\u001b[0m\u001b[0m\n\u001b[1;32m     17\u001b[0m     \u001b[0;31m# Update the 'rwi' column in the 'population_with_rwi' GeoDataFrame\u001b[0m\u001b[0;34m\u001b[0m\u001b[0;34m\u001b[0m\u001b[0;34m\u001b[0m\u001b[0m\n",
      "\u001b[0;32m~/opt/anaconda3/lib/python3.8/site-packages/pandas/core/ops/common.py\u001b[0m in \u001b[0;36mnew_method\u001b[0;34m(self, other)\u001b[0m\n\u001b[1;32m     79\u001b[0m         \u001b[0mother\u001b[0m \u001b[0;34m=\u001b[0m \u001b[0mitem_from_zerodim\u001b[0m\u001b[0;34m(\u001b[0m\u001b[0mother\u001b[0m\u001b[0;34m)\u001b[0m\u001b[0;34m\u001b[0m\u001b[0;34m\u001b[0m\u001b[0m\n\u001b[1;32m     80\u001b[0m \u001b[0;34m\u001b[0m\u001b[0m\n\u001b[0;32m---> 81\u001b[0;31m         \u001b[0;32mreturn\u001b[0m \u001b[0mmethod\u001b[0m\u001b[0;34m(\u001b[0m\u001b[0mself\u001b[0m\u001b[0;34m,\u001b[0m \u001b[0mother\u001b[0m\u001b[0;34m)\u001b[0m\u001b[0;34m\u001b[0m\u001b[0;34m\u001b[0m\u001b[0m\n\u001b[0m\u001b[1;32m     82\u001b[0m \u001b[0;34m\u001b[0m\u001b[0m\n\u001b[1;32m     83\u001b[0m     \u001b[0;32mreturn\u001b[0m \u001b[0mnew_method\u001b[0m\u001b[0;34m\u001b[0m\u001b[0;34m\u001b[0m\u001b[0m\n",
      "\u001b[0;32m~/opt/anaconda3/lib/python3.8/site-packages/pandas/core/arraylike.py\u001b[0m in \u001b[0;36m__eq__\u001b[0;34m(self, other)\u001b[0m\n\u001b[1;32m     38\u001b[0m     \u001b[0;34m@\u001b[0m\u001b[0munpack_zerodim_and_defer\u001b[0m\u001b[0;34m(\u001b[0m\u001b[0;34m\"__eq__\"\u001b[0m\u001b[0;34m)\u001b[0m\u001b[0;34m\u001b[0m\u001b[0;34m\u001b[0m\u001b[0m\n\u001b[1;32m     39\u001b[0m     \u001b[0;32mdef\u001b[0m \u001b[0m__eq__\u001b[0m\u001b[0;34m(\u001b[0m\u001b[0mself\u001b[0m\u001b[0;34m,\u001b[0m \u001b[0mother\u001b[0m\u001b[0;34m)\u001b[0m\u001b[0;34m:\u001b[0m\u001b[0;34m\u001b[0m\u001b[0;34m\u001b[0m\u001b[0m\n\u001b[0;32m---> 40\u001b[0;31m         \u001b[0;32mreturn\u001b[0m \u001b[0mself\u001b[0m\u001b[0;34m.\u001b[0m\u001b[0m_cmp_method\u001b[0m\u001b[0;34m(\u001b[0m\u001b[0mother\u001b[0m\u001b[0;34m,\u001b[0m \u001b[0moperator\u001b[0m\u001b[0;34m.\u001b[0m\u001b[0meq\u001b[0m\u001b[0;34m)\u001b[0m\u001b[0;34m\u001b[0m\u001b[0;34m\u001b[0m\u001b[0m\n\u001b[0m\u001b[1;32m     41\u001b[0m \u001b[0;34m\u001b[0m\u001b[0m\n\u001b[1;32m     42\u001b[0m     \u001b[0;34m@\u001b[0m\u001b[0munpack_zerodim_and_defer\u001b[0m\u001b[0;34m(\u001b[0m\u001b[0;34m\"__ne__\"\u001b[0m\u001b[0;34m)\u001b[0m\u001b[0;34m\u001b[0m\u001b[0;34m\u001b[0m\u001b[0m\n",
      "\u001b[0;32m~/opt/anaconda3/lib/python3.8/site-packages/pandas/core/series.py\u001b[0m in \u001b[0;36m_cmp_method\u001b[0;34m(self, other, op)\u001b[0m\n\u001b[1;32m   6095\u001b[0m \u001b[0;34m\u001b[0m\u001b[0m\n\u001b[1;32m   6096\u001b[0m         \u001b[0;32mwith\u001b[0m \u001b[0mnp\u001b[0m\u001b[0;34m.\u001b[0m\u001b[0merrstate\u001b[0m\u001b[0;34m(\u001b[0m\u001b[0mall\u001b[0m\u001b[0;34m=\u001b[0m\u001b[0;34m\"ignore\"\u001b[0m\u001b[0;34m)\u001b[0m\u001b[0;34m:\u001b[0m\u001b[0;34m\u001b[0m\u001b[0;34m\u001b[0m\u001b[0m\n\u001b[0;32m-> 6097\u001b[0;31m             \u001b[0mres_values\u001b[0m \u001b[0;34m=\u001b[0m \u001b[0mops\u001b[0m\u001b[0;34m.\u001b[0m\u001b[0mcomparison_op\u001b[0m\u001b[0;34m(\u001b[0m\u001b[0mlvalues\u001b[0m\u001b[0;34m,\u001b[0m \u001b[0mrvalues\u001b[0m\u001b[0;34m,\u001b[0m \u001b[0mop\u001b[0m\u001b[0;34m)\u001b[0m\u001b[0;34m\u001b[0m\u001b[0;34m\u001b[0m\u001b[0m\n\u001b[0m\u001b[1;32m   6098\u001b[0m \u001b[0;34m\u001b[0m\u001b[0m\n\u001b[1;32m   6099\u001b[0m         \u001b[0;32mreturn\u001b[0m \u001b[0mself\u001b[0m\u001b[0;34m.\u001b[0m\u001b[0m_construct_result\u001b[0m\u001b[0;34m(\u001b[0m\u001b[0mres_values\u001b[0m\u001b[0;34m,\u001b[0m \u001b[0mname\u001b[0m\u001b[0;34m=\u001b[0m\u001b[0mres_name\u001b[0m\u001b[0;34m)\u001b[0m\u001b[0;34m\u001b[0m\u001b[0;34m\u001b[0m\u001b[0m\n",
      "\u001b[0;32m~/opt/anaconda3/lib/python3.8/site-packages/pandas/core/ops/array_ops.py\u001b[0m in \u001b[0;36mcomparison_op\u001b[0;34m(left, right, op)\u001b[0m\n\u001b[1;32m    270\u001b[0m     ):\n\u001b[1;32m    271\u001b[0m         \u001b[0;31m# Call the method on lvalues\u001b[0m\u001b[0;34m\u001b[0m\u001b[0;34m\u001b[0m\u001b[0;34m\u001b[0m\u001b[0m\n\u001b[0;32m--> 272\u001b[0;31m         \u001b[0mres_values\u001b[0m \u001b[0;34m=\u001b[0m \u001b[0mop\u001b[0m\u001b[0;34m(\u001b[0m\u001b[0mlvalues\u001b[0m\u001b[0;34m,\u001b[0m \u001b[0mrvalues\u001b[0m\u001b[0;34m)\u001b[0m\u001b[0;34m\u001b[0m\u001b[0;34m\u001b[0m\u001b[0m\n\u001b[0m\u001b[1;32m    273\u001b[0m \u001b[0;34m\u001b[0m\u001b[0m\n\u001b[1;32m    274\u001b[0m     \u001b[0;32melif\u001b[0m \u001b[0mis_scalar\u001b[0m\u001b[0;34m(\u001b[0m\u001b[0mrvalues\u001b[0m\u001b[0;34m)\u001b[0m \u001b[0;32mand\u001b[0m \u001b[0misna\u001b[0m\u001b[0;34m(\u001b[0m\u001b[0mrvalues\u001b[0m\u001b[0;34m)\u001b[0m\u001b[0;34m:\u001b[0m  \u001b[0;31m# TODO: but not pd.NA?\u001b[0m\u001b[0;34m\u001b[0m\u001b[0;34m\u001b[0m\u001b[0m\n",
      "\u001b[0;32m~/opt/anaconda3/lib/python3.8/site-packages/geopandas/array.py\u001b[0m in \u001b[0;36m__eq__\u001b[0;34m(self, other)\u001b[0m\n\u001b[1;32m   1352\u001b[0m \u001b[0;34m\u001b[0m\u001b[0m\n\u001b[1;32m   1353\u001b[0m     \u001b[0;32mdef\u001b[0m \u001b[0m__eq__\u001b[0m\u001b[0;34m(\u001b[0m\u001b[0mself\u001b[0m\u001b[0;34m,\u001b[0m \u001b[0mother\u001b[0m\u001b[0;34m)\u001b[0m\u001b[0;34m:\u001b[0m\u001b[0;34m\u001b[0m\u001b[0;34m\u001b[0m\u001b[0m\n\u001b[0;32m-> 1354\u001b[0;31m         \u001b[0;32mreturn\u001b[0m \u001b[0mself\u001b[0m\u001b[0;34m.\u001b[0m\u001b[0m_binop\u001b[0m\u001b[0;34m(\u001b[0m\u001b[0mother\u001b[0m\u001b[0;34m,\u001b[0m \u001b[0moperator\u001b[0m\u001b[0;34m.\u001b[0m\u001b[0meq\u001b[0m\u001b[0;34m)\u001b[0m\u001b[0;34m\u001b[0m\u001b[0;34m\u001b[0m\u001b[0m\n\u001b[0m\u001b[1;32m   1355\u001b[0m \u001b[0;34m\u001b[0m\u001b[0m\n\u001b[1;32m   1356\u001b[0m     \u001b[0;32mdef\u001b[0m \u001b[0m__ne__\u001b[0m\u001b[0;34m(\u001b[0m\u001b[0mself\u001b[0m\u001b[0;34m,\u001b[0m \u001b[0mother\u001b[0m\u001b[0;34m)\u001b[0m\u001b[0;34m:\u001b[0m\u001b[0;34m\u001b[0m\u001b[0;34m\u001b[0m\u001b[0m\n",
      "\u001b[0;32m~/opt/anaconda3/lib/python3.8/site-packages/geopandas/array.py\u001b[0m in \u001b[0;36m_binop\u001b[0;34m(self, other, op)\u001b[0m\n\u001b[1;32m   1346\u001b[0m         \u001b[0;31m# If the operator is not defined for the underlying objects,\u001b[0m\u001b[0;34m\u001b[0m\u001b[0;34m\u001b[0m\u001b[0;34m\u001b[0m\u001b[0m\n\u001b[1;32m   1347\u001b[0m         \u001b[0;31m# a TypeError should be raised\u001b[0m\u001b[0;34m\u001b[0m\u001b[0;34m\u001b[0m\u001b[0;34m\u001b[0m\u001b[0m\n\u001b[0;32m-> 1348\u001b[0;31m         \u001b[0mres\u001b[0m \u001b[0;34m=\u001b[0m \u001b[0;34m[\u001b[0m\u001b[0mop\u001b[0m\u001b[0;34m(\u001b[0m\u001b[0ma\u001b[0m\u001b[0;34m,\u001b[0m \u001b[0mb\u001b[0m\u001b[0;34m)\u001b[0m \u001b[0;32mfor\u001b[0m \u001b[0;34m(\u001b[0m\u001b[0ma\u001b[0m\u001b[0;34m,\u001b[0m \u001b[0mb\u001b[0m\u001b[0;34m)\u001b[0m \u001b[0;32min\u001b[0m \u001b[0mzip\u001b[0m\u001b[0;34m(\u001b[0m\u001b[0mlvalues\u001b[0m\u001b[0;34m,\u001b[0m \u001b[0mrvalues\u001b[0m\u001b[0;34m)\u001b[0m\u001b[0;34m]\u001b[0m\u001b[0;34m\u001b[0m\u001b[0;34m\u001b[0m\u001b[0m\n\u001b[0m\u001b[1;32m   1349\u001b[0m \u001b[0;34m\u001b[0m\u001b[0m\n\u001b[1;32m   1350\u001b[0m         \u001b[0mres\u001b[0m \u001b[0;34m=\u001b[0m \u001b[0mnp\u001b[0m\u001b[0;34m.\u001b[0m\u001b[0masarray\u001b[0m\u001b[0;34m(\u001b[0m\u001b[0mres\u001b[0m\u001b[0;34m,\u001b[0m \u001b[0mdtype\u001b[0m\u001b[0;34m=\u001b[0m\u001b[0mbool\u001b[0m\u001b[0;34m)\u001b[0m\u001b[0;34m\u001b[0m\u001b[0;34m\u001b[0m\u001b[0m\n",
      "\u001b[0;32m~/opt/anaconda3/lib/python3.8/site-packages/geopandas/array.py\u001b[0m in \u001b[0;36m<listcomp>\u001b[0;34m(.0)\u001b[0m\n\u001b[1;32m   1346\u001b[0m         \u001b[0;31m# If the operator is not defined for the underlying objects,\u001b[0m\u001b[0;34m\u001b[0m\u001b[0;34m\u001b[0m\u001b[0;34m\u001b[0m\u001b[0m\n\u001b[1;32m   1347\u001b[0m         \u001b[0;31m# a TypeError should be raised\u001b[0m\u001b[0;34m\u001b[0m\u001b[0;34m\u001b[0m\u001b[0;34m\u001b[0m\u001b[0m\n\u001b[0;32m-> 1348\u001b[0;31m         \u001b[0mres\u001b[0m \u001b[0;34m=\u001b[0m \u001b[0;34m[\u001b[0m\u001b[0mop\u001b[0m\u001b[0;34m(\u001b[0m\u001b[0ma\u001b[0m\u001b[0;34m,\u001b[0m \u001b[0mb\u001b[0m\u001b[0;34m)\u001b[0m \u001b[0;32mfor\u001b[0m \u001b[0;34m(\u001b[0m\u001b[0ma\u001b[0m\u001b[0;34m,\u001b[0m \u001b[0mb\u001b[0m\u001b[0;34m)\u001b[0m \u001b[0;32min\u001b[0m \u001b[0mzip\u001b[0m\u001b[0;34m(\u001b[0m\u001b[0mlvalues\u001b[0m\u001b[0;34m,\u001b[0m \u001b[0mrvalues\u001b[0m\u001b[0;34m)\u001b[0m\u001b[0;34m]\u001b[0m\u001b[0;34m\u001b[0m\u001b[0;34m\u001b[0m\u001b[0m\n\u001b[0m\u001b[1;32m   1349\u001b[0m \u001b[0;34m\u001b[0m\u001b[0m\n\u001b[1;32m   1350\u001b[0m         \u001b[0mres\u001b[0m \u001b[0;34m=\u001b[0m \u001b[0mnp\u001b[0m\u001b[0;34m.\u001b[0m\u001b[0masarray\u001b[0m\u001b[0;34m(\u001b[0m\u001b[0mres\u001b[0m\u001b[0;34m,\u001b[0m \u001b[0mdtype\u001b[0m\u001b[0;34m=\u001b[0m\u001b[0mbool\u001b[0m\u001b[0;34m)\u001b[0m\u001b[0;34m\u001b[0m\u001b[0;34m\u001b[0m\u001b[0m\n",
      "\u001b[0;32m~/opt/anaconda3/lib/python3.8/site-packages/pandas/core/arrays/base.py\u001b[0m in \u001b[0;36m__iter__\u001b[0;34m(self)\u001b[0m\n\u001b[1;32m    413\u001b[0m         \u001b[0;31m# calls to ``__getitem__``, which may be slower than necessary.\u001b[0m\u001b[0;34m\u001b[0m\u001b[0;34m\u001b[0m\u001b[0;34m\u001b[0m\u001b[0m\n\u001b[1;32m    414\u001b[0m         \u001b[0;32mfor\u001b[0m \u001b[0mi\u001b[0m \u001b[0;32min\u001b[0m \u001b[0mrange\u001b[0m\u001b[0;34m(\u001b[0m\u001b[0mlen\u001b[0m\u001b[0;34m(\u001b[0m\u001b[0mself\u001b[0m\u001b[0;34m)\u001b[0m\u001b[0;34m)\u001b[0m\u001b[0;34m:\u001b[0m\u001b[0;34m\u001b[0m\u001b[0;34m\u001b[0m\u001b[0m\n\u001b[0;32m--> 415\u001b[0;31m             \u001b[0;32myield\u001b[0m \u001b[0mself\u001b[0m\u001b[0;34m[\u001b[0m\u001b[0mi\u001b[0m\u001b[0;34m]\u001b[0m\u001b[0;34m\u001b[0m\u001b[0;34m\u001b[0m\u001b[0m\n\u001b[0m\u001b[1;32m    416\u001b[0m \u001b[0;34m\u001b[0m\u001b[0m\n\u001b[1;32m    417\u001b[0m     \u001b[0;32mdef\u001b[0m \u001b[0m__contains__\u001b[0m\u001b[0;34m(\u001b[0m\u001b[0mself\u001b[0m\u001b[0;34m,\u001b[0m \u001b[0mitem\u001b[0m\u001b[0;34m:\u001b[0m \u001b[0mobject\u001b[0m\u001b[0;34m)\u001b[0m \u001b[0;34m->\u001b[0m \u001b[0mbool\u001b[0m \u001b[0;34m|\u001b[0m \u001b[0mnp\u001b[0m\u001b[0;34m.\u001b[0m\u001b[0mbool_\u001b[0m\u001b[0;34m:\u001b[0m\u001b[0;34m\u001b[0m\u001b[0;34m\u001b[0m\u001b[0m\n",
      "\u001b[0;32m~/opt/anaconda3/lib/python3.8/site-packages/geopandas/array.py\u001b[0m in \u001b[0;36m__getitem__\u001b[0;34m(self, idx)\u001b[0m\n\u001b[1;32m    358\u001b[0m     \u001b[0;32mdef\u001b[0m \u001b[0m__getitem__\u001b[0m\u001b[0;34m(\u001b[0m\u001b[0mself\u001b[0m\u001b[0;34m,\u001b[0m \u001b[0midx\u001b[0m\u001b[0;34m)\u001b[0m\u001b[0;34m:\u001b[0m\u001b[0;34m\u001b[0m\u001b[0;34m\u001b[0m\u001b[0m\n\u001b[1;32m    359\u001b[0m         \u001b[0;32mif\u001b[0m \u001b[0misinstance\u001b[0m\u001b[0;34m(\u001b[0m\u001b[0midx\u001b[0m\u001b[0;34m,\u001b[0m \u001b[0mnumbers\u001b[0m\u001b[0;34m.\u001b[0m\u001b[0mIntegral\u001b[0m\u001b[0;34m)\u001b[0m\u001b[0;34m:\u001b[0m\u001b[0;34m\u001b[0m\u001b[0;34m\u001b[0m\u001b[0m\n\u001b[0;32m--> 360\u001b[0;31m             \u001b[0;32mreturn\u001b[0m \u001b[0m_geom_to_shapely\u001b[0m\u001b[0;34m(\u001b[0m\u001b[0mself\u001b[0m\u001b[0;34m.\u001b[0m\u001b[0mdata\u001b[0m\u001b[0;34m[\u001b[0m\u001b[0midx\u001b[0m\u001b[0;34m]\u001b[0m\u001b[0;34m)\u001b[0m\u001b[0;34m\u001b[0m\u001b[0;34m\u001b[0m\u001b[0m\n\u001b[0m\u001b[1;32m    361\u001b[0m         \u001b[0;31m# array-like, slice\u001b[0m\u001b[0;34m\u001b[0m\u001b[0;34m\u001b[0m\u001b[0;34m\u001b[0m\u001b[0m\n\u001b[1;32m    362\u001b[0m         \u001b[0;32mif\u001b[0m \u001b[0mcompat\u001b[0m\u001b[0;34m.\u001b[0m\u001b[0mPANDAS_GE_10\u001b[0m\u001b[0;34m:\u001b[0m\u001b[0;34m\u001b[0m\u001b[0;34m\u001b[0m\u001b[0m\n",
      "\u001b[0;32m~/opt/anaconda3/lib/python3.8/site-packages/geopandas/array.py\u001b[0m in \u001b[0;36m_geom_to_shapely\u001b[0;34m(geom)\u001b[0m\n\u001b[1;32m    113\u001b[0m         \u001b[0;32mreturn\u001b[0m \u001b[0mgeom\u001b[0m\u001b[0;34m\u001b[0m\u001b[0;34m\u001b[0m\u001b[0m\n\u001b[1;32m    114\u001b[0m     \u001b[0;32melse\u001b[0m\u001b[0;34m:\u001b[0m\u001b[0;34m\u001b[0m\u001b[0;34m\u001b[0m\u001b[0m\n\u001b[0;32m--> 115\u001b[0;31m         \u001b[0;32mreturn\u001b[0m \u001b[0mvectorized\u001b[0m\u001b[0;34m.\u001b[0m\u001b[0m_pygeos_to_shapely\u001b[0m\u001b[0;34m(\u001b[0m\u001b[0mgeom\u001b[0m\u001b[0;34m)\u001b[0m\u001b[0;34m\u001b[0m\u001b[0;34m\u001b[0m\u001b[0m\n\u001b[0m\u001b[1;32m    116\u001b[0m \u001b[0;34m\u001b[0m\u001b[0m\n\u001b[1;32m    117\u001b[0m \u001b[0;34m\u001b[0m\u001b[0m\n",
      "\u001b[0;32m~/opt/anaconda3/lib/python3.8/site-packages/geopandas/_vectorized.py\u001b[0m in \u001b[0;36m_pygeos_to_shapely\u001b[0;34m(geom)\u001b[0m\n\u001b[1;32m     72\u001b[0m \u001b[0;34m\u001b[0m\u001b[0m\n\u001b[1;32m     73\u001b[0m     \u001b[0;31m# fallback going through WKB\u001b[0m\u001b[0;34m\u001b[0m\u001b[0;34m\u001b[0m\u001b[0;34m\u001b[0m\u001b[0m\n\u001b[0;32m---> 74\u001b[0;31m     \u001b[0;32mif\u001b[0m \u001b[0mpygeos\u001b[0m\u001b[0;34m.\u001b[0m\u001b[0mis_empty\u001b[0m\u001b[0;34m(\u001b[0m\u001b[0mgeom\u001b[0m\u001b[0;34m)\u001b[0m \u001b[0;32mand\u001b[0m \u001b[0mpygeos\u001b[0m\u001b[0;34m.\u001b[0m\u001b[0mget_type_id\u001b[0m\u001b[0;34m(\u001b[0m\u001b[0mgeom\u001b[0m\u001b[0;34m)\u001b[0m \u001b[0;34m==\u001b[0m \u001b[0;36m0\u001b[0m\u001b[0;34m:\u001b[0m\u001b[0;34m\u001b[0m\u001b[0;34m\u001b[0m\u001b[0m\n\u001b[0m\u001b[1;32m     75\u001b[0m         \u001b[0;31m# empty point does not roundtrip through WKB\u001b[0m\u001b[0;34m\u001b[0m\u001b[0;34m\u001b[0m\u001b[0;34m\u001b[0m\u001b[0m\n\u001b[1;32m     76\u001b[0m         \u001b[0;32mreturn\u001b[0m \u001b[0mshapely\u001b[0m\u001b[0;34m.\u001b[0m\u001b[0mwkt\u001b[0m\u001b[0;34m.\u001b[0m\u001b[0mloads\u001b[0m\u001b[0;34m(\u001b[0m\u001b[0;34m\"POINT EMPTY\"\u001b[0m\u001b[0;34m)\u001b[0m\u001b[0;34m\u001b[0m\u001b[0;34m\u001b[0m\u001b[0m\n",
      "\u001b[0;32m~/opt/anaconda3/lib/python3.8/site-packages/pygeos/decorators.py\u001b[0m in \u001b[0;36mwrapped\u001b[0;34m(*args, **kwargs)\u001b[0m\n\u001b[1;32m     78\u001b[0m             \u001b[0;32mfor\u001b[0m \u001b[0marr\u001b[0m \u001b[0;32min\u001b[0m \u001b[0marray_args\u001b[0m\u001b[0;34m:\u001b[0m\u001b[0;34m\u001b[0m\u001b[0;34m\u001b[0m\u001b[0m\n\u001b[1;32m     79\u001b[0m                 \u001b[0marr\u001b[0m\u001b[0;34m.\u001b[0m\u001b[0mflags\u001b[0m\u001b[0;34m.\u001b[0m\u001b[0mwriteable\u001b[0m \u001b[0;34m=\u001b[0m \u001b[0;32mFalse\u001b[0m\u001b[0;34m\u001b[0m\u001b[0;34m\u001b[0m\u001b[0m\n\u001b[0;32m---> 80\u001b[0;31m             \u001b[0;32mreturn\u001b[0m \u001b[0mfunc\u001b[0m\u001b[0;34m(\u001b[0m\u001b[0;34m*\u001b[0m\u001b[0margs\u001b[0m\u001b[0;34m,\u001b[0m \u001b[0;34m**\u001b[0m\u001b[0mkwargs\u001b[0m\u001b[0;34m)\u001b[0m\u001b[0;34m\u001b[0m\u001b[0;34m\u001b[0m\u001b[0m\n\u001b[0m\u001b[1;32m     81\u001b[0m         \u001b[0;32mfinally\u001b[0m\u001b[0;34m:\u001b[0m\u001b[0;34m\u001b[0m\u001b[0;34m\u001b[0m\u001b[0m\n\u001b[1;32m     82\u001b[0m             \u001b[0;32mfor\u001b[0m \u001b[0marr\u001b[0m\u001b[0;34m,\u001b[0m \u001b[0mold_flag\u001b[0m \u001b[0;32min\u001b[0m \u001b[0mzip\u001b[0m\u001b[0;34m(\u001b[0m\u001b[0marray_args\u001b[0m\u001b[0;34m,\u001b[0m \u001b[0mold_flags\u001b[0m\u001b[0;34m)\u001b[0m\u001b[0;34m:\u001b[0m\u001b[0;34m\u001b[0m\u001b[0;34m\u001b[0m\u001b[0m\n",
      "\u001b[0;32m~/opt/anaconda3/lib/python3.8/site-packages/pygeos/predicates.py\u001b[0m in \u001b[0;36mis_empty\u001b[0;34m(geometry, **kwargs)\u001b[0m\n\u001b[1;32m    157\u001b[0m     \u001b[0;32mFalse\u001b[0m\u001b[0;34m\u001b[0m\u001b[0;34m\u001b[0m\u001b[0m\n\u001b[1;32m    158\u001b[0m     \"\"\"\n\u001b[0;32m--> 159\u001b[0;31m     \u001b[0;32mreturn\u001b[0m \u001b[0mlib\u001b[0m\u001b[0;34m.\u001b[0m\u001b[0mis_empty\u001b[0m\u001b[0;34m(\u001b[0m\u001b[0mgeometry\u001b[0m\u001b[0;34m,\u001b[0m \u001b[0;34m**\u001b[0m\u001b[0mkwargs\u001b[0m\u001b[0;34m)\u001b[0m\u001b[0;34m\u001b[0m\u001b[0;34m\u001b[0m\u001b[0m\n\u001b[0m\u001b[1;32m    160\u001b[0m \u001b[0;34m\u001b[0m\u001b[0m\n\u001b[1;32m    161\u001b[0m \u001b[0;34m\u001b[0m\u001b[0m\n",
      "\u001b[0;31mKeyboardInterrupt\u001b[0m: "
     ]
    }
   ],
   "source": [
    "import geopandas as gpd\n",
    "from shapely.geometry import Point\n",
    "from shapely.ops import nearest_points\n",
    "\n",
    "# Assuming your GeoDataFrames are named 'population' and 'rwi'\n",
    "# Create a copy of the 'population' GeoDataFrame to store the result\n",
    "population_with_rwi = population.copy()\n",
    "\n",
    "# Iterate over each row in the 'population' GeoDataFrame\n",
    "for idx, row in population.iterrows():\n",
    "    point = row['geometry']\n",
    "    nearest = nearest_points(point, df_relative_wealth_index.unary_union)[1]  # Get the second point (nearest) from the pair\n",
    "    \n",
    "    # Find the corresponding 'rwi' value based on the nearest point\n",
    "    rwi_value = df_relative_wealth_index[df_relative_wealth_index.geometry == nearest]['rwi'].values[0]\n",
    "    \n",
    "    # Update the 'rwi' column in the 'population_with_rwi' GeoDataFrame\n",
    "    population_with_rwi.loc[idx, 'rwi'] = rwi_value\n"
   ]
  },
  {
   "cell_type": "code",
   "execution_count": null,
   "metadata": {},
   "outputs": [],
   "source": [
    "population_with_rwi.head(2)"
   ]
  },
  {
   "cell_type": "code",
   "execution_count": null,
   "metadata": {},
   "outputs": [],
   "source": []
  }
 ],
 "metadata": {
  "kernelspec": {
   "display_name": "Python 3",
   "language": "python",
   "name": "python3"
  },
  "language_info": {
   "codemirror_mode": {
    "name": "ipython",
    "version": 3
   },
   "file_extension": ".py",
   "mimetype": "text/x-python",
   "name": "python",
   "nbconvert_exporter": "python",
   "pygments_lexer": "ipython3",
   "version": "3.8.3"
  }
 },
 "nbformat": 4,
 "nbformat_minor": 4
}
