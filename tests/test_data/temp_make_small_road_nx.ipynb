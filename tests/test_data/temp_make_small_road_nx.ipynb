{
 "cells": [
  {
   "cell_type": "code",
   "execution_count": 65,
   "metadata": {},
   "outputs": [
    {
     "name": "stdout",
     "output_type": "stream",
     "text": [
      "OSMnx version: 1.2.3\n"
     ]
    },
    {
     "data": {
      "text/plain": [
       "'NetworkX version: 3.2.1'"
      ]
     },
     "execution_count": 65,
     "metadata": {},
     "output_type": "execute_result"
    }
   ],
   "source": [
    "import matplotlib.pyplot as plt\n",
    "import networkx as nx\n",
    "import osmnx as ox\n",
    "import pandas as pd\n",
    "\n",
    "import geopandas as gpd\n",
    "\n",
    "from shapely.geometry import LineString, MultiPolygon, Point, Polygon\n",
    "\n",
    "\n",
    "pd.set_option('display.max_colwidth', None) # Show full column content\n",
    "\n",
    "\n",
    "print(f\"\"\"OSMnx version: {ox.__version__}\"\"\")\n",
    "\n",
    "f\"\"\"NetworkX version: {nx.__version__}\"\"\""
   ]
  },
  {
   "cell_type": "code",
   "execution_count": null,
   "metadata": {},
   "outputs": [],
   "source": [
    "\n"
   ]
  },
  {
   "cell_type": "code",
   "execution_count": 2,
   "metadata": {},
   "outputs": [],
   "source": [
    "G = ox.load_graphml('walk_network_4_nodes_6_edges.graphml')"
   ]
  },
  {
   "cell_type": "code",
   "execution_count": 3,
   "metadata": {},
   "outputs": [
    {
     "data": {
      "image/png": "[encoded data removed]",
      "text/plain": [
       "<Figure size 640x480 with 1 Axes>"
      ]
     },
     "metadata": {},
     "output_type": "display_data"
    }
   ],
   "source": [
    "nx.draw_networkx(G)\n",
    "\n",
    "\n",
    "# Set margins for the axes so nodes aren't clipped\n",
    "ax = plt.gca()\n",
    "ax.margins(0.20)\n",
    "plt.axis(\"off\")\n",
    "plt.show()"
   ]
  },
  {
   "cell_type": "code",
   "execution_count": 4,
   "metadata": {},
   "outputs": [
    {
     "data": {
      "text/html": [
       "<div>\n",
       "<style scoped>\n",
       "    .dataframe tbody tr th:only-of-type {\n",
       "        vertical-align: middle;\n",
       "    }\n",
       "\n",
       "    .dataframe tbody tr th {\n",
       "        vertical-align: top;\n",
       "    }\n",
       "\n",
       "    .dataframe thead th {\n",
       "        text-align: right;\n",
       "    }\n",
       "</style>\n",
       "<table border=\"1\" class=\"dataframe\">\n",
       "  <thead>\n",
       "    <tr style=\"text-align: right;\">\n",
       "      <th></th>\n",
       "      <th>geometry</th>\n",
       "    </tr>\n",
       "    <tr>\n",
       "      <th>id</th>\n",
       "      <th></th>\n",
       "    </tr>\n",
       "  </thead>\n",
       "  <tbody>\n",
       "    <tr>\n",
       "      <th>5909483625</th>\n",
       "      <td>POINT (-122.23124 37.76876)</td>\n",
       "    </tr>\n",
       "    <tr>\n",
       "      <th>5909483619</th>\n",
       "      <td>POINT (-122.23141 37.76871)</td>\n",
       "    </tr>\n",
       "    <tr>\n",
       "      <th>5909483636</th>\n",
       "      <td>POINT (-122.23178 37.76896)</td>\n",
       "    </tr>\n",
       "  </tbody>\n",
       "</table>\n",
       "</div>"
      ],
      "text/plain": [
       "                               geometry\n",
       "id                                     \n",
       "5909483625  POINT (-122.23124 37.76876)\n",
       "5909483619  POINT (-122.23141 37.76871)\n",
       "5909483636  POINT (-122.23178 37.76896)"
      ]
     },
     "execution_count": 4,
     "metadata": {},
     "output_type": "execute_result"
    }
   ],
   "source": [
    "from gpbp.distance import _get_poly_nx\n",
    "\n",
    "\n",
    "(actual_nodes_gdf, actual_edges_gdf) = _get_poly_nx(\n",
    "        G, road_node=5909483619, dist_value=50, distance_type=\"length\"\n",
    "    )\n",
    "\n",
    "actual_nodes_gdf"
   ]
  },
  {
   "cell_type": "code",
   "execution_count": 7,
   "metadata": {},
   "outputs": [
    {
     "data": {
      "text/plain": [
       "0                                                                   LINESTRING (-122.23124 37.76876, -122.23141 37.76871)\n",
       "1                                                                   LINESTRING (-122.23141 37.76871, -122.23124 37.76876)\n",
       "2    LINESTRING (-122.23141 37.76871, -122.23148 37.76877, -122.23156 37.76882, -122.23167 37.76890, -122.23178 37.76896)\n",
       "3    LINESTRING (-122.23178 37.76896, -122.23167 37.76890, -122.23156 37.76882, -122.23148 37.76877, -122.23141 37.76871)\n",
       "dtype: geometry"
      ]
     },
     "execution_count": 7,
     "metadata": {},
     "output_type": "execute_result"
    }
   ],
   "source": [
    "actual_edges_gdf"
   ]
  },
  {
   "cell_type": "code",
   "execution_count": 24,
   "metadata": {},
   "outputs": [
    {
     "data": {
      "text/html": [
       "<div>\n",
       "<style scoped>\n",
       "    .dataframe tbody tr th:only-of-type {\n",
       "        vertical-align: middle;\n",
       "    }\n",
       "\n",
       "    .dataframe tbody tr th {\n",
       "        vertical-align: top;\n",
       "    }\n",
       "\n",
       "    .dataframe thead th {\n",
       "        text-align: right;\n",
       "    }\n",
       "</style>\n",
       "<table border=\"1\" class=\"dataframe\">\n",
       "  <thead>\n",
       "    <tr style=\"text-align: left;\">\n",
       "      <th></th>\n",
       "      <th>x</th>\n",
       "      <th>y</th>\n",
       "    </tr>\n",
       "    <tr>\n",
       "      <th>id</th>\n",
       "      <th></th>\n",
       "      <th></th>\n",
       "    </tr>\n",
       "  </thead>\n",
       "  <tbody>\n",
       "    <tr>\n",
       "      <th>5909483625</th>\n",
       "      <td>-122.23124</td>\n",
       "      <td>37.76876</td>\n",
       "    </tr>\n",
       "    <tr>\n",
       "      <th>5909483619</th>\n",
       "      <td>-122.23141</td>\n",
       "      <td>37.76871</td>\n",
       "    </tr>\n",
       "    <tr>\n",
       "      <th>5909483636</th>\n",
       "      <td>-122.23178</td>\n",
       "      <td>37.76896</td>\n",
       "    </tr>\n",
       "  </tbody>\n",
       "</table>\n",
       "</div>"
      ],
      "text/plain": [
       "            x          y      \n",
       "id                            \n",
       "5909483625 -122.23124 37.76876\n",
       "5909483619 -122.23141 37.76871\n",
       "5909483636 -122.23178 37.76896"
      ]
     },
     "execution_count": 24,
     "metadata": {},
     "output_type": "execute_result"
    }
   ],
   "source": [
    "\n",
    "# print more decimals for x and y\n",
    "\n",
    "pd.options.display.float_format = '{:.5f}'.format\n",
    "\n",
    "actual_nodes_gdf.get_coordinates()\n",
    "\n"
   ]
  },
  {
   "cell_type": "code",
   "execution_count": 30,
   "metadata": {},
   "outputs": [
    {
     "data": {
      "text/plain": [
       "NodeView((5909483625, 5909483619, 5909483636, 5909483569))"
      ]
     },
     "execution_count": 30,
     "metadata": {},
     "output_type": "execute_result"
    }
   ],
   "source": [
    "G.nodes"
   ]
  },
  {
   "cell_type": "code",
   "execution_count": 31,
   "metadata": {},
   "outputs": [
    {
     "data": {
      "text/plain": [
       "{'y': 37.768278, 'x': -122.2315948, 'street_count': 3}"
      ]
     },
     "execution_count": 31,
     "metadata": {},
     "output_type": "execute_result"
    }
   ],
   "source": [
    "G.nodes[5909483569]"
   ]
  },
  {
   "cell_type": "code",
   "execution_count": 32,
   "metadata": {},
   "outputs": [
    {
     "data": {
      "text/plain": [
       "0                                                                   LINESTRING (-122.23124 37.76876, -122.23141 37.76871)\n",
       "1                                                                   LINESTRING (-122.23141 37.76871, -122.23124 37.76876)\n",
       "2    LINESTRING (-122.23141 37.76871, -122.23148 37.76877, -122.23156 37.76882, -122.23167 37.76890, -122.23178 37.76896)\n",
       "3    LINESTRING (-122.23178 37.76896, -122.23167 37.76890, -122.23156 37.76882, -122.23148 37.76877, -122.23141 37.76871)\n",
       "dtype: geometry"
      ]
     },
     "execution_count": 32,
     "metadata": {},
     "output_type": "execute_result"
    }
   ],
   "source": [
    "actual_edges_gdf"
   ]
  },
  {
   "cell_type": "markdown",
   "metadata": {},
   "source": [
    "### Debug function"
   ]
  },
  {
   "cell_type": "code",
   "execution_count": null,
   "metadata": {},
   "outputs": [],
   "source": [
    "# I think subgraph should equal G minus the node ending in 69\n",
    "\n"
   ]
  },
  {
   "cell_type": "code",
   "execution_count": 35,
   "metadata": {},
   "outputs": [
    {
     "data": {
      "text/plain": [
       "OutMultiEdgeView([(5909483625, 5909483619, 0), (5909483619, 5909483625, 0), (5909483619, 5909483636, 0), (5909483636, 5909483619, 0)])"
      ]
     },
     "execution_count": 35,
     "metadata": {},
     "output_type": "execute_result"
    }
   ],
   "source": [
    "subgraph = nx.ego_graph(\n",
    "    G, \n",
    "    5909483619, \n",
    "    radius=50, \n",
    "    distance=\"length\"\n",
    ")"
   ]
  },
  {
   "cell_type": "code",
   "execution_count": 36,
   "metadata": {},
   "outputs": [
    {
     "data": {
      "text/plain": [
       "OutMultiEdgeDataView([(5909483625, 5909483619), (5909483619, 5909483625), (5909483619, 5909483636), (5909483636, 5909483619)])"
      ]
     },
     "execution_count": 36,
     "metadata": {},
     "output_type": "execute_result"
    }
   ],
   "source": [
    "subgraph.edges()"
   ]
  },
  {
   "cell_type": "code",
   "execution_count": 38,
   "metadata": {},
   "outputs": [
    {
     "data": {
      "text/html": [
       "<div>\n",
       "<style scoped>\n",
       "    .dataframe tbody tr th:only-of-type {\n",
       "        vertical-align: middle;\n",
       "    }\n",
       "\n",
       "    .dataframe tbody tr th {\n",
       "        vertical-align: top;\n",
       "    }\n",
       "\n",
       "    .dataframe thead th {\n",
       "        text-align: right;\n",
       "    }\n",
       "</style>\n",
       "<table border=\"1\" class=\"dataframe\">\n",
       "  <thead>\n",
       "    <tr style=\"text-align: left;\">\n",
       "      <th></th>\n",
       "      <th>0</th>\n",
       "      <th>1</th>\n",
       "      <th>2</th>\n",
       "    </tr>\n",
       "  </thead>\n",
       "  <tbody>\n",
       "    <tr>\n",
       "      <th>0</th>\n",
       "      <td>5909483625</td>\n",
       "      <td>5909483619</td>\n",
       "      <td>{'osmid': 625922074, 'highway': 'footway', 'oneway': False, 'reversed': False, 'length': 15.532}</td>\n",
       "    </tr>\n",
       "    <tr>\n",
       "      <th>1</th>\n",
       "      <td>5909483619</td>\n",
       "      <td>5909483625</td>\n",
       "      <td>{'osmid': 625922074, 'highway': 'footway', 'oneway': False, 'reversed': True, 'length': 15.532}</td>\n",
       "    </tr>\n",
       "    <tr>\n",
       "      <th>2</th>\n",
       "      <td>5909483619</td>\n",
       "      <td>5909483636</td>\n",
       "      <td>{'osmid': 625922095, 'highway': 'footway', 'oneway': False, 'reversed': False, 'length': 43.575, 'geometry': LINESTRING (-122.2314069 37.7687054, -122.2314797 37.7687656, -122.2315618 37.7688239, -122.2316698 37.7688952, -122.2317839 37.7689584)}</td>\n",
       "    </tr>\n",
       "    <tr>\n",
       "      <th>3</th>\n",
       "      <td>5909483636</td>\n",
       "      <td>5909483619</td>\n",
       "      <td>{'osmid': 625922095, 'highway': 'footway', 'oneway': False, 'reversed': True, 'length': 43.574999999999996, 'geometry': LINESTRING (-122.2317839 37.7689584, -122.2316698 37.7688952, -122.2315618 37.7688239, -122.2314797 37.7687656, -122.2314069 37.7687054)}</td>\n",
       "    </tr>\n",
       "  </tbody>\n",
       "</table>\n",
       "</div>"
      ],
      "text/plain": [
       "   0           1           \\\n",
       "0  5909483625  5909483619   \n",
       "1  5909483619  5909483625   \n",
       "2  5909483619  5909483636   \n",
       "3  5909483636  5909483619   \n",
       "\n",
       "  2                                                                                                                                                                                                                                                                   \n",
       "0                                                                                                                                                                   {'osmid': 625922074, 'highway': 'footway', 'oneway': False, 'reversed': False, 'length': 15.532}  \n",
       "1                                                                                                                                                                    {'osmid': 625922074, 'highway': 'footway', 'oneway': False, 'reversed': True, 'length': 15.532}  \n",
       "2             {'osmid': 625922095, 'highway': 'footway', 'oneway': False, 'reversed': False, 'length': 43.575, 'geometry': LINESTRING (-122.2314069 37.7687054, -122.2314797 37.7687656, -122.2315618 37.7688239, -122.2316698 37.7688952, -122.2317839 37.7689584)}  \n",
       "3  {'osmid': 625922095, 'highway': 'footway', 'oneway': False, 'reversed': True, 'length': 43.574999999999996, 'geometry': LINESTRING (-122.2317839 37.7689584, -122.2316698 37.7688952, -122.2315618 37.7688239, -122.2314797 37.7687656, -122.2314069 37.7687054)}  "
      ]
     },
     "execution_count": 38,
     "metadata": {},
     "output_type": "execute_result"
    }
   ],
   "source": [
    "# show edges as dataframe\n",
    "\n",
    "edges_df = pd.DataFrame(subgraph.edges(data=True))\n",
    "\n",
    "edges_df"
   ]
  },
  {
   "cell_type": "code",
   "execution_count": 40,
   "metadata": {},
   "outputs": [
    {
     "name": "stdout",
     "output_type": "stream",
     "text": [
      "5909483625 5909483619\n",
      "5909483619 5909483625\n",
      "5909483619 5909483636\n",
      "5909483636 5909483619\n"
     ]
    }
   ],
   "source": [
    "for n_fr, n_to in subgraph.edges():\n",
    "    print(n_fr, n_to)"
   ]
  },
  {
   "cell_type": "code",
   "execution_count": 43,
   "metadata": {},
   "outputs": [
    {
     "data": {
      "text/plain": [
       "{'osmid': 625922095,\n",
       " 'highway': 'footway',\n",
       " 'oneway': False,\n",
       " 'reversed': False,\n",
       " 'length': 43.575,\n",
       " 'geometry': <shapely.geometry.linestring.LineString at 0x106f1ff70>}"
      ]
     },
     "execution_count": 43,
     "metadata": {},
     "output_type": "execute_result"
    }
   ],
   "source": [
    "G.get_edge_data(5909483619, 5909483636)[0]"
   ]
  },
  {
   "cell_type": "code",
   "execution_count": null,
   "metadata": {},
   "outputs": [],
   "source": [
    "edge_lines = []\n",
    "\n",
    "for n_fr, n_to in subgraph.edges():\n",
    "        print(n_fr, n_to)\n",
    "        f = nodes_gdf.loc[n_fr].geometry\n",
    "        t = nodes_gdf.loc[n_to].geometry\n",
    "        edge_lookup = G.get_edge_data(n_fr, n_to)[0].get(\"geometry\", LineString([f, t]))\n",
    "        edge_lines.append(edge_lookup)\n",
    "\n",
    "# edges_gdf = gpd.GeoSeries(edge_lines)"
   ]
  },
  {
   "cell_type": "markdown",
   "metadata": {},
   "source": [
    "Row 2 of subgraph.edges()"
   ]
  },
  {
   "cell_type": "code",
   "execution_count": 50,
   "metadata": {},
   "outputs": [],
   "source": [
    "n_fr = 5909483619\n",
    "n_to = 5909483636\n",
    "\n",
    "f = actual_nodes_gdf.loc[n_fr].geometry\n",
    "t = actual_nodes_gdf.loc[n_to].geometry\n"
   ]
  },
  {
   "cell_type": "code",
   "execution_count": 51,
   "metadata": {},
   "outputs": [
    {
     "data": {
      "image/svg+xml": [
       "<svg xmlns=\"http://www.w3.org/2000/svg\" xmlns:xlink=\"http://www.w3.org/1999/xlink\" width=\"100.0\" height=\"100.0\" viewBox=\"-122.23179898 37.768690320000005 0.0004071599999946329 0.000283159999995064\" preserveAspectRatio=\"xMinYMin meet\"><g transform=\"matrix(1,0,0,-1,0,75.5376638)\"><polyline fill=\"none\" stroke=\"#66cc99\" stroke-width=\"8.143199999892659e-06\" points=\"-122.2314069,37.7687054 -122.2314797,37.7687656 -122.2315618,37.7688239 -122.2316698,37.7688952 -122.2317839,37.7689584\" opacity=\"0.8\" /></g></svg>"
      ],
      "text/plain": [
       "<shapely.geometry.linestring.LineString at 0x106f1ff70>"
      ]
     },
     "execution_count": 51,
     "metadata": {},
     "output_type": "execute_result"
    }
   ],
   "source": [
    "G.get_edge_data(n_fr, n_to)[0].get(\"geometry\", LineString([f, t]))"
   ]
  },
  {
   "cell_type": "markdown",
   "metadata": {},
   "source": [
    "Let's write the expected data"
   ]
  },
  {
   "cell_type": "code",
   "execution_count": 52,
   "metadata": {},
   "outputs": [
    {
     "data": {
      "text/html": [
       "<div>\n",
       "<style scoped>\n",
       "    .dataframe tbody tr th:only-of-type {\n",
       "        vertical-align: middle;\n",
       "    }\n",
       "\n",
       "    .dataframe tbody tr th {\n",
       "        vertical-align: top;\n",
       "    }\n",
       "\n",
       "    .dataframe thead th {\n",
       "        text-align: right;\n",
       "    }\n",
       "</style>\n",
       "<table border=\"1\" class=\"dataframe\">\n",
       "  <thead>\n",
       "    <tr style=\"text-align: left;\">\n",
       "      <th></th>\n",
       "      <th>0</th>\n",
       "      <th>1</th>\n",
       "      <th>2</th>\n",
       "    </tr>\n",
       "  </thead>\n",
       "  <tbody>\n",
       "    <tr>\n",
       "      <th>0</th>\n",
       "      <td>5909483625</td>\n",
       "      <td>5909483619</td>\n",
       "      <td>{'osmid': 625922074, 'highway': 'footway', 'oneway': False, 'reversed': False, 'length': 15.532}</td>\n",
       "    </tr>\n",
       "    <tr>\n",
       "      <th>1</th>\n",
       "      <td>5909483619</td>\n",
       "      <td>5909483625</td>\n",
       "      <td>{'osmid': 625922074, 'highway': 'footway', 'oneway': False, 'reversed': True, 'length': 15.532}</td>\n",
       "    </tr>\n",
       "    <tr>\n",
       "      <th>2</th>\n",
       "      <td>5909483619</td>\n",
       "      <td>5909483636</td>\n",
       "      <td>{'osmid': 625922095, 'highway': 'footway', 'oneway': False, 'reversed': False, 'length': 43.575, 'geometry': LINESTRING (-122.2314069 37.7687054, -122.2314797 37.7687656, -122.2315618 37.7688239, -122.2316698 37.7688952, -122.2317839 37.7689584)}</td>\n",
       "    </tr>\n",
       "    <tr>\n",
       "      <th>3</th>\n",
       "      <td>5909483636</td>\n",
       "      <td>5909483619</td>\n",
       "      <td>{'osmid': 625922095, 'highway': 'footway', 'oneway': False, 'reversed': True, 'length': 43.574999999999996, 'geometry': LINESTRING (-122.2317839 37.7689584, -122.2316698 37.7688952, -122.2315618 37.7688239, -122.2314797 37.7687656, -122.2314069 37.7687054)}</td>\n",
       "    </tr>\n",
       "  </tbody>\n",
       "</table>\n",
       "</div>"
      ],
      "text/plain": [
       "   0           1           \\\n",
       "0  5909483625  5909483619   \n",
       "1  5909483619  5909483625   \n",
       "2  5909483619  5909483636   \n",
       "3  5909483636  5909483619   \n",
       "\n",
       "  2                                                                                                                                                                                                                                                                   \n",
       "0                                                                                                                                                                   {'osmid': 625922074, 'highway': 'footway', 'oneway': False, 'reversed': False, 'length': 15.532}  \n",
       "1                                                                                                                                                                    {'osmid': 625922074, 'highway': 'footway', 'oneway': False, 'reversed': True, 'length': 15.532}  \n",
       "2             {'osmid': 625922095, 'highway': 'footway', 'oneway': False, 'reversed': False, 'length': 43.575, 'geometry': LINESTRING (-122.2314069 37.7687054, -122.2314797 37.7687656, -122.2315618 37.7688239, -122.2316698 37.7688952, -122.2317839 37.7689584)}  \n",
       "3  {'osmid': 625922095, 'highway': 'footway', 'oneway': False, 'reversed': True, 'length': 43.574999999999996, 'geometry': LINESTRING (-122.2317839 37.7689584, -122.2316698 37.7688952, -122.2315618 37.7688239, -122.2314797 37.7687656, -122.2314069 37.7687054)}  "
      ]
     },
     "execution_count": 52,
     "metadata": {},
     "output_type": "execute_result"
    }
   ],
   "source": [
    "edges_df"
   ]
  },
  {
   "cell_type": "code",
   "execution_count": 55,
   "metadata": {},
   "outputs": [
    {
     "data": {
      "text/plain": [
       "True"
      ]
     },
     "execution_count": 55,
     "metadata": {},
     "output_type": "execute_result"
    }
   ],
   "source": [
    "coordinates_19_36 = [\n",
    "        (-122.2314069, 37.7687054),\n",
    "        (-122.2314797, 37.7687656),\n",
    "        (-122.2315618, 37.7688239),\n",
    "        (-122.2316698, 37.7688952),\n",
    "        (-122.2317839, 37.7689584),\n",
    "    ]\n",
    "\n",
    "coordinates_36_19 = [\n",
    "    (-122.2317839, 37.7689584), \n",
    "    (-122.2316698, 37.7688952),\n",
    "    (-122.2315618, 37.7688239),\n",
    "    (-122.2314797, 37.7687656),\n",
    "    (-122.2314069, 37.7687054)\n",
    "]\n",
    "\n",
    "# reverse list 19_36 not in place\n",
    "coordinates_19_36[::-1] == coordinates_36_19\n",
    "\n"
   ]
  },
  {
   "cell_type": "code",
   "execution_count": 54,
   "metadata": {},
   "outputs": [],
   "source": [
    "coordinates_19_36.reverse()"
   ]
  },
  {
   "cell_type": "code",
   "execution_count": 57,
   "metadata": {},
   "outputs": [
    {
     "data": {
      "text/plain": [
       "x   -122.23141\n",
       "y     37.76871\n",
       "Name: 5909483619, dtype: float64"
      ]
     },
     "execution_count": 57,
     "metadata": {},
     "output_type": "execute_result"
    }
   ],
   "source": [
    "actual_nodes_gdf.get_coordinates().loc[5909483619]\n"
   ]
  },
  {
   "cell_type": "code",
   "execution_count": 59,
   "metadata": {},
   "outputs": [
    {
     "data": {
      "image/svg+xml": [
       "<svg xmlns=\"http://www.w3.org/2000/svg\" xmlns:xlink=\"http://www.w3.org/1999/xlink\" width=\"100.0\" height=\"100.0\" viewBox=\"-122.23141679999999 37.7687032 0.00018359999998551757 6.360000000427135e-05\" preserveAspectRatio=\"xMinYMin meet\"><g transform=\"matrix(1,0,0,-1,0,75.53747)\"><polyline fill=\"none\" stroke=\"#66cc99\" stroke-width=\"3.6719999997103513e-06\" points=\"-122.23124,37.76876 -122.23141,37.76871\" opacity=\"0.8\" /></g></svg>"
      ],
      "text/plain": [
       "<shapely.geometry.linestring.LineString at 0x33ea87ac0>"
      ]
     },
     "execution_count": 59,
     "metadata": {},
     "output_type": "execute_result"
    }
   ],
   "source": [
    "coordinates_25_to_19 = [(-122.23124, 37.76876), (-122.23141, 37.76871)]\n",
    "LineString(coordinates_25_to_19)  # edge 5909483625 -> 5909483619\n"
   ]
  },
  {
   "cell_type": "code",
   "execution_count": 60,
   "metadata": {},
   "outputs": [],
   "source": [
    "coordinates_19_to_36 = [\n",
    "        (-122.2314069, 37.7687054),\n",
    "        (-122.2314797, 37.7687656),\n",
    "        (-122.2315618, 37.7688239),\n",
    "        (-122.2316698, 37.7688952),\n",
    "        (-122.2317839, 37.7689584),\n",
    "    ]"
   ]
  },
  {
   "cell_type": "code",
   "execution_count": null,
   "metadata": {},
   "outputs": [],
   "source": [
    "\n",
    "LineString(coordinates_25_to_19),  # edge 5909483625 -> 5909483619\n",
    "LineString(coordinates_25_to_19[::-1])  # edge 5909483619 -> 5909483625\n",
    "LineString(coordinates_19_to_36)  # edge 5909483619 -> 5909483636\n",
    "LineString(coordinates_19_to_36[::-1])  # edge 5909483636 -> 5909483619\n",
    "\n",
    "# create a geodataframe with the linestrings defined here\n",
    "\n"
   ]
  },
  {
   "cell_type": "code",
   "execution_count": 62,
   "metadata": {},
   "outputs": [],
   "source": [
    "expected_edges_gdf_data = [\n",
    "        LineString(coordinates_25_to_19),  # edge 5909483625 -> 5909483619\n",
    "        LineString(coordinates_25_to_19[::-1]),  # edge 5909483619 -> 5909483625\n",
    "        LineString(coordinates_19_to_36),  # edge 5909483619 -> 5909483636\n",
    "        LineString(coordinates_19_to_36[::-1]),  # edge 5909483636 -> 5909483619\n",
    "    ]\n"
   ]
  },
  {
   "cell_type": "code",
   "execution_count": 63,
   "metadata": {},
   "outputs": [
    {
     "data": {
      "text/plain": [
       "[<shapely.geometry.linestring.LineString at 0x33eb85450>,\n",
       " <shapely.geometry.linestring.LineString at 0x33eb849d0>,\n",
       " <shapely.geometry.linestring.LineString at 0x33eb86380>,\n",
       " <shapely.geometry.linestring.LineString at 0x33eb85e40>]"
      ]
     },
     "execution_count": 63,
     "metadata": {},
     "output_type": "execute_result"
    }
   ],
   "source": [
    "expected_edges_gdf_data"
   ]
  },
  {
   "cell_type": "code",
   "execution_count": 66,
   "metadata": {},
   "outputs": [
    {
     "data": {
      "text/plain": [
       "0                                                                   LINESTRING (-122.23124 37.76876, -122.23141 37.76871)\n",
       "1                                                                   LINESTRING (-122.23141 37.76871, -122.23124 37.76876)\n",
       "2    LINESTRING (-122.23141 37.76871, -122.23148 37.76877, -122.23156 37.76882, -122.23167 37.76890, -122.23178 37.76896)\n",
       "3    LINESTRING (-122.23178 37.76896, -122.23167 37.76890, -122.23156 37.76882, -122.23148 37.76877, -122.23141 37.76871)\n",
       "dtype: geometry"
      ]
     },
     "execution_count": 66,
     "metadata": {},
     "output_type": "execute_result"
    }
   ],
   "source": [
    "gpd.GeoSeries(expected_edges_gdf_data)"
   ]
  },
  {
   "cell_type": "code",
   "execution_count": null,
   "metadata": {},
   "outputs": [],
   "source": []
  }
 ],
 "metadata": {
  "kernelspec": {
   "display_name": "gpbp-ys_3FNdB-py3.10",
   "language": "python",
   "name": "python3"
  },
  "language_info": {
   "codemirror_mode": {
    "name": "ipython",
    "version": 3
   },
   "file_extension": ".py",
   "mimetype": "text/x-python",
   "name": "python",
   "nbconvert_exporter": "python",
   "pygments_lexer": "ipython3",
   "version": "3.10.15"
  }
 },
 "nbformat": 4,
 "nbformat_minor": 2
}
