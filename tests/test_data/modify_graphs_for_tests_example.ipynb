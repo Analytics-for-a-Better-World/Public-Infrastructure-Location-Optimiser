{
 "cells": [
  {
   "cell_type": "markdown",
   "metadata": {},
   "source": [
    "This notebook was created on December 2024. \n",
    "\n",
    "\n",
    "It shows an example of how to manipulate small road networks that can \n",
    "serve as inputs for tests."
   ]
  },
  {
   "cell_type": "code",
   "execution_count": null,
   "metadata": {},
   "outputs": [],
   "source": [
    "import matplotlib.pyplot as plt\n",
    "import networkx as nx\n",
    "import osmnx as ox\n",
    "import random\n",
    "\n",
    "print(f\"\"\"OSMnx version: {ox.__version__}\"\"\")\n",
    "\n",
    "f\"\"\"NetworkX version: {nx.__version__}\"\"\""
   ]
  },
  {
   "cell_type": "markdown",
   "metadata": {},
   "source": [
    "### What is an OSMnx network?\n",
    "\n",
    "Copied from [OSMnx 2.0.0 docs](https://osmnx.readthedocs.io/en/stable/getting-started.html#model-attributes): \n",
    "\n",
    "As a NetworkX MultiDiGraph object, it has top-level graph, nodes, and edges attributes. \n",
    "- The graph attribute dictionary must contain a “crs” key defining its coordinate reference system. \n",
    "\n",
    "- The nodes are identified by OSM ID and each must contain a data attribute dictionary that must have “x” and “y” keys defining its coordinates and a “street_count” key defining how many physical streets are incident to it. \n",
    "\n",
    "- The edges are identified by a 3-tuple of “u” (source node ID), “v” (target node ID), and “key” (to differentiate parallel edges), and each must contain a data attribute dictionary that must have an “osmid” key defining its OSM ID and a “length” key defining its length in meters.\n",
    "\n"
   ]
  },
  {
   "cell_type": "markdown",
   "metadata": {},
   "source": [
    "### Using MAIN networks on tests\n",
    "\n",
    "We already downloaded some small road networks for tests, they are called:\n",
    "\n",
    "- bike_network_MAIN.graphml\n",
    "- drive_network_MAIN.graphml\n",
    "- walk_network_MAIN.graphml\n",
    "\n",
    "Here we show some examples of how to work with them"
   ]
  },
  {
   "cell_type": "markdown",
   "metadata": {},
   "source": [
    "## Recall: do **not** modify MAIN networks\n",
    "\n",
    "This way the tests stay reproducible"
   ]
  },
  {
   "cell_type": "markdown",
   "metadata": {},
   "source": [
    "### Getting a tiny walk network"
   ]
  },
  {
   "cell_type": "code",
   "execution_count": 32,
   "metadata": {},
   "outputs": [],
   "source": [
    "G = ox.load_graphml(\"walk_network_MAIN.graphml\")"
   ]
  },
  {
   "cell_type": "code",
   "execution_count": null,
   "metadata": {},
   "outputs": [],
   "source": [
    "nx.draw_networkx(G)"
   ]
  },
  {
   "cell_type": "markdown",
   "metadata": {},
   "source": [
    "Let's choose a subgraph"
   ]
  },
  {
   "cell_type": "code",
   "execution_count": null,
   "metadata": {},
   "outputs": [],
   "source": [
    "# Fix a seed to get reproducible results\n",
    "random.seed(42)\n",
    "\n",
    "# choose a random node\n",
    "ego_node = random.choice(list(G.nodes))\n",
    "\n",
    "ego_node"
   ]
  },
  {
   "cell_type": "code",
   "execution_count": null,
   "metadata": {},
   "outputs": [],
   "source": [
    "subgraph = nx.ego_graph(G, ego_node, radius=1)\n",
    "\n",
    "f\"\"\"Subgraph has {subgraph.number_of_nodes()} nodes and {subgraph.number_of_edges()} edges\"\"\""
   ]
  },
  {
   "cell_type": "code",
   "execution_count": null,
   "metadata": {},
   "outputs": [],
   "source": [
    "subgraph.nodes[ego_node]"
   ]
  },
  {
   "cell_type": "code",
   "execution_count": null,
   "metadata": {},
   "outputs": [],
   "source": [
    "nx.draw_networkx(subgraph)\n",
    "\n",
    "\n",
    "# Set margins for the axes so nodes aren't clipped\n",
    "ax = plt.gca()\n",
    "ax.margins(0.20)\n",
    "plt.axis(\"off\")\n",
    "plt.show()"
   ]
  },
  {
   "cell_type": "markdown",
   "metadata": {},
   "source": [
    "This size will do. I'll save it with a reasonable-sounding name"
   ]
  },
  {
   "cell_type": "markdown",
   "metadata": {},
   "source": [
    "### Save network as a graphml file"
   ]
  },
  {
   "cell_type": "code",
   "execution_count": 38,
   "metadata": {},
   "outputs": [],
   "source": [
    "filepath = \"walk_network_4_nodes_6_edges.graphml\"\n",
    "\n",
    "ox.save_graphml(subgraph, filepath)"
   ]
  },
  {
   "cell_type": "markdown",
   "metadata": {},
   "source": [
    "### Don't need it? Delete it:\n",
    "\n",
    "- If you end up using the graph in a test, give it a sensible name\n",
    "- If you don't end up using the graph, please remove it:"
   ]
  },
  {
   "cell_type": "code",
   "execution_count": null,
   "metadata": {},
   "outputs": [],
   "source": [
    "from pathlib import Path\n",
    "\n",
    "file_path = Path(filepath)\n",
    "if file_path.exists():\n",
    "    file_path.unlink()\n",
    "    print(f\"{file_path} has been removed.\")\n",
    "else:\n",
    "    print(f\"{file_path} does not exist.\")"
   ]
  },
  {
   "cell_type": "markdown",
   "metadata": {},
   "source": [
    "## Adding speed and travel time attributes to edges.\n",
    "> like it is done in layers.py (get_road_network() method"
   ]
  },
  {
   "cell_type": "markdown",
   "metadata": {},
   "source": [
    "The edges from this example subgraph have a length attribute but no speed attribute"
   ]
  },
  {
   "cell_type": "code",
   "execution_count": null,
   "metadata": {},
   "outputs": [],
   "source": [
    "subgraph.edges(data=\"length\")\n",
    "# subgraph.edges(data=True) # Use this to show all data, not just length"
   ]
  },
  {
   "cell_type": "markdown",
   "metadata": {},
   "source": [
    "Let's add a speed attribute with the default walking speed of 4 (km per hour)"
   ]
  },
  {
   "cell_type": "code",
   "execution_count": null,
   "metadata": {},
   "outputs": [],
   "source": [
    "default_speed_walking = 4\n",
    "# nx.set_edge_attributes(subgraph, default_speed_walking, \"speed_kph\")\n",
    "ox.add_edge_speeds(subgraph, hwy_speeds={\"footway\": default_speed_walking, \"driving\": 50, \"bike\": 15})\n",
    "subgraph.edges(data=\"speed_kph\")"
   ]
  },
  {
   "cell_type": "markdown",
   "metadata": {},
   "source": [
    "now that it has a speed attribute we can add a travel time attribute"
   ]
  },
  {
   "cell_type": "code",
   "execution_count": null,
   "metadata": {},
   "outputs": [],
   "source": [
    "ox.add_edge_travel_times(subgraph)\n",
    "subgraph.edges(data=\"travel_time\")"
   ]
  },
  {
   "cell_type": "markdown",
   "metadata": {},
   "source": [
    "Lastly, the following code re-scales the travel time to be in minutes, rather than seconds.\n",
    "\n",
    "So, for the first results represents that the way from node 5909483625 to 5909483619 (15.53 meters) requires 14 seconds (or 0.23 minutes)."
   ]
  },
  {
   "cell_type": "code",
   "execution_count": null,
   "metadata": {},
   "outputs": [],
   "source": [
    "time = nx.get_edge_attributes(subgraph, \"travel_time\")\n",
    "print(time)\n",
    "time_in_min = dict(zip(list(time.keys()), list(map(lambda x: round(x / 60, 2), time.values()))))\n",
    "print(time_in_min)\n",
    "nx.set_edge_attributes(subgraph, time_in_min, \"travel_time\")\n",
    "print(subgraph.edges(data=True))"
   ]
  }
 ],
 "metadata": {
  "kernelspec": {
   "display_name": "pisa",
   "language": "python",
   "name": "python3"
  },
  "language_info": {
   "codemirror_mode": {
    "name": "ipython",
    "version": 3
   },
   "file_extension": ".py",
   "mimetype": "text/x-python",
   "name": "python",
   "nbconvert_exporter": "python",
   "pygments_lexer": "ipython3",
   "version": "3.10.15"
  }
 },
 "nbformat": 4,
 "nbformat_minor": 2
}
