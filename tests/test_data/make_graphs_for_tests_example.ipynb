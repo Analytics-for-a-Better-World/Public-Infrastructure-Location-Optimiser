{
 "cells": [
  {
   "cell_type": "markdown",
   "metadata": {},
   "source": [
    "This notebook was created on December 2024. \n",
    "\n",
    "\n",
    "Its primary purpose is to generate and manipulate small road networks that can serve as inputs for tests.\n"
   ]
  },
  {
   "cell_type": "code",
   "execution_count": 26,
   "metadata": {},
   "outputs": [
    {
     "name": "stdout",
     "output_type": "stream",
     "text": [
      "OSMnx version: 1.2.3\n"
     ]
    },
    {
     "data": {
      "text/plain": [
       "'NetworkX version: 3.2.1'"
      ]
     },
     "execution_count": 26,
     "metadata": {},
     "output_type": "execute_result"
    }
   ],
   "source": [
    "import matplotlib.pyplot as plt\n",
    "import networkx as nx\n",
    "import osmnx as ox\n",
    "import random\n",
    "\n",
    "print(f\"\"\"OSMnx version: {ox.__version__}\"\"\")\n",
    "\n",
    "f\"\"\"NetworkX version: {nx.__version__}\"\"\"\n",
    "\n"
   ]
  },
  {
   "cell_type": "markdown",
   "metadata": {},
   "source": [
    "### What is an OSMnx network?\n",
    "\n",
    "Copied from [OSMnx 2.0.0 docs](https://osmnx.readthedocs.io/en/stable/getting-started.html#model-attributes): \n",
    "\n",
    "As a NetworkX MultiDiGraph object, it has top-level graph, nodes, and edges attributes. \n",
    "- The graph attribute dictionary must contain a “crs” key defining its coordinate reference system. \n",
    "\n",
    "- The nodes are identified by OSM ID and each must contain a data attribute dictionary that must have “x” and “y” keys defining its coordinates and a “street_count” key defining how many physical streets are incident to it. \n",
    "\n",
    "- The edges are identified by a 3-tuple of “u” (source node ID), “v” (target node ID), and “key” (to differentiate parallel edges), and each must contain a data attribute dictionary that must have an “osmid” key defining its OSM ID and a “length” key defining its length in meters.\n",
    "\n"
   ]
  },
  {
   "cell_type": "markdown",
   "metadata": {},
   "source": [
    "To create a road network, one can make a NetworkX object with the properties above. \n",
    "\n",
    "In this notebook we take a different approach: we download a small road network and modify it as needed."
   ]
  },
  {
   "cell_type": "markdown",
   "metadata": {},
   "source": [
    "### Specify place"
   ]
  },
  {
   "cell_type": "code",
   "execution_count": 27,
   "metadata": {},
   "outputs": [],
   "source": [
    "alameda = {\n",
    "        \"city\": \"Alameda\",\n",
    "        \"county\": \"Alameda County\",\n",
    "        \"state\": \"California\",\n",
    "        \"country\": \"USA\",\n",
    "    }"
   ]
  },
  {
   "cell_type": "markdown",
   "metadata": {},
   "source": [
    "### Download actual walking road network"
   ]
  },
  {
   "cell_type": "code",
   "execution_count": 28,
   "metadata": {},
   "outputs": [
    {
     "data": {
      "text/plain": [
       "networkx.classes.multidigraph.MultiDiGraph"
      ]
     },
     "execution_count": 28,
     "metadata": {},
     "output_type": "execute_result"
    }
   ],
   "source": [
    "G = ox.graph_from_place(alameda, network_type=\"walk\")\n",
    "\n",
    "type(G)\n"
   ]
  },
  {
   "cell_type": "code",
   "execution_count": 29,
   "metadata": {},
   "outputs": [
    {
     "data": {
      "text/plain": [
       "\"Alameda city's walking road network has 7373 nodes and 21176 edges\""
      ]
     },
     "execution_count": 29,
     "metadata": {},
     "output_type": "execute_result"
    }
   ],
   "source": [
    "f\"\"\"Alameda city's walking road network has {G.number_of_nodes()} nodes and {G.number_of_edges()} edges\"\"\""
   ]
  },
  {
   "cell_type": "markdown",
   "metadata": {},
   "source": [
    "That's still too large for our purposes. Let's choose a subgraph"
   ]
  },
  {
   "cell_type": "code",
   "execution_count": 30,
   "metadata": {},
   "outputs": [
    {
     "data": {
      "text/plain": [
       "5909483625"
      ]
     },
     "execution_count": 30,
     "metadata": {},
     "output_type": "execute_result"
    }
   ],
   "source": [
    "# Fix a seed to get reproducible results\n",
    "random.seed(42)\n",
    "\n",
    "# choose a random node \n",
    "ego_node = random.choice(list(G.nodes))\n",
    "\n",
    "ego_node"
   ]
  },
  {
   "cell_type": "markdown",
   "metadata": {},
   "source": [
    "### Getting a subgraph"
   ]
  },
  {
   "cell_type": "code",
   "execution_count": 31,
   "metadata": {},
   "outputs": [
    {
     "data": {
      "text/plain": [
       "'Subgraph has 4 nodes and 6 edges'"
      ]
     },
     "execution_count": 31,
     "metadata": {},
     "output_type": "execute_result"
    }
   ],
   "source": [
    "# Get the subgraph of G that contains the ego_node and up to 2 nodes away from it. Includes edges\n",
    "\n",
    "subgraph = nx.ego_graph(G, ego_node, radius=2)\n",
    "\n",
    "f\"\"\"Subgraph has {subgraph.number_of_nodes()} nodes and {subgraph.number_of_edges()} edges\"\"\""
   ]
  },
  {
   "cell_type": "markdown",
   "metadata": {},
   "source": [
    "### Here's a pretty picture\n",
    "\n",
    "Ok, a picture"
   ]
  },
  {
   "cell_type": "code",
   "execution_count": 23,
   "metadata": {},
   "outputs": [
    {
     "data": {
      "image/png": "[encoded data removed]",
      "text/plain": [
       "<Figure size 640x480 with 1 Axes>"
      ]
     },
     "metadata": {},
     "output_type": "display_data"
    }
   ],
   "source": [
    "nx.draw_networkx(subgraph)\n",
    "\n",
    "# Set margins for the axes so nodes aren't clipped\n",
    "ax = plt.gca()\n",
    "ax.margins(0.20)\n",
    "plt.axis(\"off\")\n",
    "plt.show()\n",
    "\n",
    "\n",
    "# notice that the ego_node is NOT the one in the center"
   ]
  },
  {
   "cell_type": "markdown",
   "metadata": {},
   "source": [
    "### Save/load network as a graphml file"
   ]
  },
  {
   "cell_type": "code",
   "execution_count": 32,
   "metadata": {},
   "outputs": [],
   "source": [
    "# This notebook is in the test_data folder because it makes logical \n",
    "# sense as it is used to create test_data. Plus, it simplifies the filepath\n",
    "\n",
    "filepath = \"subgraph.graphml\"\n",
    "\n",
    "ox.save_graphml(subgraph, filepath)\n",
    "\n"
   ]
  },
  {
   "cell_type": "markdown",
   "metadata": {},
   "source": [
    "Did that work? Let's load it"
   ]
  },
  {
   "cell_type": "code",
   "execution_count": 33,
   "metadata": {},
   "outputs": [],
   "source": [
    "subgraph_saved = ox.load_graphml(filepath)\n",
    "\n",
    "# this function exists in nx 3.4.2:\n",
    "# nx.graphs_equal(subgraph, subgraph_saved)"
   ]
  },
  {
   "cell_type": "markdown",
   "metadata": {},
   "source": [
    "Since we can't use graphs_equal until we update nx, let's do some checks:"
   ]
  },
  {
   "cell_type": "code",
   "execution_count": 34,
   "metadata": {},
   "outputs": [
    {
     "data": {
      "text/plain": [
       "True"
      ]
     },
     "execution_count": 34,
     "metadata": {},
     "output_type": "execute_result"
    }
   ],
   "source": [
    "subgraph.nodes(data=True) == subgraph_saved.nodes(data=True)"
   ]
  },
  {
   "cell_type": "code",
   "execution_count": 35,
   "metadata": {},
   "outputs": [
    {
     "data": {
      "text/plain": [
       "True"
      ]
     },
     "execution_count": 35,
     "metadata": {},
     "output_type": "execute_result"
    }
   ],
   "source": [
    "list(subgraph.edges(data=True)) == list(subgraph_saved.edges(data=True))"
   ]
  },
  {
   "cell_type": "markdown",
   "metadata": {},
   "source": [
    "### Yay!\n",
    "\n",
    "Ok, sorry if it didn't work for you... but I'm celebrating because it works for me now :)"
   ]
  },
  {
   "cell_type": "markdown",
   "metadata": {},
   "source": [
    "### Finally: please keep test_data clean :)\n",
    "\n",
    "- If you end up using the graph in a test, give it a sensible name (not subgraph, like I did here)\n",
    "- If you don't end up using the graph, please remove it:"
   ]
  },
  {
   "cell_type": "code",
   "execution_count": 36,
   "metadata": {},
   "outputs": [
    {
     "name": "stdout",
     "output_type": "stream",
     "text": [
      "subgraph.graphml has been removed.\n"
     ]
    }
   ],
   "source": [
    "from pathlib import Path\n",
    "\n",
    "file_path = Path(filepath)\n",
    "if file_path.exists():\n",
    "    file_path.unlink()\n",
    "    print(f\"{file_path} has been removed.\")\n",
    "else:\n",
    "    print(f\"{file_path} does not exist.\")"
   ]
  }
 ],
 "metadata": {
  "kernelspec": {
   "display_name": "gpbp-ys_3FNdB-py3.10",
   "language": "python",
   "name": "python3"
  },
  "language_info": {
   "codemirror_mode": {
    "name": "ipython",
    "version": 3
   },
   "file_extension": ".py",
   "mimetype": "text/x-python",
   "name": "python",
   "nbconvert_exporter": "python",
   "pygments_lexer": "ipython3",
   "version": "3.10.15"
  }
 },
 "nbformat": 4,
 "nbformat_minor": 2
}
